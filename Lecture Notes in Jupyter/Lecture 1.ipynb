{
 "cells": [
  {
   "cell_type": "markdown",
   "source": [
    "# Lecture 1 <!-- markdownlint-capture --> Introduction\n",
    "Reference: [QuantEcon](https://julia.quantecon.org/)\n",
    "\n",
    "[Florian Oswald's notes](https://scpo-compecon.github.io/CoursePack/)"
   ],
   "metadata": {}
  },
  {
   "cell_type": "markdown",
   "source": [
    "## Execute (part of the code) in Jupyter\n",
    "`Shift + Enter` will evaluate a highlighted selection or line\n",
    "The run symbol in the menu bar (or `Ctrl+Shift+Enter`) will run the whole file"
   ],
   "metadata": {}
  },
  {
   "cell_type": "code",
   "execution_count": 1,
   "source": [
    "println(\"hello world!\")"
   ],
   "outputs": [
    {
     "output_type": "stream",
     "name": "stdout",
     "text": [
      "hello world!\n"
     ]
    }
   ],
   "metadata": {}
  },
  {
   "cell_type": "markdown",
   "source": [
    "Jupyter automacally prints the result of the last line in a cell."
   ],
   "metadata": {}
  },
  {
   "cell_type": "code",
   "execution_count": 2,
   "source": [
    "\"hello world!\""
   ],
   "outputs": [
    {
     "output_type": "execute_result",
     "data": {
      "text/plain": [
       "\"hello world!\""
      ]
     },
     "metadata": {},
     "execution_count": 2
    }
   ],
   "metadata": {}
  },
  {
   "cell_type": "markdown",
   "source": [
    "## Package Environments\n",
    "Julia’s package manager lets you set up packages used in your current code by specifying the \"dependencies\" (i.e., required packages).\n",
    "\n",
    "An environment is a set of packages specified by a `Project.toml` (and optionally, a `Manifest.toml`). Do not delete Project.toml or Manifest.toml in your working directory!\n",
    "\n",
    "### Download packages\n",
    "When: first time you use it or install update\n",
    "\n",
    "Example: to download package \"Plots.jl\", first import the `Pkg` package to your code. Then use command `Pkg.add(\"Plots\")` to download package `\"Plots.jl\"`."
   ],
   "metadata": {}
  },
  {
   "cell_type": "code",
   "execution_count": 3,
   "source": [
    "import Pkg; Pkg.add(\"Plots\")"
   ],
   "outputs": [
    {
     "output_type": "stream",
     "name": "stderr",
     "text": [
      "\u001b[32m\u001b[1m    Updating\u001b[22m\u001b[39m registry at `~/.julia/registries/General`\n",
      "\u001b[32m\u001b[1m   Resolving\u001b[22m\u001b[39m package versions...\n",
      "\u001b[32m\u001b[1m  No Changes\u001b[22m\u001b[39m to `~/.julia/environments/v1.6/Project.toml`\n",
      "\u001b[32m\u001b[1m  No Changes\u001b[22m\u001b[39m to `~/.julia/environments/v1.6/Manifest.toml`\n"
     ]
    }
   ],
   "metadata": {}
  },
  {
   "cell_type": "code",
   "execution_count": 4,
   "source": [
    "### Use packages in your own code\n",
    "using Plots"
   ],
   "outputs": [],
   "metadata": {}
  },
  {
   "cell_type": "markdown",
   "source": [
    "## Inserting unicode (e.g. Greek letters)\n",
    "\n",
    "Julia supports the use of [unicode characters](https://docs.julialang.org/en/v1/manual/unicode-input/) such as $\\alpha$ and $\\beta$ in your code\n",
    "\n",
    "Unicode characters can be typed quickly using the `tab` key\n",
    "\n",
    "Try creating a new code cell and typing `\\alpha`, then hitting the `tab` key on your keyboard."
   ],
   "metadata": {}
  },
  {
   "cell_type": "code",
   "execution_count": 6,
   "source": [
    "α = 0.01"
   ],
   "outputs": [
    {
     "output_type": "execute_result",
     "data": {
      "text/plain": [
       "0.01"
      ]
     },
     "metadata": {},
     "execution_count": 6
    }
   ],
   "metadata": {}
  },
  {
   "cell_type": "markdown",
   "source": [
    "## Data types\n",
    "    # [Reference](https://docs.julialang.org/en/v1/manual/arrays/)\n",
    "    # In Julia, arrays and tuples are the most important data type for working with numerical data.\n",
    "\n",
    "### Array is mutable which means you can change its data value and modify its structure, a tuple is immutable.\n",
    "\n",
    "### In this section we give more details on\n",
    "* creating and manipulating Julia arrays\n",
    "* fundamental array processing operations\n",
    "* basic matrix algebra\n",
    "* tuples and named tuples\n",
    "* ranges\n",
    "* nothing, missing, and unions"
   ],
   "metadata": {}
  },
  {
   "cell_type": "code",
   "execution_count": 7,
   "source": [
    "### One dimensional array is assumed to be a column vector. Use either semicolon or comma to connect elements.\n",
    "a = [1; 2; 3]\n",
    "b = [1.0, 2.0, 3.0]\n",
    "# The output tells us that the arrays are of types `Vector{Int64}` and `Vector{Float64}` respectively. Here `Int64` and `Float64` are types for the elements inferred by the compiler."
   ],
   "outputs": [
    {
     "output_type": "execute_result",
     "data": {
      "text/plain": [
       "3-element Vector{Float64}:\n",
       " 1.0\n",
       " 2.0\n",
       " 3.0"
      ]
     },
     "metadata": {},
     "execution_count": 7
    }
   ],
   "metadata": {}
  },
  {
   "cell_type": "code",
   "execution_count": 9,
   "source": [
    "# It is important to distinct between integers and floating point numbers because there are certain operations one type cannot perform.\n",
    "# only use integers to index the location of an entry in an array.\n",
    "a[1]"
   ],
   "outputs": [
    {
     "output_type": "execute_result",
     "data": {
      "text/plain": [
       "1"
      ]
     },
     "metadata": {},
     "execution_count": 9
    }
   ],
   "metadata": {}
  },
  {
   "cell_type": "code",
   "execution_count": 10,
   "source": [
    "# This wil not work.\n",
    "a[1.0]"
   ],
   "outputs": [
    {
     "output_type": "error",
     "ename": "LoadError",
     "evalue": "ArgumentError: invalid index: 1.0 of type Float64",
     "traceback": [
      "ArgumentError: invalid index: 1.0 of type Float64",
      "",
      "Stacktrace:",
      " [1] to_index(i::Float64)",
      "   @ Base ./indices.jl:300",
      " [2] to_index(A::Vector{Int64}, i::Float64)",
      "   @ Base ./indices.jl:277",
      " [3] to_indices",
      "   @ ./indices.jl:333 [inlined]",
      " [4] to_indices",
      "   @ ./indices.jl:325 [inlined]",
      " [5] getindex(A::Vector{Int64}, I::Float64)",
      "   @ Base ./abstractarray.jl:1170",
      " [6] top-level scope",
      "   @ In[10]:2",
      " [7] eval",
      "   @ ./boot.jl:360 [inlined]",
      " [8] include_string(mapexpr::typeof(REPL.softscope), mod::Module, code::String, filename::String)",
      "   @ Base ./loading.jl:1116"
     ]
    }
   ],
   "metadata": {}
  },
  {
   "cell_type": "code",
   "execution_count": 11,
   "source": [
    " # Display the type of `a`\n",
    " typeof(a)"
   ],
   "outputs": [
    {
     "output_type": "execute_result",
     "data": {
      "text/plain": [
       "Vector{Int64} (alias for Array{Int64, 1})"
      ]
     },
     "metadata": {},
     "execution_count": 11
    }
   ],
   "metadata": {}
  },
  {
   "cell_type": "code",
   "execution_count": 12,
   "source": [
    "### A row vector is a 2-dimensional (i.e., 1 * N matrix).\n",
    "c = [1 2 3]\n",
    "# The output is Array{Int64,2}. \"2\" means this is a 2-dim object."
   ],
   "outputs": [
    {
     "output_type": "execute_result",
     "data": {
      "text/plain": [
       "1×3 Matrix{Int64}:\n",
       " 1  2  3"
      ]
     },
     "metadata": {},
     "execution_count": 12
    }
   ],
   "metadata": {}
  },
  {
   "cell_type": "code",
   "execution_count": 13,
   "source": [
    "### Check dimensions/sizes\n",
    "size(a) # return a 1-dim turple (3,)"
   ],
   "outputs": [
    {
     "output_type": "execute_result",
     "data": {
      "text/plain": [
       "(3,)"
      ]
     },
     "metadata": {},
     "execution_count": 13
    }
   ],
   "metadata": {}
  },
  {
   "cell_type": "code",
   "execution_count": 14,
   "source": [
    "size(a,1) # return a number, often more useful"
   ],
   "outputs": [
    {
     "output_type": "execute_result",
     "data": {
      "text/plain": [
       "3"
      ]
     },
     "metadata": {},
     "execution_count": 14
    }
   ],
   "metadata": {}
  },
  {
   "cell_type": "code",
   "execution_count": 15,
   "source": [
    "ndims(a) # return the dimension of a"
   ],
   "outputs": [
    {
     "output_type": "execute_result",
     "data": {
      "text/plain": [
       "1"
      ]
     },
     "metadata": {},
     "execution_count": 15
    }
   ],
   "metadata": {}
  },
  {
   "cell_type": "code",
   "execution_count": 16,
   "source": [
    "ndims(c) # return the dimension of c"
   ],
   "outputs": [
    {
     "output_type": "execute_result",
     "data": {
      "text/plain": [
       "2"
      ]
     },
     "metadata": {},
     "execution_count": 16
    }
   ],
   "metadata": {}
  },
  {
   "cell_type": "markdown",
   "source": [
    "### Array vs Vector vs Matrix\n",
    "* Vector{Float64} = Array{Float64,1}\n",
    "* Matrix{Int64} = Array{Int64, 2}\n",
    "* I mentions this because people use terms interchangibly, so don't get confused when reading the documentations."
   ],
   "metadata": {}
  },
  {
   "cell_type": "code",
   "execution_count": 17,
   "source": [
    "Array{Int64, 1} == Vector{Int64}"
   ],
   "outputs": [
    {
     "output_type": "execute_result",
     "data": {
      "text/plain": [
       "true"
      ]
     },
     "metadata": {},
     "execution_count": 17
    }
   ],
   "metadata": {}
  },
  {
   "cell_type": "code",
   "execution_count": 18,
   "source": [
    "Array{Int64, 2} == Matrix{Int64}"
   ],
   "outputs": [
    {
     "output_type": "execute_result",
     "data": {
      "text/plain": [
       "true"
      ]
     },
     "metadata": {},
     "execution_count": 18
    }
   ],
   "metadata": {}
  },
  {
   "cell_type": "code",
   "execution_count": 19,
   "source": [
    "Array{Int64, 3} == Matrix{Int64}"
   ],
   "outputs": [
    {
     "output_type": "execute_result",
     "data": {
      "text/plain": [
       "false"
      ]
     },
     "metadata": {},
     "execution_count": 19
    }
   ],
   "metadata": {}
  },
  {
   "cell_type": "markdown",
   "source": [
    "### Creating Arrays"
   ],
   "metadata": {}
  },
  {
   "cell_type": "code",
   "execution_count": 20,
   "source": [
    "# Functions that Create Arrays\n",
    "x = zeros(3)\n"
   ],
   "outputs": [
    {
     "output_type": "execute_result",
     "data": {
      "text/plain": [
       "3-element Vector{Float64}:\n",
       " 0.0\n",
       " 0.0\n",
       " 0.0"
      ]
     },
     "metadata": {},
     "execution_count": 20
    }
   ],
   "metadata": {}
  },
  {
   "cell_type": "code",
   "execution_count": 21,
   "source": [
    "x = zeros(3,3)"
   ],
   "outputs": [
    {
     "output_type": "execute_result",
     "data": {
      "text/plain": [
       "3×3 Matrix{Float64}:\n",
       " 0.0  0.0  0.0\n",
       " 0.0  0.0  0.0\n",
       " 0.0  0.0  0.0"
      ]
     },
     "metadata": {},
     "execution_count": 21
    }
   ],
   "metadata": {}
  },
  {
   "cell_type": "code",
   "execution_count": 22,
   "source": [
    "x = ones(3)"
   ],
   "outputs": [
    {
     "output_type": "execute_result",
     "data": {
      "text/plain": [
       "3-element Vector{Float64}:\n",
       " 1.0\n",
       " 1.0\n",
       " 1.0"
      ]
     },
     "metadata": {},
     "execution_count": 22
    }
   ],
   "metadata": {}
  },
  {
   "cell_type": "code",
   "execution_count": 23,
   "source": [
    "x = ones(3,3)"
   ],
   "outputs": [
    {
     "output_type": "execute_result",
     "data": {
      "text/plain": [
       "3×3 Matrix{Float64}:\n",
       " 1.0  1.0  1.0\n",
       " 1.0  1.0  1.0\n",
       " 1.0  1.0  1.0"
      ]
     },
     "metadata": {},
     "execution_count": 23
    }
   ],
   "metadata": {}
  },
  {
   "cell_type": "code",
   "execution_count": 24,
   "source": [
    "x = fill(1.0,3,3,3) # To return an array filled with a single value, use `fill`"
   ],
   "outputs": [
    {
     "output_type": "execute_result",
     "data": {
      "text/plain": [
       "3×3×3 Array{Float64, 3}:\n",
       "[:, :, 1] =\n",
       " 1.0  1.0  1.0\n",
       " 1.0  1.0  1.0\n",
       " 1.0  1.0  1.0\n",
       "\n",
       "[:, :, 2] =\n",
       " 1.0  1.0  1.0\n",
       " 1.0  1.0  1.0\n",
       " 1.0  1.0  1.0\n",
       "\n",
       "[:, :, 3] =\n",
       " 1.0  1.0  1.0\n",
       " 1.0  1.0  1.0\n",
       " 1.0  1.0  1.0"
      ]
     },
     "metadata": {},
     "execution_count": 24
    }
   ],
   "metadata": {}
  },
  {
   "cell_type": "code",
   "execution_count": 25,
   "source": [
    "y = similar(x) # create an array of the same size as x filled with zeros"
   ],
   "outputs": [
    {
     "output_type": "execute_result",
     "data": {
      "text/plain": [
       "3×3×3 Array{Float64, 3}:\n",
       "[:, :, 1] =\n",
       " 0.0  0.0  0.0\n",
       " 0.0  0.0  0.0\n",
       " 0.0  0.0  0.0\n",
       "\n",
       "[:, :, 2] =\n",
       " 0.0  0.0  0.0\n",
       " 0.0  0.0  0.0\n",
       " 0.0  0.0  0.0\n",
       "\n",
       "[:, :, 3] =\n",
       " 0.0  0.0  0.0\n",
       " 0.0  0.0  0.0\n",
       " 0.0  0.0  0.0"
      ]
     },
     "metadata": {},
     "execution_count": 25
    }
   ],
   "metadata": {}
  },
  {
   "cell_type": "code",
   "execution_count": 26,
   "source": [
    " # You can create an empty array using the `Array()` constructor\n",
    " x = Array{Float64}(undef, 3) # undef means undefined numbers"
   ],
   "outputs": [
    {
     "output_type": "execute_result",
     "data": {
      "text/plain": [
       "3-element Vector{Float64}:\n",
       " 6.93656954769055e-310\n",
       " 6.9365695163506e-310\n",
       " 6.9365695385855e-310"
      ]
     },
     "metadata": {},
     "execution_count": 26
    }
   ],
   "metadata": {}
  },
  {
   "cell_type": "code",
   "execution_count": 27,
   "source": [
    "    # The printed values you see here are just garbage values. So why doing this?\n",
    "    # This could be useful if you want to define the default data type in an array. For example, you cannot do this\n",
    "    x = Array{Float64}(3.0, 3)"
   ],
   "outputs": [
    {
     "output_type": "error",
     "ename": "LoadError",
     "evalue": "MethodError: no method matching (Array{Float64, N} where N)(::Float64, ::Int64)\n\u001b[0mClosest candidates are:\n\u001b[0m  (Array{T, N} where N)(\u001b[91m::LinearAlgebra.UniformScaling\u001b[39m, ::Integer, \u001b[91m::Integer\u001b[39m) where T at /buildworker/worker/package_linux64/build/usr/share/julia/stdlib/v1.6/LinearAlgebra/src/uniformscaling.jl:475\n\u001b[0m  (Array{T, N} where N)(\u001b[91m::UndefInitializer\u001b[39m, ::Int64) where T at boot.jl:462\n\u001b[0m  (Array{T, N} where N)(\u001b[91m::UndefInitializer\u001b[39m, ::Int64, \u001b[91m::Int64\u001b[39m) where T at boot.jl:463\n\u001b[0m  ...",
     "traceback": [
      "MethodError: no method matching (Array{Float64, N} where N)(::Float64, ::Int64)\n\u001b[0mClosest candidates are:\n\u001b[0m  (Array{T, N} where N)(\u001b[91m::LinearAlgebra.UniformScaling\u001b[39m, ::Integer, \u001b[91m::Integer\u001b[39m) where T at /buildworker/worker/package_linux64/build/usr/share/julia/stdlib/v1.6/LinearAlgebra/src/uniformscaling.jl:475\n\u001b[0m  (Array{T, N} where N)(\u001b[91m::UndefInitializer\u001b[39m, ::Int64) where T at boot.jl:462\n\u001b[0m  (Array{T, N} where N)(\u001b[91m::UndefInitializer\u001b[39m, ::Int64, \u001b[91m::Int64\u001b[39m) where T at boot.jl:463\n\u001b[0m  ...",
      "",
      "Stacktrace:",
      " [1] top-level scope",
      "   @ In[27]:3",
      " [2] eval",
      "   @ ./boot.jl:360 [inlined]",
      " [3] include_string(mapexpr::typeof(REPL.softscope), mod::Module, code::String, filename::String)",
      "   @ Base ./loading.jl:1116"
     ]
    }
   ],
   "metadata": {}
  },
  {
   "cell_type": "markdown",
   "source": [
    "### Creating Arrays from Existing Arrays"
   ],
   "metadata": {}
  },
  {
   "cell_type": "code",
   "execution_count": 28,
   "source": [
    "# Suppose you want to create a temporary variable `y = x`, this will only bind an additional name `y` to the value `x` points to.\n",
    "y = x;\n",
    "y[1] = 123;\n",
    "x"
   ],
   "outputs": [
    {
     "output_type": "execute_result",
     "data": {
      "text/plain": [
       "3-element Vector{Float64}:\n",
       " 123.0\n",
       "   6.9365695163506e-310\n",
       "   6.9365695385855e-310"
      ]
     },
     "metadata": {},
     "execution_count": 28
    }
   ],
   "metadata": {}
  },
  {
   "cell_type": "code",
   "execution_count": 29,
   "source": [
    "# To create a new variable), you need to be more explicit\n",
    "# use copy()\n",
    "y = copy(x);\n",
    "y[1] = 100;\n",
    "x, y\n"
   ],
   "outputs": [
    {
     "output_type": "execute_result",
     "data": {
      "text/plain": [
       "([123.0, 6.9365695163506e-310, 6.9365695385855e-310], [100.0, 6.9365695163506e-310, 6.9365695385855e-310])"
      ]
     },
     "metadata": {},
     "execution_count": 29
    }
   ],
   "metadata": {}
  },
  {
   "cell_type": "code",
   "execution_count": 30,
   "source": [
    "# use y[:] = x instead of y=x\n",
    "y[:] = x;\n",
    "y[1] = 1000;\n",
    "x, y"
   ],
   "outputs": [
    {
     "output_type": "execute_result",
     "data": {
      "text/plain": [
       "([123.0, 6.9365695163506e-310, 6.9365695385855e-310], [1000.0, 6.9365695163506e-310, 6.9365695385855e-310])"
      ]
     },
     "metadata": {},
     "execution_count": 30
    }
   ],
   "metadata": {}
  },
  {
   "cell_type": "code",
   "execution_count": 31,
   "source": [
    "# select elements that satisfy certain conditions.\n",
    "index = x .== 123;\n",
    "x[index]\n",
    "index = argmax(x);\n",
    "x[index]"
   ],
   "outputs": [
    {
     "output_type": "execute_result",
     "data": {
      "text/plain": [
       "123.0"
      ]
     },
     "metadata": {},
     "execution_count": 31
    }
   ],
   "metadata": {}
  },
  {
   "cell_type": "code",
   "execution_count": 33,
   "source": [
    "### Arrays can be fairly flexible\n",
    "# different types, bad for Julia's speed\n",
    "x = [\"foo\" \"bar\" 1; \"foo\" \"bar\" 2]"
   ],
   "outputs": [
    {
     "output_type": "execute_result",
     "data": {
      "text/plain": [
       "2×3 Matrix{Any}:\n",
       " \"foo\"  \"bar\"  1\n",
       " \"foo\"  \"bar\"  2"
      ]
     },
     "metadata": {},
     "execution_count": 33
    }
   ],
   "metadata": {}
  },
  {
   "cell_type": "code",
   "execution_count": 34,
   "source": [
    "# array of arrays\n",
    "# suppose you have observations on [age gender wage] in 2 cities, you can stack observations in a city to a vector\n",
    "data = [[50 1 1000.0; 60 2 6000.0],[25 1 2500.1]]\n",
    "# do not need to create an additional variable \"city\"\n",
    "# very powerful for parallelization"
   ],
   "outputs": [
    {
     "output_type": "execute_result",
     "data": {
      "text/plain": [
       "2-element Vector{Matrix{Float64}}:\n",
       " [50.0 1.0 1000.0; 60.0 2.0 6000.0]\n",
       " [25.0 1.0 2500.1]"
      ]
     },
     "metadata": {},
     "execution_count": 34
    }
   ],
   "metadata": {}
  },
  {
   "cell_type": "code",
   "execution_count": 38,
   "source": [
    "### tuples\n",
    "x = (\"foo\", \"bar\", 1)"
   ],
   "outputs": [
    {
     "output_type": "execute_result",
     "data": {
      "text/plain": [
       "(\"foo\", \"bar\", 1)"
      ]
     },
     "metadata": {},
     "execution_count": 38
    }
   ],
   "metadata": {}
  },
  {
   "cell_type": "code",
   "execution_count": 37,
   "source": [
    "x[3]"
   ],
   "outputs": [
    {
     "output_type": "execute_result",
     "data": {
      "text/plain": [
       "1"
      ]
     },
     "metadata": {},
     "execution_count": 37
    }
   ],
   "metadata": {}
  },
  {
   "cell_type": "code",
   "execution_count": 39,
   "source": [
    "# Tuples are inmutable, so you cannot change the value of a tuple.\n",
    "# Very useful to store values that are not changeable.\n",
    "x[3] = 2"
   ],
   "outputs": [
    {
     "output_type": "error",
     "ename": "LoadError",
     "evalue": "MethodError: no method matching setindex!(::Tuple{String, String, Int64}, ::Int64, ::Int64)",
     "traceback": [
      "MethodError: no method matching setindex!(::Tuple{String, String, Int64}, ::Int64, ::Int64)",
      "",
      "Stacktrace:",
      " [1] top-level scope",
      "   @ In[39]:3",
      " [2] eval",
      "   @ ./boot.jl:360 [inlined]",
      " [3] include_string(mapexpr::typeof(REPL.softscope), mod::Module, code::String, filename::String)",
      "   @ Base ./loading.jl:1116"
     ]
    }
   ],
   "metadata": {}
  },
  {
   "cell_type": "code",
   "execution_count": 40,
   "source": [
    "## ranges, fancier indexing\n",
    "x = collect(1:1:100)\n",
    "y = collect(range(1, length = 100, stop = 100))\n",
    "@show x[2:50]\n",
    "x[75:end]"
   ],
   "outputs": [
    {
     "output_type": "stream",
     "name": "stdout",
     "text": [
      "x[2:50] = [2, 3, 4, 5, 6, 7, 8, 9, 10, 11, 12, 13, 14, 15, 16, 17, 18, 19, 20, 21, 22, 23, 24, 25, 26, 27, 28, 29, 30, 31, 32, 33, 34, 35, 36, 37, 38, 39, 40, 41, 42, 43, 44, 45, 46, 47, 48, 49, 50]\n"
     ]
    },
    {
     "output_type": "execute_result",
     "data": {
      "text/plain": [
       "26-element Vector{Int64}:\n",
       "  75\n",
       "  76\n",
       "  77\n",
       "  78\n",
       "  79\n",
       "  80\n",
       "  81\n",
       "  82\n",
       "  83\n",
       "  84\n",
       "  85\n",
       "  86\n",
       "  87\n",
       "  88\n",
       "  89\n",
       "  90\n",
       "  91\n",
       "  92\n",
       "  93\n",
       "  94\n",
       "  95\n",
       "  96\n",
       "  97\n",
       "  98\n",
       "  99\n",
       " 100"
      ]
     },
     "metadata": {},
     "execution_count": 40
    }
   ],
   "metadata": {}
  },
  {
   "cell_type": "code",
   "execution_count": 41,
   "source": [
    "# Alternative syntax\n",
    "1:2:40 |> collect"
   ],
   "outputs": [
    {
     "output_type": "execute_result",
     "data": {
      "text/plain": [
       "20-element Vector{Int64}:\n",
       "  1\n",
       "  3\n",
       "  5\n",
       "  7\n",
       "  9\n",
       " 11\n",
       " 13\n",
       " 15\n",
       " 17\n",
       " 19\n",
       " 21\n",
       " 23\n",
       " 25\n",
       " 27\n",
       " 29\n",
       " 31\n",
       " 33\n",
       " 35\n",
       " 37\n",
       " 39"
      ]
     },
     "metadata": {},
     "execution_count": 41
    }
   ],
   "metadata": {}
  },
  {
   "cell_type": "code",
   "execution_count": 42,
   "source": [
    "# loop over an array\n",
    "languages = [\"julia\", \"python\", \"stata\"]\n",
    "for l in languages\n",
    "    println(l)\n",
    "end"
   ],
   "outputs": [
    {
     "output_type": "stream",
     "name": "stdout",
     "text": [
      "julia\n",
      "python\n",
      "stata\n"
     ]
    }
   ],
   "metadata": {}
  },
  {
   "cell_type": "code",
   "execution_count": 44,
   "source": [
    "# iterator\n",
    "for i = 1:10\n",
    "    println(i)\n",
    "end"
   ],
   "outputs": [
    {
     "output_type": "stream",
     "name": "stdout",
     "text": [
      "1\n",
      "2\n",
      "3\n",
      "4\n",
      "5\n",
      "6\n",
      "7\n",
      "8\n",
      "9\n",
      "10\n"
     ]
    }
   ],
   "metadata": {}
  },
  {
   "cell_type": "code",
   "execution_count": 45,
   "source": [
    "# while loop\n",
    "val = 1.0\n",
    "tol = 0.002\n",
    "while val > tol\n",
    "    global val\n",
    "    val = val / 2\n",
    "end\n",
    "val"
   ],
   "outputs": [
    {
     "output_type": "execute_result",
     "data": {
      "text/plain": [
       "0.001953125"
      ]
     },
     "metadata": {},
     "execution_count": 45
    }
   ],
   "metadata": {}
  },
  {
   "cell_type": "code",
   "execution_count": 46,
   "source": [
    "# Conditionals\n",
    "x = 1\n",
    "x == 1"
   ],
   "outputs": [
    {
     "output_type": "execute_result",
     "data": {
      "text/plain": [
       "true"
      ]
     },
     "metadata": {},
     "execution_count": 46
    }
   ],
   "metadata": {}
  },
  {
   "cell_type": "code",
   "execution_count": 47,
   "source": [
    "x == 2"
   ],
   "outputs": [
    {
     "output_type": "execute_result",
     "data": {
      "text/plain": [
       "false"
      ]
     },
     "metadata": {},
     "execution_count": 47
    }
   ],
   "metadata": {}
  },
  {
   "cell_type": "code",
   "execution_count": 48,
   "source": [
    "x == 1 && x == 2"
   ],
   "outputs": [
    {
     "output_type": "execute_result",
     "data": {
      "text/plain": [
       "false"
      ]
     },
     "metadata": {},
     "execution_count": 48
    }
   ],
   "metadata": {}
  },
  {
   "cell_type": "code",
   "execution_count": 49,
   "source": [
    "x == 1 || x == 2"
   ],
   "outputs": [
    {
     "output_type": "execute_result",
     "data": {
      "text/plain": [
       "true"
      ]
     },
     "metadata": {},
     "execution_count": 49
    }
   ],
   "metadata": {}
  },
  {
   "cell_type": "code",
   "execution_count": 50,
   "source": [],
   "outputs": [
    {
     "output_type": "execute_result",
     "data": {
      "text/plain": [
       "true"
      ]
     },
     "metadata": {},
     "execution_count": 50
    }
   ],
   "metadata": {}
  },
  {
   "cell_type": "code",
   "execution_count": 51,
   "source": [
    "if x == 2\n",
    "    println(\"true\")\n",
    "elseif x!=2\n",
    "    println(\"false\")\n",
    "end"
   ],
   "outputs": [
    {
     "output_type": "stream",
     "name": "stdout",
     "text": [
      "false\n"
     ]
    }
   ],
   "metadata": {}
  },
  {
   "cell_type": "markdown",
   "source": [
    "## Making functions"
   ],
   "metadata": {}
  },
  {
   "cell_type": "code",
   "execution_count": 52,
   "source": [
    "function foo(x; a = 2)\n",
    "    y = x^2 * a\n",
    "    x, y\n",
    "end"
   ],
   "outputs": [
    {
     "output_type": "execute_result",
     "data": {
      "text/plain": [
       "foo (generic function with 1 method)"
      ]
     },
     "metadata": {},
     "execution_count": 52
    }
   ],
   "metadata": {}
  },
  {
   "cell_type": "code",
   "execution_count": 53,
   "source": [
    "x, y = foo(2)\n",
    "x, y = foo(2, a = 3)"
   ],
   "outputs": [
    {
     "output_type": "execute_result",
     "data": {
      "text/plain": [
       "(2, 12)"
      ]
     },
     "metadata": {},
     "execution_count": 53
    }
   ],
   "metadata": {}
  },
  {
   "cell_type": "code",
   "execution_count": 55,
   "source": [
    "f(x) = x^2\n",
    "f(4)"
   ],
   "outputs": [
    {
     "output_type": "execute_result",
     "data": {
      "text/plain": [
       "16"
      ]
     },
     "metadata": {},
     "execution_count": 55
    }
   ],
   "metadata": {}
  },
  {
   "cell_type": "markdown",
   "source": [
    "#### Lambda Functions\n",
    "\n",
    "Anonymous (or lambda) functions can be created using the `->` syntax. "
   ],
   "metadata": {}
  },
  {
   "cell_type": "code",
   "execution_count": 59,
   "source": [
    "g = x -> x ^ 2"
   ],
   "outputs": [
    {
     "output_type": "execute_result",
     "data": {
      "text/plain": [
       "#6 (generic function with 1 method)"
      ]
     },
     "metadata": {},
     "execution_count": 59
    }
   ],
   "metadata": {}
  },
  {
   "cell_type": "code",
   "execution_count": 60,
   "source": [
    "g(2)"
   ],
   "outputs": [
    {
     "output_type": "execute_result",
     "data": {
      "text/plain": [
       "4"
      ]
     },
     "metadata": {},
     "execution_count": 60
    }
   ],
   "metadata": {}
  },
  {
   "cell_type": "markdown",
   "source": [
    "This is useful for passing functions to higher-order functions, such as the `map` function."
   ],
   "metadata": {}
  },
  {
   "cell_type": "code",
   "execution_count": 62,
   "source": [
    "# This function maps the square function to each element of the array A\n",
    "squareall(A) = map(x -> x ^ 2, A)"
   ],
   "outputs": [
    {
     "output_type": "execute_result",
     "data": {
      "text/plain": [
       "squareall (generic function with 1 method)"
      ]
     },
     "metadata": {},
     "execution_count": 62
    }
   ],
   "metadata": {}
  },
  {
   "cell_type": "code",
   "execution_count": 63,
   "source": [
    "squareall(1:10)"
   ],
   "outputs": [
    {
     "output_type": "execute_result",
     "data": {
      "text/plain": [
       "10-element Vector{Int64}:\n",
       "   1\n",
       "   4\n",
       "   9\n",
       "  16\n",
       "  25\n",
       "  36\n",
       "  49\n",
       "  64\n",
       "  81\n",
       " 100"
      ]
     },
     "metadata": {},
     "execution_count": 63
    }
   ],
   "metadata": {}
  },
  {
   "cell_type": "code",
   "execution_count": 64,
   "source": [
    "# broadcasting \n",
    "x = collect(1:1:10)\n",
    "y = log.(x)"
   ],
   "outputs": [
    {
     "output_type": "execute_result",
     "data": {
      "text/plain": [
       "10-element Vector{Float64}:\n",
       " 0.0\n",
       " 0.6931471805599453\n",
       " 1.0986122886681098\n",
       " 1.3862943611198906\n",
       " 1.6094379124341003\n",
       " 1.791759469228055\n",
       " 1.9459101490553132\n",
       " 2.0794415416798357\n",
       " 2.1972245773362196\n",
       " 2.302585092994046"
      ]
     },
     "metadata": {},
     "execution_count": 64
    }
   ],
   "metadata": {}
  },
  {
   "cell_type": "markdown",
   "source": [
    "## Example 1: White Noise"
   ],
   "metadata": {}
  },
  {
   "cell_type": "code",
   "execution_count": 65,
   "source": [
    "using Plots, Distributions"
   ],
   "outputs": [],
   "metadata": {}
  },
  {
   "cell_type": "code",
   "execution_count": 66,
   "source": [
    "dist = Normal(0,1) # Define a standard Normal distribution\n",
    "n = 1000 # Sample size\n",
    "ϵ = rand(dist, n) # Simulate a sample of Normal distribution using rand function\n",
    "plot(1:n, ϵ) # plot(x-axis, y-axis)\n",
    "histogram(ϵ) # plot distribution of the simulated sample"
   ],
   "outputs": [
    {
     "output_type": "execute_result",
     "data": {
      "image/svg+xml": "<?xml version=\"1.0\" encoding=\"utf-8\"?>\n<svg xmlns=\"http://www.w3.org/2000/svg\" xmlns:xlink=\"http://www.w3.org/1999/xlink\" width=\"600\" height=\"400\" viewBox=\"0 0 2400 1600\">\n<defs>\n  <clipPath id=\"clip960\">\n    <rect x=\"0\" y=\"0\" width=\"2400\" height=\"1600\"/>\n  </clipPath>\n</defs>\n<path clip-path=\"url(#clip960)\" d=\"\nM0 1600 L2400 1600 L2400 0 L0 0  Z\n  \" fill=\"#ffffff\" fill-rule=\"evenodd\" fill-opacity=\"1\"/>\n<defs>\n  <clipPath id=\"clip961\">\n    <rect x=\"480\" y=\"0\" width=\"1681\" height=\"1600\"/>\n  </clipPath>\n</defs>\n<path clip-path=\"url(#clip960)\" d=\"\nM170.857 1486.45 L2352.76 1486.45 L2352.76 47.2441 L170.857 47.2441  Z\n  \" fill=\"#ffffff\" fill-rule=\"evenodd\" fill-opacity=\"1\"/>\n<defs>\n  <clipPath id=\"clip962\">\n    <rect x=\"170\" y=\"47\" width=\"2183\" height=\"1440\"/>\n  </clipPath>\n</defs>\n<polyline clip-path=\"url(#clip962)\" style=\"stroke:#000000; stroke-linecap:butt; stroke-linejoin:round; stroke-width:2; stroke-opacity:0.1; fill:none\" points=\"\n  290.866,1486.45 290.866,47.2441 \n  \"/>\n<polyline clip-path=\"url(#clip962)\" style=\"stroke:#000000; stroke-linecap:butt; stroke-linejoin:round; stroke-width:2; stroke-opacity:0.1; fill:none\" points=\"\n  589.617,1486.45 589.617,47.2441 \n  \"/>\n<polyline clip-path=\"url(#clip962)\" style=\"stroke:#000000; stroke-linecap:butt; stroke-linejoin:round; stroke-width:2; stroke-opacity:0.1; fill:none\" points=\"\n  888.368,1486.45 888.368,47.2441 \n  \"/>\n<polyline clip-path=\"url(#clip962)\" style=\"stroke:#000000; stroke-linecap:butt; stroke-linejoin:round; stroke-width:2; stroke-opacity:0.1; fill:none\" points=\"\n  1187.12,1486.45 1187.12,47.2441 \n  \"/>\n<polyline clip-path=\"url(#clip962)\" style=\"stroke:#000000; stroke-linecap:butt; stroke-linejoin:round; stroke-width:2; stroke-opacity:0.1; fill:none\" points=\"\n  1485.87,1486.45 1485.87,47.2441 \n  \"/>\n<polyline clip-path=\"url(#clip962)\" style=\"stroke:#000000; stroke-linecap:butt; stroke-linejoin:round; stroke-width:2; stroke-opacity:0.1; fill:none\" points=\"\n  1784.62,1486.45 1784.62,47.2441 \n  \"/>\n<polyline clip-path=\"url(#clip962)\" style=\"stroke:#000000; stroke-linecap:butt; stroke-linejoin:round; stroke-width:2; stroke-opacity:0.1; fill:none\" points=\"\n  2083.37,1486.45 2083.37,47.2441 \n  \"/>\n<polyline clip-path=\"url(#clip960)\" style=\"stroke:#000000; stroke-linecap:butt; stroke-linejoin:round; stroke-width:4; stroke-opacity:1; fill:none\" points=\"\n  170.857,1486.45 2352.76,1486.45 \n  \"/>\n<polyline clip-path=\"url(#clip960)\" style=\"stroke:#000000; stroke-linecap:butt; stroke-linejoin:round; stroke-width:4; stroke-opacity:1; fill:none\" points=\"\n  290.866,1486.45 290.866,1469.18 \n  \"/>\n<polyline clip-path=\"url(#clip960)\" style=\"stroke:#000000; stroke-linecap:butt; stroke-linejoin:round; stroke-width:4; stroke-opacity:1; fill:none\" points=\"\n  589.617,1486.45 589.617,1469.18 \n  \"/>\n<polyline clip-path=\"url(#clip960)\" style=\"stroke:#000000; stroke-linecap:butt; stroke-linejoin:round; stroke-width:4; stroke-opacity:1; fill:none\" points=\"\n  888.368,1486.45 888.368,1469.18 \n  \"/>\n<polyline clip-path=\"url(#clip960)\" style=\"stroke:#000000; stroke-linecap:butt; stroke-linejoin:round; stroke-width:4; stroke-opacity:1; fill:none\" points=\"\n  1187.12,1486.45 1187.12,1469.18 \n  \"/>\n<polyline clip-path=\"url(#clip960)\" style=\"stroke:#000000; stroke-linecap:butt; stroke-linejoin:round; stroke-width:4; stroke-opacity:1; fill:none\" points=\"\n  1485.87,1486.45 1485.87,1469.18 \n  \"/>\n<polyline clip-path=\"url(#clip960)\" style=\"stroke:#000000; stroke-linecap:butt; stroke-linejoin:round; stroke-width:4; stroke-opacity:1; fill:none\" points=\"\n  1784.62,1486.45 1784.62,1469.18 \n  \"/>\n<polyline clip-path=\"url(#clip960)\" style=\"stroke:#000000; stroke-linecap:butt; stroke-linejoin:round; stroke-width:4; stroke-opacity:1; fill:none\" points=\"\n  2083.37,1486.45 2083.37,1469.18 \n  \"/>\n<path clip-path=\"url(#clip960)\" d=\"M260.333 1530.29 L290.009 1530.29 L290.009 1534.23 L260.333 1534.23 L260.333 1530.29 Z\" fill=\"#000000\" fill-rule=\"evenodd\" fill-opacity=\"1\" /><path clip-path=\"url(#clip960)\" d=\"M314.268 1528.49 Q317.625 1529.2 319.5 1531.47 Q321.398 1533.74 321.398 1537.07 Q321.398 1542.19 317.879 1544.99 Q314.361 1547.79 307.88 1547.79 Q305.704 1547.79 303.389 1547.35 Q301.097 1546.93 298.643 1546.08 L298.643 1541.56 Q300.588 1542.7 302.903 1543.28 Q305.217 1543.86 307.741 1543.86 Q312.139 1543.86 314.43 1542.12 Q316.745 1540.38 316.745 1537.07 Q316.745 1534.02 314.592 1532.31 Q312.463 1530.57 308.643 1530.57 L304.616 1530.57 L304.616 1526.73 L308.829 1526.73 Q312.278 1526.73 314.106 1525.36 Q315.935 1523.97 315.935 1521.38 Q315.935 1518.72 314.037 1517.31 Q312.162 1515.87 308.643 1515.87 Q306.722 1515.87 304.523 1516.29 Q302.324 1516.7 299.685 1517.58 L299.685 1513.42 Q302.347 1512.68 304.662 1512.31 Q307 1511.93 309.06 1511.93 Q314.384 1511.93 317.486 1514.37 Q320.588 1516.77 320.588 1520.89 Q320.588 1523.76 318.944 1525.75 Q317.301 1527.72 314.268 1528.49 Z\" fill=\"#000000\" fill-rule=\"evenodd\" fill-opacity=\"1\" /><path clip-path=\"url(#clip960)\" d=\"M559.559 1530.29 L589.235 1530.29 L589.235 1534.23 L559.559 1534.23 L559.559 1530.29 Z\" fill=\"#000000\" fill-rule=\"evenodd\" fill-opacity=\"1\" /><path clip-path=\"url(#clip960)\" d=\"M603.355 1543.18 L619.674 1543.18 L619.674 1547.12 L597.73 1547.12 L597.73 1543.18 Q600.392 1540.43 604.975 1535.8 Q609.582 1531.15 610.762 1529.81 Q613.008 1527.28 613.887 1525.55 Q614.79 1523.79 614.79 1522.1 Q614.79 1519.34 612.846 1517.61 Q610.925 1515.87 607.823 1515.87 Q605.624 1515.87 603.17 1516.63 Q600.739 1517.4 597.962 1518.95 L597.962 1514.23 Q600.786 1513.09 603.239 1512.51 Q605.693 1511.93 607.73 1511.93 Q613.1 1511.93 616.295 1514.62 Q619.489 1517.31 619.489 1521.8 Q619.489 1523.93 618.679 1525.85 Q617.892 1527.74 615.786 1530.34 Q615.207 1531.01 612.105 1534.23 Q609.003 1537.42 603.355 1543.18 Z\" fill=\"#000000\" fill-rule=\"evenodd\" fill-opacity=\"1\" /><path clip-path=\"url(#clip960)\" d=\"M858.125 1530.29 L887.801 1530.29 L887.801 1534.23 L858.125 1534.23 L858.125 1530.29 Z\" fill=\"#000000\" fill-rule=\"evenodd\" fill-opacity=\"1\" /><path clip-path=\"url(#clip960)\" d=\"M898.703 1543.18 L906.342 1543.18 L906.342 1516.82 L898.032 1518.49 L898.032 1514.23 L906.296 1512.56 L910.972 1512.56 L910.972 1543.18 L918.611 1543.18 L918.611 1547.12 L898.703 1547.12 L898.703 1543.18 Z\" fill=\"#000000\" fill-rule=\"evenodd\" fill-opacity=\"1\" /><path clip-path=\"url(#clip960)\" d=\"M1187.12 1515.64 Q1183.51 1515.64 1181.68 1519.2 Q1179.87 1522.75 1179.87 1529.87 Q1179.87 1536.98 1181.68 1540.55 Q1183.51 1544.09 1187.12 1544.09 Q1190.75 1544.09 1192.56 1540.55 Q1194.39 1536.98 1194.39 1529.87 Q1194.39 1522.75 1192.56 1519.2 Q1190.75 1515.64 1187.12 1515.64 M1187.12 1511.93 Q1192.93 1511.93 1195.98 1516.54 Q1199.06 1521.12 1199.06 1529.87 Q1199.06 1538.6 1195.98 1543.21 Q1192.93 1547.79 1187.12 1547.79 Q1181.31 1547.79 1178.23 1543.21 Q1175.17 1538.6 1175.17 1529.87 Q1175.17 1521.12 1178.23 1516.54 Q1181.31 1511.93 1187.12 1511.93 Z\" fill=\"#000000\" fill-rule=\"evenodd\" fill-opacity=\"1\" /><path clip-path=\"url(#clip960)\" d=\"M1476.25 1543.18 L1483.89 1543.18 L1483.89 1516.82 L1475.58 1518.49 L1475.58 1514.23 L1483.84 1512.56 L1488.52 1512.56 L1488.52 1543.18 L1496.16 1543.18 L1496.16 1547.12 L1476.25 1547.12 L1476.25 1543.18 Z\" fill=\"#000000\" fill-rule=\"evenodd\" fill-opacity=\"1\" /><path clip-path=\"url(#clip960)\" d=\"M1779.27 1543.18 L1795.59 1543.18 L1795.59 1547.12 L1773.65 1547.12 L1773.65 1543.18 Q1776.31 1540.43 1780.89 1535.8 Q1785.5 1531.15 1786.68 1529.81 Q1788.93 1527.28 1789.81 1525.55 Q1790.71 1523.79 1790.71 1522.1 Q1790.71 1519.34 1788.76 1517.61 Q1786.84 1515.87 1783.74 1515.87 Q1781.54 1515.87 1779.09 1516.63 Q1776.66 1517.4 1773.88 1518.95 L1773.88 1514.23 Q1776.7 1513.09 1779.16 1512.51 Q1781.61 1511.93 1783.65 1511.93 Q1789.02 1511.93 1792.21 1514.62 Q1795.41 1517.31 1795.41 1521.8 Q1795.41 1523.93 1794.6 1525.85 Q1793.81 1527.74 1791.7 1530.34 Q1791.13 1531.01 1788.02 1534.23 Q1784.92 1537.42 1779.27 1543.18 Z\" fill=\"#000000\" fill-rule=\"evenodd\" fill-opacity=\"1\" /><path clip-path=\"url(#clip960)\" d=\"M2087.62 1528.49 Q2090.98 1529.2 2092.85 1531.47 Q2094.75 1533.74 2094.75 1537.07 Q2094.75 1542.19 2091.23 1544.99 Q2087.71 1547.79 2081.23 1547.79 Q2079.05 1547.79 2076.74 1547.35 Q2074.45 1546.93 2071.99 1546.08 L2071.99 1541.56 Q2073.94 1542.7 2076.25 1543.28 Q2078.57 1543.86 2081.09 1543.86 Q2085.49 1543.86 2087.78 1542.12 Q2090.1 1540.38 2090.1 1537.07 Q2090.1 1534.02 2087.94 1532.31 Q2085.81 1530.57 2081.99 1530.57 L2077.97 1530.57 L2077.97 1526.73 L2082.18 1526.73 Q2085.63 1526.73 2087.46 1525.36 Q2089.29 1523.97 2089.29 1521.38 Q2089.29 1518.72 2087.39 1517.31 Q2085.51 1515.87 2081.99 1515.87 Q2080.07 1515.87 2077.87 1516.29 Q2075.68 1516.7 2073.04 1517.58 L2073.04 1513.42 Q2075.7 1512.68 2078.01 1512.31 Q2080.35 1511.93 2082.41 1511.93 Q2087.74 1511.93 2090.84 1514.37 Q2093.94 1516.77 2093.94 1520.89 Q2093.94 1523.76 2092.3 1525.75 Q2090.65 1527.72 2087.62 1528.49 Z\" fill=\"#000000\" fill-rule=\"evenodd\" fill-opacity=\"1\" /><polyline clip-path=\"url(#clip962)\" style=\"stroke:#000000; stroke-linecap:butt; stroke-linejoin:round; stroke-width:2; stroke-opacity:0.1; fill:none\" points=\"\n  170.857,1445.72 2352.76,1445.72 \n  \"/>\n<polyline clip-path=\"url(#clip962)\" style=\"stroke:#000000; stroke-linecap:butt; stroke-linejoin:round; stroke-width:2; stroke-opacity:0.1; fill:none\" points=\"\n  170.857,1109.64 2352.76,1109.64 \n  \"/>\n<polyline clip-path=\"url(#clip962)\" style=\"stroke:#000000; stroke-linecap:butt; stroke-linejoin:round; stroke-width:2; stroke-opacity:0.1; fill:none\" points=\"\n  170.857,773.567 2352.76,773.567 \n  \"/>\n<polyline clip-path=\"url(#clip962)\" style=\"stroke:#000000; stroke-linecap:butt; stroke-linejoin:round; stroke-width:2; stroke-opacity:0.1; fill:none\" points=\"\n  170.857,437.493 2352.76,437.493 \n  \"/>\n<polyline clip-path=\"url(#clip962)\" style=\"stroke:#000000; stroke-linecap:butt; stroke-linejoin:round; stroke-width:2; stroke-opacity:0.1; fill:none\" points=\"\n  170.857,101.419 2352.76,101.419 \n  \"/>\n<polyline clip-path=\"url(#clip960)\" style=\"stroke:#000000; stroke-linecap:butt; stroke-linejoin:round; stroke-width:4; stroke-opacity:1; fill:none\" points=\"\n  170.857,1486.45 170.857,47.2441 \n  \"/>\n<polyline clip-path=\"url(#clip960)\" style=\"stroke:#000000; stroke-linecap:butt; stroke-linejoin:round; stroke-width:4; stroke-opacity:1; fill:none\" points=\"\n  170.857,1445.72 197.04,1445.72 \n  \"/>\n<polyline clip-path=\"url(#clip960)\" style=\"stroke:#000000; stroke-linecap:butt; stroke-linejoin:round; stroke-width:4; stroke-opacity:1; fill:none\" points=\"\n  170.857,1109.64 197.04,1109.64 \n  \"/>\n<polyline clip-path=\"url(#clip960)\" style=\"stroke:#000000; stroke-linecap:butt; stroke-linejoin:round; stroke-width:4; stroke-opacity:1; fill:none\" points=\"\n  170.857,773.567 197.04,773.567 \n  \"/>\n<polyline clip-path=\"url(#clip960)\" style=\"stroke:#000000; stroke-linecap:butt; stroke-linejoin:round; stroke-width:4; stroke-opacity:1; fill:none\" points=\"\n  170.857,437.493 197.04,437.493 \n  \"/>\n<polyline clip-path=\"url(#clip960)\" style=\"stroke:#000000; stroke-linecap:butt; stroke-linejoin:round; stroke-width:4; stroke-opacity:1; fill:none\" points=\"\n  170.857,101.419 197.04,101.419 \n  \"/>\n<path clip-path=\"url(#clip960)\" d=\"M122.913 1431.51 Q119.302 1431.51 117.473 1435.08 Q115.668 1438.62 115.668 1445.75 Q115.668 1452.86 117.473 1456.42 Q119.302 1459.96 122.913 1459.96 Q126.547 1459.96 128.353 1456.42 Q130.182 1452.86 130.182 1445.75 Q130.182 1438.62 128.353 1435.08 Q126.547 1431.51 122.913 1431.51 M122.913 1427.81 Q128.723 1427.81 131.779 1432.42 Q134.857 1437 134.857 1445.75 Q134.857 1454.48 131.779 1459.08 Q128.723 1463.67 122.913 1463.67 Q117.103 1463.67 114.024 1459.08 Q110.969 1454.48 110.969 1445.75 Q110.969 1437 114.024 1432.42 Q117.103 1427.81 122.913 1427.81 Z\" fill=\"#000000\" fill-rule=\"evenodd\" fill-opacity=\"1\" /><path clip-path=\"url(#clip960)\" d=\"M82.7975 1092.36 L101.154 1092.36 L101.154 1096.3 L87.0799 1096.3 L87.0799 1104.77 Q88.0984 1104.42 89.1169 1104.26 Q90.1354 1104.07 91.1539 1104.07 Q96.941 1104.07 100.321 1107.25 Q103.7 1110.42 103.7 1115.83 Q103.7 1121.41 100.228 1124.51 Q96.7558 1127.59 90.4364 1127.59 Q88.2604 1127.59 85.9919 1127.22 Q83.7466 1126.85 81.3392 1126.11 L81.3392 1121.41 Q83.4225 1122.55 85.6447 1123.1 Q87.8669 1123.66 90.3438 1123.66 Q94.3484 1123.66 96.6863 1121.55 Q99.0243 1119.44 99.0243 1115.83 Q99.0243 1112.22 96.6863 1110.12 Q94.3484 1108.01 90.3438 1108.01 Q88.4688 1108.01 86.5938 1108.43 Q84.7419 1108.84 82.7975 1109.72 L82.7975 1092.36 Z\" fill=\"#000000\" fill-rule=\"evenodd\" fill-opacity=\"1\" /><path clip-path=\"url(#clip960)\" d=\"M122.913 1095.44 Q119.302 1095.44 117.473 1099.01 Q115.668 1102.55 115.668 1109.68 Q115.668 1116.78 117.473 1120.35 Q119.302 1123.89 122.913 1123.89 Q126.547 1123.89 128.353 1120.35 Q130.182 1116.78 130.182 1109.68 Q130.182 1102.55 128.353 1099.01 Q126.547 1095.44 122.913 1095.44 M122.913 1091.74 Q128.723 1091.74 131.779 1096.34 Q134.857 1100.93 134.857 1109.68 Q134.857 1118.4 131.779 1123.01 Q128.723 1127.59 122.913 1127.59 Q117.103 1127.59 114.024 1123.01 Q110.969 1118.4 110.969 1109.68 Q110.969 1100.93 114.024 1096.34 Q117.103 1091.74 122.913 1091.74 Z\" fill=\"#000000\" fill-rule=\"evenodd\" fill-opacity=\"1\" /><path clip-path=\"url(#clip960)\" d=\"M53.3995 786.912 L61.0384 786.912 L61.0384 760.547 L52.7282 762.213 L52.7282 757.954 L60.9921 756.287 L65.668 756.287 L65.668 786.912 L73.3068 786.912 L73.3068 790.847 L53.3995 790.847 L53.3995 786.912 Z\" fill=\"#000000\" fill-rule=\"evenodd\" fill-opacity=\"1\" /><path clip-path=\"url(#clip960)\" d=\"M92.7512 759.366 Q89.1401 759.366 87.3114 762.931 Q85.5058 766.473 85.5058 773.602 Q85.5058 780.709 87.3114 784.273 Q89.1401 787.815 92.7512 787.815 Q96.3854 787.815 98.1909 784.273 Q100.02 780.709 100.02 773.602 Q100.02 766.473 98.1909 762.931 Q96.3854 759.366 92.7512 759.366 M92.7512 755.662 Q98.5613 755.662 101.617 760.269 Q104.696 764.852 104.696 773.602 Q104.696 782.329 101.617 786.935 Q98.5613 791.519 92.7512 791.519 Q86.941 791.519 83.8623 786.935 Q80.8068 782.329 80.8068 773.602 Q80.8068 764.852 83.8623 760.269 Q86.941 755.662 92.7512 755.662 Z\" fill=\"#000000\" fill-rule=\"evenodd\" fill-opacity=\"1\" /><path clip-path=\"url(#clip960)\" d=\"M122.913 759.366 Q119.302 759.366 117.473 762.931 Q115.668 766.473 115.668 773.602 Q115.668 780.709 117.473 784.273 Q119.302 787.815 122.913 787.815 Q126.547 787.815 128.353 784.273 Q130.182 780.709 130.182 773.602 Q130.182 766.473 128.353 762.931 Q126.547 759.366 122.913 759.366 M122.913 755.662 Q128.723 755.662 131.779 760.269 Q134.857 764.852 134.857 773.602 Q134.857 782.329 131.779 786.935 Q128.723 791.519 122.913 791.519 Q117.103 791.519 114.024 786.935 Q110.969 782.329 110.969 773.602 Q110.969 764.852 114.024 760.269 Q117.103 755.662 122.913 755.662 Z\" fill=\"#000000\" fill-rule=\"evenodd\" fill-opacity=\"1\" /><path clip-path=\"url(#clip960)\" d=\"M53.3995 450.838 L61.0384 450.838 L61.0384 424.473 L52.7282 426.139 L52.7282 421.88 L60.9921 420.213 L65.668 420.213 L65.668 450.838 L73.3068 450.838 L73.3068 454.773 L53.3995 454.773 L53.3995 450.838 Z\" fill=\"#000000\" fill-rule=\"evenodd\" fill-opacity=\"1\" /><path clip-path=\"url(#clip960)\" d=\"M82.7975 420.213 L101.154 420.213 L101.154 424.149 L87.0799 424.149 L87.0799 432.621 Q88.0984 432.273 89.1169 432.111 Q90.1354 431.926 91.1539 431.926 Q96.941 431.926 100.321 435.098 Q103.7 438.269 103.7 443.685 Q103.7 449.264 100.228 452.366 Q96.7558 455.445 90.4364 455.445 Q88.2604 455.445 85.9919 455.074 Q83.7466 454.704 81.3392 453.963 L81.3392 449.264 Q83.4225 450.398 85.6447 450.954 Q87.8669 451.509 90.3438 451.509 Q94.3484 451.509 96.6863 449.403 Q99.0243 447.297 99.0243 443.685 Q99.0243 440.074 96.6863 437.968 Q94.3484 435.861 90.3438 435.861 Q88.4688 435.861 86.5938 436.278 Q84.7419 436.695 82.7975 437.574 L82.7975 420.213 Z\" fill=\"#000000\" fill-rule=\"evenodd\" fill-opacity=\"1\" /><path clip-path=\"url(#clip960)\" d=\"M122.913 423.292 Q119.302 423.292 117.473 426.857 Q115.668 430.398 115.668 437.528 Q115.668 444.635 117.473 448.199 Q119.302 451.741 122.913 451.741 Q126.547 451.741 128.353 448.199 Q130.182 444.635 130.182 437.528 Q130.182 430.398 128.353 426.857 Q126.547 423.292 122.913 423.292 M122.913 419.588 Q128.723 419.588 131.779 424.195 Q134.857 428.778 134.857 437.528 Q134.857 446.255 131.779 450.861 Q128.723 455.445 122.913 455.445 Q117.103 455.445 114.024 450.861 Q110.969 446.255 110.969 437.528 Q110.969 428.778 114.024 424.195 Q117.103 419.588 122.913 419.588 Z\" fill=\"#000000\" fill-rule=\"evenodd\" fill-opacity=\"1\" /><path clip-path=\"url(#clip960)\" d=\"M56.6171 114.764 L72.9365 114.764 L72.9365 118.699 L50.9921 118.699 L50.9921 114.764 Q53.6541 112.009 58.2375 107.38 Q62.8439 102.727 64.0245 101.385 Q66.2698 98.8614 67.1494 97.1253 Q68.0522 95.366 68.0522 93.6762 Q68.0522 90.9216 66.1078 89.1855 Q64.1865 87.4494 61.0847 87.4494 Q58.8856 87.4494 56.4319 88.2133 Q54.0014 88.9772 51.2236 90.5281 L51.2236 85.8059 Q54.0477 84.6716 56.5014 84.0929 Q58.955 83.5142 60.9921 83.5142 Q66.3624 83.5142 69.5568 86.1994 Q72.7513 88.8846 72.7513 93.3753 Q72.7513 95.5049 71.9411 97.4262 Q71.1541 99.3243 69.0476 101.917 Q68.4689 102.588 65.367 105.806 Q62.2652 109 56.6171 114.764 Z\" fill=\"#000000\" fill-rule=\"evenodd\" fill-opacity=\"1\" /><path clip-path=\"url(#clip960)\" d=\"M92.7512 87.2179 Q89.1401 87.2179 87.3114 90.7827 Q85.5058 94.3244 85.5058 101.454 Q85.5058 108.56 87.3114 112.125 Q89.1401 115.667 92.7512 115.667 Q96.3854 115.667 98.1909 112.125 Q100.02 108.56 100.02 101.454 Q100.02 94.3244 98.1909 90.7827 Q96.3854 87.2179 92.7512 87.2179 M92.7512 83.5142 Q98.5613 83.5142 101.617 88.1207 Q104.696 92.704 104.696 101.454 Q104.696 110.181 101.617 114.787 Q98.5613 119.371 92.7512 119.371 Q86.941 119.371 83.8623 114.787 Q80.8068 110.181 80.8068 101.454 Q80.8068 92.704 83.8623 88.1207 Q86.941 83.5142 92.7512 83.5142 Z\" fill=\"#000000\" fill-rule=\"evenodd\" fill-opacity=\"1\" /><path clip-path=\"url(#clip960)\" d=\"M122.913 87.2179 Q119.302 87.2179 117.473 90.7827 Q115.668 94.3244 115.668 101.454 Q115.668 108.56 117.473 112.125 Q119.302 115.667 122.913 115.667 Q126.547 115.667 128.353 112.125 Q130.182 108.56 130.182 101.454 Q130.182 94.3244 128.353 90.7827 Q126.547 87.2179 122.913 87.2179 M122.913 83.5142 Q128.723 83.5142 131.779 88.1207 Q134.857 92.704 134.857 101.454 Q134.857 110.181 131.779 114.787 Q128.723 119.371 122.913 119.371 Q117.103 119.371 114.024 114.787 Q110.969 110.181 110.969 101.454 Q110.969 92.704 114.024 88.1207 Q117.103 83.5142 122.913 83.5142 Z\" fill=\"#000000\" fill-rule=\"evenodd\" fill-opacity=\"1\" /><path clip-path=\"url(#clip962)\" d=\"\nM290.866 1438.99 L290.866 1445.72 L440.241 1445.72 L440.241 1438.99 L290.866 1438.99 L290.866 1438.99  Z\n  \" fill=\"#009af9\" fill-rule=\"evenodd\" fill-opacity=\"1\"/>\n<polyline clip-path=\"url(#clip962)\" style=\"stroke:#000000; stroke-linecap:butt; stroke-linejoin:round; stroke-width:4; stroke-opacity:1; fill:none\" points=\"\n  290.866,1438.99 290.866,1445.72 440.241,1445.72 440.241,1438.99 290.866,1438.99 \n  \"/>\n<path clip-path=\"url(#clip962)\" d=\"\nM440.241 1344.89 L440.241 1445.72 L589.617 1445.72 L589.617 1344.89 L440.241 1344.89 L440.241 1344.89  Z\n  \" fill=\"#009af9\" fill-rule=\"evenodd\" fill-opacity=\"1\"/>\n<polyline clip-path=\"url(#clip962)\" style=\"stroke:#000000; stroke-linecap:butt; stroke-linejoin:round; stroke-width:4; stroke-opacity:1; fill:none\" points=\"\n  440.241,1344.89 440.241,1445.72 589.617,1445.72 589.617,1344.89 440.241,1344.89 \n  \"/>\n<path clip-path=\"url(#clip962)\" d=\"\nM589.617 1217.19 L589.617 1445.72 L738.992 1445.72 L738.992 1217.19 L589.617 1217.19 L589.617 1217.19  Z\n  \" fill=\"#009af9\" fill-rule=\"evenodd\" fill-opacity=\"1\"/>\n<polyline clip-path=\"url(#clip962)\" style=\"stroke:#000000; stroke-linecap:butt; stroke-linejoin:round; stroke-width:4; stroke-opacity:1; fill:none\" points=\"\n  589.617,1217.19 589.617,1445.72 738.992,1445.72 738.992,1217.19 589.617,1217.19 \n  \"/>\n<path clip-path=\"url(#clip962)\" d=\"\nM738.992 666.024 L738.992 1445.72 L888.368 1445.72 L888.368 666.024 L738.992 666.024 L738.992 666.024  Z\n  \" fill=\"#009af9\" fill-rule=\"evenodd\" fill-opacity=\"1\"/>\n<polyline clip-path=\"url(#clip962)\" style=\"stroke:#000000; stroke-linecap:butt; stroke-linejoin:round; stroke-width:4; stroke-opacity:1; fill:none\" points=\"\n  738.992,666.024 738.992,1445.72 888.368,1445.72 888.368,666.024 738.992,666.024 \n  \"/>\n<path clip-path=\"url(#clip962)\" d=\"\nM888.368 464.379 L888.368 1445.72 L1037.74 1445.72 L1037.74 464.379 L888.368 464.379 L888.368 464.379  Z\n  \" fill=\"#009af9\" fill-rule=\"evenodd\" fill-opacity=\"1\"/>\n<polyline clip-path=\"url(#clip962)\" style=\"stroke:#000000; stroke-linecap:butt; stroke-linejoin:round; stroke-width:4; stroke-opacity:1; fill:none\" points=\"\n  888.368,464.379 888.368,1445.72 1037.74,1445.72 1037.74,464.379 888.368,464.379 \n  \"/>\n<path clip-path=\"url(#clip962)\" d=\"\nM1037.74 87.9763 L1037.74 1445.72 L1187.12 1445.72 L1187.12 87.9763 L1037.74 87.9763 L1037.74 87.9763  Z\n  \" fill=\"#009af9\" fill-rule=\"evenodd\" fill-opacity=\"1\"/>\n<polyline clip-path=\"url(#clip962)\" style=\"stroke:#000000; stroke-linecap:butt; stroke-linejoin:round; stroke-width:4; stroke-opacity:1; fill:none\" points=\"\n  1037.74,87.9763 1037.74,1445.72 1187.12,1445.72 1187.12,87.9763 1037.74,87.9763 \n  \"/>\n<path clip-path=\"url(#clip962)\" d=\"\nM1187.12 114.862 L1187.12 1445.72 L1336.49 1445.72 L1336.49 114.862 L1187.12 114.862 L1187.12 114.862  Z\n  \" fill=\"#009af9\" fill-rule=\"evenodd\" fill-opacity=\"1\"/>\n<polyline clip-path=\"url(#clip962)\" style=\"stroke:#000000; stroke-linecap:butt; stroke-linejoin:round; stroke-width:4; stroke-opacity:1; fill:none\" points=\"\n  1187.12,114.862 1187.12,1445.72 1336.49,1445.72 1336.49,114.862 1187.12,114.862 \n  \"/>\n<path clip-path=\"url(#clip962)\" d=\"\nM1336.49 578.644 L1336.49 1445.72 L1485.87 1445.72 L1485.87 578.644 L1336.49 578.644 L1336.49 578.644  Z\n  \" fill=\"#009af9\" fill-rule=\"evenodd\" fill-opacity=\"1\"/>\n<polyline clip-path=\"url(#clip962)\" style=\"stroke:#000000; stroke-linecap:butt; stroke-linejoin:round; stroke-width:4; stroke-opacity:1; fill:none\" points=\"\n  1336.49,578.644 1336.49,1445.72 1485.87,1445.72 1485.87,578.644 1336.49,578.644 \n  \"/>\n<path clip-path=\"url(#clip962)\" d=\"\nM1485.87 881.111 L1485.87 1445.72 L1635.25 1445.72 L1635.25 881.111 L1485.87 881.111 L1485.87 881.111  Z\n  \" fill=\"#009af9\" fill-rule=\"evenodd\" fill-opacity=\"1\"/>\n<polyline clip-path=\"url(#clip962)\" style=\"stroke:#000000; stroke-linecap:butt; stroke-linejoin:round; stroke-width:4; stroke-opacity:1; fill:none\" points=\"\n  1485.87,881.111 1485.87,1445.72 1635.25,1445.72 1635.25,881.111 1485.87,881.111 \n  \"/>\n<path clip-path=\"url(#clip962)\" d=\"\nM1635.25 1109.64 L1635.25 1445.72 L1784.62 1445.72 L1784.62 1109.64 L1635.25 1109.64 L1635.25 1109.64  Z\n  \" fill=\"#009af9\" fill-rule=\"evenodd\" fill-opacity=\"1\"/>\n<polyline clip-path=\"url(#clip962)\" style=\"stroke:#000000; stroke-linecap:butt; stroke-linejoin:round; stroke-width:4; stroke-opacity:1; fill:none\" points=\"\n  1635.25,1109.64 1635.25,1445.72 1784.62,1445.72 1784.62,1109.64 1635.25,1109.64 \n  \"/>\n<path clip-path=\"url(#clip962)\" d=\"\nM1784.62 1324.73 L1784.62 1445.72 L1934 1445.72 L1934 1324.73 L1784.62 1324.73 L1784.62 1324.73  Z\n  \" fill=\"#009af9\" fill-rule=\"evenodd\" fill-opacity=\"1\"/>\n<polyline clip-path=\"url(#clip962)\" style=\"stroke:#000000; stroke-linecap:butt; stroke-linejoin:round; stroke-width:4; stroke-opacity:1; fill:none\" points=\"\n  1784.62,1324.73 1784.62,1445.72 1934,1445.72 1934,1324.73 1784.62,1324.73 \n  \"/>\n<path clip-path=\"url(#clip962)\" d=\"\nM1934 1405.39 L1934 1445.72 L2083.37 1445.72 L2083.37 1405.39 L1934 1405.39 L1934 1405.39  Z\n  \" fill=\"#009af9\" fill-rule=\"evenodd\" fill-opacity=\"1\"/>\n<polyline clip-path=\"url(#clip962)\" style=\"stroke:#000000; stroke-linecap:butt; stroke-linejoin:round; stroke-width:4; stroke-opacity:1; fill:none\" points=\"\n  1934,1405.39 1934,1445.72 2083.37,1445.72 2083.37,1405.39 1934,1405.39 \n  \"/>\n<path clip-path=\"url(#clip962)\" d=\"\nM2083.37 1438.99 L2083.37 1445.72 L2232.75 1445.72 L2232.75 1438.99 L2083.37 1438.99 L2083.37 1438.99  Z\n  \" fill=\"#009af9\" fill-rule=\"evenodd\" fill-opacity=\"1\"/>\n<polyline clip-path=\"url(#clip962)\" style=\"stroke:#000000; stroke-linecap:butt; stroke-linejoin:round; stroke-width:4; stroke-opacity:1; fill:none\" points=\"\n  2083.37,1438.99 2083.37,1445.72 2232.75,1445.72 2232.75,1438.99 2083.37,1438.99 \n  \"/>\n<path clip-path=\"url(#clip960)\" d=\"\nM1985.16 198.898 L2280.03 198.898 L2280.03 95.2176 L1985.16 95.2176  Z\n  \" fill=\"#ffffff\" fill-rule=\"evenodd\" fill-opacity=\"1\"/>\n<polyline clip-path=\"url(#clip960)\" style=\"stroke:#000000; stroke-linecap:butt; stroke-linejoin:round; stroke-width:4; stroke-opacity:1; fill:none\" points=\"\n  1985.16,198.898 2280.03,198.898 2280.03,95.2176 1985.16,95.2176 1985.16,198.898 \n  \"/>\n<path clip-path=\"url(#clip960)\" d=\"\nM2009.41 167.794 L2154.87 167.794 L2154.87 126.322 L2009.41 126.322 L2009.41 167.794  Z\n  \" fill=\"#009af9\" fill-rule=\"evenodd\" fill-opacity=\"1\"/>\n<polyline clip-path=\"url(#clip960)\" style=\"stroke:#000000; stroke-linecap:butt; stroke-linejoin:round; stroke-width:4; stroke-opacity:1; fill:none\" points=\"\n  2009.41,167.794 2154.87,167.794 2154.87,126.322 2009.41,126.322 2009.41,167.794 \n  \"/>\n<path clip-path=\"url(#clip960)\" d=\"M2192.95 166.745 Q2191.15 171.375 2189.43 172.787 Q2187.72 174.199 2184.85 174.199 L2181.45 174.199 L2181.45 170.634 L2183.95 170.634 Q2185.71 170.634 2186.68 169.8 Q2187.65 168.967 2188.83 165.865 L2189.6 163.921 L2179.11 138.412 L2183.62 138.412 L2191.72 158.689 L2199.83 138.412 L2204.34 138.412 L2192.95 166.745 Z\" fill=\"#000000\" fill-rule=\"evenodd\" fill-opacity=\"1\" /><path clip-path=\"url(#clip960)\" d=\"M2211.63 160.402 L2219.27 160.402 L2219.27 134.037 L2210.96 135.703 L2210.96 131.444 L2219.22 129.778 L2223.9 129.778 L2223.9 160.402 L2231.54 160.402 L2231.54 164.338 L2211.63 164.338 L2211.63 160.402 Z\" fill=\"#000000\" fill-rule=\"evenodd\" fill-opacity=\"1\" /></svg>\n"
     },
     "metadata": {},
     "execution_count": 66
    }
   ],
   "metadata": {}
  },
  {
   "cell_type": "markdown",
   "source": [
    "## Example 2: OLS"
   ],
   "metadata": {}
  },
  {
   "cell_type": "code",
   "execution_count": 67,
   "source": [
    "β_0 = 1.0\n",
    "β_1 = 2.0\n",
    "β_2 = 3.0\n",
    "n = 10000\n",
    "x = rand(n).*10\n",
    "x2 = x.^2\n",
    "ϵ = rand(dist, n)\n",
    "Y = β_0 .+ β_1.*x + β_2.*x2 .+ ϵ\n",
    "X = hcat(ones(n), x, x2) # horizontal catenation\n",
    "β_ols = inv(X' * X) * X' * Y"
   ],
   "outputs": [
    {
     "output_type": "execute_result",
     "data": {
      "text/plain": [
       "3-element Vector{Float64}:\n",
       " 1.0065494031390607\n",
       " 2.0007710483575343\n",
       " 2.999886641624818"
      ]
     },
     "metadata": {},
     "execution_count": 67
    }
   ],
   "metadata": {}
  }
 ],
 "metadata": {
  "orig_nbformat": 4,
  "language_info": {
   "file_extension": ".jl",
   "name": "julia",
   "mimetype": "application/julia",
   "version": "1.6.2"
  },
  "kernelspec": {
   "name": "julia-1.6",
   "display_name": "Julia 1.6.2",
   "language": "julia"
  }
 },
 "nbformat": 4,
 "nbformat_minor": 2
}