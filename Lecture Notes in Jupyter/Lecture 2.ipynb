{
 "cells": [
  {
   "cell_type": "markdown",
   "source": [
    "# Lecture 2 - Performance tips"
   ],
   "metadata": {}
  },
  {
   "cell_type": "markdown",
   "source": [
    "## Keep track of your code\n",
    "**Julia's profiler also allows you to hunt for bottlenecks.**\n",
    "- `@profile`\n",
    "**Julia's timer tracks running time and memory usage.**\n",
    "- `@time`\n",
    "- Do not store unnecessary output!"
   ],
   "metadata": {}
  },
  {
   "cell_type": "code",
   "execution_count": 1,
   "source": [
    "using Profile\n",
    "\n",
    "function test(x::Float64)\n",
    "    for i = 1:10000000\n",
    "        x+=i #do a bunch of things to x\n",
    "        x-=i\n",
    "        x*=i\n",
    "        x/=i\n",
    "        x = abs(x)\n",
    "        x = log(x)\n",
    "    end\n",
    "    x\n",
    "end"
   ],
   "outputs": [
    {
     "output_type": "execute_result",
     "data": {
      "text/plain": [
       "test (generic function with 1 method)"
      ]
     },
     "metadata": {},
     "execution_count": 1
    }
   ],
   "metadata": {}
  },
  {
   "cell_type": "code",
   "execution_count": 2,
   "source": [
    "test(2.0)"
   ],
   "outputs": [
    {
     "output_type": "execute_result",
     "data": {
      "text/plain": [
       "-0.8466947489163474"
      ]
     },
     "metadata": {},
     "execution_count": 2
    }
   ],
   "metadata": {}
  },
  {
   "cell_type": "code",
   "execution_count": 3,
   "source": [
    "Profile.clear() #empty the profile\n",
    "@profile test(2.0) #profile a call of test function\n",
    "Profile.print() #print profile"
   ],
   "outputs": [
    {
     "output_type": "stream",
     "name": "stdout",
     "text": [
      "Overhead ╎ [+additional indent] Count File:Line; Function\n",
      "=========================================================\n",
      "   ╎248 @Base/task.jl:411; (::IJulia.var\"#15#18\")()\n",
      "   ╎ 248 @IJulia/src/eventloop.jl:8; eventloop(socket::ZMQ.Socket)\n",
      "   ╎  248 @Base/essentials.jl:706; invokelatest\n",
      "   ╎   248 @Base/essentials.jl:708; #invokelatest#2\n",
      "   ╎    248 .../execute_request.jl:67; execute_request(socket::ZMQ.So...\n",
      "   ╎     248 .../SoftGlobalScope.jl:65; softscope_include_string(m::Mo...\n",
      "   ╎    ╎ 248 @Base/loading.jl:1116; include_string(mapexpr::type...\n",
      "  3╎    ╎  248 @Base/boot.jl:360; eval\n",
      "   ╎    ╎   2   In[1]:5; test(x::Float64)\n",
      "   ╎    ╎    2   @Base/promotion.jl:321; +\n",
      "   ╎    ╎     2   @Base/promotion.jl:292; promote\n",
      "   ╎    ╎    ╎ 2   @Base/promotion.jl:269; _promote\n",
      "   ╎    ╎    ╎  2   @Base/number.jl:7; convert\n",
      "  2╎    ╎    ╎   2   @Base/float.jl:94; Float64\n",
      "   ╎    ╎   8   In[1]:6; test(x::Float64)\n",
      "   ╎    ╎    8   @Base/promotion.jl:323; -\n",
      "  8╎    ╎     8   @Base/float.jl:329; -\n",
      "   ╎    ╎   13  In[1]:7; test(x::Float64)\n",
      "   ╎    ╎    13  @Base/promotion.jl:322; *\n",
      " 13╎    ╎     13  @Base/float.jl:332; *\n",
      "   ╎    ╎   12  In[1]:8; test(x::Float64)\n",
      "   ╎    ╎    12  @Base/promotion.jl:324; /\n",
      " 12╎    ╎     12  @Base/float.jl:335; /\n",
      "   ╎    ╎   36  In[1]:9; test(x::Float64)\n",
      " 36╎    ╎    36  @Base/float.jl:441; abs\n",
      "  4╎    ╎   168 In[1]:10; test(x::Float64)\n",
      "  7╎    ╎    7   @Base/special/log.jl:0; log(x::Float64)\n",
      "  4╎    ╎    7   @Base/special/log.jl:254; log(x::Float64)\n",
      "   ╎    ╎     3   @Base/operators.jl:305; >\n",
      "  3╎    ╎    ╎ 3   @Base/float.jl:371; <\n",
      "  5╎    ╎    5   @Base/special/log.jl:258; log(x::Float64)\n",
      "  2╎    ╎    7   @Base/special/log.jl:260; log(x::Float64)\n",
      "   ╎    ╎     1   ...e/special/log.jl:185; log_proc2\n",
      "   ╎    ╎    ╎ 1   @Base/operators.jl:560; *\n",
      "  1╎    ╎    ╎  1   @Base/float.jl:332; *\n",
      "   ╎    ╎     3   ...e/special/log.jl:189; log_proc2\n",
      "   ╎    ╎    ╎ 2   @Base/math.jl:131; evalpoly\n",
      "   ╎    ╎    ╎  2   @Base/math.jl:132; macro expansion\n",
      "  2╎    ╎    ╎   2   @Base/float.jl:339; muladd\n",
      "   ╎    ╎    ╎ 1   @Base/operators.jl:560; *\n",
      "  1╎    ╎    ╎  1   @Base/float.jl:332; *\n",
      "   ╎    ╎     1   ...e/special/log.jl:209; log_proc2\n",
      "  1╎    ╎    ╎ 1   @Base/float.jl:326; +\n",
      "   ╎    ╎    3   @Base/special/log.jl:265; log(x::Float64)\n",
      "   ╎    ╎     3   @Base/int.jl:462; >>\n",
      "  3╎    ╎    ╎ 3   @Base/int.jl:456; >>\n",
      "   ╎    ╎    1   @Base/special/log.jl:266; log(x::Float64)\n",
      "  1╎    ╎     1   @Base/promotion.jl:410; ==\n",
      "   ╎    ╎    4   @Base/special/log.jl:271; log(x::Float64)\n",
      "  4╎    ╎     4   @Base/int.jl:86; -\n",
      "   ╎    ╎    7   @Base/special/log.jl:272; log(x::Float64)\n",
      "  6╎    ╎     6   @Base/essentials.jl:422; reinterpret\n",
      "  1╎    ╎     1   @Base/int.jl:309; &\n",
      "   ╎    ╎    3   @Base/special/log.jl:274; log(x::Float64)\n",
      "  3╎    ╎     3   @Base/float.jl:94; Float64\n",
      "   ╎    ╎    14  @Base/special/log.jl:275; log(x::Float64)\n",
      " 13╎    ╎     14  @Base/float.jl:326; +\n",
      "   ╎    ╎    4   @Base/special/log.jl:276; log(x::Float64)\n",
      "  4╎    ╎     4   @Base/float.jl:329; -\n",
      "   ╎    ╎    8   @Base/special/log.jl:277; log(x::Float64)\n",
      "  8╎    ╎     8   @Base/float.jl:332; *\n",
      " 12╎    ╎    94  @Base/special/log.jl:279; log(x::Float64)\n",
      "   ╎    ╎     14  ...e/special/log.jl:156; log_proc1\n",
      " 13╎    ╎    ╎ 13  @Base/tuple.jl:29; getindex\n",
      "   ╎    ╎    ╎ 1   @Base/tuple.jl:86; indexed_iterate\n",
      "  1╎    ╎    ╎  1   @Base/tuple.jl:86; indexed_iterate\n",
      "   ╎    ╎     21  ...e/special/log.jl:158; log_proc1\n",
      " 21╎    ╎    ╎ 21  @Base/float.jl:332; *\n",
      "   ╎    ╎     2   ...e/special/log.jl:171; log_proc1\n",
      "  2╎    ╎    ╎ 2   @Base/float.jl:332; *\n",
      "   ╎    ╎     6   ...e/special/log.jl:172; log_proc1\n",
      "  6╎    ╎    ╎ 6   @Base/float.jl:332; *\n",
      "   ╎    ╎     15  ...e/special/log.jl:173; log_proc1\n",
      "   ╎    ╎    ╎ 15  @Base/operators.jl:560; *\n",
      " 15╎    ╎    ╎  15  @Base/float.jl:332; *\n",
      "   ╎    ╎     24  ...e/special/log.jl:178; log_proc1\n",
      " 24╎    ╎    ╎ 24  @Base/float.jl:326; +\n",
      "  2╎    ╎   2   @Base/special/log.jl:0; log(x::Float64)\n",
      "   ╎    ╎   4   @Base/special/log.jl:264; log(x::Float64)\n",
      "  4╎    ╎    4   @Base/essentials.jl:422; reinterpret\n",
      "Total snapshots: 496\n"
     ]
    }
   ],
   "metadata": {}
  },
  {
   "cell_type": "markdown",
   "source": [
    "Two alternatives to `@profile`:"
   ],
   "metadata": {}
  },
  {
   "cell_type": "code",
   "execution_count": 12,
   "source": [
    "# using Pkg; Pkg.add(\"StatProfilerHTML\")\n",
    "using StatProfilerHTML\n",
    "\n",
    "@profilehtml test(2.0) #profile a call of test function"
   ],
   "outputs": [
    {
     "output_type": "stream",
     "name": "stderr",
     "text": [
      "┌ Info: Wrote profiling output to file:///home/mitchv34/2021_Summer_Computational_Economics_Bootcamp/Lectures in Jupyter/statprof/index.html .\n",
      "└ @ StatProfilerHTML /home/mitchv34/.julia/packages/StatProfilerHTML/OFVct/src/StatProfilerHTML.jl:49\n"
     ]
    },
    {
     "output_type": "execute_result",
     "data": {
      "text/plain": [
       "-0.8466947489163474"
      ]
     },
     "metadata": {},
     "execution_count": 12
    }
   ],
   "metadata": {}
  },
  {
   "cell_type": "code",
   "execution_count": 10,
   "source": [
    "# using Pkg; Pkg.add(\"ProfileSVG\")\n",
    "using ProfileSVG\n",
    "\n",
    "@profview test(2.0) #profile a call of test function"
   ],
   "outputs": [
    {
     "output_type": "execute_result",
     "data": {
      "text/plain": [
       "ProfileSVG.FGConfig(Node(FlameGraphs.NodeData(ip:0x0, 0x01, 1:259)), Dict{Symbol, Any}(), FlameGraphs.FlameColors(ColorTypes.RGB{FixedPointNumbers.N0f8}[RGB{N0f8}(0.882,0.698,1.0), RGB{N0f8}(0.435,0.863,0.569), RGB{N0f8}(0.0,0.71,0.545), RGB{N0f8}(0.173,0.639,1.0)], RGB{N0f8}(1.0,1.0,1.0), RGB{N0f8}(0.0,0.0,0.0), ColorTypes.RGB{FixedPointNumbers.N0f8}[RGB{N0f8}(0.953,0.0,0.302), RGB{N0f8}(0.894,0.0,0.255), RGB{N0f8}(0.831,0.129,0.216), RGB{N0f8}(0.773,0.192,0.184)], ColorTypes.RGB{FixedPointNumbers.N0f8}[RGB{N0f8}(1.0,0.627,0.0), RGB{N0f8}(1.0,0.643,0.0), RGB{N0f8}(0.965,0.651,0.039), RGB{N0f8}(0.894,0.655,0.11)]), :fcolor, :fcolor, 1.0, false, 50, 2000, 960.0, 0.0, 2.0, \"inherit\", 12.0, false, :none, 0.001)"
      ],
      "image/svg+xml": "<?xml version=\"1.0\" standalone=\"no\"?>\n<!DOCTYPE svg PUBLIC \"-//W3C//DTD SVG 1.1//EN\" \"http://www.w3.org/Graphics/SVG/1.1/DTD/svg11.dtd\">\n<svg version=\"1.1\" width=\"960\" height=\"301\" viewBox=\"0 0 960 301\"\n     xmlns=\"http://www.w3.org/2000/svg\" id=\"fig-bb089b55f8a646cf9db5cea3c303272c\">\n<defs>\n    <clipPath id=\"fig-bb089b55f8a646cf9db5cea3c303272c-clip\">\n        <rect x=\"0\" y=\"0\" width=\"960\" height=\"301\"/>\n    </clipPath>\n</defs>\n<style type=\"text/css\">\n    #fig-bb089b55f8a646cf9db5cea3c303272c text {\n        pointer-events: none;\n        font-family: inherit;\n        font-size: 12px;\n        fill: #000000;\n    }\n    text#fig-bb089b55f8a646cf9db5cea3c303272c-caption {\n        font-size: 16.8px;\n        fill: #000000;\n        text-anchor: middle;\n    }\n    #fig-bb089b55f8a646cf9db5cea3c303272c-bg {\n        fill: #FFFFFF;\n    }\n    #fig-bb089b55f8a646cf9db5cea3c303272c-viewport rect, #fig-bb089b55f8a646cf9db5cea3c303272c-viewport path {\n        vector-effect: non-scaling-stroke;\n        fill-opacity: 1;\n    }\n    #fig-bb089b55f8a646cf9db5cea3c303272c-viewport text {\n        stroke: #000000;\n        stroke-width: 0;\n        stroke-opacity: 0.35;\n    }\n    #fig-bb089b55f8a646cf9db5cea3c303272c-viewport rect:hover, #fig-bb089b55f8a646cf9db5cea3c303272c-viewport path:hover {\n        fill-opacity: 0.75;\n        stroke: #000000;\n        stroke-width: 0.5;\n    }\n    #fig-bb089b55f8a646cf9db5cea3c303272c-viewport + rect {\n        fill: #FFFFFF;\n        opacity: 0.8;\n    }\n    text#fig-bb089b55f8a646cf9db5cea3c303272c-details{\n        fill: #000000;\n    }\n</style>\n<g id=\"fig-bb089b55f8a646cf9db5cea3c303272c-frame\" clip-path=\"url(#fig-bb089b55f8a646cf9db5cea3c303272c-clip)\">\n<rect id=\"fig-bb089b55f8a646cf9db5cea3c303272c-bg\" x=\"0\" y=\"0\" width=\"960\" height=\"301\"/>\n<text id=\"fig-bb089b55f8a646cf9db5cea3c303272c-caption\" x=\"480\" y=\"24\">Profile results</text>\n<g id=\"fig-bb089b55f8a646cf9db5cea3c303272c-viewport\" transform=\"scale(1)\">\n<rect x=\"10\" y=\"248\" width=\"940.58\" height=\"15\" rx=\"2\" fill=\"#F3004D\" data-dinfo=\"\"/>\n<text x=\"10\" dx=\"4\" y=\"259.25\"> in :-1</text>\n<rect x=\"10\" y=\"233\" width=\"940.58\" height=\"15\" rx=\"2\" fill=\"#00B58B\" data-dinfo=\"./\"/>\n<text x=\"10\" dx=\"4\" y=\"244.25\">#15 in task.jl:411</text>\n<rect x=\"10\" y=\"218\" width=\"940.58\" height=\"15\" rx=\"2\" fill=\"#E1B2FF\" data-dinfo=\"/home/mitchv34/.julia/packages/IJulia/e8kqU/src/\"/>\n<text x=\"10\" dx=\"4\" y=\"229.25\">eventloop in eventloop.jl:8</text>\n<rect x=\"10\" y=\"203\" width=\"940.58\" height=\"15\" rx=\"2\" fill=\"#00B58B\" data-dinfo=\"./\"/>\n<text x=\"10\" dx=\"4\" y=\"214.25\">invokelatest in essentials.jl:706</text>\n<rect x=\"10\" y=\"188\" width=\"940.58\" height=\"15\" rx=\"2\" fill=\"#F3004D\" data-dinfo=\"./\"/>\n<text x=\"10\" dx=\"4\" y=\"199.25\">#invokelatest#2 in essentials.jl:708</text>\n<rect x=\"10\" y=\"173\" width=\"940.58\" height=\"15\" rx=\"2\" fill=\"#D42137\" data-dinfo=\"/home/mitchv34/.julia/packages/IJulia/e8kqU/src/\"/>\n<text x=\"10\" dx=\"4\" y=\"184.25\">execute_request in execute_request.jl:67</text>\n<rect x=\"10\" y=\"158\" width=\"940.58\" height=\"15\" rx=\"2\" fill=\"#E1B2FF\" data-dinfo=\"/home/mitchv34/.julia/packages/SoftGlobalScope/u4UzH/src/\"/>\n<text x=\"10\" dx=\"4\" y=\"169.25\">softscope_include_string in SoftGlobalScope.jl:65</text>\n<rect x=\"10\" y=\"143\" width=\"940.58\" height=\"15\" rx=\"2\" fill=\"#00B58B\" data-dinfo=\"./\"/>\n<text x=\"10\" dx=\"4\" y=\"154.25\">include_string in loading.jl:1116</text>\n<rect x=\"10\" y=\"128\" width=\"940.58\" height=\"15\" rx=\"2\" fill=\"#F3004D\" data-dinfo=\"./\"/>\n<text x=\"10\" dx=\"4\" y=\"139.25\">eval in boot.jl:360</text>\n<rect x=\"10\" y=\"113\" width=\"7.26\" height=\"15\" rx=\"2\" fill=\"#00B58B\" data-dinfo=\"./\"/>\n<text x=\"10\" dx=\"4\" y=\"124.25\">test in In[1]:5</text>\n<rect x=\"10\" y=\"98\" width=\"7.26\" height=\"15\" rx=\"2\" fill=\"#E1B2FF\" data-dinfo=\"./\"/>\n<text x=\"10\" dx=\"4\" y=\"109.25\">+ in promotion.jl:321</text>\n<rect x=\"10\" y=\"83\" width=\"7.26\" height=\"15\" rx=\"2\" fill=\"#00B58B\" data-dinfo=\"./\"/>\n<text x=\"10\" dx=\"4\" y=\"94.25\">promote in promotion.jl:292</text>\n<rect x=\"10\" y=\"68\" width=\"7.26\" height=\"15\" rx=\"2\" fill=\"#E1B2FF\" data-dinfo=\"./\"/>\n<text x=\"10\" dx=\"4\" y=\"79.25\">_promote in promotion.jl:269</text>\n<rect x=\"10\" y=\"53\" width=\"7.26\" height=\"15\" rx=\"2\" fill=\"#00B58B\" data-dinfo=\"./\"/>\n<text x=\"10\" dx=\"4\" y=\"64.25\">convert in number.jl:7</text>\n<rect x=\"10\" y=\"38\" width=\"7.26\" height=\"15\" rx=\"2\" fill=\"#E1B2FF\" data-dinfo=\"./\"/>\n<text x=\"10\" dx=\"4\" y=\"49.25\">Float64 in float.jl:94</text>\n<rect x=\"17.26\" y=\"113\" width=\"21.79\" height=\"15\" rx=\"2\" fill=\"#2CA3FF\" data-dinfo=\"./\"/>\n<text x=\"17.26\" dx=\"4\" y=\"124.25\">test in In[1]:6</text>\n<rect x=\"17.26\" y=\"98\" width=\"21.79\" height=\"15\" rx=\"2\" fill=\"#6FDC91\" data-dinfo=\"./\"/>\n<text x=\"17.26\" dx=\"4\" y=\"109.25\">- in promotion.jl:323</text>\n<rect x=\"17.26\" y=\"83\" width=\"21.79\" height=\"15\" rx=\"2\" fill=\"#2CA3FF\" data-dinfo=\"./\"/>\n<text x=\"17.26\" dx=\"4\" y=\"94.25\">- in float.jl:329</text>\n<rect x=\"39.05\" y=\"113\" width=\"58.11\" height=\"15\" rx=\"2\" fill=\"#00B58B\" data-dinfo=\"./\"/>\n<text x=\"39.05\" dx=\"4\" y=\"124.25\">test in In[1]:7</text>\n<rect x=\"39.05\" y=\"98\" width=\"58.11\" height=\"15\" rx=\"2\" fill=\"#E1B2FF\" data-dinfo=\"./\"/>\n<text x=\"39.05\" dx=\"4\" y=\"109.25\">* in promotion.jl:322</text>\n<rect x=\"39.05\" y=\"83\" width=\"58.11\" height=\"15\" rx=\"2\" fill=\"#00B58B\" data-dinfo=\"./\"/>\n<text x=\"39.05\" dx=\"4\" y=\"94.25\">* in float.jl:332</text>\n<rect x=\"97.16\" y=\"113\" width=\"39.95\" height=\"15\" rx=\"2\" fill=\"#2CA3FF\" data-dinfo=\"./\"/>\n<text x=\"97.16\" dx=\"4\" y=\"124.25\">test in In[1]:8</text>\n<rect x=\"97.16\" y=\"98\" width=\"39.95\" height=\"15\" rx=\"2\" fill=\"#6FDC91\" data-dinfo=\"./\"/>\n<text x=\"97.16\" dx=\"4\" y=\"109.25\">/ in promotion.jl:324</text>\n<rect x=\"97.16\" y=\"83\" width=\"39.95\" height=\"15\" rx=\"2\" fill=\"#2CA3FF\" data-dinfo=\"./\"/>\n<text x=\"97.16\" dx=\"4\" y=\"94.25\">/ in float.jl:335</text>\n<rect x=\"137.11\" y=\"113\" width=\"90.78\" height=\"15\" rx=\"2\" fill=\"#00B58B\" data-dinfo=\"./\"/>\n<text x=\"137.11\" dx=\"4\" y=\"124.25\">test in In[1]:9</text>\n<rect x=\"137.11\" y=\"98\" width=\"90.78\" height=\"15\" rx=\"2\" fill=\"#E1B2FF\" data-dinfo=\"./\"/>\n<text x=\"137.11\" dx=\"4\" y=\"109.25\">abs in float.jl:441</text>\n<rect x=\"227.89\" y=\"113\" width=\"700.9\" height=\"15\" rx=\"2\" fill=\"#2CA3FF\" data-dinfo=\"./\"/>\n<text x=\"227.89\" dx=\"4\" y=\"124.25\">test in In[1]:10</text>\n<rect x=\"227.89\" y=\"98\" width=\"10.9\" height=\"15\" rx=\"2\" fill=\"#6FDC91\" data-dinfo=\"./special/\"/>\n<text x=\"227.89\" dx=\"4\" y=\"109.25\">log in log.jl:0</text>\n<rect x=\"238.79\" y=\"98\" width=\"29.05\" height=\"15\" rx=\"2\" fill=\"#E1B2FF\" data-dinfo=\"./special/\"/>\n<text x=\"238.79\" dx=\"4\" y=\"109.25\">log in log.jl:254</text>\n<rect x=\"238.79\" y=\"83\" width=\"10.89\" height=\"15\" rx=\"2\" fill=\"#00B58B\" data-dinfo=\"./\"/>\n<text x=\"238.79\" dx=\"4\" y=\"94.25\">&amp;gt; in operators.jl:305</text>\n<rect x=\"238.79\" y=\"68\" width=\"10.89\" height=\"15\" rx=\"2\" fill=\"#6FDC91\" data-dinfo=\"./\"/>\n<text x=\"238.79\" dx=\"4\" y=\"79.25\">&amp;lt; in float.jl:371</text>\n<rect x=\"267.84\" y=\"98\" width=\"32.69\" height=\"15\" rx=\"2\" fill=\"#6FDC91\" data-dinfo=\"./special/\"/>\n<text x=\"267.84\" dx=\"4\" y=\"109.25\">log in log.jl:258</text>\n<rect x=\"267.84\" y=\"83\" width=\"7.27\" height=\"15\" rx=\"2\" fill=\"#2CA3FF\" data-dinfo=\"./\"/>\n<text x=\"267.84\" dx=\"4\" y=\"94.25\">&amp;lt; in float.jl:371</text>\n<rect x=\"300.53\" y=\"98\" width=\"14.52\" height=\"15\" rx=\"2\" fill=\"#E1B2FF\" data-dinfo=\"./special/\"/>\n<text x=\"300.53\" dx=\"4\" y=\"109.25\">log in log.jl:259</text>\n<rect x=\"300.53\" y=\"83\" width=\"14.52\" height=\"15\" rx=\"2\" fill=\"#00B58B\" data-dinfo=\"./\"/>\n<text x=\"300.53\" dx=\"4\" y=\"94.25\">- in float.jl:329</text>\n<rect x=\"315.05\" y=\"98\" width=\"39.95\" height=\"15\" rx=\"2\" fill=\"#6FDC91\" data-dinfo=\"./special/\"/>\n<text x=\"315.05\" dx=\"4\" y=\"109.25\">log in log.jl:260</text>\n<rect x=\"315.05\" y=\"83\" width=\"3.63\" height=\"15\" rx=\"2\" fill=\"#2CA3FF\" data-dinfo=\"./special/\"/>\n<text x=\"315.05\" dx=\"4\" y=\"94.25\">log_proc2 in log.jl:184</text>\n<rect x=\"315.05\" y=\"68\" width=\"3.63\" height=\"15\" rx=\"2\" fill=\"#E1B2FF\" data-dinfo=\"./\"/>\n<text x=\"315.05\" dx=\"4\" y=\"79.25\">+ in float.jl:326</text>\n<rect x=\"318.68\" y=\"83\" width=\"18.16\" height=\"15\" rx=\"2\" fill=\"#00B58B\" data-dinfo=\"./special/\"/>\n<text x=\"318.68\" dx=\"4\" y=\"94.25\">log_proc2 in log.jl:185</text>\n<rect x=\"318.68\" y=\"68\" width=\"18.16\" height=\"15\" rx=\"2\" fill=\"#6FDC91\" data-dinfo=\"./\"/>\n<text x=\"318.68\" dx=\"4\" y=\"79.25\">* in operators.jl:560</text>\n<rect x=\"318.68\" y=\"53\" width=\"18.16\" height=\"15\" rx=\"2\" fill=\"#2CA3FF\" data-dinfo=\"./\"/>\n<text x=\"318.68\" dx=\"4\" y=\"64.25\">* in float.jl:332</text>\n<rect x=\"336.84\" y=\"83\" width=\"3.63\" height=\"15\" rx=\"2\" fill=\"#2CA3FF\" data-dinfo=\"./special/\"/>\n<text x=\"336.84\" dx=\"4\" y=\"94.25\">log_proc2 in log.jl:186</text>\n<rect x=\"336.84\" y=\"68\" width=\"3.63\" height=\"15\" rx=\"2\" fill=\"#E1B2FF\" data-dinfo=\"./\"/>\n<text x=\"336.84\" dx=\"4\" y=\"79.25\">* in float.jl:332</text>\n<rect x=\"340.47\" y=\"83\" width=\"3.64\" height=\"15\" rx=\"2\" fill=\"#00B58B\" data-dinfo=\"./special/\"/>\n<text x=\"340.47\" dx=\"4\" y=\"94.25\">log_proc2 in log.jl:189</text>\n<rect x=\"340.47\" y=\"68\" width=\"3.64\" height=\"15\" rx=\"2\" fill=\"#6FDC91\" data-dinfo=\"./\"/>\n<text x=\"340.47\" dx=\"4\" y=\"79.25\">evalpoly in math.jl:131</text>\n<rect x=\"340.47\" y=\"53\" width=\"3.64\" height=\"15\" rx=\"2\" fill=\"#00B58B\" data-dinfo=\"./\"/>\n<text x=\"340.47\" dx=\"4\" y=\"64.25\">macro expansion in math.jl:132</text>\n<rect x=\"340.47\" y=\"38\" width=\"3.64\" height=\"15\" rx=\"2\" fill=\"#6FDC91\" data-dinfo=\"./\"/>\n<text x=\"340.47\" dx=\"4\" y=\"49.25\">muladd in float.jl:339</text>\n<rect x=\"344.11\" y=\"83\" width=\"3.63\" height=\"15\" rx=\"2\" fill=\"#2CA3FF\" data-dinfo=\"./special/\"/>\n<text x=\"344.11\" dx=\"4\" y=\"94.25\">log_proc2 in log.jl:209</text>\n<rect x=\"344.11\" y=\"68\" width=\"3.63\" height=\"15\" rx=\"2\" fill=\"#E1B2FF\" data-dinfo=\"./\"/>\n<text x=\"344.11\" dx=\"4\" y=\"79.25\">+ in float.jl:326</text>\n<rect x=\"355\" y=\"98\" width=\"25.42\" height=\"15\" rx=\"2\" fill=\"#E1B2FF\" data-dinfo=\"./special/\"/>\n<text x=\"355\" dx=\"4\" y=\"109.25\">log in log.jl:265</text>\n<rect x=\"355\" y=\"83\" width=\"25.42\" height=\"15\" rx=\"2\" fill=\"#00B58B\" data-dinfo=\"./\"/>\n<text x=\"355\" dx=\"4\" y=\"94.25\">&amp;gt;&amp;gt; in int.jl:462</text>\n<rect x=\"355\" y=\"68\" width=\"25.42\" height=\"15\" rx=\"2\" fill=\"#6FDC91\" data-dinfo=\"./\"/>\n<text x=\"355\" dx=\"4\" y=\"79.25\">&amp;gt;&amp;gt; in int.jl:456</text>\n<rect x=\"380.42\" y=\"98\" width=\"7.26\" height=\"15\" rx=\"2\" fill=\"#6FDC91\" data-dinfo=\"./special/\"/>\n<text x=\"380.42\" dx=\"4\" y=\"109.25\">log in log.jl:271</text>\n<rect x=\"380.42\" y=\"83\" width=\"7.26\" height=\"15\" rx=\"2\" fill=\"#2CA3FF\" data-dinfo=\"./\"/>\n<text x=\"380.42\" dx=\"4\" y=\"94.25\">- in int.jl:86</text>\n<rect x=\"387.68\" y=\"98\" width=\"32.69\" height=\"15\" rx=\"2\" fill=\"#E1B2FF\" data-dinfo=\"./special/\"/>\n<text x=\"387.68\" dx=\"4\" y=\"109.25\">log in log.jl:272</text>\n<rect x=\"387.68\" y=\"83\" width=\"18.16\" height=\"15\" rx=\"2\" fill=\"#00B58B\" data-dinfo=\"./\"/>\n<text x=\"387.68\" dx=\"4\" y=\"94.25\">reinterpret in essentials.jl:422</text>\n<rect x=\"405.84\" y=\"83\" width=\"14.53\" height=\"15\" rx=\"2\" fill=\"#2CA3FF\" data-dinfo=\"./\"/>\n<text x=\"405.84\" dx=\"4\" y=\"94.25\">&amp; in int.jl:309</text>\n<rect x=\"420.37\" y=\"98\" width=\"10.89\" height=\"15\" rx=\"2\" fill=\"#6FDC91\" data-dinfo=\"./special/\"/>\n<text x=\"420.37\" dx=\"4\" y=\"109.25\">log in log.jl:274</text>\n<rect x=\"420.37\" y=\"83\" width=\"10.89\" height=\"15\" rx=\"2\" fill=\"#00B58B\" data-dinfo=\"./\"/>\n<text x=\"420.37\" dx=\"4\" y=\"94.25\">Float64 in float.jl:94</text>\n<rect x=\"431.26\" y=\"98\" width=\"50.85\" height=\"15\" rx=\"2\" fill=\"#E1B2FF\" data-dinfo=\"./special/\"/>\n<text x=\"431.26\" dx=\"4\" y=\"109.25\">log in log.jl:275</text>\n<rect x=\"431.26\" y=\"83\" width=\"47.21\" height=\"15\" rx=\"2\" fill=\"#2CA3FF\" data-dinfo=\"./\"/>\n<text x=\"431.26\" dx=\"4\" y=\"94.25\">+ in float.jl:326</text>\n<rect x=\"478.47\" y=\"83\" width=\"3.64\" height=\"15\" rx=\"2\" fill=\"#00B58B\" data-dinfo=\"./\"/>\n<text x=\"478.47\" dx=\"4\" y=\"94.25\">- in float.jl:329</text>\n<rect x=\"482.11\" y=\"98\" width=\"18.15\" height=\"15\" rx=\"2\" fill=\"#6FDC91\" data-dinfo=\"./special/\"/>\n<text x=\"482.11\" dx=\"4\" y=\"109.25\">log in log.jl:276</text>\n<rect x=\"482.11\" y=\"83\" width=\"18.15\" height=\"15\" rx=\"2\" fill=\"#2CA3FF\" data-dinfo=\"./\"/>\n<text x=\"482.11\" dx=\"4\" y=\"94.25\">- in float.jl:329</text>\n<rect x=\"500.26\" y=\"98\" width=\"54.48\" height=\"15\" rx=\"2\" fill=\"#E1B2FF\" data-dinfo=\"./special/\"/>\n<text x=\"500.26\" dx=\"4\" y=\"109.25\">log in log.jl:277</text>\n<rect x=\"500.26\" y=\"83\" width=\"50.85\" height=\"15\" rx=\"2\" fill=\"#00B58B\" data-dinfo=\"./\"/>\n<text x=\"500.26\" dx=\"4\" y=\"94.25\">* in float.jl:332</text>\n<rect x=\"551.11\" y=\"83\" width=\"3.63\" height=\"15\" rx=\"2\" fill=\"#2CA3FF\" data-dinfo=\"./\"/>\n<text x=\"551.11\" dx=\"4\" y=\"94.25\">unsafe_trunc in float.jl:239</text>\n<rect x=\"554.74\" y=\"98\" width=\"355.89\" height=\"15\" rx=\"2\" fill=\"#6FDC91\" data-dinfo=\"./special/\"/>\n<text x=\"554.74\" dx=\"4\" y=\"109.25\">log in log.jl:279</text>\n<rect x=\"554.74\" y=\"83\" width=\"69\" height=\"15\" rx=\"2\" fill=\"#00B58B\" data-dinfo=\"./special/\"/>\n<text x=\"554.74\" dx=\"4\" y=\"94.25\">log_proc1 in log.jl:156</text>\n<rect x=\"554.74\" y=\"68\" width=\"50.84\" height=\"15\" rx=\"2\" fill=\"#E1B2FF\" data-dinfo=\"./\"/>\n<text x=\"554.74\" dx=\"4\" y=\"79.25\">getindex in tuple.jl:29</text>\n<rect x=\"605.58\" y=\"68\" width=\"18.16\" height=\"15\" rx=\"2\" fill=\"#6FDC91\" data-dinfo=\"./\"/>\n<text x=\"605.58\" dx=\"4\" y=\"79.25\">indexed_iterate in tuple.jl:86</text>\n<rect x=\"605.58\" y=\"53\" width=\"18.16\" height=\"15\" rx=\"2\" fill=\"#2CA3FF\" data-dinfo=\"./\"/>\n<text x=\"605.58\" dx=\"4\" y=\"64.25\">indexed_iterate in tuple.jl:86</text>\n<rect x=\"623.74\" y=\"83\" width=\"87.15\" height=\"15\" rx=\"2\" fill=\"#2CA3FF\" data-dinfo=\"./special/\"/>\n<text x=\"623.74\" dx=\"4\" y=\"94.25\">log_proc1 in log.jl:158</text>\n<rect x=\"623.74\" y=\"68\" width=\"87.15\" height=\"15\" rx=\"2\" fill=\"#E1B2FF\" data-dinfo=\"./\"/>\n<text x=\"623.74\" dx=\"4\" y=\"79.25\">* in float.jl:332</text>\n<rect x=\"710.89\" y=\"83\" width=\"10.9\" height=\"15\" rx=\"2\" fill=\"#00B58B\" data-dinfo=\"./special/\"/>\n<text x=\"710.89\" dx=\"4\" y=\"94.25\">log_proc1 in log.jl:171</text>\n<rect x=\"710.89\" y=\"68\" width=\"10.9\" height=\"15\" rx=\"2\" fill=\"#6FDC91\" data-dinfo=\"./\"/>\n<text x=\"710.89\" dx=\"4\" y=\"79.25\">* in float.jl:332</text>\n<rect x=\"721.79\" y=\"83\" width=\"32.68\" height=\"15\" rx=\"2\" fill=\"#2CA3FF\" data-dinfo=\"./special/\"/>\n<text x=\"721.79\" dx=\"4\" y=\"94.25\">log_proc1 in log.jl:172</text>\n<rect x=\"721.79\" y=\"68\" width=\"32.68\" height=\"15\" rx=\"2\" fill=\"#E1B2FF\" data-dinfo=\"./\"/>\n<text x=\"721.79\" dx=\"4\" y=\"79.25\">* in float.jl:332</text>\n<rect x=\"754.47\" y=\"83\" width=\"43.58\" height=\"15\" rx=\"2\" fill=\"#00B58B\" data-dinfo=\"./special/\"/>\n<text x=\"754.47\" dx=\"4\" y=\"94.25\">log_proc1 in log.jl:173</text>\n<rect x=\"754.47\" y=\"68\" width=\"43.58\" height=\"15\" rx=\"2\" fill=\"#6FDC91\" data-dinfo=\"./\"/>\n<text x=\"754.47\" dx=\"4\" y=\"79.25\">* in operators.jl:560</text>\n<rect x=\"754.47\" y=\"53\" width=\"43.58\" height=\"15\" rx=\"2\" fill=\"#00B58B\" data-dinfo=\"./\"/>\n<text x=\"754.47\" dx=\"4\" y=\"64.25\">* in float.jl:332</text>\n<rect x=\"798.05\" y=\"83\" width=\"83.53\" height=\"15\" rx=\"2\" fill=\"#2CA3FF\" data-dinfo=\"./special/\"/>\n<text x=\"798.05\" dx=\"4\" y=\"94.25\">log_proc1 in log.jl:178</text>\n<rect x=\"798.05\" y=\"68\" width=\"83.53\" height=\"15\" rx=\"2\" fill=\"#E1B2FF\" data-dinfo=\"./\"/>\n<text x=\"798.05\" dx=\"4\" y=\"79.25\">+ in float.jl:326</text>\n<rect x=\"928.79\" y=\"113\" width=\"3.63\" height=\"15\" rx=\"2\" fill=\"#00B58B\" data-dinfo=\"./special/\"/>\n<text x=\"928.79\" dx=\"4\" y=\"124.25\">log in log.jl:0</text>\n<rect x=\"932.42\" y=\"113\" width=\"18.16\" height=\"15\" rx=\"2\" fill=\"#2CA3FF\" data-dinfo=\"./special/\"/>\n<text x=\"932.42\" dx=\"4\" y=\"124.25\">log in log.jl:264</text>\n<rect x=\"932.42\" y=\"98\" width=\"18.16\" height=\"15\" rx=\"2\" fill=\"#E1B2FF\" data-dinfo=\"./\"/>\n<text x=\"932.42\" dx=\"4\" y=\"109.25\">reinterpret in essentials.jl:422</text>\n</g></g>\n<script><![CDATA[\n// Snap.svg 0.3.0\n// \n// Copyright (c) 2013 Adobe Systems Incorporated. All rights reserved.\n// \n// Licensed under the Apache License, Version 2.0 (the \"License\");\n// you may not use this file except in compliance with the License.\n// You may obtain a copy of the License at\n// \n// http://www.apache.org/licenses/LICENSE-2.0\n// \n// Unless required by applicable law or agreed to in writing, software\n// distributed under the License is distributed on an \"AS IS\" BASIS,\n// WITHOUT WARRANTIES OR CONDITIONS OF ANY KIND, either express or implied.\n// See the License for the specific language governing permissions and\n// limitations under the License.\n// \n// build: 2014-06-03\n!function(a){var b,c,d=\"0.4.2\",e=\"hasOwnProperty\",f=/[\\.\\/]/,g=/\\s*,\\s*/,h=\"*\",i=function(a,b){return a-b},j={n:{}},k=function(){for(var a=0,b=this.length;b>a;a++)if(\"undefined\"!=typeof this[a])return this[a]},l=function(){for(var a=this.length;--a;)if(\"undefined\"!=typeof this[a])return this[a]},m=function(a,d){a=String(a);var e,f=c,g=Array.prototype.slice.call(arguments,2),h=m.listeners(a),j=0,n=[],o={},p=[],q=b;p.firstDefined=k,p.lastDefined=l,b=a,c=0;for(var r=0,s=h.length;s>r;r++)\"zIndex\"in h[r]&&(n.push(h[r].zIndex),h[r].zIndex<0&&(o[h[r].zIndex]=h[r]));for(n.sort(i);n[j]<0;)if(e=o[n[j++] ],p.push(e.apply(d,g)),c)return c=f,p;for(r=0;s>r;r++)if(e=h[r],\"zIndex\"in e)if(e.zIndex==n[j]){if(p.push(e.apply(d,g)),c)break;do if(j++,e=o[n[j] ],e&&p.push(e.apply(d,g)),c)break;while(e)}else o[e.zIndex]=e;else if(p.push(e.apply(d,g)),c)break;return c=f,b=q,p};m._events=j,m.listeners=function(a){var b,c,d,e,g,i,k,l,m=a.split(f),n=j,o=[n],p=[];for(e=0,g=m.length;g>e;e++){for(l=[],i=0,k=o.length;k>i;i++)for(n=o[i].n,c=[n[m[e] ],n[h] ],d=2;d--;)b=c[d],b&&(l.push(b),p=p.concat(b.f||[]));o=l}return p},m.on=function(a,b){if(a=String(a),\"function\"!=typeof b)return function(){};for(var c=a.split(g),d=0,e=c.length;e>d;d++)!function(a){for(var c,d=a.split(f),e=j,g=0,h=d.length;h>g;g++)e=e.n,e=e.hasOwnProperty(d[g])&&e[d[g] ]||(e[d[g] ]={n:{}});for(e.f=e.f||[],g=0,h=e.f.length;h>g;g++)if(e.f[g]==b){c=!0;break}!c&&e.f.push(b)}(c[d]);return function(a){+a==+a&&(b.zIndex=+a)}},m.f=function(a){var b=[].slice.call(arguments,1);return function(){m.apply(null,[a,null].concat(b).concat([].slice.call(arguments,0)))}},m.stop=function(){c=1},m.nt=function(a){return a?new RegExp(\"(?:\\\\.|\\\\/|^)\"+a+\"(?:\\\\.|\\\\/|$)\").test(b):b},m.nts=function(){return b.split(f)},m.off=m.unbind=function(a,b){if(!a)return void(m._events=j={n:{}});var c=a.split(g);if(c.length>1)for(var d=0,i=c.length;i>d;d++)m.off(c[d],b);else{c=a.split(f);var k,l,n,d,i,o,p,q=[j];for(d=0,i=c.length;i>d;d++)for(o=0;o<q.length;o+=n.length-2){if(n=[o,1],k=q[o].n,c[d]!=h)k[c[d] ]&&n.push(k[c[d] ]);else for(l in k)k[e](l)&&n.push(k[l]);q.splice.apply(q,n)}for(d=0,i=q.length;i>d;d++)for(k=q[d];k.n;){if(b){if(k.f){for(o=0,p=k.f.length;p>o;o++)if(k.f[o]==b){k.f.splice(o,1);break}!k.f.length&&delete k.f}for(l in k.n)if(k.n[e](l)&&k.n[l].f){var r=k.n[l].f;for(o=0,p=r.length;p>o;o++)if(r[o]==b){r.splice(o,1);break}!r.length&&delete k.n[l].f}}else{delete k.f;for(l in k.n)k.n[e](l)&&k.n[l].f&&delete k.n[l].f}k=k.n}}},m.once=function(a,b){var c=function(){return m.unbind(a,c),b.apply(this,arguments)};return m.on(a,c)},m.version=d,m.toString=function(){return\"You are running Eve \"+d},\"undefined\"!=typeof module&&module.exports?module.exports=m:\"function\"==typeof define&&define.amd?define(\"eve\",[],function(){return m}):a.eve=m}(this),function(a,b){\"function\"==typeof define&&define.amd?define('ProfileSVG/snap.svg', [\"eve\"],function(c){return b(a,c)}):b(a,a.eve)}(this,function(a,b){var c=function(b){var c={},d=a.requestAnimationFrame||a.webkitRequestAnimationFrame||a.mozRequestAnimationFrame||a.oRequestAnimationFrame||a.msRequestAnimationFrame||function(a){setTimeout(a,16)},e=Array.isArray||function(a){return a instanceof Array||\"[object Array]\"==Object.prototype.toString.call(a)},f=0,g=\"M\"+(+new Date).toString(36),h=function(){return g+(f++).toString(36)},i=Date.now||function(){return+new Date},j=function(a){var b=this;if(null==a)return b.s;var c=b.s-a;b.b+=b.dur*c,b.B+=b.dur*c,b.s=a},k=function(a){var b=this;return null==a?b.spd:void(b.spd=a)},l=function(a){var b=this;return null==a?b.dur:(b.s=b.s*a/b.dur,void(b.dur=a))},m=function(){var a=this;delete c[a.id],a.update(),b(\"mina.stop.\"+a.id,a)},n=function(){var a=this;a.pdif||(delete c[a.id],a.update(),a.pdif=a.get()-a.b)},o=function(){var a=this;a.pdif&&(a.b=a.get()-a.pdif,delete a.pdif,c[a.id]=a)},p=function(){var a,b=this;if(e(b.start)){a=[];for(var c=0,d=b.start.length;d>c;c++)a[c]=+b.start[c]+(b.end[c]-b.start[c])*b.easing(b.s)}else a=+b.start+(b.end-b.start)*b.easing(b.s);b.set(a)},q=function(){var a=0;for(var e in c)if(c.hasOwnProperty(e)){var f=c[e],g=f.get();a++,f.s=(g-f.b)/(f.dur/f.spd),f.s>=1&&(delete c[e],f.s=1,a--,function(a){setTimeout(function(){b(\"mina.finish.\"+a.id,a)})}(f)),f.update()}a&&d(q)},r=function(a,b,e,f,g,i,s){var t={id:h(),start:a,end:b,b:e,s:0,dur:f-e,spd:1,get:g,set:i,easing:s||r.linear,status:j,speed:k,duration:l,stop:m,pause:n,resume:o,update:p};c[t.id]=t;var u,v=0;for(u in c)if(c.hasOwnProperty(u)&&(v++,2==v))break;return 1==v&&d(q),t};return r.time=i,r.getById=function(a){return c[a]||null},r.linear=function(a){return a},r.easeout=function(a){return Math.pow(a,1.7)},r.easein=function(a){return Math.pow(a,.48)},r.easeinout=function(a){if(1==a)return 1;if(0==a)return 0;var b=.48-a/1.04,c=Math.sqrt(.1734+b*b),d=c-b,e=Math.pow(Math.abs(d),1/3)*(0>d?-1:1),f=-c-b,g=Math.pow(Math.abs(f),1/3)*(0>f?-1:1),h=e+g+.5;return 3*(1-h)*h*h+h*h*h},r.backin=function(a){if(1==a)return 1;var b=1.70158;return a*a*((b+1)*a-b)},r.backout=function(a){if(0==a)return 0;a-=1;var b=1.70158;return a*a*((b+1)*a+b)+1},r.elastic=function(a){return a==!!a?a:Math.pow(2,-10*a)*Math.sin(2*(a-.075)*Math.PI/.3)+1},r.bounce=function(a){var b,c=7.5625,d=2.75;return 1/d>a?b=c*a*a:2/d>a?(a-=1.5/d,b=c*a*a+.75):2.5/d>a?(a-=2.25/d,b=c*a*a+.9375):(a-=2.625/d,b=c*a*a+.984375),b},a.mina=r,r}(\"undefined\"==typeof b?function(){}:b),d=function(){function d(a,b){if(a){if(a.tagName)return y(a);if(f(a,\"array\")&&d.set)return d.set.apply(d,a);if(a instanceof u)return a;if(null==b)return a=z.doc.querySelector(a),y(a)}return a=null==a?\"100%\":a,b=null==b?\"100%\":b,new x(a,b)}function e(a,b){if(b){if(\"#text\"==a&&(a=z.doc.createTextNode(b.text||\"\")),\"string\"==typeof a&&(a=e(a)),\"string\"==typeof b)return\"xlink:\"==b.substring(0,6)?a.getAttributeNS(W,b.substring(6)):\"xml:\"==b.substring(0,4)?a.getAttributeNS(X,b.substring(4)):a.getAttribute(b);for(var c in b)if(b[A](c)){var d=B(b[c]);d?\"xlink:\"==c.substring(0,6)?a.setAttributeNS(W,c.substring(6),d):\"xml:\"==c.substring(0,4)?a.setAttributeNS(X,c.substring(4),d):a.setAttribute(c,d):a.removeAttribute(c)}}else a=z.doc.createElementNS(X,a);return a}function f(a,b){return b=B.prototype.toLowerCase.call(b),\"finite\"==b?isFinite(a):\"array\"==b&&(a instanceof Array||Array.isArray&&Array.isArray(a))?!0:\"null\"==b&&null===a||b==typeof a&&null!==a||\"object\"==b&&a===Object(a)||L.call(a).slice(8,-1).toLowerCase()==b}function h(a){if(\"function\"==typeof a||Object(a)!==a)return a;var b=new a.constructor;for(var c in a)a[A](c)&&(b[c]=h(a[c]));return b}function i(a,b){for(var c=0,d=a.length;d>c;c++)if(a[c]===b)return a.push(a.splice(c,1)[0])}function j(a,b,c){function d(){var e=Array.prototype.slice.call(arguments,0),f=e.join(\"␀\"),g=d.cache=d.cache||{},h=d.count=d.count||[];return g[A](f)?(i(h,f),c?c(g[f]):g[f]):(h.length>=1e3&&delete g[h.shift()],h.push(f),g[f]=a.apply(b,e),c?c(g[f]):g[f])}return d}function k(a,b,c,d,e,f){if(null==e){var g=a-c,h=b-d;return g||h?(180+180*E.atan2(-h,-g)/I+360)%360:0}return k(a,b,e,f)-k(c,d,e,f)}function l(a){return a%360*I/180}function m(a){return 180*a/I%360}function n(a){var b=[];return a=a.replace(/(?:^|\\s)(\\w+)\\(([^)]+)\\)/g,function(a,c,d){return d=d.split(/\\s*,\\s*|\\s+/),\"rotate\"==c&&1==d.length&&d.push(0,0),\"scale\"==c&&(d.length>2?d=d.slice(0,2):2==d.length&&d.push(0,0),1==d.length&&d.push(d[0],0,0)),b.push(\"skewX\"==c?[\"m\",1,0,E.tan(l(d[0])),1,0,0]:\"skewY\"==c?[\"m\",1,E.tan(l(d[0])),0,1,0,0]:[c.charAt(0)].concat(d)),a}),b}function o(a,b){var c=eb(a),e=new d.Matrix;if(c)for(var f=0,g=c.length;g>f;f++){var h,i,j,k,l,m=c[f],n=m.length,o=B(m[0]).toLowerCase(),p=m[0]!=o,q=p?e.invert():0;\"t\"==o&&2==n?e.translate(m[1],0):\"t\"==o&&3==n?p?(h=q.x(0,0),i=q.y(0,0),j=q.x(m[1],m[2]),k=q.y(m[1],m[2]),e.translate(j-h,k-i)):e.translate(m[1],m[2]):\"r\"==o?2==n?(l=l||b,e.rotate(m[1],l.x+l.width/2,l.y+l.height/2)):4==n&&(p?(j=q.x(m[2],m[3]),k=q.y(m[2],m[3]),e.rotate(m[1],j,k)):e.rotate(m[1],m[2],m[3])):\"s\"==o?2==n||3==n?(l=l||b,e.scale(m[1],m[n-1],l.x+l.width/2,l.y+l.height/2)):4==n?p?(j=q.x(m[2],m[3]),k=q.y(m[2],m[3]),e.scale(m[1],m[1],j,k)):e.scale(m[1],m[1],m[2],m[3]):5==n&&(p?(j=q.x(m[3],m[4]),k=q.y(m[3],m[4]),e.scale(m[1],m[2],j,k)):e.scale(m[1],m[2],m[3],m[4])):\"m\"==o&&7==n&&e.add(m[1],m[2],m[3],m[4],m[5],m[6])}return e}function p(a,b){if(null==b){var c=!0;if(b=a.node.getAttribute(\"linearGradient\"==a.type||\"radialGradient\"==a.type?\"gradientTransform\":\"pattern\"==a.type?\"patternTransform\":\"transform\"),!b)return new d.Matrix;b=n(b)}else b=d._.rgTransform.test(b)?B(b).replace(/\\.{3}|\\u2026/g,a._.transform||J):n(b),f(b,\"array\")&&(b=d.path?d.path.toString.call(b):B(b)),a._.transform=b;var e=o(b,a.getBBox(1));return c?e:void(a.matrix=e)}function q(a){var b=a.node.ownerSVGElement&&y(a.node.ownerSVGElement)||a.node.parentNode&&y(a.node.parentNode)||d.select(\"svg\")||d(0,0),c=b.select(\"defs\"),e=null==c?!1:c.node;return e||(e=w(\"defs\",b.node).node),e}function r(a){return a.node.ownerSVGElement&&y(a.node.ownerSVGElement)||d.select(\"svg\")}function s(a,b,c){function d(a){if(null==a)return J;if(a==+a)return a;e(j,{width:a});try{return j.getBBox().width}catch(b){return 0}}function f(a){if(null==a)return J;if(a==+a)return a;e(j,{height:a});try{return j.getBBox().height}catch(b){return 0}}function g(d,e){null==b?i[d]=e(a.attr(d)||0):d==b&&(i=e(null==c?a.attr(d)||0:c))}var h=r(a).node,i={},j=h.querySelector(\".svg---mgr\");switch(j||(j=e(\"rect\"),e(j,{x:-9e9,y:-9e9,width:10,height:10,\"class\":\"svg---mgr\",fill:\"none\"}),h.appendChild(j)),a.type){case\"rect\":g(\"rx\",d),g(\"ry\",f);case\"image\":g(\"width\",d),g(\"height\",f);case\"text\":g(\"x\",d),g(\"y\",f);break;case\"circle\":g(\"cx\",d),g(\"cy\",f),g(\"r\",d);break;case\"ellipse\":g(\"cx\",d),g(\"cy\",f),g(\"rx\",d),g(\"ry\",f);break;case\"line\":g(\"x1\",d),g(\"x2\",d),g(\"y1\",f),g(\"y2\",f);break;case\"marker\":g(\"refX\",d),g(\"markerWidth\",d),g(\"refY\",f),g(\"markerHeight\",f);break;case\"radialGradient\":g(\"fx\",d),g(\"fy\",f);break;case\"tspan\":g(\"dx\",d),g(\"dy\",f);break;default:g(b,d)}return h.removeChild(j),i}function t(a){f(a,\"array\")||(a=Array.prototype.slice.call(arguments,0));for(var b=0,c=0,d=this.node;this[b];)delete this[b++];for(b=0;b<a.length;b++)\"set\"==a[b].type?a[b].forEach(function(a){d.appendChild(a.node)}):d.appendChild(a[b].node);var e=d.childNodes;for(b=0;b<e.length;b++)this[c++]=y(e[b]);return this}function u(a){if(a.snap in Y)return Y[a.snap];var b,c=this.id=V();try{b=a.ownerSVGElement}catch(d){}if(this.node=a,b&&(this.paper=new x(b)),this.type=a.tagName,this.anims={},this._={transform:[]},a.snap=c,Y[c]=this,\"g\"==this.type&&(this.add=t),this.type in{g:1,mask:1,pattern:1})for(var e in x.prototype)x.prototype[A](e)&&(this[e]=x.prototype[e])}function v(a){this.node=a}function w(a,b){var c=e(a);b.appendChild(c);var d=y(c);return d}function x(a,b){var c,d,f,g=x.prototype;if(a&&\"svg\"==a.tagName){if(a.snap in Y)return Y[a.snap];var h=a.ownerDocument;c=new u(a),d=a.getElementsByTagName(\"desc\")[0],f=a.getElementsByTagName(\"defs\")[0],d||(d=e(\"desc\"),d.appendChild(h.createTextNode(\"Created with Snap\")),c.node.appendChild(d)),f||(f=e(\"defs\"),c.node.appendChild(f)),c.defs=f;for(var i in g)g[A](i)&&(c[i]=g[i]);c.paper=c.root=c}else c=w(\"svg\",z.doc.body),e(c.node,{height:b,version:1.1,width:a,xmlns:X});return c}function y(a){return a?a instanceof u||a instanceof v?a:a.tagName&&\"svg\"==a.tagName.toLowerCase()?new x(a):a.tagName&&\"object\"==a.tagName.toLowerCase()&&\"image/svg+xml\"==a.type?new x(a.contentDocument.getElementsByTagName(\"svg\")[0]):new u(a):a}d.version=\"0.3.0\",d.toString=function(){return\"Snap v\"+this.version},d._={};var z={win:a,doc:a.document};d._.glob=z;var A=\"hasOwnProperty\",B=String,C=parseFloat,D=parseInt,E=Math,F=E.max,G=E.min,H=E.abs,I=(E.pow,E.PI),J=(E.round,\"\"),K=\" \",L=Object.prototype.toString,M=/^\\s*((#[a-f\\d]{6})|(#[a-f\\d]{3})|rgba?\\(\\s*([\\d\\.]+%?\\s*,\\s*[\\d\\.]+%?\\s*,\\s*[\\d\\.]+%?(?:\\s*,\\s*[\\d\\.]+%?)?)\\s*\\)|hsba?\\(\\s*([\\d\\.]+(?:deg|\\xb0|%)?\\s*,\\s*[\\d\\.]+%?\\s*,\\s*[\\d\\.]+(?:%?\\s*,\\s*[\\d\\.]+)?%?)\\s*\\)|hsla?\\(\\s*([\\d\\.]+(?:deg|\\xb0|%)?\\s*,\\s*[\\d\\.]+%?\\s*,\\s*[\\d\\.]+(?:%?\\s*,\\s*[\\d\\.]+)?%?)\\s*\\))\\s*$/i,N=\"\t\\n\\x0b\\f\\r   ᠎             　\\u2028\\u2029\",O=(d._.separator=new RegExp(\"[,\"+N+\"]+\"),new RegExp(\"[\"+N+\"]\",\"g\"),new RegExp(\"[\"+N+\"]*,[\"+N+\"]*\")),P={hs:1,rg:1},Q=new RegExp(\"([a-z])[\"+N+\",]*((-?\\\\d*\\\\.?\\\\d*(?:e[\\\\-+]?\\\\d+)?[\"+N+\"]*,?[\"+N+\"]*)+)\",\"ig\"),R=new RegExp(\"([rstm])[\"+N+\",]*((-?\\\\d*\\\\.?\\\\d*(?:e[\\\\-+]?\\\\d+)?[\"+N+\"]*,?[\"+N+\"]*)+)\",\"ig\"),S=new RegExp(\"(-?\\\\d*\\\\.?\\\\d*(?:e[\\\\-+]?\\\\d+)?)[\"+N+\"]*,?[\"+N+\"]*\",\"ig\"),T=0,U=\"S\"+(+new Date).toString(36),V=function(){return U+(T++).toString(36)},W=\"http://www.w3.org/1999/xlink\",X=\"http://www.w3.org/2000/svg\",Y={},Z=d.url=function(a){return\"url('#\"+a+\"')\"};d._.$=e,d._.id=V,d.format=function(){var a=/\\{([^\\}]+)\\}/g,b=/(?:(?:^|\\.)(.+?)(?=\\[|\\.|$|\\()|\\[('|\")(.+?)\\2\\])(\\(\\))?/g,c=function(a,c,d){var e=d;return c.replace(b,function(a,b,c,d,f){b=b||d,e&&(b in e&&(e=e[b]),\"function\"==typeof e&&f&&(e=e()))}),e=(null==e||e==d?a:e)+\"\"};return function(b,d){return B(b).replace(a,function(a,b){return c(a,b,d)})}}(),d._.clone=h,d._.cacher=j,d.rad=l,d.deg=m,d.angle=k,d.is=f,d.snapTo=function(a,b,c){if(c=f(c,\"finite\")?c:10,f(a,\"array\")){for(var d=a.length;d--;)if(H(a[d]-b)<=c)return a[d]}else{a=+a;var e=b%a;if(c>e)return b-e;if(e>a-c)return b-e+a}return b},d.getRGB=j(function(a){if(!a||(a=B(a)).indexOf(\"-\")+1)return{r:-1,g:-1,b:-1,hex:\"none\",error:1,toString:bb};if(\"none\"==a)return{r:-1,g:-1,b:-1,hex:\"none\",toString:bb};if(!(P[A](a.toLowerCase().substring(0,2))||\"#\"==a.charAt())&&(a=$(a)),!a)return{r:-1,g:-1,b:-1,hex:\"none\",error:1,toString:bb};var b,c,e,g,h,i,j=a.match(M);return j?(j[2]&&(e=D(j[2].substring(5),16),c=D(j[2].substring(3,5),16),b=D(j[2].substring(1,3),16)),j[3]&&(e=D((h=j[3].charAt(3))+h,16),c=D((h=j[3].charAt(2))+h,16),b=D((h=j[3].charAt(1))+h,16)),j[4]&&(i=j[4].split(O),b=C(i[0]),\"%\"==i[0].slice(-1)&&(b*=2.55),c=C(i[1]),\"%\"==i[1].slice(-1)&&(c*=2.55),e=C(i[2]),\"%\"==i[2].slice(-1)&&(e*=2.55),\"rgba\"==j[1].toLowerCase().slice(0,4)&&(g=C(i[3])),i[3]&&\"%\"==i[3].slice(-1)&&(g/=100)),j[5]?(i=j[5].split(O),b=C(i[0]),\"%\"==i[0].slice(-1)&&(b/=100),c=C(i[1]),\"%\"==i[1].slice(-1)&&(c/=100),e=C(i[2]),\"%\"==i[2].slice(-1)&&(e/=100),(\"deg\"==i[0].slice(-3)||\"°\"==i[0].slice(-1))&&(b/=360),\"hsba\"==j[1].toLowerCase().slice(0,4)&&(g=C(i[3])),i[3]&&\"%\"==i[3].slice(-1)&&(g/=100),d.hsb2rgb(b,c,e,g)):j[6]?(i=j[6].split(O),b=C(i[0]),\"%\"==i[0].slice(-1)&&(b/=100),c=C(i[1]),\"%\"==i[1].slice(-1)&&(c/=100),e=C(i[2]),\"%\"==i[2].slice(-1)&&(e/=100),(\"deg\"==i[0].slice(-3)||\"°\"==i[0].slice(-1))&&(b/=360),\"hsla\"==j[1].toLowerCase().slice(0,4)&&(g=C(i[3])),i[3]&&\"%\"==i[3].slice(-1)&&(g/=100),d.hsl2rgb(b,c,e,g)):(b=G(E.round(b),255),c=G(E.round(c),255),e=G(E.round(e),255),g=G(F(g,0),1),j={r:b,g:c,b:e,toString:bb},j.hex=\"#\"+(16777216|e|c<<8|b<<16).toString(16).slice(1),j.opacity=f(g,\"finite\")?g:1,j)):{r:-1,g:-1,b:-1,hex:\"none\",error:1,toString:bb}},d),d.hsb=j(function(a,b,c){return d.hsb2rgb(a,b,c).hex}),d.hsl=j(function(a,b,c){return d.hsl2rgb(a,b,c).hex}),d.rgb=j(function(a,b,c,d){if(f(d,\"finite\")){var e=E.round;return\"rgba(\"+[e(a),e(b),e(c),+d.toFixed(2)]+\")\"}return\"#\"+(16777216|c|b<<8|a<<16).toString(16).slice(1)});var $=function(a){var b=z.doc.getElementsByTagName(\"head\")[0]||z.doc.getElementsByTagName(\"svg\")[0],c=\"rgb(255, 0, 0)\";return($=j(function(a){if(\"red\"==a.toLowerCase())return c;b.style.color=c,b.style.color=a;var d=z.doc.defaultView.getComputedStyle(b,J).getPropertyValue(\"color\");return d==c?null:d}))(a)},_=function(){return\"hsb(\"+[this.h,this.s,this.b]+\")\"},ab=function(){return\"hsl(\"+[this.h,this.s,this.l]+\")\"},bb=function(){return 1==this.opacity||null==this.opacity?this.hex:\"rgba(\"+[this.r,this.g,this.b,this.opacity]+\")\"},cb=function(a,b,c){if(null==b&&f(a,\"object\")&&\"r\"in a&&\"g\"in a&&\"b\"in a&&(c=a.b,b=a.g,a=a.r),null==b&&f(a,string)){var e=d.getRGB(a);a=e.r,b=e.g,c=e.b}return(a>1||b>1||c>1)&&(a/=255,b/=255,c/=255),[a,b,c]},db=function(a,b,c,e){a=E.round(255*a),b=E.round(255*b),c=E.round(255*c);var g={r:a,g:b,b:c,opacity:f(e,\"finite\")?e:1,hex:d.rgb(a,b,c),toString:bb};return f(e,\"finite\")&&(g.opacity=e),g};d.color=function(a){var b;return f(a,\"object\")&&\"h\"in a&&\"s\"in a&&\"b\"in a?(b=d.hsb2rgb(a),a.r=b.r,a.g=b.g,a.b=b.b,a.opacity=1,a.hex=b.hex):f(a,\"object\")&&\"h\"in a&&\"s\"in a&&\"l\"in a?(b=d.hsl2rgb(a),a.r=b.r,a.g=b.g,a.b=b.b,a.opacity=1,a.hex=b.hex):(f(a,\"string\")&&(a=d.getRGB(a)),f(a,\"object\")&&\"r\"in a&&\"g\"in a&&\"b\"in a&&!(\"error\"in a)?(b=d.rgb2hsl(a),a.h=b.h,a.s=b.s,a.l=b.l,b=d.rgb2hsb(a),a.v=b.b):(a={hex:\"none\"},a.r=a.g=a.b=a.h=a.s=a.v=a.l=-1,a.error=1)),a.toString=bb,a},d.hsb2rgb=function(a,b,c,d){f(a,\"object\")&&\"h\"in a&&\"s\"in a&&\"b\"in a&&(c=a.b,b=a.s,a=a.h,d=a.o),a*=360;var e,g,h,i,j;return a=a%360/60,j=c*b,i=j*(1-H(a%2-1)),e=g=h=c-j,a=~~a,e+=[j,i,0,0,i,j][a],g+=[i,j,j,i,0,0][a],h+=[0,0,i,j,j,i][a],db(e,g,h,d)},d.hsl2rgb=function(a,b,c,d){f(a,\"object\")&&\"h\"in a&&\"s\"in a&&\"l\"in a&&(c=a.l,b=a.s,a=a.h),(a>1||b>1||c>1)&&(a/=360,b/=100,c/=100),a*=360;var e,g,h,i,j;return a=a%360/60,j=2*b*(.5>c?c:1-c),i=j*(1-H(a%2-1)),e=g=h=c-j/2,a=~~a,e+=[j,i,0,0,i,j][a],g+=[i,j,j,i,0,0][a],h+=[0,0,i,j,j,i][a],db(e,g,h,d)},d.rgb2hsb=function(a,b,c){c=cb(a,b,c),a=c[0],b=c[1],c=c[2];var d,e,f,g;return f=F(a,b,c),g=f-G(a,b,c),d=0==g?null:f==a?(b-c)/g:f==b?(c-a)/g+2:(a-b)/g+4,d=(d+360)%6*60/360,e=0==g?0:g/f,{h:d,s:e,b:f,toString:_}},d.rgb2hsl=function(a,b,c){c=cb(a,b,c),a=c[0],b=c[1],c=c[2];var d,e,f,g,h,i;return g=F(a,b,c),h=G(a,b,c),i=g-h,d=0==i?null:g==a?(b-c)/i:g==b?(c-a)/i+2:(a-b)/i+4,d=(d+360)%6*60/360,f=(g+h)/2,e=0==i?0:.5>f?i/(2*f):i/(2-2*f),{h:d,s:e,l:f,toString:ab}},d.parsePathString=function(a){if(!a)return null;var b=d.path(a);if(b.arr)return d.path.clone(b.arr);var c={a:7,c:6,o:2,h:1,l:2,m:2,r:4,q:4,s:4,t:2,v:1,u:3,z:0},e=[];return f(a,\"array\")&&f(a[0],\"array\")&&(e=d.path.clone(a)),e.length||B(a).replace(Q,function(a,b,d){var f=[],g=b.toLowerCase();if(d.replace(S,function(a,b){b&&f.push(+b)}),\"m\"==g&&f.length>2&&(e.push([b].concat(f.splice(0,2))),g=\"l\",b=\"m\"==b?\"l\":\"L\"),\"o\"==g&&1==f.length&&e.push([b,f[0] ]),\"r\"==g)e.push([b].concat(f));else for(;f.length>=c[g]&&(e.push([b].concat(f.splice(0,c[g]))),c[g]););}),e.toString=d.path.toString,b.arr=d.path.clone(e),e};var eb=d.parseTransformString=function(a){if(!a)return null;var b=[];return f(a,\"array\")&&f(a[0],\"array\")&&(b=d.path.clone(a)),b.length||B(a).replace(R,function(a,c,d){{var e=[];c.toLowerCase()}d.replace(S,function(a,b){b&&e.push(+b)}),b.push([c].concat(e))}),b.toString=d.path.toString,b};d._.svgTransform2string=n,d._.rgTransform=new RegExp(\"^[a-z][\"+N+\"]*-?\\\\.?\\\\d\",\"i\"),d._.transform2matrix=o,d._unit2px=s;z.doc.contains||z.doc.compareDocumentPosition?function(a,b){var c=9==a.nodeType?a.documentElement:a,d=b&&b.parentNode;return a==d||!(!d||1!=d.nodeType||!(c.contains?c.contains(d):a.compareDocumentPosition&&16&a.compareDocumentPosition(d)))}:function(a,b){if(b)for(;b;)if(b=b.parentNode,b==a)return!0;return!1};d._.getSomeDefs=q,d._.getSomeSVG=r,d.select=function(a){return y(z.doc.querySelector(a))},d.selectAll=function(a){for(var b=z.doc.querySelectorAll(a),c=(d.set||Array)(),e=0;e<b.length;e++)c.push(y(b[e]));return c},setInterval(function(){for(var a in Y)if(Y[A](a)){var b=Y[a],c=b.node;(\"svg\"!=b.type&&!c.ownerSVGElement||\"svg\"==b.type&&(!c.parentNode||\"ownerSVGElement\"in c.parentNode&&!c.ownerSVGElement))&&delete Y[a]}},1e4),function(a){function g(a){function b(a,b){var c=e(a.node,b);c=c&&c.match(g),c=c&&c[2],c&&\"#\"==c.charAt()&&(c=c.substring(1),c&&(i[c]=(i[c]||[]).concat(function(c){var d={};d[b]=Z(c),e(a.node,d)})))}function c(a){var b=e(a.node,\"xlink:href\");b&&\"#\"==b.charAt()&&(b=b.substring(1),b&&(i[b]=(i[b]||[]).concat(function(b){a.attr(\"xlink:href\",\"#\"+b)})))}for(var d,f=a.selectAll(\"*\"),g=/^\\s*url\\((\"|'|)(.*)\\1\\)\\s*$/,h=[],i={},j=0,k=f.length;k>j;j++){d=f[j],b(d,\"fill\"),b(d,\"stroke\"),b(d,\"filter\"),b(d,\"mask\"),b(d,\"clip-path\"),c(d);var l=e(d.node,\"id\");l&&(e(d.node,{id:d.id}),h.push({old:l,id:d.id}))}for(j=0,k=h.length;k>j;j++){var m=i[h[j].old];if(m)for(var n=0,o=m.length;o>n;n++)m[n](h[j].id)}}function h(a,b,c){return function(d){var e=d.slice(a,b);return 1==e.length&&(e=e[0]),c?c(e):e}}function i(a){return function(){var b=a?\"<\"+this.type:\"\",c=this.node.attributes,d=this.node.childNodes;if(a)for(var e=0,f=c.length;f>e;e++)b+=\" \"+c[e].name+'=\"'+c[e].value.replace(/\"/g,'\\\\\"')+'\"';if(d.length){for(a&&(b+=\">\"),e=0,f=d.length;f>e;e++)3==d[e].nodeType?b+=d[e].nodeValue:1==d[e].nodeType&&(b+=y(d[e]).toString());a&&(b+=\"</\"+this.type+\">\")}else a&&(b+=\"/>\");return b}}a.attr=function(a,c){{var d=this;d.node}if(!a)return d;if(f(a,\"string\")){if(!(arguments.length>1))return b(\"snap.util.getattr.\"+a,d).firstDefined();var e={};e[a]=c,a=e}for(var g in a)a[A](g)&&b(\"snap.util.attr.\"+g,d,a[g]);return d},a.getBBox=function(a){if(!d.Matrix||!d.path)return this.node.getBBox();var b=this,c=new d.Matrix;if(b.removed)return d._.box();for(;\"use\"==b.type;)if(a||(c=c.add(b.transform().localMatrix.translate(b.attr(\"x\")||0,b.attr(\"y\")||0))),b.original)b=b.original;else{var e=b.attr(\"xlink:href\");b=b.original=b.node.ownerDocument.getElementById(e.substring(e.indexOf(\"#\")+1))}var f=b._,g=d.path.get[b.type]||d.path.get.deflt;try{return a?(f.bboxwt=g?d.path.getBBox(b.realPath=g(b)):d._.box(b.node.getBBox()),d._.box(f.bboxwt)):(b.realPath=g(b),b.matrix=b.transform().localMatrix,f.bbox=d.path.getBBox(d.path.map(b.realPath,c.add(b.matrix))),d._.box(f.bbox))}catch(h){return d._.box()}};var j=function(){return this.string};a.transform=function(a){var b=this._;if(null==a){for(var c,f=this,g=new d.Matrix(this.node.getCTM()),h=p(this),i=[h],k=new d.Matrix,l=h.toTransformString(),m=B(h)==B(this.matrix)?B(b.transform):l;\"svg\"!=f.type&&(f=f.parent());)i.push(p(f));for(c=i.length;c--;)k.add(i[c]);return{string:m,globalMatrix:g,totalMatrix:k,localMatrix:h,diffMatrix:g.clone().add(h.invert()),global:g.toTransformString(),total:k.toTransformString(),local:l,toString:j}}return a instanceof d.Matrix?this.matrix=a:p(this,a),this.node&&(\"linearGradient\"==this.type||\"radialGradient\"==this.type?e(this.node,{gradientTransform:this.matrix}):\"pattern\"==this.type?e(this.node,{patternTransform:this.matrix}):e(this.node,{transform:this.matrix})),this},a.parent=function(){return y(this.node.parentNode)},a.append=a.add=function(a){if(a){if(\"set\"==a.type){var b=this;return a.forEach(function(a){b.add(a)}),this}a=y(a),this.node.appendChild(a.node),a.paper=this.paper}return this},a.appendTo=function(a){return a&&(a=y(a),a.append(this)),this},a.prepend=function(a){if(a){if(\"set\"==a.type){var b,c=this;return a.forEach(function(a){b?b.after(a):c.prepend(a),b=a}),this}a=y(a);var d=a.parent();this.node.insertBefore(a.node,this.node.firstChild),this.add&&this.add(),a.paper=this.paper,this.parent()&&this.parent().add(),d&&d.add()}return this},a.prependTo=function(a){return a=y(a),a.prepend(this),this},a.before=function(a){if(\"set\"==a.type){var b=this;return a.forEach(function(a){var c=a.parent();b.node.parentNode.insertBefore(a.node,b.node),c&&c.add()}),this.parent().add(),this}a=y(a);var c=a.parent();return this.node.parentNode.insertBefore(a.node,this.node),this.parent()&&this.parent().add(),c&&c.add(),a.paper=this.paper,this},a.after=function(a){a=y(a);var b=a.parent();return this.node.nextSibling?this.node.parentNode.insertBefore(a.node,this.node.nextSibling):this.node.parentNode.appendChild(a.node),this.parent()&&this.parent().add(),b&&b.add(),a.paper=this.paper,this},a.insertBefore=function(a){a=y(a);var b=this.parent();return a.node.parentNode.insertBefore(this.node,a.node),this.paper=a.paper,b&&b.add(),a.parent()&&a.parent().add(),this},a.insertAfter=function(a){a=y(a);var b=this.parent();return a.node.parentNode.insertBefore(this.node,a.node.nextSibling),this.paper=a.paper,b&&b.add(),a.parent()&&a.parent().add(),this},a.remove=function(){var a=this.parent();return this.node.parentNode&&this.node.parentNode.removeChild(this.node),delete this.paper,this.removed=!0,a&&a.add(),this},a.select=function(a){return y(this.node.querySelector(a))},a.selectAll=function(a){for(var b=this.node.querySelectorAll(a),c=(d.set||Array)(),e=0;e<b.length;e++)c.push(y(b[e]));return c},a.asPX=function(a,b){return null==b&&(b=this.attr(a)),+s(this,a,b)},a.use=function(){var a,b=this.node.id;return b||(b=this.id,e(this.node,{id:b})),a=\"linearGradient\"==this.type||\"radialGradient\"==this.type||\"pattern\"==this.type?w(this.type,this.node.parentNode):w(\"use\",this.node.parentNode),e(a.node,{\"xlink:href\":\"#\"+b}),a.original=this,a};var k=/\\S+/g;a.addClass=function(a){var b,c,d,e,f=(a||\"\").match(k)||[],g=this.node,h=g.className.baseVal,i=h.match(k)||[];if(f.length){for(b=0;d=f[b++];)c=i.indexOf(d),~c||i.push(d);e=i.join(\" \"),h!=e&&(g.className.baseVal=e)}return this},a.removeClass=function(a){var b,c,d,e,f=(a||\"\").match(k)||[],g=this.node,h=g.className.baseVal,i=h.match(k)||[];if(i.length){for(b=0;d=f[b++];)c=i.indexOf(d),~c&&i.splice(c,1);e=i.join(\" \"),h!=e&&(g.className.baseVal=e)}return this},a.hasClass=function(a){var b=this.node,c=b.className.baseVal,d=c.match(k)||[];return!!~d.indexOf(a)},a.toggleClass=function(a,b){if(null!=b)return b?this.addClass(a):this.removeClass(a);var c,d,e,f,g=(a||\"\").match(k)||[],h=this.node,i=h.className.baseVal,j=i.match(k)||[];for(c=0;e=g[c++];)d=j.indexOf(e),~d?j.splice(d,1):j.push(e);return f=j.join(\" \"),i!=f&&(h.className.baseVal=f),this},a.clone=function(){var a=y(this.node.cloneNode(!0));return e(a.node,\"id\")&&e(a.node,{id:a.id}),g(a),a.insertAfter(this),a},a.toDefs=function(){var a=q(this);return a.appendChild(this.node),this},a.pattern=a.toPattern=function(a,b,c,d){var g=w(\"pattern\",q(this));return null==a&&(a=this.getBBox()),f(a,\"object\")&&\"x\"in a&&(b=a.y,c=a.width,d=a.height,a=a.x),e(g.node,{x:a,y:b,width:c,height:d,patternUnits:\"userSpaceOnUse\",id:g.id,viewBox:[a,b,c,d].join(\" \")}),g.node.appendChild(this.node),g},a.marker=function(a,b,c,d,g,h){var i=w(\"marker\",q(this));return null==a&&(a=this.getBBox()),f(a,\"object\")&&\"x\"in a&&(b=a.y,c=a.width,d=a.height,g=a.refX||a.cx,h=a.refY||a.cy,a=a.x),e(i.node,{viewBox:[a,b,c,d].join(K),markerWidth:c,markerHeight:d,orient:\"auto\",refX:g||0,refY:h||0,id:i.id}),i.node.appendChild(this.node),i};var l=function(a,b,d,e){\"function\"!=typeof d||d.length||(e=d,d=c.linear),this.attr=a,this.dur=b,d&&(this.easing=d),e&&(this.callback=e)};d._.Animation=l,d.animation=function(a,b,c,d){return new l(a,b,c,d)},a.inAnim=function(){var a=this,b=[];for(var c in a.anims)a.anims[A](c)&&!function(a){b.push({anim:new l(a._attrs,a.dur,a.easing,a._callback),mina:a,curStatus:a.status(),status:function(b){return a.status(b)},stop:function(){a.stop()}})}(a.anims[c]);return b},d.animate=function(a,d,e,f,g,h){\"function\"!=typeof g||g.length||(h=g,g=c.linear);var i=c.time(),j=c(a,d,i,i+f,c.time,e,g);return h&&b.once(\"mina.finish.\"+j.id,h),j},a.stop=function(){for(var a=this.inAnim(),b=0,c=a.length;c>b;b++)a[b].stop();return this},a.animate=function(a,d,e,g){\"function\"!=typeof e||e.length||(g=e,e=c.linear),a instanceof l&&(g=a.callback,e=a.easing,d=e.dur,a=a.attr);var i,j,k,m,n=[],o=[],p={},q=this;for(var r in a)if(a[A](r)){q.equal?(m=q.equal(r,B(a[r])),i=m.from,j=m.to,k=m.f):(i=+q.attr(r),j=+a[r]);var s=f(i,\"array\")?i.length:1;p[r]=h(n.length,n.length+s,k),n=n.concat(i),o=o.concat(j)}var t=c.time(),u=c(n,o,t,t+d,c.time,function(a){var b={};for(var c in p)p[A](c)&&(b[c]=p[c](a));q.attr(b)},e);return q.anims[u.id]=u,u._attrs=a,u._callback=g,b(\"snap.animcreated.\"+q.id,u),b.once(\"mina.finish.\"+u.id,function(){delete q.anims[u.id],g&&g.call(q)}),b.once(\"mina.stop.\"+u.id,function(){delete q.anims[u.id]}),q};var m={};a.data=function(a,c){var e=m[this.id]=m[this.id]||{};if(0==arguments.length)return b(\"snap.data.get.\"+this.id,this,e,null),e;if(1==arguments.length){if(d.is(a,\"object\")){for(var f in a)a[A](f)&&this.data(f,a[f]);return this}return b(\"snap.data.get.\"+this.id,this,e[a],a),e[a]}return e[a]=c,b(\"snap.data.set.\"+this.id,this,c,a),this},a.removeData=function(a){return null==a?m[this.id]={}:m[this.id]&&delete m[this.id][a],this},a.outerSVG=a.toString=i(1),a.innerSVG=i()}(u.prototype),d.parse=function(a){var b=z.doc.createDocumentFragment(),c=!0,d=z.doc.createElement(\"div\");if(a=B(a),a.match(/^\\s*<\\s*svg(?:\\s|>)/)||(a=\"<svg>\"+a+\"</svg>\",c=!1),d.innerHTML=a,a=d.getElementsByTagName(\"svg\")[0])if(c)b=a;else for(;a.firstChild;)b.appendChild(a.firstChild);return d.innerHTML=J,new v(b)},v.prototype.select=u.prototype.select,v.prototype.selectAll=u.prototype.selectAll,d.fragment=function(){for(var a=Array.prototype.slice.call(arguments,0),b=z.doc.createDocumentFragment(),c=0,e=a.length;e>c;c++){var f=a[c];f.node&&f.node.nodeType&&b.appendChild(f.node),f.nodeType&&b.appendChild(f),\"string\"==typeof f&&b.appendChild(d.parse(f).node)}return new v(b)},d._.make=w,d._.wrap=y,x.prototype.el=function(a,b){var c=w(a,this.node);return b&&c.attr(b),c},b.on(\"snap.util.getattr\",function(){var a=b.nt();a=a.substring(a.lastIndexOf(\".\")+1);var c=a.replace(/[A-Z]/g,function(a){return\"-\"+a.toLowerCase()});return fb[A](c)?this.node.ownerDocument.defaultView.getComputedStyle(this.node,null).getPropertyValue(c):e(this.node,a)});var fb={\"alignment-baseline\":0,\"baseline-shift\":0,clip:0,\"clip-path\":0,\"clip-rule\":0,color:0,\"color-interpolation\":0,\"color-interpolation-filters\":0,\"color-profile\":0,\"color-rendering\":0,cursor:0,direction:0,display:0,\"dominant-baseline\":0,\"enable-background\":0,fill:0,\"fill-opacity\":0,\"fill-rule\":0,filter:0,\"flood-color\":0,\"flood-opacity\":0,font:0,\"font-family\":0,\"font-size\":0,\"font-size-adjust\":0,\"font-stretch\":0,\"font-style\":0,\"font-variant\":0,\"font-weight\":0,\"glyph-orientation-horizontal\":0,\"glyph-orientation-vertical\":0,\"image-rendering\":0,kerning:0,\"letter-spacing\":0,\"lighting-color\":0,marker:0,\"marker-end\":0,\"marker-mid\":0,\"marker-start\":0,mask:0,opacity:0,overflow:0,\"pointer-events\":0,\"shape-rendering\":0,\"stop-color\":0,\"stop-opacity\":0,stroke:0,\"stroke-dasharray\":0,\"stroke-dashoffset\":0,\"stroke-linecap\":0,\"stroke-linejoin\":0,\"stroke-miterlimit\":0,\"stroke-opacity\":0,\"stroke-width\":0,\"text-anchor\":0,\"text-decoration\":0,\"text-rendering\":0,\"unicode-bidi\":0,visibility:0,\"word-spacing\":0,\"writing-mode\":0};b.on(\"snap.util.attr\",function(a){var c=b.nt(),d={};c=c.substring(c.lastIndexOf(\".\")+1),d[c]=a;var f=c.replace(/-(\\w)/gi,function(a,b){return b.toUpperCase()}),g=c.replace(/[A-Z]/g,function(a){return\"-\"+a.toLowerCase()});fb[A](g)?this.node.style[f]=null==a?J:a:e(this.node,d)}),function(){}(x.prototype),d.ajax=function(a,c,d,e){var g=new XMLHttpRequest,h=V();if(g){if(f(c,\"function\"))e=d,d=c,c=null;else if(f(c,\"object\")){var i=[];for(var j in c)c.hasOwnProperty(j)&&i.push(encodeURIComponent(j)+\"=\"+encodeURIComponent(c[j]));c=i.join(\"&\")}return g.open(c?\"POST\":\"GET\",a,!0),c&&(g.setRequestHeader(\"X-Requested-With\",\"XMLHttpRequest\"),g.setRequestHeader(\"Content-type\",\"application/x-www-form-urlencoded\")),d&&(b.once(\"snap.ajax.\"+h+\".0\",d),b.once(\"snap.ajax.\"+h+\".200\",d),b.once(\"snap.ajax.\"+h+\".304\",d)),g.onreadystatechange=function(){4==g.readyState&&b(\"snap.ajax.\"+h+\".\"+g.status,e,g)},4==g.readyState?g:(g.send(c),g)}},d.load=function(a,b,c){d.ajax(a,function(a){var e=d.parse(a.responseText);c?b.call(c,e):b(e)})};var gb=function(a){var b=a.getBoundingClientRect(),c=a.ownerDocument,d=c.body,e=c.documentElement,f=e.clientTop||d.clientTop||0,h=e.clientLeft||d.clientLeft||0,i=b.top+(g.win.pageYOffset||e.scrollTop||d.scrollTop)-f,j=b.left+(g.win.pageXOffset||e.scrollLeft||d.scrollLeft)-h;return{y:i,x:j}};return d.getElementByPoint=function(a,b){var c=this,d=(c.canvas,z.doc.elementFromPoint(a,b));if(z.win.opera&&\"svg\"==d.tagName){var e=gb(d),f=d.createSVGRect();f.x=a-e.x,f.y=b-e.y,f.width=f.height=1;var g=d.getIntersectionList(f,null);g.length&&(d=g[g.length-1])}return d?y(d):null},d.plugin=function(a){a(d,u,x,z,v)},z.win.Snap=d,d}();return d.plugin(function(a){function b(a,b,d,e,f,g){return null==b&&\"[object SVGMatrix]\"==c.call(a)?(this.a=a.a,this.b=a.b,this.c=a.c,this.d=a.d,this.e=a.e,void(this.f=a.f)):void(null!=a?(this.a=+a,this.b=+b,this.c=+d,this.d=+e,this.e=+f,this.f=+g):(this.a=1,this.b=0,this.c=0,this.d=1,this.e=0,this.f=0))}var c=Object.prototype.toString,d=String,e=Math,f=\"\";!function(c){function g(a){return a[0]*a[0]+a[1]*a[1]\n}function h(a){var b=e.sqrt(g(a));a[0]&&(a[0]/=b),a[1]&&(a[1]/=b)}c.add=function(a,c,d,e,f,g){var h,i,j,k,l=[[],[],[] ],m=[[this.a,this.c,this.e],[this.b,this.d,this.f],[0,0,1] ],n=[[a,d,f],[c,e,g],[0,0,1] ];for(a&&a instanceof b&&(n=[[a.a,a.c,a.e],[a.b,a.d,a.f],[0,0,1] ]),h=0;3>h;h++)for(i=0;3>i;i++){for(k=0,j=0;3>j;j++)k+=m[h][j]*n[j][i];l[h][i]=k}return this.a=l[0][0],this.b=l[1][0],this.c=l[0][1],this.d=l[1][1],this.e=l[0][2],this.f=l[1][2],this},c.invert=function(){var a=this,c=a.a*a.d-a.b*a.c;return new b(a.d/c,-a.b/c,-a.c/c,a.a/c,(a.c*a.f-a.d*a.e)/c,(a.b*a.e-a.a*a.f)/c)},c.clone=function(){return new b(this.a,this.b,this.c,this.d,this.e,this.f)},c.translate=function(a,b){return this.add(1,0,0,1,a,b)},c.scale=function(a,b,c,d){return null==b&&(b=a),(c||d)&&this.add(1,0,0,1,c,d),this.add(a,0,0,b,0,0),(c||d)&&this.add(1,0,0,1,-c,-d),this},c.rotate=function(b,c,d){b=a.rad(b),c=c||0,d=d||0;var f=+e.cos(b).toFixed(9),g=+e.sin(b).toFixed(9);return this.add(f,g,-g,f,c,d),this.add(1,0,0,1,-c,-d)},c.x=function(a,b){return a*this.a+b*this.c+this.e},c.y=function(a,b){return a*this.b+b*this.d+this.f},c.get=function(a){return+this[d.fromCharCode(97+a)].toFixed(4)},c.toString=function(){return\"matrix(\"+[this.get(0),this.get(1),this.get(2),this.get(3),this.get(4),this.get(5)].join()+\")\"},c.offset=function(){return[this.e.toFixed(4),this.f.toFixed(4)]},c.determinant=function(){return this.a*this.d-this.b*this.c},c.split=function(){var b={};b.dx=this.e,b.dy=this.f;var c=[[this.a,this.c],[this.b,this.d] ];b.scalex=e.sqrt(g(c[0])),h(c[0]),b.shear=c[0][0]*c[1][0]+c[0][1]*c[1][1],c[1]=[c[1][0]-c[0][0]*b.shear,c[1][1]-c[0][1]*b.shear],b.scaley=e.sqrt(g(c[1])),h(c[1]),b.shear/=b.scaley,this.determinant()<0&&(b.scalex=-b.scalex);var d=-c[0][1],f=c[1][1];return 0>f?(b.rotate=a.deg(e.acos(f)),0>d&&(b.rotate=360-b.rotate)):b.rotate=a.deg(e.asin(d)),b.isSimple=!(+b.shear.toFixed(9)||b.scalex.toFixed(9)!=b.scaley.toFixed(9)&&b.rotate),b.isSuperSimple=!+b.shear.toFixed(9)&&b.scalex.toFixed(9)==b.scaley.toFixed(9)&&!b.rotate,b.noRotation=!+b.shear.toFixed(9)&&!b.rotate,b},c.toTransformString=function(a){var b=a||this.split();return+b.shear.toFixed(9)?\"m\"+[this.get(0),this.get(1),this.get(2),this.get(3),this.get(4),this.get(5)]:(b.scalex=+b.scalex.toFixed(4),b.scaley=+b.scaley.toFixed(4),b.rotate=+b.rotate.toFixed(4),(b.dx||b.dy?\"t\"+[+b.dx.toFixed(4),+b.dy.toFixed(4)]:f)+(1!=b.scalex||1!=b.scaley?\"s\"+[b.scalex,b.scaley,0,0]:f)+(b.rotate?\"r\"+[+b.rotate.toFixed(4),0,0]:f))}}(b.prototype),a.Matrix=b,a.matrix=function(a,c,d,e,f,g){return new b(a,c,d,e,f,g)}}),d.plugin(function(a,c,d,e,f){function g(d){return function(e){if(b.stop(),e instanceof f&&1==e.node.childNodes.length&&(\"radialGradient\"==e.node.firstChild.tagName||\"linearGradient\"==e.node.firstChild.tagName||\"pattern\"==e.node.firstChild.tagName)&&(e=e.node.firstChild,n(this).appendChild(e),e=l(e)),e instanceof c)if(\"radialGradient\"==e.type||\"linearGradient\"==e.type||\"pattern\"==e.type){e.node.id||p(e.node,{id:e.id});var g=q(e.node.id)}else g=e.attr(d);else if(g=a.color(e),g.error){var h=a(n(this).ownerSVGElement).gradient(e);h?(h.node.id||p(h.node,{id:h.id}),g=q(h.node.id)):g=e}else g=r(g);var i={};i[d]=g,p(this.node,i),this.node.style[d]=t}}function h(a){b.stop(),a==+a&&(a+=\"px\"),this.node.style.fontSize=a}function i(a){for(var b=[],c=a.childNodes,d=0,e=c.length;e>d;d++){var f=c[d];3==f.nodeType&&b.push(f.nodeValue),\"tspan\"==f.tagName&&b.push(1==f.childNodes.length&&3==f.firstChild.nodeType?f.firstChild.nodeValue:i(f))}return b}function j(){return b.stop(),this.node.style.fontSize}var k=a._.make,l=a._.wrap,m=a.is,n=a._.getSomeDefs,o=/^url\\(#?([^)]+)\\)$/,p=a._.$,q=a.url,r=String,s=a._.separator,t=\"\";b.on(\"snap.util.attr.mask\",function(a){if(a instanceof c||a instanceof f){if(b.stop(),a instanceof f&&1==a.node.childNodes.length&&(a=a.node.firstChild,n(this).appendChild(a),a=l(a)),\"mask\"==a.type)var d=a;else d=k(\"mask\",n(this)),d.node.appendChild(a.node);!d.node.id&&p(d.node,{id:d.id}),p(this.node,{mask:q(d.id)})}}),function(a){b.on(\"snap.util.attr.clip\",a),b.on(\"snap.util.attr.clip-path\",a),b.on(\"snap.util.attr.clipPath\",a)}(function(a){if(a instanceof c||a instanceof f){if(b.stop(),\"clipPath\"==a.type)var d=a;else d=k(\"clipPath\",n(this)),d.node.appendChild(a.node),!d.node.id&&p(d.node,{id:d.id});p(this.node,{\"clip-path\":q(d.id)})}}),b.on(\"snap.util.attr.fill\",g(\"fill\")),b.on(\"snap.util.attr.stroke\",g(\"stroke\"));var u=/^([lr])(?:\\(([^)]*)\\))?(.*)$/i;b.on(\"snap.util.grad.parse\",function(a){a=r(a);var b=a.match(u);if(!b)return null;var c=b[1],d=b[2],e=b[3];return d=d.split(/\\s*,\\s*/).map(function(a){return+a==a?+a:a}),1==d.length&&0==d[0]&&(d=[]),e=e.split(\"-\"),e=e.map(function(a){a=a.split(\":\");var b={color:a[0]};return a[1]&&(b.offset=parseFloat(a[1])),b}),{type:c,params:d,stops:e}}),b.on(\"snap.util.attr.d\",function(c){b.stop(),m(c,\"array\")&&m(c[0],\"array\")&&(c=a.path.toString.call(c)),c=r(c),c.match(/[ruo]/i)&&(c=a.path.toAbsolute(c)),p(this.node,{d:c})})(-1),b.on(\"snap.util.attr.#text\",function(a){b.stop(),a=r(a);for(var c=e.doc.createTextNode(a);this.node.firstChild;)this.node.removeChild(this.node.firstChild);this.node.appendChild(c)})(-1),b.on(\"snap.util.attr.path\",function(a){b.stop(),this.attr({d:a})})(-1),b.on(\"snap.util.attr.class\",function(a){b.stop(),this.node.className.baseVal=a})(-1),b.on(\"snap.util.attr.viewBox\",function(a){var c;c=m(a,\"object\")&&\"x\"in a?[a.x,a.y,a.width,a.height].join(\" \"):m(a,\"array\")?a.join(\" \"):a,p(this.node,{viewBox:c}),b.stop()})(-1),b.on(\"snap.util.attr.transform\",function(a){this.transform(a),b.stop()})(-1),b.on(\"snap.util.attr.r\",function(a){\"rect\"==this.type&&(b.stop(),p(this.node,{rx:a,ry:a}))})(-1),b.on(\"snap.util.attr.textpath\",function(a){if(b.stop(),\"text\"==this.type){var d,e,f;if(!a&&this.textPath){for(e=this.textPath;e.node.firstChild;)this.node.appendChild(e.node.firstChild);return e.remove(),void delete this.textPath}if(m(a,\"string\")){var g=n(this),h=l(g.parentNode).path(a);g.appendChild(h.node),d=h.id,h.attr({id:d})}else a=l(a),a instanceof c&&(d=a.attr(\"id\"),d||(d=a.id,a.attr({id:d})));if(d)if(e=this.textPath,f=this.node,e)e.attr({\"xlink:href\":\"#\"+d});else{for(e=p(\"textPath\",{\"xlink:href\":\"#\"+d});f.firstChild;)e.appendChild(f.firstChild);f.appendChild(e),this.textPath=l(e)}}})(-1),b.on(\"snap.util.attr.text\",function(a){if(\"text\"==this.type){for(var c=this.node,d=function(a){var b=p(\"tspan\");if(m(a,\"array\"))for(var c=0;c<a.length;c++)b.appendChild(d(a[c]));else b.appendChild(e.doc.createTextNode(a));return b.normalize&&b.normalize(),b};c.firstChild;)c.removeChild(c.firstChild);for(var f=d(a);f.firstChild;)c.appendChild(f.firstChild)}b.stop()})(-1),b.on(\"snap.util.attr.fontSize\",h)(-1),b.on(\"snap.util.attr.font-size\",h)(-1),b.on(\"snap.util.getattr.transform\",function(){return b.stop(),this.transform()})(-1),b.on(\"snap.util.getattr.textpath\",function(){return b.stop(),this.textPath})(-1),function(){function c(c){return function(){b.stop();var d=e.doc.defaultView.getComputedStyle(this.node,null).getPropertyValue(\"marker-\"+c);return\"none\"==d?d:a(e.doc.getElementById(d.match(o)[1]))}}function d(a){return function(c){b.stop();var d=\"marker\"+a.charAt(0).toUpperCase()+a.substring(1);if(\"\"==c||!c)return void(this.node.style[d]=\"none\");if(\"marker\"==c.type){var e=c.node.id;return e||p(c.node,{id:c.id}),void(this.node.style[d]=q(e))}}}b.on(\"snap.util.getattr.marker-end\",c(\"end\"))(-1),b.on(\"snap.util.getattr.markerEnd\",c(\"end\"))(-1),b.on(\"snap.util.getattr.marker-start\",c(\"start\"))(-1),b.on(\"snap.util.getattr.markerStart\",c(\"start\"))(-1),b.on(\"snap.util.getattr.marker-mid\",c(\"mid\"))(-1),b.on(\"snap.util.getattr.markerMid\",c(\"mid\"))(-1),b.on(\"snap.util.attr.marker-end\",d(\"end\"))(-1),b.on(\"snap.util.attr.markerEnd\",d(\"end\"))(-1),b.on(\"snap.util.attr.marker-start\",d(\"start\"))(-1),b.on(\"snap.util.attr.markerStart\",d(\"start\"))(-1),b.on(\"snap.util.attr.marker-mid\",d(\"mid\"))(-1),b.on(\"snap.util.attr.markerMid\",d(\"mid\"))(-1)}(),b.on(\"snap.util.getattr.r\",function(){return\"rect\"==this.type&&p(this.node,\"rx\")==p(this.node,\"ry\")?(b.stop(),p(this.node,\"rx\")):void 0})(-1),b.on(\"snap.util.getattr.text\",function(){if(\"text\"==this.type||\"tspan\"==this.type){b.stop();var a=i(this.node);return 1==a.length?a[0]:a}})(-1),b.on(\"snap.util.getattr.#text\",function(){return this.node.textContent})(-1),b.on(\"snap.util.getattr.viewBox\",function(){b.stop();var c=p(this.node,\"viewBox\");return c?(c=c.split(s),a._.box(+c[0],+c[1],+c[2],+c[3])):void 0})(-1),b.on(\"snap.util.getattr.points\",function(){var a=p(this.node,\"points\");return b.stop(),a?a.split(s):void 0})(-1),b.on(\"snap.util.getattr.path\",function(){var a=p(this.node,\"d\");return b.stop(),a})(-1),b.on(\"snap.util.getattr.class\",function(){return this.node.className.baseVal})(-1),b.on(\"snap.util.getattr.fontSize\",j)(-1),b.on(\"snap.util.getattr.font-size\",j)(-1)}),d.plugin(function(){function a(a){return a}function c(a){return function(b){return+b.toFixed(3)+a}}var d={\"+\":function(a,b){return a+b},\"-\":function(a,b){return a-b},\"/\":function(a,b){return a/b},\"*\":function(a,b){return a*b}},e=String,f=/[a-z]+$/i,g=/^\\s*([+\\-\\/*])\\s*=\\s*([\\d.eE+\\-]+)\\s*([^\\d\\s]+)?\\s*$/;b.on(\"snap.util.attr\",function(a){var c=e(a).match(g);if(c){var h=b.nt(),i=h.substring(h.lastIndexOf(\".\")+1),j=this.attr(i),k={};b.stop();var l=c[3]||\"\",m=j.match(f),n=d[c[1] ];if(m&&m==l?a=n(parseFloat(j),+c[2]):(j=this.asPX(i),a=n(this.asPX(i),this.asPX(i,c[2]+l))),isNaN(j)||isNaN(a))return;k[i]=a,this.attr(k)}})(-10),b.on(\"snap.util.equal\",function(h,i){var j=e(this.attr(h)||\"\"),k=e(i).match(g);if(k){b.stop();var l=k[3]||\"\",m=j.match(f),n=d[k[1] ];return m&&m==l?{from:parseFloat(j),to:n(parseFloat(j),+k[2]),f:c(m)}:(j=this.asPX(h),{from:j,to:n(j,this.asPX(h,k[2]+l)),f:a})}})(-10)}),d.plugin(function(a,c,d,e){var f=d.prototype,g=a.is;f.rect=function(a,b,c,d,e,f){var h;return null==f&&(f=e),g(a,\"object\")&&\"[object Object]\"==a?h=a:null!=a&&(h={x:a,y:b,width:c,height:d},null!=e&&(h.rx=e,h.ry=f)),this.el(\"rect\",h)},f.circle=function(a,b,c){var d;return g(a,\"object\")&&\"[object Object]\"==a?d=a:null!=a&&(d={cx:a,cy:b,r:c}),this.el(\"circle\",d)};var h=function(){function a(){this.parentNode.removeChild(this)}return function(b,c){var d=e.doc.createElement(\"img\"),f=e.doc.body;d.style.cssText=\"position:absolute;left:-9999em;top:-9999em\",d.onload=function(){c.call(d),d.onload=d.onerror=null,f.removeChild(d)},d.onerror=a,f.appendChild(d),d.src=b}}();f.image=function(b,c,d,e,f){var i=this.el(\"image\");if(g(b,\"object\")&&\"src\"in b)i.attr(b);else if(null!=b){var j={\"xlink:href\":b,preserveAspectRatio:\"none\"};null!=c&&null!=d&&(j.x=c,j.y=d),null!=e&&null!=f?(j.width=e,j.height=f):h(b,function(){a._.$(i.node,{width:this.offsetWidth,height:this.offsetHeight})}),a._.$(i.node,j)}return i},f.ellipse=function(a,b,c,d){var e;return g(a,\"object\")&&\"[object Object]\"==a?e=a:null!=a&&(e={cx:a,cy:b,rx:c,ry:d}),this.el(\"ellipse\",e)},f.path=function(a){var b;return g(a,\"object\")&&!g(a,\"array\")?b=a:a&&(b={d:a}),this.el(\"path\",b)},f.group=f.g=function(a){var b=this.el(\"g\");return 1==arguments.length&&a&&!a.type?b.attr(a):arguments.length&&b.add(Array.prototype.slice.call(arguments,0)),b},f.svg=function(a,b,c,d,e,f,h,i){var j={};return g(a,\"object\")&&null==b?j=a:(null!=a&&(j.x=a),null!=b&&(j.y=b),null!=c&&(j.width=c),null!=d&&(j.height=d),null!=e&&null!=f&&null!=h&&null!=i&&(j.viewBox=[e,f,h,i])),this.el(\"svg\",j)},f.mask=function(a){var b=this.el(\"mask\");return 1==arguments.length&&a&&!a.type?b.attr(a):arguments.length&&b.add(Array.prototype.slice.call(arguments,0)),b},f.ptrn=function(a,b,c,d,e,f,h,i){if(g(a,\"object\"))var j=a;else arguments.length?(j={},null!=a&&(j.x=a),null!=b&&(j.y=b),null!=c&&(j.width=c),null!=d&&(j.height=d),null!=e&&null!=f&&null!=h&&null!=i&&(j.viewBox=[e,f,h,i])):j={patternUnits:\"userSpaceOnUse\"};return this.el(\"pattern\",j)},f.use=function(a){if(null!=a){{make(\"use\",this.node)}return a instanceof c&&(a.attr(\"id\")||a.attr({id:ID()}),a=a.attr(\"id\")),this.el(\"use\",{\"xlink:href\":a})}return c.prototype.use.call(this)},f.text=function(a,b,c){var d={};return g(a,\"object\")?d=a:null!=a&&(d={x:a,y:b,text:c||\"\"}),this.el(\"text\",d)},f.line=function(a,b,c,d){var e={};return g(a,\"object\")?e=a:null!=a&&(e={x1:a,x2:c,y1:b,y2:d}),this.el(\"line\",e)},f.polyline=function(a){arguments.length>1&&(a=Array.prototype.slice.call(arguments,0));var b={};return g(a,\"object\")&&!g(a,\"array\")?b=a:null!=a&&(b={points:a}),this.el(\"polyline\",b)},f.polygon=function(a){arguments.length>1&&(a=Array.prototype.slice.call(arguments,0));var b={};return g(a,\"object\")&&!g(a,\"array\")?b=a:null!=a&&(b={points:a}),this.el(\"polygon\",b)},function(){function c(){return this.selectAll(\"stop\")}function d(b,c){var d=j(\"stop\"),e={offset:+c+\"%\"};return b=a.color(b),e[\"stop-color\"]=b.hex,b.opacity<1&&(e[\"stop-opacity\"]=b.opacity),j(d,e),this.node.appendChild(d),this}function e(){if(\"linearGradient\"==this.type){var b=j(this.node,\"x1\")||0,c=j(this.node,\"x2\")||1,d=j(this.node,\"y1\")||0,e=j(this.node,\"y2\")||0;return a._.box(b,d,math.abs(c-b),math.abs(e-d))}var f=this.node.cx||.5,g=this.node.cy||.5,h=this.node.r||0;return a._.box(f-h,g-h,2*h,2*h)}function g(a,c){function d(a,b){for(var c=(b-l)/(a-m),d=m;a>d;d++)g[d].offset=+(+l+c*(d-m)).toFixed(2);m=a,l=b}var e,f=b(\"snap.util.grad.parse\",null,c).firstDefined();if(!f)return null;f.params.unshift(a),e=\"l\"==f.type.toLowerCase()?h.apply(0,f.params):i.apply(0,f.params),f.type!=f.type.toLowerCase()&&j(e.node,{gradientUnits:\"userSpaceOnUse\"});var g=f.stops,k=g.length,l=0,m=0;k--;for(var n=0;k>n;n++)\"offset\"in g[n]&&d(n,g[n].offset);for(g[k].offset=g[k].offset||100,d(k,g[k].offset),n=0;k>=n;n++){var o=g[n];e.addStop(o.color,o.offset)}return e}function h(b,f,g,h,i){var k=a._.make(\"linearGradient\",b);return k.stops=c,k.addStop=d,k.getBBox=e,null!=f&&j(k.node,{x1:f,y1:g,x2:h,y2:i}),k}function i(b,f,g,h,i,k){var l=a._.make(\"radialGradient\",b);return l.stops=c,l.addStop=d,l.getBBox=e,null!=f&&j(l.node,{cx:f,cy:g,r:h}),null!=i&&null!=k&&j(l.node,{fx:i,fy:k}),l}var j=a._.$;f.gradient=function(a){return g(this.defs,a)},f.gradientLinear=function(a,b,c,d){return h(this.defs,a,b,c,d)},f.gradientRadial=function(a,b,c,d,e){return i(this.defs,a,b,c,d,e)},f.toString=function(){var b,c=this.node.ownerDocument,d=c.createDocumentFragment(),e=c.createElement(\"div\"),f=this.node.cloneNode(!0);return d.appendChild(e),e.appendChild(f),a._.$(f,{xmlns:\"http://www.w3.org/2000/svg\"}),b=e.innerHTML,d.removeChild(d.firstChild),b},f.clear=function(){for(var a,b=this.node.firstChild;b;)a=b.nextSibling,\"defs\"!=b.tagName?b.parentNode.removeChild(b):f.clear.call({node:b}),b=a}}()}),d.plugin(function(a,b){function c(a){var b=c.ps=c.ps||{};return b[a]?b[a].sleep=100:b[a]={sleep:100},setTimeout(function(){for(var c in b)b[K](c)&&c!=a&&(b[c].sleep--,!b[c].sleep&&delete b[c])}),b[a]}function d(a,b,c,d){return null==a&&(a=b=c=d=0),null==b&&(b=a.y,c=a.width,d=a.height,a=a.x),{x:a,y:b,width:c,w:c,height:d,h:d,x2:a+c,y2:b+d,cx:a+c/2,cy:b+d/2,r1:N.min(c,d)/2,r2:N.max(c,d)/2,r0:N.sqrt(c*c+d*d)/2,path:w(a,b,c,d),vb:[a,b,c,d].join(\" \")}}function e(){return this.join(\",\").replace(L,\"$1\")}function f(a){var b=J(a);return b.toString=e,b}function g(a,b,c,d,e,f,g,h,j){return null==j?n(a,b,c,d,e,f,g,h):i(a,b,c,d,e,f,g,h,o(a,b,c,d,e,f,g,h,j))}function h(c,d){function e(a){return+(+a).toFixed(3)}return a._.cacher(function(a,f,h){a instanceof b&&(a=a.attr(\"d\")),a=E(a);for(var j,k,l,m,n,o=\"\",p={},q=0,r=0,s=a.length;s>r;r++){if(l=a[r],\"M\"==l[0])j=+l[1],k=+l[2];else{if(m=g(j,k,l[1],l[2],l[3],l[4],l[5],l[6]),q+m>f){if(d&&!p.start){if(n=g(j,k,l[1],l[2],l[3],l[4],l[5],l[6],f-q),o+=[\"C\"+e(n.start.x),e(n.start.y),e(n.m.x),e(n.m.y),e(n.x),e(n.y)],h)return o;p.start=o,o=[\"M\"+e(n.x),e(n.y)+\"C\"+e(n.n.x),e(n.n.y),e(n.end.x),e(n.end.y),e(l[5]),e(l[6])].join(),q+=m,j=+l[5],k=+l[6];continue}if(!c&&!d)return n=g(j,k,l[1],l[2],l[3],l[4],l[5],l[6],f-q)}q+=m,j=+l[5],k=+l[6]}o+=l.shift()+l}return p.end=o,n=c?q:d?p:i(j,k,l[0],l[1],l[2],l[3],l[4],l[5],1)},null,a._.clone)}function i(a,b,c,d,e,f,g,h,i){var j=1-i,k=R(j,3),l=R(j,2),m=i*i,n=m*i,o=k*a+3*l*i*c+3*j*i*i*e+n*g,p=k*b+3*l*i*d+3*j*i*i*f+n*h,q=a+2*i*(c-a)+m*(e-2*c+a),r=b+2*i*(d-b)+m*(f-2*d+b),s=c+2*i*(e-c)+m*(g-2*e+c),t=d+2*i*(f-d)+m*(h-2*f+d),u=j*a+i*c,v=j*b+i*d,w=j*e+i*g,x=j*f+i*h,y=90-180*N.atan2(q-s,r-t)/O;return{x:o,y:p,m:{x:q,y:r},n:{x:s,y:t},start:{x:u,y:v},end:{x:w,y:x},alpha:y}}function j(b,c,e,f,g,h,i,j){a.is(b,\"array\")||(b=[b,c,e,f,g,h,i,j]);var k=D.apply(null,b);return d(k.min.x,k.min.y,k.max.x-k.min.x,k.max.y-k.min.y)}function k(a,b,c){return b>=a.x&&b<=a.x+a.width&&c>=a.y&&c<=a.y+a.height}function l(a,b){return a=d(a),b=d(b),k(b,a.x,a.y)||k(b,a.x2,a.y)||k(b,a.x,a.y2)||k(b,a.x2,a.y2)||k(a,b.x,b.y)||k(a,b.x2,b.y)||k(a,b.x,b.y2)||k(a,b.x2,b.y2)||(a.x<b.x2&&a.x>b.x||b.x<a.x2&&b.x>a.x)&&(a.y<b.y2&&a.y>b.y||b.y<a.y2&&b.y>a.y)}function m(a,b,c,d,e){var f=-3*b+9*c-9*d+3*e,g=a*f+6*b-12*c+6*d;return a*g-3*b+3*c}function n(a,b,c,d,e,f,g,h,i){null==i&&(i=1),i=i>1?1:0>i?0:i;for(var j=i/2,k=12,l=[-.1252,.1252,-.3678,.3678,-.5873,.5873,-.7699,.7699,-.9041,.9041,-.9816,.9816],n=[.2491,.2491,.2335,.2335,.2032,.2032,.1601,.1601,.1069,.1069,.0472,.0472],o=0,p=0;k>p;p++){var q=j*l[p]+j,r=m(q,a,c,e,g),s=m(q,b,d,f,h),t=r*r+s*s;o+=n[p]*N.sqrt(t)}return j*o}function o(a,b,c,d,e,f,g,h,i){if(!(0>i||n(a,b,c,d,e,f,g,h)<i)){var j,k=1,l=k/2,m=k-l,o=.01;for(j=n(a,b,c,d,e,f,g,h,m);S(j-i)>o;)l/=2,m+=(i>j?1:-1)*l,j=n(a,b,c,d,e,f,g,h,m);return m}}function p(a,b,c,d,e,f,g,h){if(!(Q(a,c)<P(e,g)||P(a,c)>Q(e,g)||Q(b,d)<P(f,h)||P(b,d)>Q(f,h))){var i=(a*d-b*c)*(e-g)-(a-c)*(e*h-f*g),j=(a*d-b*c)*(f-h)-(b-d)*(e*h-f*g),k=(a-c)*(f-h)-(b-d)*(e-g);if(k){var l=i/k,m=j/k,n=+l.toFixed(2),o=+m.toFixed(2);if(!(n<+P(a,c).toFixed(2)||n>+Q(a,c).toFixed(2)||n<+P(e,g).toFixed(2)||n>+Q(e,g).toFixed(2)||o<+P(b,d).toFixed(2)||o>+Q(b,d).toFixed(2)||o<+P(f,h).toFixed(2)||o>+Q(f,h).toFixed(2)))return{x:l,y:m}}}}function q(a,b,c){var d=j(a),e=j(b);if(!l(d,e))return c?0:[];for(var f=n.apply(0,a),g=n.apply(0,b),h=~~(f/8),k=~~(g/8),m=[],o=[],q={},r=c?0:[],s=0;h+1>s;s++){var t=i.apply(0,a.concat(s/h));m.push({x:t.x,y:t.y,t:s/h})}for(s=0;k+1>s;s++)t=i.apply(0,b.concat(s/k)),o.push({x:t.x,y:t.y,t:s/k});for(s=0;h>s;s++)for(var u=0;k>u;u++){var v=m[s],w=m[s+1],x=o[u],y=o[u+1],z=S(w.x-v.x)<.001?\"y\":\"x\",A=S(y.x-x.x)<.001?\"y\":\"x\",B=p(v.x,v.y,w.x,w.y,x.x,x.y,y.x,y.y);if(B){if(q[B.x.toFixed(4)]==B.y.toFixed(4))continue;q[B.x.toFixed(4)]=B.y.toFixed(4);var C=v.t+S((B[z]-v[z])/(w[z]-v[z]))*(w.t-v.t),D=x.t+S((B[A]-x[A])/(y[A]-x[A]))*(y.t-x.t);C>=0&&1>=C&&D>=0&&1>=D&&(c?r++:r.push({x:B.x,y:B.y,t1:C,t2:D}))}}return r}function r(a,b){return t(a,b)}function s(a,b){return t(a,b,1)}function t(a,b,c){a=E(a),b=E(b);for(var d,e,f,g,h,i,j,k,l,m,n=c?0:[],o=0,p=a.length;p>o;o++){var r=a[o];if(\"M\"==r[0])d=h=r[1],e=i=r[2];else{\"C\"==r[0]?(l=[d,e].concat(r.slice(1)),d=l[6],e=l[7]):(l=[d,e,d,e,h,i,h,i],d=h,e=i);for(var s=0,t=b.length;t>s;s++){var u=b[s];if(\"M\"==u[0])f=j=u[1],g=k=u[2];else{\"C\"==u[0]?(m=[f,g].concat(u.slice(1)),f=m[6],g=m[7]):(m=[f,g,f,g,j,k,j,k],f=j,g=k);var v=q(l,m,c);if(c)n+=v;else{for(var w=0,x=v.length;x>w;w++)v[w].segment1=o,v[w].segment2=s,v[w].bez1=l,v[w].bez2=m;n=n.concat(v)}}}}}return n}function u(a,b,c){var d=v(a);return k(d,b,c)&&t(a,[[\"M\",b,c],[\"H\",d.x2+10] ],1)%2==1}function v(a){var b=c(a);if(b.bbox)return J(b.bbox);if(!a)return d();a=E(a);for(var e,f=0,g=0,h=[],i=[],j=0,k=a.length;k>j;j++)if(e=a[j],\"M\"==e[0])f=e[1],g=e[2],h.push(f),i.push(g);else{var l=D(f,g,e[1],e[2],e[3],e[4],e[5],e[6]);h=h.concat(l.min.x,l.max.x),i=i.concat(l.min.y,l.max.y),f=e[5],g=e[6]}var m=P.apply(0,h),n=P.apply(0,i),o=Q.apply(0,h),p=Q.apply(0,i),q=d(m,n,o-m,p-n);return b.bbox=J(q),q}function w(a,b,c,d,f){if(f)return[[\"M\",+a+ +f,b],[\"l\",c-2*f,0],[\"a\",f,f,0,0,1,f,f],[\"l\",0,d-2*f],[\"a\",f,f,0,0,1,-f,f],[\"l\",2*f-c,0],[\"a\",f,f,0,0,1,-f,-f],[\"l\",0,2*f-d],[\"a\",f,f,0,0,1,f,-f],[\"z\"] ];var g=[[\"M\",a,b],[\"l\",c,0],[\"l\",0,d],[\"l\",-c,0],[\"z\"] ];return g.toString=e,g}function x(a,b,c,d,f){if(null==f&&null==d&&(d=c),a=+a,b=+b,c=+c,d=+d,null!=f)var g=Math.PI/180,h=a+c*Math.cos(-d*g),i=a+c*Math.cos(-f*g),j=b+c*Math.sin(-d*g),k=b+c*Math.sin(-f*g),l=[[\"M\",h,j],[\"A\",c,c,0,+(f-d>180),0,i,k] ];else l=[[\"M\",a,b],[\"m\",0,-d],[\"a\",c,d,0,1,1,0,2*d],[\"a\",c,d,0,1,1,0,-2*d],[\"z\"] ];return l.toString=e,l}function y(b){var d=c(b),g=String.prototype.toLowerCase;if(d.rel)return f(d.rel);a.is(b,\"array\")&&a.is(b&&b[0],\"array\")||(b=a.parsePathString(b));var h=[],i=0,j=0,k=0,l=0,m=0;\"M\"==b[0][0]&&(i=b[0][1],j=b[0][2],k=i,l=j,m++,h.push([\"M\",i,j]));for(var n=m,o=b.length;o>n;n++){var p=h[n]=[],q=b[n];if(q[0]!=g.call(q[0]))switch(p[0]=g.call(q[0]),p[0]){case\"a\":p[1]=q[1],p[2]=q[2],p[3]=q[3],p[4]=q[4],p[5]=q[5],p[6]=+(q[6]-i).toFixed(3),p[7]=+(q[7]-j).toFixed(3);break;case\"v\":p[1]=+(q[1]-j).toFixed(3);break;case\"m\":k=q[1],l=q[2];default:for(var r=1,s=q.length;s>r;r++)p[r]=+(q[r]-(r%2?i:j)).toFixed(3)}else{p=h[n]=[],\"m\"==q[0]&&(k=q[1]+i,l=q[2]+j);for(var t=0,u=q.length;u>t;t++)h[n][t]=q[t]}var v=h[n].length;switch(h[n][0]){case\"z\":i=k,j=l;break;case\"h\":i+=+h[n][v-1];break;case\"v\":j+=+h[n][v-1];break;default:i+=+h[n][v-2],j+=+h[n][v-1]}}return h.toString=e,d.rel=f(h),h}function z(b){var d=c(b);if(d.abs)return f(d.abs);if(I(b,\"array\")&&I(b&&b[0],\"array\")||(b=a.parsePathString(b)),!b||!b.length)return[[\"M\",0,0] ];var g,h=[],i=0,j=0,k=0,l=0,m=0;\"M\"==b[0][0]&&(i=+b[0][1],j=+b[0][2],k=i,l=j,m++,h[0]=[\"M\",i,j]);for(var n,o,p=3==b.length&&\"M\"==b[0][0]&&\"R\"==b[1][0].toUpperCase()&&\"Z\"==b[2][0].toUpperCase(),q=m,r=b.length;r>q;q++){if(h.push(n=[]),o=b[q],g=o[0],g!=g.toUpperCase())switch(n[0]=g.toUpperCase(),n[0]){case\"A\":n[1]=o[1],n[2]=o[2],n[3]=o[3],n[4]=o[4],n[5]=o[5],n[6]=+o[6]+i,n[7]=+o[7]+j;break;case\"V\":n[1]=+o[1]+j;break;case\"H\":n[1]=+o[1]+i;break;case\"R\":for(var s=[i,j].concat(o.slice(1)),t=2,u=s.length;u>t;t++)s[t]=+s[t]+i,s[++t]=+s[t]+j;h.pop(),h=h.concat(G(s,p));break;case\"O\":h.pop(),s=x(i,j,o[1],o[2]),s.push(s[0]),h=h.concat(s);break;case\"U\":h.pop(),h=h.concat(x(i,j,o[1],o[2],o[3])),n=[\"U\"].concat(h[h.length-1].slice(-2));break;case\"M\":k=+o[1]+i,l=+o[2]+j;default:for(t=1,u=o.length;u>t;t++)n[t]=+o[t]+(t%2?i:j)}else if(\"R\"==g)s=[i,j].concat(o.slice(1)),h.pop(),h=h.concat(G(s,p)),n=[\"R\"].concat(o.slice(-2));else if(\"O\"==g)h.pop(),s=x(i,j,o[1],o[2]),s.push(s[0]),h=h.concat(s);else if(\"U\"==g)h.pop(),h=h.concat(x(i,j,o[1],o[2],o[3])),n=[\"U\"].concat(h[h.length-1].slice(-2));else for(var v=0,w=o.length;w>v;v++)n[v]=o[v];if(g=g.toUpperCase(),\"O\"!=g)switch(n[0]){case\"Z\":i=+k,j=+l;break;case\"H\":i=n[1];break;case\"V\":j=n[1];break;case\"M\":k=n[n.length-2],l=n[n.length-1];default:i=n[n.length-2],j=n[n.length-1]}}return h.toString=e,d.abs=f(h),h}function A(a,b,c,d){return[a,b,c,d,c,d]}function B(a,b,c,d,e,f){var g=1/3,h=2/3;return[g*a+h*c,g*b+h*d,g*e+h*c,g*f+h*d,e,f]}function C(b,c,d,e,f,g,h,i,j,k){var l,m=120*O/180,n=O/180*(+f||0),o=[],p=a._.cacher(function(a,b,c){var d=a*N.cos(c)-b*N.sin(c),e=a*N.sin(c)+b*N.cos(c);return{x:d,y:e}});if(k)y=k[0],z=k[1],w=k[2],x=k[3];else{l=p(b,c,-n),b=l.x,c=l.y,l=p(i,j,-n),i=l.x,j=l.y;var q=(N.cos(O/180*f),N.sin(O/180*f),(b-i)/2),r=(c-j)/2,s=q*q/(d*d)+r*r/(e*e);s>1&&(s=N.sqrt(s),d=s*d,e=s*e);var t=d*d,u=e*e,v=(g==h?-1:1)*N.sqrt(S((t*u-t*r*r-u*q*q)/(t*r*r+u*q*q))),w=v*d*r/e+(b+i)/2,x=v*-e*q/d+(c+j)/2,y=N.asin(((c-x)/e).toFixed(9)),z=N.asin(((j-x)/e).toFixed(9));y=w>b?O-y:y,z=w>i?O-z:z,0>y&&(y=2*O+y),0>z&&(z=2*O+z),h&&y>z&&(y-=2*O),!h&&z>y&&(z-=2*O)}var A=z-y;if(S(A)>m){var B=z,D=i,E=j;z=y+m*(h&&z>y?1:-1),i=w+d*N.cos(z),j=x+e*N.sin(z),o=C(i,j,d,e,f,0,h,D,E,[z,B,w,x])}A=z-y;var F=N.cos(y),G=N.sin(y),H=N.cos(z),I=N.sin(z),J=N.tan(A/4),K=4/3*d*J,L=4/3*e*J,M=[b,c],P=[b+K*G,c-L*F],Q=[i+K*I,j-L*H],R=[i,j];if(P[0]=2*M[0]-P[0],P[1]=2*M[1]-P[1],k)return[P,Q,R].concat(o);o=[P,Q,R].concat(o).join().split(\",\");for(var T=[],U=0,V=o.length;V>U;U++)T[U]=U%2?p(o[U-1],o[U],n).y:p(o[U],o[U+1],n).x;return T}function D(a,b,c,d,e,f,g,h){for(var i,j,k,l,m,n,o,p,q=[],r=[[],[] ],s=0;2>s;++s)if(0==s?(j=6*a-12*c+6*e,i=-3*a+9*c-9*e+3*g,k=3*c-3*a):(j=6*b-12*d+6*f,i=-3*b+9*d-9*f+3*h,k=3*d-3*b),S(i)<1e-12){if(S(j)<1e-12)continue;l=-k/j,l>0&&1>l&&q.push(l)}else o=j*j-4*k*i,p=N.sqrt(o),0>o||(m=(-j+p)/(2*i),m>0&&1>m&&q.push(m),n=(-j-p)/(2*i),n>0&&1>n&&q.push(n));for(var t,u=q.length,v=u;u--;)l=q[u],t=1-l,r[0][u]=t*t*t*a+3*t*t*l*c+3*t*l*l*e+l*l*l*g,r[1][u]=t*t*t*b+3*t*t*l*d+3*t*l*l*f+l*l*l*h;return r[0][v]=a,r[1][v]=b,r[0][v+1]=g,r[1][v+1]=h,r[0].length=r[1].length=v+2,{min:{x:P.apply(0,r[0]),y:P.apply(0,r[1])},max:{x:Q.apply(0,r[0]),y:Q.apply(0,r[1])}}}function E(a,b){var d=!b&&c(a);if(!b&&d.curve)return f(d.curve);for(var e=z(a),g=b&&z(b),h={x:0,y:0,bx:0,by:0,X:0,Y:0,qx:null,qy:null},i={x:0,y:0,bx:0,by:0,X:0,Y:0,qx:null,qy:null},j=(function(a,b,c){var d,e;if(!a)return[\"C\",b.x,b.y,b.x,b.y,b.x,b.y];switch(!(a[0]in{T:1,Q:1})&&(b.qx=b.qy=null),a[0]){case\"M\":b.X=a[1],b.Y=a[2];break;case\"A\":a=[\"C\"].concat(C.apply(0,[b.x,b.y].concat(a.slice(1))));break;case\"S\":\"C\"==c||\"S\"==c?(d=2*b.x-b.bx,e=2*b.y-b.by):(d=b.x,e=b.y),a=[\"C\",d,e].concat(a.slice(1));break;case\"T\":\"Q\"==c||\"T\"==c?(b.qx=2*b.x-b.qx,b.qy=2*b.y-b.qy):(b.qx=b.x,b.qy=b.y),a=[\"C\"].concat(B(b.x,b.y,b.qx,b.qy,a[1],a[2]));break;case\"Q\":b.qx=a[1],b.qy=a[2],a=[\"C\"].concat(B(b.x,b.y,a[1],a[2],a[3],a[4]));break;case\"L\":a=[\"C\"].concat(A(b.x,b.y,a[1],a[2]));break;case\"H\":a=[\"C\"].concat(A(b.x,b.y,a[1],b.y));break;case\"V\":a=[\"C\"].concat(A(b.x,b.y,b.x,a[1]));break;case\"Z\":a=[\"C\"].concat(A(b.x,b.y,b.X,b.Y))}return a}),k=function(a,b){if(a[b].length>7){a[b].shift();for(var c=a[b];c.length;)m[b]=\"A\",g&&(n[b]=\"A\"),a.splice(b++,0,[\"C\"].concat(c.splice(0,6)));a.splice(b,1),r=Q(e.length,g&&g.length||0)}},l=function(a,b,c,d,f){a&&b&&\"M\"==a[f][0]&&\"M\"!=b[f][0]&&(b.splice(f,0,[\"M\",d.x,d.y]),c.bx=0,c.by=0,c.x=a[f][1],c.y=a[f][2],r=Q(e.length,g&&g.length||0))},m=[],n=[],o=\"\",p=\"\",q=0,r=Q(e.length,g&&g.length||0);r>q;q++){e[q]&&(o=e[q][0]),\"C\"!=o&&(m[q]=o,q&&(p=m[q-1])),e[q]=j(e[q],h,p),\"A\"!=m[q]&&\"C\"==o&&(m[q]=\"C\"),k(e,q),g&&(g[q]&&(o=g[q][0]),\"C\"!=o&&(n[q]=o,q&&(p=n[q-1])),g[q]=j(g[q],i,p),\"A\"!=n[q]&&\"C\"==o&&(n[q]=\"C\"),k(g,q)),l(e,g,h,i,q),l(g,e,i,h,q);var s=e[q],t=g&&g[q],u=s.length,v=g&&t.length;h.x=s[u-2],h.y=s[u-1],h.bx=M(s[u-4])||h.x,h.by=M(s[u-3])||h.y,i.bx=g&&(M(t[v-4])||i.x),i.by=g&&(M(t[v-3])||i.y),i.x=g&&t[v-2],i.y=g&&t[v-1]}return g||(d.curve=f(e)),g?[e,g]:e}function F(a,b){if(!b)return a;var c,d,e,f,g,h,i;for(a=E(a),e=0,g=a.length;g>e;e++)for(i=a[e],f=1,h=i.length;h>f;f+=2)c=b.x(i[f],i[f+1]),d=b.y(i[f],i[f+1]),i[f]=c,i[f+1]=d;return a}function G(a,b){for(var c=[],d=0,e=a.length;e-2*!b>d;d+=2){var f=[{x:+a[d-2],y:+a[d-1]},{x:+a[d],y:+a[d+1]},{x:+a[d+2],y:+a[d+3]},{x:+a[d+4],y:+a[d+5]}];b?d?e-4==d?f[3]={x:+a[0],y:+a[1]}:e-2==d&&(f[2]={x:+a[0],y:+a[1]},f[3]={x:+a[2],y:+a[3]}):f[0]={x:+a[e-2],y:+a[e-1]}:e-4==d?f[3]=f[2]:d||(f[0]={x:+a[d],y:+a[d+1]}),c.push([\"C\",(-f[0].x+6*f[1].x+f[2].x)/6,(-f[0].y+6*f[1].y+f[2].y)/6,(f[1].x+6*f[2].x-f[3].x)/6,(f[1].y+6*f[2].y-f[3].y)/6,f[2].x,f[2].y])}return c}var H=b.prototype,I=a.is,J=a._.clone,K=\"hasOwnProperty\",L=/,?([a-z]),?/gi,M=parseFloat,N=Math,O=N.PI,P=N.min,Q=N.max,R=N.pow,S=N.abs,T=h(1),U=h(),V=h(0,1),W=a._unit2px,X={path:function(a){return a.attr(\"path\")},circle:function(a){var b=W(a);return x(b.cx,b.cy,b.r)},ellipse:function(a){var b=W(a);return x(b.cx||0,b.cy||0,b.rx,b.ry)},rect:function(a){var b=W(a);return w(b.x||0,b.y||0,b.width,b.height,b.rx,b.ry)},image:function(a){var b=W(a);return w(b.x||0,b.y||0,b.width,b.height)},line:function(a){return\"M\"+[a.attr(\"x1\")||0,a.attr(\"y1\")||0,a.attr(\"x2\"),a.attr(\"y2\")]},polyline:function(a){return\"M\"+a.attr(\"points\")},polygon:function(a){return\"M\"+a.attr(\"points\")+\"z\"},deflt:function(a){var b=a.node.getBBox();return w(b.x,b.y,b.width,b.height)}};a.path=c,a.path.getTotalLength=T,a.path.getPointAtLength=U,a.path.getSubpath=function(a,b,c){if(this.getTotalLength(a)-c<1e-6)return V(a,b).end;var d=V(a,c,1);return b?V(d,b).end:d},H.getTotalLength=function(){return this.node.getTotalLength?this.node.getTotalLength():void 0},H.getPointAtLength=function(a){return U(this.attr(\"d\"),a)},H.getSubpath=function(b,c){return a.path.getSubpath(this.attr(\"d\"),b,c)},a._.box=d,a.path.findDotsAtSegment=i,a.path.bezierBBox=j,a.path.isPointInsideBBox=k,a.path.isBBoxIntersect=l,a.path.intersection=r,a.path.intersectionNumber=s,a.path.isPointInside=u,a.path.getBBox=v,a.path.get=X,a.path.toRelative=y,a.path.toAbsolute=z,a.path.toCubic=E,a.path.map=F,a.path.toString=e,a.path.clone=f}),d.plugin(function(a){var d=Math.max,e=Math.min,f=function(a){if(this.items=[],this.bindings={},this.length=0,this.type=\"set\",a)for(var b=0,c=a.length;c>b;b++)a[b]&&(this[this.items.length]=this.items[this.items.length]=a[b],this.length++)},g=f.prototype;g.push=function(){for(var a,b,c=0,d=arguments.length;d>c;c++)a=arguments[c],a&&(b=this.items.length,this[b]=this.items[b]=a,this.length++);return this},g.pop=function(){return this.length&&delete this[this.length--],this.items.pop()},g.forEach=function(a,b){for(var c=0,d=this.items.length;d>c;c++)if(a.call(b,this.items[c],c)===!1)return this;return this},g.animate=function(d,e,f,g){\"function\"!=typeof f||f.length||(g=f,f=c.linear),d instanceof a._.Animation&&(g=d.callback,f=d.easing,e=f.dur,d=d.attr);var h=arguments;if(a.is(d,\"array\")&&a.is(h[h.length-1],\"array\"))var i=!0;var j,k=function(){j?this.b=j:j=this.b},l=0,m=g&&function(){l++==this.length&&g.call(this)};return this.forEach(function(a,c){b.once(\"snap.animcreated.\"+a.id,k),i?h[c]&&a.animate.apply(a,h[c]):a.animate(d,e,f,m)})},g.remove=function(){for(;this.length;)this.pop().remove();return this},g.bind=function(a,b,c){var d={};if(\"function\"==typeof b)this.bindings[a]=b;else{var e=c||a;this.bindings[a]=function(a){d[e]=a,b.attr(d)}}return this},g.attr=function(a){var b={};for(var c in a)this.bindings[c]?this.bindings[c](a[c]):b[c]=a[c];for(var d=0,e=this.items.length;e>d;d++)this.items[d].attr(b);return this},g.clear=function(){for(;this.length;)this.pop()},g.splice=function(a,b){a=0>a?d(this.length+a,0):a,b=d(0,e(this.length-a,b));var c,g=[],h=[],i=[];for(c=2;c<arguments.length;c++)i.push(arguments[c]);for(c=0;b>c;c++)h.push(this[a+c]);for(;c<this.length-a;c++)g.push(this[a+c]);var j=i.length;for(c=0;c<j+g.length;c++)this.items[a+c]=this[a+c]=j>c?i[c]:g[c-j];for(c=this.items.length=this.length-=b-j;this[c];)delete this[c++];return new f(h)},g.exclude=function(a){for(var b=0,c=this.length;c>b;b++)if(this[b]==a)return this.splice(b,1),!0;return!1},g.insertAfter=function(a){for(var b=this.items.length;b--;)this.items[b].insertAfter(a);return this},g.getBBox=function(){for(var a=[],b=[],c=[],f=[],g=this.items.length;g--;)if(!this.items[g].removed){var h=this.items[g].getBBox();a.push(h.x),b.push(h.y),c.push(h.x+h.width),f.push(h.y+h.height)}return a=e.apply(0,a),b=e.apply(0,b),c=d.apply(0,c),f=d.apply(0,f),{x:a,y:b,x2:c,y2:f,width:c-a,height:f-b,cx:a+(c-a)/2,cy:b+(f-b)/2}},g.clone=function(a){a=new f;for(var b=0,c=this.items.length;c>b;b++)a.push(this.items[b].clone());return a},g.toString=function(){return\"Snap‘s set\"},g.type=\"set\",a.set=function(){var a=new f;return arguments.length&&a.push.apply(a,Array.prototype.slice.call(arguments,0)),a}}),d.plugin(function(a,c){function d(a){var b=a[0];switch(b.toLowerCase()){case\"t\":return[b,0,0];case\"m\":return[b,1,0,0,1,0,0];case\"r\":return 4==a.length?[b,0,a[2],a[3] ]:[b,0];case\"s\":return 5==a.length?[b,1,1,a[3],a[4] ]:3==a.length?[b,1,1]:[b,1]}}function e(b,c,e){c=m(c).replace(/\\.{3}|\\u2026/g,b),b=a.parseTransformString(b)||[],c=a.parseTransformString(c)||[];for(var f,g,h,k,l=Math.max(b.length,c.length),n=[],o=[],p=0;l>p;p++){if(h=b[p]||d(c[p]),k=c[p]||d(h),h[0]!=k[0]||\"r\"==h[0].toLowerCase()&&(h[2]!=k[2]||h[3]!=k[3])||\"s\"==h[0].toLowerCase()&&(h[3]!=k[3]||h[4]!=k[4])){b=a._.transform2matrix(b,e()),c=a._.transform2matrix(c,e()),n=[[\"m\",b.a,b.b,b.c,b.d,b.e,b.f] ],o=[[\"m\",c.a,c.b,c.c,c.d,c.e,c.f] ];break}for(n[p]=[],o[p]=[],f=0,g=Math.max(h.length,k.length);g>f;f++)f in h&&(n[p][f]=h[f]),f in k&&(o[p][f]=k[f])}return{from:j(n),to:j(o),f:i(n)}}function f(a){return a}function g(a){return function(b){return+b.toFixed(3)+a}}function h(b){return a.rgb(b[0],b[1],b[2])}function i(a){var b,c,d,e,f,g,h=0,i=[];for(b=0,c=a.length;c>b;b++){for(f=\"[\",g=['\"'+a[b][0]+'\"'],d=1,e=a[b].length;e>d;d++)g[d]=\"val[\"+h++ +\"]\";\nf+=g+\"]\",i[b]=f}return Function(\"val\",\"return Snap.path.toString.call([\"+i+\"])\")}function j(a){for(var b=[],c=0,d=a.length;d>c;c++)for(var e=1,f=a[c].length;f>e;e++)b.push(a[c][e]);return b}var k={},l=/[a-z]+$/i,m=String;k.stroke=k.fill=\"colour\",c.prototype.equal=function(a,c){return b(\"snap.util.equal\",this,a,c).firstDefined()},b.on(\"snap.util.equal\",function(b,c){var d,n,o=m(this.attr(b)||\"\"),p=this;if(o==+o&&c==+c)return{from:+o,to:+c,f:f};if(\"colour\"==k[b])return d=a.color(o),n=a.color(c),{from:[d.r,d.g,d.b,d.opacity],to:[n.r,n.g,n.b,n.opacity],f:h};if(\"transform\"==b||\"gradientTransform\"==b||\"patternTransform\"==b)return c instanceof a.Matrix&&(c=c.toTransformString()),a._.rgTransform.test(c)||(c=a._.svgTransform2string(c)),e(o,c,function(){return p.getBBox(1)});if(\"d\"==b||\"path\"==b)return d=a.path.toCubic(o,c),{from:j(d[0]),to:j(d[1]),f:i(d[0])};if(\"points\"==b)return d=m(o).split(a._.separator),n=m(c).split(a._.separator),{from:d,to:n,f:function(a){return a}};aUnit=o.match(l);var q=m(c).match(l);return aUnit&&aUnit==q?{from:parseFloat(o),to:parseFloat(c),f:g(aUnit)}:{from:this.asPX(b),to:this.asPX(b,c),f:f}})}),d.plugin(function(a,c,d,e){for(var f=c.prototype,g=\"hasOwnProperty\",h=(\"createTouch\"in e.doc),i=[\"click\",\"dblclick\",\"mousedown\",\"mousemove\",\"mouseout\",\"mouseover\",\"mouseup\",\"touchstart\",\"touchmove\",\"touchend\",\"touchcancel\"],j={mousedown:\"touchstart\",mousemove:\"touchmove\",mouseup:\"touchend\"},k=(function(a,b){var c=\"y\"==a?\"scrollTop\":\"scrollLeft\",d=b&&b.node?b.node.ownerDocument:e.doc;return d[c in d.documentElement?\"documentElement\":\"body\"][c]}),l=function(){this.returnValue=!1},m=function(){return this.originalEvent.preventDefault()},n=function(){this.cancelBubble=!0},o=function(){return this.originalEvent.stopPropagation()},p=function(){return e.doc.addEventListener?function(a,b,c,d){var e=h&&j[b]?j[b]:b,f=function(e){var f=k(\"y\",d),i=k(\"x\",d);if(h&&j[g](b))for(var l=0,n=e.targetTouches&&e.targetTouches.length;n>l;l++)if(e.targetTouches[l].target==a||a.contains(e.targetTouches[l].target)){var p=e;e=e.targetTouches[l],e.originalEvent=p,e.preventDefault=m,e.stopPropagation=o;break}var q=e.clientX+i,r=e.clientY+f;return c.call(d,e,q,r)};return b!==e&&a.addEventListener(b,f,!1),a.addEventListener(e,f,!1),function(){return b!==e&&a.removeEventListener(b,f,!1),a.removeEventListener(e,f,!1),!0}}:e.doc.attachEvent?function(a,b,c,d){var e=function(a){a=a||d.node.ownerDocument.window.event;var b=k(\"y\",d),e=k(\"x\",d),f=a.clientX+e,g=a.clientY+b;return a.preventDefault=a.preventDefault||l,a.stopPropagation=a.stopPropagation||n,c.call(d,a,f,g)};a.attachEvent(\"on\"+b,e);var f=function(){return a.detachEvent(\"on\"+b,e),!0};return f}:void 0}(),q=[],r=function(a){for(var c,d=a.clientX,e=a.clientY,f=k(\"y\"),g=k(\"x\"),i=q.length;i--;){if(c=q[i],h){for(var j,l=a.touches&&a.touches.length;l--;)if(j=a.touches[l],j.identifier==c.el._drag.id||c.el.node.contains(j.target)){d=j.clientX,e=j.clientY,(a.originalEvent?a.originalEvent:a).preventDefault();break}}else a.preventDefault();{var m=c.el.node;m.nextSibling,m.parentNode,m.style.display}d+=g,e+=f,b(\"snap.drag.move.\"+c.el.id,c.move_scope||c.el,d-c.el._drag.x,e-c.el._drag.y,d,e,a)}},s=function(c){a.unmousemove(r).unmouseup(s);for(var d,e=q.length;e--;)d=q[e],d.el._drag={},b(\"snap.drag.end.\"+d.el.id,d.end_scope||d.start_scope||d.move_scope||d.el,c);q=[]},t=i.length;t--;)!function(b){a[b]=f[b]=function(c,d){return a.is(c,\"function\")&&(this.events=this.events||[],this.events.push({name:b,f:c,unbind:p(this.node||document,b,c,d||this)})),this},a[\"un\"+b]=f[\"un\"+b]=function(a){for(var c=this.events||[],d=c.length;d--;)if(c[d].name==b&&(c[d].f==a||!a))return c[d].unbind(),c.splice(d,1),!c.length&&delete this.events,this;return this}}(i[t]);f.hover=function(a,b,c,d){return this.mouseover(a,c).mouseout(b,d||c)},f.unhover=function(a,b){return this.unmouseover(a).unmouseout(b)};var u=[];f.drag=function(c,d,e,f,g,h){function i(i,j,k){(i.originalEvent||i).preventDefault(),this._drag.x=j,this._drag.y=k,this._drag.id=i.identifier,!q.length&&a.mousemove(r).mouseup(s),q.push({el:this,move_scope:f,start_scope:g,end_scope:h}),d&&b.on(\"snap.drag.start.\"+this.id,d),c&&b.on(\"snap.drag.move.\"+this.id,c),e&&b.on(\"snap.drag.end.\"+this.id,e),b(\"snap.drag.start.\"+this.id,g||f||this,j,k,i)}if(!arguments.length){var j;return this.drag(function(a,b){this.attr({transform:j+(j?\"T\":\"t\")+[a,b]})},function(){j=this.transform().local})}return this._drag={},u.push({el:this,start:i}),this.mousedown(i),this},f.undrag=function(){for(var c=u.length;c--;)u[c].el==this&&(this.unmousedown(u[c].start),u.splice(c,1),b.unbind(\"snap.drag.*.\"+this.id));return!u.length&&a.unmousemove(r).unmouseup(s),this}}),d.plugin(function(a,c,d){var e=(c.prototype,d.prototype),f=/^\\s*url\\((.+)\\)/,g=String,h=a._.$;a.filter={},e.filter=function(b){var d=this;\"svg\"!=d.type&&(d=d.paper);var e=a.parse(g(b)),f=a._.id(),i=(d.node.offsetWidth,d.node.offsetHeight,h(\"filter\"));return h(i,{id:f,filterUnits:\"userSpaceOnUse\"}),i.appendChild(e.node),d.defs.appendChild(i),new c(i)},b.on(\"snap.util.getattr.filter\",function(){b.stop();var c=h(this.node,\"filter\");if(c){var d=g(c).match(f);return d&&a.select(d[1])}}),b.on(\"snap.util.attr.filter\",function(d){if(d instanceof c&&\"filter\"==d.type){b.stop();var e=d.node.id;e||(h(d.node,{id:d.id}),e=d.id),h(this.node,{filter:a.url(e)})}d&&\"none\"!=d||(b.stop(),this.node.removeAttribute(\"filter\"))}),a.filter.blur=function(b,c){null==b&&(b=2);var d=null==c?b:[b,c];return a.format('<feGaussianBlur stdDeviation=\"{def}\"/>',{def:d})},a.filter.blur.toString=function(){return this()},a.filter.shadow=function(b,c,d,e,f){return\"string\"==typeof d&&(e=d,f=e,d=4),\"string\"!=typeof e&&(f=e,e=\"#000\"),e=e||\"#000\",null==d&&(d=4),null==f&&(f=1),null==b&&(b=0,c=2),null==c&&(c=b),e=a.color(e),a.format('<feGaussianBlur in=\"SourceAlpha\" stdDeviation=\"{blur}\"/><feOffset dx=\"{dx}\" dy=\"{dy}\" result=\"offsetblur\"/><feFlood flood-color=\"{color}\"/><feComposite in2=\"offsetblur\" operator=\"in\"/><feComponentTransfer><feFuncA type=\"linear\" slope=\"{opacity}\"/></feComponentTransfer><feMerge><feMergeNode/><feMergeNode in=\"SourceGraphic\"/></feMerge>',{color:e,dx:b,dy:c,blur:d,opacity:f})},a.filter.shadow.toString=function(){return this()},a.filter.grayscale=function(b){return null==b&&(b=1),a.format('<feColorMatrix type=\"matrix\" values=\"{a} {b} {c} 0 0 {d} {e} {f} 0 0 {g} {b} {h} 0 0 0 0 0 1 0\"/>',{a:.2126+.7874*(1-b),b:.7152-.7152*(1-b),c:.0722-.0722*(1-b),d:.2126-.2126*(1-b),e:.7152+.2848*(1-b),f:.0722-.0722*(1-b),g:.2126-.2126*(1-b),h:.0722+.9278*(1-b)})},a.filter.grayscale.toString=function(){return this()},a.filter.sepia=function(b){return null==b&&(b=1),a.format('<feColorMatrix type=\"matrix\" values=\"{a} {b} {c} 0 0 {d} {e} {f} 0 0 {g} {h} {i} 0 0 0 0 0 1 0\"/>',{a:.393+.607*(1-b),b:.769-.769*(1-b),c:.189-.189*(1-b),d:.349-.349*(1-b),e:.686+.314*(1-b),f:.168-.168*(1-b),g:.272-.272*(1-b),h:.534-.534*(1-b),i:.131+.869*(1-b)})},a.filter.sepia.toString=function(){return this()},a.filter.saturate=function(b){return null==b&&(b=1),a.format('<feColorMatrix type=\"saturate\" values=\"{amount}\"/>',{amount:1-b})},a.filter.saturate.toString=function(){return this()},a.filter.hueRotate=function(b){return b=b||0,a.format('<feColorMatrix type=\"hueRotate\" values=\"{angle}\"/>',{angle:b})},a.filter.hueRotate.toString=function(){return this()},a.filter.invert=function(b){return null==b&&(b=1),a.format('<feComponentTransfer><feFuncR type=\"table\" tableValues=\"{amount} {amount2}\"/><feFuncG type=\"table\" tableValues=\"{amount} {amount2}\"/><feFuncB type=\"table\" tableValues=\"{amount} {amount2}\"/></feComponentTransfer>',{amount:b,amount2:1-b})},a.filter.invert.toString=function(){return this()},a.filter.brightness=function(b){return null==b&&(b=1),a.format('<feComponentTransfer><feFuncR type=\"linear\" slope=\"{amount}\"/><feFuncG type=\"linear\" slope=\"{amount}\"/><feFuncB type=\"linear\" slope=\"{amount}\"/></feComponentTransfer>',{amount:b})},a.filter.brightness.toString=function(){return this()},a.filter.contrast=function(b){return null==b&&(b=1),a.format('<feComponentTransfer><feFuncR type=\"linear\" slope=\"{amount}\" intercept=\"{amount2}\"/><feFuncG type=\"linear\" slope=\"{amount}\" intercept=\"{amount2}\"/><feFuncB type=\"linear\" slope=\"{amount}\" intercept=\"{amount2}\"/></feComponentTransfer>',{amount:b,amount2:.5-b/2})},a.filter.contrast.toString=function(){return this()}}),d});\n]]></script>\n<script><![CDATA[\n(function (glob, factory) {\n    if (typeof define === 'function' && define.amd) {\n        define('ProfileSVG', ['ProfileSVG/snap.svg'], function (Snap) {\n            return factory(Snap);\n        });\n    } else {\n        glob.ProfileSVG = factory(glob.Snap);\n    }\n}(this, function (Snap) {\n    'use strict';\n\n    var supportsPassive = false;\n    try {\n        var opts = Object.defineProperty({}, 'passive', {\n            get: function () {\n                return supportsPassive = true;\n            }\n        });\n        window.addEventListener(\"testPassive\", null, opts);\n        window.removeEventListener(\"testPassive\", null, opts);\n    } catch (e) { // not supported\n    }\n\n    var stopper = function (e) {\n        e.preventDefault();\n        e.stopPropagation();\n    };\n\n    var throttle = function (delay, filter, callback) {\n        var previousCall = new Date().getTime();\n        return function (e) {\n            var time = new Date().getTime();\n            if ((time - previousCall) >= delay) {\n                previousCall = time;\n                callback.apply(null, arguments);\n            }\n            filter(e);\n        };\n    };\n\n\n    var ProfileSVG = {};\n\n    var NS_SVG = 'http://www.w3.org/2000/svg';\n    var DEFAULT_TRANSITION_TIME = 300;\n    var ZOOM_STEP = 1.4;\n    var VIEWPORT_SCALE = 0.9;\n    var VIEWPORT_MARGIN_X = 20;\n\n    var formatText = function (fig, text, availableWidth) {\n        if (availableWidth < 3 * fig.charWidthM) {\n            return '';\n        }\n        var w = availableWidth;\n        var m = fig.charWidthM;\n        var n = fig.charWidthN;\n        var m2 = m * m;\n        var n2 = n * n;\n        var nc = 0.5 / n2 * (\n            (n - m) * Math.sqrt(n2 + (4 * w - 2 * m) * n + m2) + n2 + 2 * (w - m) * n + m2);\n        var nchars = Math.ceil(nc);\n        if (text.length <= nchars) {\n            return text;\n        }\n        return text.slice(0, nchars - 2) + '..';\n    };\n\n    var unescapeHtml = function (str) {\n        return str\n            .replace(/&lt;/g, '<')\n            .replace(/&gt;/g, '>')\n            .replace(/&amp;/g, '&');\n    };\n\n    var isDarkColor = function (c) {\n        var m = c.match(/^rgba?\\(\\s*(\\d+)[\\s,]+(\\d+)[\\s,]+(\\d+)/);\n        if (m) {\n            return m[1] * 299 + m[2] * 587 + m[3] * 114 < 255 * 650;\n        }\n        m = c.match(/^#([\\dA-F]{2})([\\dA-F]{2})([\\dA-F]{2})/i);\n        if (m) {\n            var r = parseInt(m[1], 16);\n            var g = parseInt(m[2], 16);\n            var b = parseInt(m[3], 16);\n            return r * 299 + g * 587 + b * 114 < 255 * 650;\n        }\n        return true;\n    };\n\n    ProfileSVG.moveAndZoom = function (targetFocusX, targetScaleX, fig, deltaT) {\n        if (typeof deltaT === 'undefined') {\n            deltaT = DEFAULT_TRANSITION_TIME;\n        }\n\n        var targetFocusY = fig.cy;\n        var targetScaleY = 1;\n\n        // TODO: dynamically update the transformation while dragging\n        var mat = fig.viewport.node.transform.baseVal.consolidate().matrix;\n\n        var oldScaleX = mat.a;\n        var oldScaleY = mat.d;\n        var oldE = mat.e;\n        var oldF = mat.f;\n\n        var targetE = fig.cx - targetScaleX * targetFocusX;\n        var targetF = fig.cy - targetScaleY * targetFocusY;\n\n        fig.focusX = targetFocusX;\n        fig.focusY = targetFocusY;\n        fig.scaleX = targetScaleX;\n        fig.scaleY = targetScaleY;\n\n        var rects = undefined;\n        var pathrects = undefined;\n        if (fig.roundradius > 0) {\n            rects = fig.viewport.selectAll('rect');\n        } else {\n            pathrects = fig.viewport.selectAll('path');\n        }\n\n        var scaleViewport = function (step) {\n            var scaleX = oldScaleX + (targetScaleX - oldScaleX) * step;\n            var scaleY = oldScaleY + (targetScaleY - oldScaleY) * step;\n\n            var rMatrix = fig.viewport.node.transform.baseVal.consolidate().matrix;\n            rMatrix.a = scaleX;\n            rMatrix.d = scaleY;\n            rMatrix.e = oldE + (targetE - oldE) * step; // TransX\n            rMatrix.f = oldF + (targetF - oldF) * step; // TransY\n\n            if (rects) {\n                rects.forEach(function (r) {\n                    var rect = r.node;\n                    rect.setAttribute('rx', Math.max(0.0, fig.roundradius / scaleX));\n                    rect.setAttribute('ry', Math.max(0.0, fig.roundradius / scaleY));\n                });\n            }\n        };\n\n        var finish = function () {\n            scaleViewport(1);\n            var scaleXt = 1.0 / targetScaleX;\n            var scaleYt = 1.0 / targetScaleY;\n            var updateText = function (text, x, y, w, shortinfo) {\n                var tMatrix = text.transform.baseVal.getItem(0).matrix;\n                tMatrix.a = scaleXt;\n                tMatrix.d = scaleYt;\n                tMatrix.e = (1.0 - scaleXt) * x;\n                tMatrix.f = (1.0 - scaleYt) * y;\n\n                text.firstChild.nodeValue = formatText(fig, shortinfo, w / scaleXt);\n                text.style.display = 'inherit';\n            };\n            if (rects) {\n                rects.forEach(function (r) {\n                    var rect = r.node;\n                    var x = rect.x.baseVal.value;\n                    var y = rect.y.baseVal.value;\n                    var w = rect.width.baseVal.value;\n                    var shortinfo = rect.getAttribute('data-shortinfo');\n                    updateText(rect.nextElementSibling, x, y, w, shortinfo);\n                });\n            }\n            if (pathrects) {\n                pathrects.forEach(function (p) {\n                    var path = p.node;\n                    // The API compatibility of path segments is problematic.\n                    var d = path.getAttribute('d');\n                    var values = d.match(/^M\\s*([\\d.]+)[\\s,]+(-?[\\d.]+)[^h]+h\\s*([\\d.]+)/);\n                    var x = Number(values[1]);\n                    var y = Number(values[2]);\n                    var w = Number(values[3]);\n                    var shortinfo = path.getAttribute('data-shortinfo');\n                    updateText(path.nextElementSibling, x, y, w, shortinfo);\n                });\n            }\n        };\n\n        if (deltaT != 0) {\n            if (!fig.notext) {\n                fig.viewport.selectAll('text').forEach(function (text) {\n                    text.node.style.display = 'none';\n                });\n            }\n            Snap.animate(0, 1, scaleViewport, deltaT, null, fig.notext ? null : finish);\n        } else {\n            if (!fig.notext) {\n                finish();\n            }\n        }\n\n    };\n\n    ProfileSVG.reset = function (fig) {\n        var w = fig.width - VIEWPORT_MARGIN_X;\n        var targetScaleX = fig.width / w * VIEWPORT_SCALE;\n        ProfileSVG.moveAndZoom(fig.cx, targetScaleX, fig);\n    };\n\n    ProfileSVG.initialize = function (figId) {\n\n        var svg = Snap.select('#' + figId);\n        var fig = {};\n        fig.id = figId;\n\n        var bg = svg.select('#' + figId + '-bg');\n        var bbox = bg.getBBox();\n        fig.width = bbox.width;\n        fig.height = bbox.height;\n        fig.cx = fig.width / 2;\n        fig.cy = fig.height / 2;\n\n        fig.viewport = svg.select('#' + figId + '-viewport');\n\n        fig.xstep = fig.viewport.node.getAttribute('data-xstep');\n        fig.tunit = fig.viewport.node.getAttribute('data-tunit');\n        fig.delay = fig.viewport.node.getAttribute('data-delay');\n\n        var texts = fig.viewport.selectAll('text');\n        fig.notext = false;\n        if (texts[0]) {\n            fig.notext = getComputedStyle(texts[0].node).strokeOpacity == 0.0;\n            texts.forEach(function (text) {\n                text.node.style.display = 'none';\n            });\n        }\n        texts = null;\n\n        fig.roundradius = 0.0;\n        var rect = fig.viewport.select('rect');\n        if (rect) {\n            fig.roundradius = rect.node.rx.baseVal.value;\n        }\n\n        fig.scaleX = 1.0;\n        fig.scaleY = 1.0; // prepare for the future\n        fig.focusX = fig.cx; // center x in the raw (scaleX=1) coordinate space\n        fig.focusY = fig.cy; // center y in the raw (scaleY=1) coordinate space\n\n        var textBg = document.createElementNS(NS_SVG, 'rect');\n        var detail = document.createElementNS(NS_SVG, 'text');\n        var time = document.createElementNS(NS_SVG, 'text');\n        detail.style.visibility = 'hidden';\n        detail.textContent = 'MOw';\n        fig.viewport.node.parentNode.appendChild(textBg);\n        fig.viewport.node.parentNode.appendChild(detail);\n        fig.viewport.node.parentNode.appendChild(time);\n        var mBBox = detail.getBBox();\n        fig.charWidthM = mBBox.width / 3;\n        detail.textContent = 'night';\n        var nBBox = detail.getBBox();\n        fig.charWidthN = nBBox.width / 5;\n        fig.textHeight = nBBox.height;\n        detail.style.display = 'none';\n        detail.style.visibility = 'visible';\n\n        detail.setAttribute('id', figId + '-details');\n        detail.setAttribute('x', fig.charWidthM);\n        detail.setAttribute('y', fig.height - fig.textHeight * 0.75);\n\n        time.setAttribute('x', fig.width - fig.charWidthM * 10);\n        time.setAttribute('y', fig.height - fig.textHeight * 0.75);\n\n        textBg.setAttribute('x', 0);\n        textBg.setAttribute('y', fig.height - fig.textHeight * 2);\n        textBg.setAttribute('width', fig.width);\n        textBg.setAttribute('height', fig.textHeight * 2);\n        var textBgFill = getComputedStyle(textBg).fill;\n        if (textBgFill == \"rgba(0, 0, 0, 0)\" || textBgFill == \"transparent\") {\n            var isDark = isDarkColor(getComputedStyle(detail).fill);\n            textBg.style.fill = isDark ? 'white' : 'black';\n        }\n        textBg.style.display = 'none';\n\n        ProfileSVG.reset(fig);\n\n        var rectDblClickHandler = function (e) {\n            var bbox = e.target.getBBox();\n            var cx = bbox.x + bbox.width / 2;\n            var targetScaleX = fig.width / bbox.width * VIEWPORT_SCALE;\n            ProfileSVG.moveAndZoom(cx, targetScaleX, fig);\n        };\n\n        var rectMouseOverHandler = function (e) {\n            var rect = e.target;\n            var text = rect.nextElementSibling;\n            var details = document.getElementById(fig.id + '-details');\n            text.style.strokeWidth = '1';\n            var sinfo = rect.getAttribute('data-shortinfo');\n            var dir = rect.getAttribute('data-dinfo');\n            var i = sinfo.indexOf(' in ');\n            var func = sinfo.slice(0, i + 4);\n            var file = sinfo.slice(i + 4);\n            var time = details.nextElementSibling;\n            details.textContent = 'Function: ' + func + dir + file;\n            details.style.display = 'inherit';\n            if (fig.delay) {\n                var count = Math.round(rect.width.baseVal.value / fig.xstep);\n                var t = count * (fig.tunit === 's' ? fig.delay :\n                    fig.tunit === 'ms' ? fig.delay * 1e3 :\n                        fig.tunit === 'us' || fig.tunit === 'μs' ? fig.delay * 1e6 : 1);\n                var tp = Math.round(t * 1000) / 1000;\n                time.textContent = 'Time: ' + tp + ' ' + fig.tunit;\n                time.style.display = 'inherit';\n            }\n            details.previousElementSibling.style.display = 'inherit';\n        };\n        var rectMouseOutHandler = function (e) {\n            var rect = e.target;\n            var text = rect.nextElementSibling;\n            var details = document.getElementById(fig.id + '-details');\n            text.style.strokeWidth = '0';\n            details.style.display = 'none';\n            details.previousElementSibling.style.display = 'none';\n            details.nextElementSibling.style.display = 'none';\n        };\n\n        var rects = fig.viewport.selectAll(fig.roundradius > 0 ? 'rect' : 'path');\n        rects.forEach(function (r) {\n            var rect = r.node;\n            var text = rect.nextElementSibling;\n            rect.setAttribute('data-shortinfo', unescapeHtml(text.textContent));\n            var dir = unescapeHtml(rect.getAttribute('data-dinfo'));\n            rect.setAttribute('data-dinfo', dir);\n            rect.addEventListener('dblclick', rectDblClickHandler, false);\n            rect.addEventListener('mouseover', rectMouseOverHandler, false);\n            rect.addEventListener('mouseout', rectMouseOutHandler, false);\n            var transform = svg.node.createSVGTransform();\n            text.transform.baseVal.initialize(transform); // matrix(1, 0, 0, 1, 0, 0)\n        });\n        rects = null;\n\n        bg.dblclick(function () {\n            ProfileSVG.reset(fig);\n        });\n\n        var mouseWheelHandler = throttle(400, stopper, function (e) {\n            var delta = Math.round(e.deltaY * 100);\n            if (delta == 0) {\n                return;\n            }\n            var scale = delta < 0 ? ZOOM_STEP : 1 / ZOOM_STEP;\n\n            var clientRect = svg.node.getBoundingClientRect();\n            var mx = e.clientX - clientRect.left;\n            //var my = e.clientY - clientRect.top;\n            var ctm = svg.node.getCTM();\n            var x = ctm ? (mx - ctm.e) / ctm.a : mx;\n            //var y = ctm ? (my - ctm.f) / ctm.d : my;\n            var px = (x - fig.cx) / fig.scaleX + fig.focusX;\n            var targetScaleX = Math.max(fig.scaleX * scale, 0.01);\n            var targetFocusX = fig.scaleX / targetScaleX * (fig.focusX - px) + px;\n            ProfileSVG.moveAndZoom(targetFocusX, targetScaleX, fig, 400);\n        });\n\n        svg.node.addEventListener('wheel', mouseWheelHandler, supportsPassive ? {\n            passive: false\n        } : false);\n\n        fig.viewport.drag();\n    };\n\n    return ProfileSVG;\n}));\n\n]]></script>\n<script><![CDATA[\nif (typeof require === 'function' && define.amd) {\n    require(['ProfileSVG'], function (ProfileSVG) {\n        ProfileSVG.initialize(\"fig-bb089b55f8a646cf9db5cea3c303272c\");\n    });\n} else {\n    ProfileSVG.initialize(\"fig-bb089b55f8a646cf9db5cea3c303272c\");\n}\n]]></script>\n</svg>\n",
      "text/html": [
       "<!DOCTYPE html>\n",
       "<html>\n",
       "<body>\n",
       "<svg version=\"1.1\" width=\"960\" height=\"301\" viewBox=\"0 0 960 301\"\n",
       "     xmlns=\"http://www.w3.org/2000/svg\" id=\"fig-3766b24ee6d64f6184be692856426494\">\n",
       "<defs>\n",
       "    <clipPath id=\"fig-3766b24ee6d64f6184be692856426494-clip\">\n",
       "        <rect x=\"0\" y=\"0\" width=\"960\" height=\"301\"/>\n",
       "    </clipPath>\n",
       "</defs>\n",
       "<style type=\"text/css\">\n",
       "    #fig-3766b24ee6d64f6184be692856426494 text {\n",
       "        pointer-events: none;\n",
       "        font-family: inherit;\n",
       "        font-size: 12px;\n",
       "        fill: #000000;\n",
       "    }\n",
       "    text#fig-3766b24ee6d64f6184be692856426494-caption {\n",
       "        font-size: 16.8px;\n",
       "        fill: #000000;\n",
       "        text-anchor: middle;\n",
       "    }\n",
       "    #fig-3766b24ee6d64f6184be692856426494-bg {\n",
       "        fill: #FFFFFF;\n",
       "    }\n",
       "    #fig-3766b24ee6d64f6184be692856426494-viewport rect, #fig-3766b24ee6d64f6184be692856426494-viewport path {\n",
       "        vector-effect: non-scaling-stroke;\n",
       "        fill-opacity: 1;\n",
       "    }\n",
       "    #fig-3766b24ee6d64f6184be692856426494-viewport text {\n",
       "        stroke: #000000;\n",
       "        stroke-width: 0;\n",
       "        stroke-opacity: 0.35;\n",
       "    }\n",
       "    #fig-3766b24ee6d64f6184be692856426494-viewport rect:hover, #fig-3766b24ee6d64f6184be692856426494-viewport path:hover {\n",
       "        fill-opacity: 0.75;\n",
       "        stroke: #000000;\n",
       "        stroke-width: 0.5;\n",
       "    }\n",
       "    #fig-3766b24ee6d64f6184be692856426494-viewport + rect {\n",
       "        fill: #FFFFFF;\n",
       "        opacity: 0.8;\n",
       "    }\n",
       "    text#fig-3766b24ee6d64f6184be692856426494-details{\n",
       "        fill: #000000;\n",
       "    }\n",
       "</style>\n",
       "<g id=\"fig-3766b24ee6d64f6184be692856426494-frame\" clip-path=\"url(#fig-3766b24ee6d64f6184be692856426494-clip)\">\n",
       "<rect id=\"fig-3766b24ee6d64f6184be692856426494-bg\" x=\"0\" y=\"0\" width=\"960\" height=\"301\"/>\n",
       "<text id=\"fig-3766b24ee6d64f6184be692856426494-caption\" x=\"480\" y=\"24\">Profile results</text>\n",
       "<g id=\"fig-3766b24ee6d64f6184be692856426494-viewport\" transform=\"scale(1)\">\n",
       "<rect x=\"10\" y=\"248\" width=\"940.58\" height=\"15\" rx=\"2\" fill=\"#F3004D\" data-dinfo=\"\"/>\n",
       "<text x=\"10\" dx=\"4\" y=\"259.25\"> in :-1</text>\n",
       "<rect x=\"10\" y=\"233\" width=\"940.58\" height=\"15\" rx=\"2\" fill=\"#00B58B\" data-dinfo=\"./\"/>\n",
       "<text x=\"10\" dx=\"4\" y=\"244.25\">#15 in task.jl:411</text>\n",
       "<rect x=\"10\" y=\"218\" width=\"940.58\" height=\"15\" rx=\"2\" fill=\"#E1B2FF\" data-dinfo=\"/home/mitchv34/.julia/packages/IJulia/e8kqU/src/\"/>\n",
       "<text x=\"10\" dx=\"4\" y=\"229.25\">eventloop in eventloop.jl:8</text>\n",
       "<rect x=\"10\" y=\"203\" width=\"940.58\" height=\"15\" rx=\"2\" fill=\"#00B58B\" data-dinfo=\"./\"/>\n",
       "<text x=\"10\" dx=\"4\" y=\"214.25\">invokelatest in essentials.jl:706</text>\n",
       "<rect x=\"10\" y=\"188\" width=\"940.58\" height=\"15\" rx=\"2\" fill=\"#F3004D\" data-dinfo=\"./\"/>\n",
       "<text x=\"10\" dx=\"4\" y=\"199.25\">#invokelatest#2 in essentials.jl:708</text>\n",
       "<rect x=\"10\" y=\"173\" width=\"940.58\" height=\"15\" rx=\"2\" fill=\"#D42137\" data-dinfo=\"/home/mitchv34/.julia/packages/IJulia/e8kqU/src/\"/>\n",
       "<text x=\"10\" dx=\"4\" y=\"184.25\">execute_request in execute_request.jl:67</text>\n",
       "<rect x=\"10\" y=\"158\" width=\"940.58\" height=\"15\" rx=\"2\" fill=\"#E1B2FF\" data-dinfo=\"/home/mitchv34/.julia/packages/SoftGlobalScope/u4UzH/src/\"/>\n",
       "<text x=\"10\" dx=\"4\" y=\"169.25\">softscope_include_string in SoftGlobalScope.jl:65</text>\n",
       "<rect x=\"10\" y=\"143\" width=\"940.58\" height=\"15\" rx=\"2\" fill=\"#00B58B\" data-dinfo=\"./\"/>\n",
       "<text x=\"10\" dx=\"4\" y=\"154.25\">include_string in loading.jl:1116</text>\n",
       "<rect x=\"10\" y=\"128\" width=\"940.58\" height=\"15\" rx=\"2\" fill=\"#F3004D\" data-dinfo=\"./\"/>\n",
       "<text x=\"10\" dx=\"4\" y=\"139.25\">eval in boot.jl:360</text>\n",
       "<rect x=\"10\" y=\"113\" width=\"7.26\" height=\"15\" rx=\"2\" fill=\"#00B58B\" data-dinfo=\"./\"/>\n",
       "<text x=\"10\" dx=\"4\" y=\"124.25\">test in In[1]:5</text>\n",
       "<rect x=\"10\" y=\"98\" width=\"7.26\" height=\"15\" rx=\"2\" fill=\"#E1B2FF\" data-dinfo=\"./\"/>\n",
       "<text x=\"10\" dx=\"4\" y=\"109.25\">+ in promotion.jl:321</text>\n",
       "<rect x=\"10\" y=\"83\" width=\"7.26\" height=\"15\" rx=\"2\" fill=\"#00B58B\" data-dinfo=\"./\"/>\n",
       "<text x=\"10\" dx=\"4\" y=\"94.25\">promote in promotion.jl:292</text>\n",
       "<rect x=\"10\" y=\"68\" width=\"7.26\" height=\"15\" rx=\"2\" fill=\"#E1B2FF\" data-dinfo=\"./\"/>\n",
       "<text x=\"10\" dx=\"4\" y=\"79.25\">_promote in promotion.jl:269</text>\n",
       "<rect x=\"10\" y=\"53\" width=\"7.26\" height=\"15\" rx=\"2\" fill=\"#00B58B\" data-dinfo=\"./\"/>\n",
       "<text x=\"10\" dx=\"4\" y=\"64.25\">convert in number.jl:7</text>\n",
       "<rect x=\"10\" y=\"38\" width=\"7.26\" height=\"15\" rx=\"2\" fill=\"#E1B2FF\" data-dinfo=\"./\"/>\n",
       "<text x=\"10\" dx=\"4\" y=\"49.25\">Float64 in float.jl:94</text>\n",
       "<rect x=\"17.26\" y=\"113\" width=\"21.79\" height=\"15\" rx=\"2\" fill=\"#2CA3FF\" data-dinfo=\"./\"/>\n",
       "<text x=\"17.26\" dx=\"4\" y=\"124.25\">test in In[1]:6</text>\n",
       "<rect x=\"17.26\" y=\"98\" width=\"21.79\" height=\"15\" rx=\"2\" fill=\"#6FDC91\" data-dinfo=\"./\"/>\n",
       "<text x=\"17.26\" dx=\"4\" y=\"109.25\">- in promotion.jl:323</text>\n",
       "<rect x=\"17.26\" y=\"83\" width=\"21.79\" height=\"15\" rx=\"2\" fill=\"#2CA3FF\" data-dinfo=\"./\"/>\n",
       "<text x=\"17.26\" dx=\"4\" y=\"94.25\">- in float.jl:329</text>\n",
       "<rect x=\"39.05\" y=\"113\" width=\"58.11\" height=\"15\" rx=\"2\" fill=\"#00B58B\" data-dinfo=\"./\"/>\n",
       "<text x=\"39.05\" dx=\"4\" y=\"124.25\">test in In[1]:7</text>\n",
       "<rect x=\"39.05\" y=\"98\" width=\"58.11\" height=\"15\" rx=\"2\" fill=\"#E1B2FF\" data-dinfo=\"./\"/>\n",
       "<text x=\"39.05\" dx=\"4\" y=\"109.25\">* in promotion.jl:322</text>\n",
       "<rect x=\"39.05\" y=\"83\" width=\"58.11\" height=\"15\" rx=\"2\" fill=\"#00B58B\" data-dinfo=\"./\"/>\n",
       "<text x=\"39.05\" dx=\"4\" y=\"94.25\">* in float.jl:332</text>\n",
       "<rect x=\"97.16\" y=\"113\" width=\"39.95\" height=\"15\" rx=\"2\" fill=\"#2CA3FF\" data-dinfo=\"./\"/>\n",
       "<text x=\"97.16\" dx=\"4\" y=\"124.25\">test in In[1]:8</text>\n",
       "<rect x=\"97.16\" y=\"98\" width=\"39.95\" height=\"15\" rx=\"2\" fill=\"#6FDC91\" data-dinfo=\"./\"/>\n",
       "<text x=\"97.16\" dx=\"4\" y=\"109.25\">/ in promotion.jl:324</text>\n",
       "<rect x=\"97.16\" y=\"83\" width=\"39.95\" height=\"15\" rx=\"2\" fill=\"#2CA3FF\" data-dinfo=\"./\"/>\n",
       "<text x=\"97.16\" dx=\"4\" y=\"94.25\">/ in float.jl:335</text>\n",
       "<rect x=\"137.11\" y=\"113\" width=\"90.78\" height=\"15\" rx=\"2\" fill=\"#00B58B\" data-dinfo=\"./\"/>\n",
       "<text x=\"137.11\" dx=\"4\" y=\"124.25\">test in In[1]:9</text>\n",
       "<rect x=\"137.11\" y=\"98\" width=\"90.78\" height=\"15\" rx=\"2\" fill=\"#E1B2FF\" data-dinfo=\"./\"/>\n",
       "<text x=\"137.11\" dx=\"4\" y=\"109.25\">abs in float.jl:441</text>\n",
       "<rect x=\"227.89\" y=\"113\" width=\"700.9\" height=\"15\" rx=\"2\" fill=\"#2CA3FF\" data-dinfo=\"./\"/>\n",
       "<text x=\"227.89\" dx=\"4\" y=\"124.25\">test in In[1]:10</text>\n",
       "<rect x=\"227.89\" y=\"98\" width=\"10.9\" height=\"15\" rx=\"2\" fill=\"#6FDC91\" data-dinfo=\"./special/\"/>\n",
       "<text x=\"227.89\" dx=\"4\" y=\"109.25\">log in log.jl:0</text>\n",
       "<rect x=\"238.79\" y=\"98\" width=\"29.05\" height=\"15\" rx=\"2\" fill=\"#E1B2FF\" data-dinfo=\"./special/\"/>\n",
       "<text x=\"238.79\" dx=\"4\" y=\"109.25\">log in log.jl:254</text>\n",
       "<rect x=\"238.79\" y=\"83\" width=\"10.89\" height=\"15\" rx=\"2\" fill=\"#00B58B\" data-dinfo=\"./\"/>\n",
       "<text x=\"238.79\" dx=\"4\" y=\"94.25\">&amp;gt; in operators.jl:305</text>\n",
       "<rect x=\"238.79\" y=\"68\" width=\"10.89\" height=\"15\" rx=\"2\" fill=\"#6FDC91\" data-dinfo=\"./\"/>\n",
       "<text x=\"238.79\" dx=\"4\" y=\"79.25\">&amp;lt; in float.jl:371</text>\n",
       "<rect x=\"267.84\" y=\"98\" width=\"32.69\" height=\"15\" rx=\"2\" fill=\"#6FDC91\" data-dinfo=\"./special/\"/>\n",
       "<text x=\"267.84\" dx=\"4\" y=\"109.25\">log in log.jl:258</text>\n",
       "<rect x=\"267.84\" y=\"83\" width=\"7.27\" height=\"15\" rx=\"2\" fill=\"#2CA3FF\" data-dinfo=\"./\"/>\n",
       "<text x=\"267.84\" dx=\"4\" y=\"94.25\">&amp;lt; in float.jl:371</text>\n",
       "<rect x=\"300.53\" y=\"98\" width=\"14.52\" height=\"15\" rx=\"2\" fill=\"#E1B2FF\" data-dinfo=\"./special/\"/>\n",
       "<text x=\"300.53\" dx=\"4\" y=\"109.25\">log in log.jl:259</text>\n",
       "<rect x=\"300.53\" y=\"83\" width=\"14.52\" height=\"15\" rx=\"2\" fill=\"#00B58B\" data-dinfo=\"./\"/>\n",
       "<text x=\"300.53\" dx=\"4\" y=\"94.25\">- in float.jl:329</text>\n",
       "<rect x=\"315.05\" y=\"98\" width=\"39.95\" height=\"15\" rx=\"2\" fill=\"#6FDC91\" data-dinfo=\"./special/\"/>\n",
       "<text x=\"315.05\" dx=\"4\" y=\"109.25\">log in log.jl:260</text>\n",
       "<rect x=\"315.05\" y=\"83\" width=\"3.63\" height=\"15\" rx=\"2\" fill=\"#2CA3FF\" data-dinfo=\"./special/\"/>\n",
       "<text x=\"315.05\" dx=\"4\" y=\"94.25\">log_proc2 in log.jl:184</text>\n",
       "<rect x=\"315.05\" y=\"68\" width=\"3.63\" height=\"15\" rx=\"2\" fill=\"#E1B2FF\" data-dinfo=\"./\"/>\n",
       "<text x=\"315.05\" dx=\"4\" y=\"79.25\">+ in float.jl:326</text>\n",
       "<rect x=\"318.68\" y=\"83\" width=\"18.16\" height=\"15\" rx=\"2\" fill=\"#00B58B\" data-dinfo=\"./special/\"/>\n",
       "<text x=\"318.68\" dx=\"4\" y=\"94.25\">log_proc2 in log.jl:185</text>\n",
       "<rect x=\"318.68\" y=\"68\" width=\"18.16\" height=\"15\" rx=\"2\" fill=\"#6FDC91\" data-dinfo=\"./\"/>\n",
       "<text x=\"318.68\" dx=\"4\" y=\"79.25\">* in operators.jl:560</text>\n",
       "<rect x=\"318.68\" y=\"53\" width=\"18.16\" height=\"15\" rx=\"2\" fill=\"#2CA3FF\" data-dinfo=\"./\"/>\n",
       "<text x=\"318.68\" dx=\"4\" y=\"64.25\">* in float.jl:332</text>\n",
       "<rect x=\"336.84\" y=\"83\" width=\"3.63\" height=\"15\" rx=\"2\" fill=\"#2CA3FF\" data-dinfo=\"./special/\"/>\n",
       "<text x=\"336.84\" dx=\"4\" y=\"94.25\">log_proc2 in log.jl:186</text>\n",
       "<rect x=\"336.84\" y=\"68\" width=\"3.63\" height=\"15\" rx=\"2\" fill=\"#E1B2FF\" data-dinfo=\"./\"/>\n",
       "<text x=\"336.84\" dx=\"4\" y=\"79.25\">* in float.jl:332</text>\n",
       "<rect x=\"340.47\" y=\"83\" width=\"3.64\" height=\"15\" rx=\"2\" fill=\"#00B58B\" data-dinfo=\"./special/\"/>\n",
       "<text x=\"340.47\" dx=\"4\" y=\"94.25\">log_proc2 in log.jl:189</text>\n",
       "<rect x=\"340.47\" y=\"68\" width=\"3.64\" height=\"15\" rx=\"2\" fill=\"#6FDC91\" data-dinfo=\"./\"/>\n",
       "<text x=\"340.47\" dx=\"4\" y=\"79.25\">evalpoly in math.jl:131</text>\n",
       "<rect x=\"340.47\" y=\"53\" width=\"3.64\" height=\"15\" rx=\"2\" fill=\"#00B58B\" data-dinfo=\"./\"/>\n",
       "<text x=\"340.47\" dx=\"4\" y=\"64.25\">macro expansion in math.jl:132</text>\n",
       "<rect x=\"340.47\" y=\"38\" width=\"3.64\" height=\"15\" rx=\"2\" fill=\"#6FDC91\" data-dinfo=\"./\"/>\n",
       "<text x=\"340.47\" dx=\"4\" y=\"49.25\">muladd in float.jl:339</text>\n",
       "<rect x=\"344.11\" y=\"83\" width=\"3.63\" height=\"15\" rx=\"2\" fill=\"#2CA3FF\" data-dinfo=\"./special/\"/>\n",
       "<text x=\"344.11\" dx=\"4\" y=\"94.25\">log_proc2 in log.jl:209</text>\n",
       "<rect x=\"344.11\" y=\"68\" width=\"3.63\" height=\"15\" rx=\"2\" fill=\"#E1B2FF\" data-dinfo=\"./\"/>\n",
       "<text x=\"344.11\" dx=\"4\" y=\"79.25\">+ in float.jl:326</text>\n",
       "<rect x=\"355\" y=\"98\" width=\"25.42\" height=\"15\" rx=\"2\" fill=\"#E1B2FF\" data-dinfo=\"./special/\"/>\n",
       "<text x=\"355\" dx=\"4\" y=\"109.25\">log in log.jl:265</text>\n",
       "<rect x=\"355\" y=\"83\" width=\"25.42\" height=\"15\" rx=\"2\" fill=\"#00B58B\" data-dinfo=\"./\"/>\n",
       "<text x=\"355\" dx=\"4\" y=\"94.25\">&amp;gt;&amp;gt; in int.jl:462</text>\n",
       "<rect x=\"355\" y=\"68\" width=\"25.42\" height=\"15\" rx=\"2\" fill=\"#6FDC91\" data-dinfo=\"./\"/>\n",
       "<text x=\"355\" dx=\"4\" y=\"79.25\">&amp;gt;&amp;gt; in int.jl:456</text>\n",
       "<rect x=\"380.42\" y=\"98\" width=\"7.26\" height=\"15\" rx=\"2\" fill=\"#6FDC91\" data-dinfo=\"./special/\"/>\n",
       "<text x=\"380.42\" dx=\"4\" y=\"109.25\">log in log.jl:271</text>\n",
       "<rect x=\"380.42\" y=\"83\" width=\"7.26\" height=\"15\" rx=\"2\" fill=\"#2CA3FF\" data-dinfo=\"./\"/>\n",
       "<text x=\"380.42\" dx=\"4\" y=\"94.25\">- in int.jl:86</text>\n",
       "<rect x=\"387.68\" y=\"98\" width=\"32.69\" height=\"15\" rx=\"2\" fill=\"#E1B2FF\" data-dinfo=\"./special/\"/>\n",
       "<text x=\"387.68\" dx=\"4\" y=\"109.25\">log in log.jl:272</text>\n",
       "<rect x=\"387.68\" y=\"83\" width=\"18.16\" height=\"15\" rx=\"2\" fill=\"#00B58B\" data-dinfo=\"./\"/>\n",
       "<text x=\"387.68\" dx=\"4\" y=\"94.25\">reinterpret in essentials.jl:422</text>\n",
       "<rect x=\"405.84\" y=\"83\" width=\"14.53\" height=\"15\" rx=\"2\" fill=\"#2CA3FF\" data-dinfo=\"./\"/>\n",
       "<text x=\"405.84\" dx=\"4\" y=\"94.25\">&amp; in int.jl:309</text>\n",
       "<rect x=\"420.37\" y=\"98\" width=\"10.89\" height=\"15\" rx=\"2\" fill=\"#6FDC91\" data-dinfo=\"./special/\"/>\n",
       "<text x=\"420.37\" dx=\"4\" y=\"109.25\">log in log.jl:274</text>\n",
       "<rect x=\"420.37\" y=\"83\" width=\"10.89\" height=\"15\" rx=\"2\" fill=\"#00B58B\" data-dinfo=\"./\"/>\n",
       "<text x=\"420.37\" dx=\"4\" y=\"94.25\">Float64 in float.jl:94</text>\n",
       "<rect x=\"431.26\" y=\"98\" width=\"50.85\" height=\"15\" rx=\"2\" fill=\"#E1B2FF\" data-dinfo=\"./special/\"/>\n",
       "<text x=\"431.26\" dx=\"4\" y=\"109.25\">log in log.jl:275</text>\n",
       "<rect x=\"431.26\" y=\"83\" width=\"47.21\" height=\"15\" rx=\"2\" fill=\"#2CA3FF\" data-dinfo=\"./\"/>\n",
       "<text x=\"431.26\" dx=\"4\" y=\"94.25\">+ in float.jl:326</text>\n",
       "<rect x=\"478.47\" y=\"83\" width=\"3.64\" height=\"15\" rx=\"2\" fill=\"#00B58B\" data-dinfo=\"./\"/>\n",
       "<text x=\"478.47\" dx=\"4\" y=\"94.25\">- in float.jl:329</text>\n",
       "<rect x=\"482.11\" y=\"98\" width=\"18.15\" height=\"15\" rx=\"2\" fill=\"#6FDC91\" data-dinfo=\"./special/\"/>\n",
       "<text x=\"482.11\" dx=\"4\" y=\"109.25\">log in log.jl:276</text>\n",
       "<rect x=\"482.11\" y=\"83\" width=\"18.15\" height=\"15\" rx=\"2\" fill=\"#2CA3FF\" data-dinfo=\"./\"/>\n",
       "<text x=\"482.11\" dx=\"4\" y=\"94.25\">- in float.jl:329</text>\n",
       "<rect x=\"500.26\" y=\"98\" width=\"54.48\" height=\"15\" rx=\"2\" fill=\"#E1B2FF\" data-dinfo=\"./special/\"/>\n",
       "<text x=\"500.26\" dx=\"4\" y=\"109.25\">log in log.jl:277</text>\n",
       "<rect x=\"500.26\" y=\"83\" width=\"50.85\" height=\"15\" rx=\"2\" fill=\"#00B58B\" data-dinfo=\"./\"/>\n",
       "<text x=\"500.26\" dx=\"4\" y=\"94.25\">* in float.jl:332</text>\n",
       "<rect x=\"551.11\" y=\"83\" width=\"3.63\" height=\"15\" rx=\"2\" fill=\"#2CA3FF\" data-dinfo=\"./\"/>\n",
       "<text x=\"551.11\" dx=\"4\" y=\"94.25\">unsafe_trunc in float.jl:239</text>\n",
       "<rect x=\"554.74\" y=\"98\" width=\"355.89\" height=\"15\" rx=\"2\" fill=\"#6FDC91\" data-dinfo=\"./special/\"/>\n",
       "<text x=\"554.74\" dx=\"4\" y=\"109.25\">log in log.jl:279</text>\n",
       "<rect x=\"554.74\" y=\"83\" width=\"69\" height=\"15\" rx=\"2\" fill=\"#00B58B\" data-dinfo=\"./special/\"/>\n",
       "<text x=\"554.74\" dx=\"4\" y=\"94.25\">log_proc1 in log.jl:156</text>\n",
       "<rect x=\"554.74\" y=\"68\" width=\"50.84\" height=\"15\" rx=\"2\" fill=\"#E1B2FF\" data-dinfo=\"./\"/>\n",
       "<text x=\"554.74\" dx=\"4\" y=\"79.25\">getindex in tuple.jl:29</text>\n",
       "<rect x=\"605.58\" y=\"68\" width=\"18.16\" height=\"15\" rx=\"2\" fill=\"#6FDC91\" data-dinfo=\"./\"/>\n",
       "<text x=\"605.58\" dx=\"4\" y=\"79.25\">indexed_iterate in tuple.jl:86</text>\n",
       "<rect x=\"605.58\" y=\"53\" width=\"18.16\" height=\"15\" rx=\"2\" fill=\"#2CA3FF\" data-dinfo=\"./\"/>\n",
       "<text x=\"605.58\" dx=\"4\" y=\"64.25\">indexed_iterate in tuple.jl:86</text>\n",
       "<rect x=\"623.74\" y=\"83\" width=\"87.15\" height=\"15\" rx=\"2\" fill=\"#2CA3FF\" data-dinfo=\"./special/\"/>\n",
       "<text x=\"623.74\" dx=\"4\" y=\"94.25\">log_proc1 in log.jl:158</text>\n",
       "<rect x=\"623.74\" y=\"68\" width=\"87.15\" height=\"15\" rx=\"2\" fill=\"#E1B2FF\" data-dinfo=\"./\"/>\n",
       "<text x=\"623.74\" dx=\"4\" y=\"79.25\">* in float.jl:332</text>\n",
       "<rect x=\"710.89\" y=\"83\" width=\"10.9\" height=\"15\" rx=\"2\" fill=\"#00B58B\" data-dinfo=\"./special/\"/>\n",
       "<text x=\"710.89\" dx=\"4\" y=\"94.25\">log_proc1 in log.jl:171</text>\n",
       "<rect x=\"710.89\" y=\"68\" width=\"10.9\" height=\"15\" rx=\"2\" fill=\"#6FDC91\" data-dinfo=\"./\"/>\n",
       "<text x=\"710.89\" dx=\"4\" y=\"79.25\">* in float.jl:332</text>\n",
       "<rect x=\"721.79\" y=\"83\" width=\"32.68\" height=\"15\" rx=\"2\" fill=\"#2CA3FF\" data-dinfo=\"./special/\"/>\n",
       "<text x=\"721.79\" dx=\"4\" y=\"94.25\">log_proc1 in log.jl:172</text>\n",
       "<rect x=\"721.79\" y=\"68\" width=\"32.68\" height=\"15\" rx=\"2\" fill=\"#E1B2FF\" data-dinfo=\"./\"/>\n",
       "<text x=\"721.79\" dx=\"4\" y=\"79.25\">* in float.jl:332</text>\n",
       "<rect x=\"754.47\" y=\"83\" width=\"43.58\" height=\"15\" rx=\"2\" fill=\"#00B58B\" data-dinfo=\"./special/\"/>\n",
       "<text x=\"754.47\" dx=\"4\" y=\"94.25\">log_proc1 in log.jl:173</text>\n",
       "<rect x=\"754.47\" y=\"68\" width=\"43.58\" height=\"15\" rx=\"2\" fill=\"#6FDC91\" data-dinfo=\"./\"/>\n",
       "<text x=\"754.47\" dx=\"4\" y=\"79.25\">* in operators.jl:560</text>\n",
       "<rect x=\"754.47\" y=\"53\" width=\"43.58\" height=\"15\" rx=\"2\" fill=\"#00B58B\" data-dinfo=\"./\"/>\n",
       "<text x=\"754.47\" dx=\"4\" y=\"64.25\">* in float.jl:332</text>\n",
       "<rect x=\"798.05\" y=\"83\" width=\"83.53\" height=\"15\" rx=\"2\" fill=\"#2CA3FF\" data-dinfo=\"./special/\"/>\n",
       "<text x=\"798.05\" dx=\"4\" y=\"94.25\">log_proc1 in log.jl:178</text>\n",
       "<rect x=\"798.05\" y=\"68\" width=\"83.53\" height=\"15\" rx=\"2\" fill=\"#E1B2FF\" data-dinfo=\"./\"/>\n",
       "<text x=\"798.05\" dx=\"4\" y=\"79.25\">+ in float.jl:326</text>\n",
       "<rect x=\"928.79\" y=\"113\" width=\"3.63\" height=\"15\" rx=\"2\" fill=\"#00B58B\" data-dinfo=\"./special/\"/>\n",
       "<text x=\"928.79\" dx=\"4\" y=\"124.25\">log in log.jl:0</text>\n",
       "<rect x=\"932.42\" y=\"113\" width=\"18.16\" height=\"15\" rx=\"2\" fill=\"#2CA3FF\" data-dinfo=\"./special/\"/>\n",
       "<text x=\"932.42\" dx=\"4\" y=\"124.25\">log in log.jl:264</text>\n",
       "<rect x=\"932.42\" y=\"98\" width=\"18.16\" height=\"15\" rx=\"2\" fill=\"#E1B2FF\" data-dinfo=\"./\"/>\n",
       "<text x=\"932.42\" dx=\"4\" y=\"109.25\">reinterpret in essentials.jl:422</text>\n",
       "</g></g>\n",
       "<script><![CDATA[\n",
       "// Snap.svg 0.3.0\n",
       "// \n",
       "// Copyright (c) 2013 Adobe Systems Incorporated. All rights reserved.\n",
       "// \n",
       "// Licensed under the Apache License, Version 2.0 (the \"License\");\n",
       "// you may not use this file except in compliance with the License.\n",
       "// You may obtain a copy of the License at\n",
       "// \n",
       "// http://www.apache.org/licenses/LICENSE-2.0\n",
       "// \n",
       "// Unless required by applicable law or agreed to in writing, software\n",
       "// distributed under the License is distributed on an \"AS IS\" BASIS,\n",
       "// WITHOUT WARRANTIES OR CONDITIONS OF ANY KIND, either express or implied.\n",
       "// See the License for the specific language governing permissions and\n",
       "// limitations under the License.\n",
       "// \n",
       "// build: 2014-06-03\n",
       "!function(a){var b,c,d=\"0.4.2\",e=\"hasOwnProperty\",f=/[\\.\\/]/,g=/\\s*,\\s*/,h=\"*\",i=function(a,b){return a-b},j={n:{}},k=function(){for(var a=0,b=this.length;b>a;a++)if(\"undefined\"!=typeof this[a])return this[a]},l=function(){for(var a=this.length;--a;)if(\"undefined\"!=typeof this[a])return this[a]},m=function(a,d){a=String(a);var e,f=c,g=Array.prototype.slice.call(arguments,2),h=m.listeners(a),j=0,n=[],o={},p=[],q=b;p.firstDefined=k,p.lastDefined=l,b=a,c=0;for(var r=0,s=h.length;s>r;r++)\"zIndex\"in h[r]&&(n.push(h[r].zIndex),h[r].zIndex<0&&(o[h[r].zIndex]=h[r]));for(n.sort(i);n[j]<0;)if(e=o[n[j++] ],p.push(e.apply(d,g)),c)return c=f,p;for(r=0;s>r;r++)if(e=h[r],\"zIndex\"in e)if(e.zIndex==n[j]){if(p.push(e.apply(d,g)),c)break;do if(j++,e=o[n[j] ],e&&p.push(e.apply(d,g)),c)break;while(e)}else o[e.zIndex]=e;else if(p.push(e.apply(d,g)),c)break;return c=f,b=q,p};m._events=j,m.listeners=function(a){var b,c,d,e,g,i,k,l,m=a.split(f),n=j,o=[n],p=[];for(e=0,g=m.length;g>e;e++){for(l=[],i=0,k=o.length;k>i;i++)for(n=o[i].n,c=[n[m[e] ],n[h] ],d=2;d--;)b=c[d],b&&(l.push(b),p=p.concat(b.f||[]));o=l}return p},m.on=function(a,b){if(a=String(a),\"function\"!=typeof b)return function(){};for(var c=a.split(g),d=0,e=c.length;e>d;d++)!function(a){for(var c,d=a.split(f),e=j,g=0,h=d.length;h>g;g++)e=e.n,e=e.hasOwnProperty(d[g])&&e[d[g] ]||(e[d[g] ]={n:{}});for(e.f=e.f||[],g=0,h=e.f.length;h>g;g++)if(e.f[g]==b){c=!0;break}!c&&e.f.push(b)}(c[d]);return function(a){+a==+a&&(b.zIndex=+a)}},m.f=function(a){var b=[].slice.call(arguments,1);return function(){m.apply(null,[a,null].concat(b).concat([].slice.call(arguments,0)))}},m.stop=function(){c=1},m.nt=function(a){return a?new RegExp(\"(?:\\\\.|\\\\/|^)\"+a+\"(?:\\\\.|\\\\/|$)\").test(b):b},m.nts=function(){return b.split(f)},m.off=m.unbind=function(a,b){if(!a)return void(m._events=j={n:{}});var c=a.split(g);if(c.length>1)for(var d=0,i=c.length;i>d;d++)m.off(c[d],b);else{c=a.split(f);var k,l,n,d,i,o,p,q=[j];for(d=0,i=c.length;i>d;d++)for(o=0;o<q.length;o+=n.length-2){if(n=[o,1],k=q[o].n,c[d]!=h)k[c[d] ]&&n.push(k[c[d] ]);else for(l in k)k[e](l)&&n.push(k[l]);q.splice.apply(q,n)}for(d=0,i=q.length;i>d;d++)for(k=q[d];k.n;){if(b){if(k.f){for(o=0,p=k.f.length;p>o;o++)if(k.f[o]==b){k.f.splice(o,1);break}!k.f.length&&delete k.f}for(l in k.n)if(k.n[e](l)&&k.n[l].f){var r=k.n[l].f;for(o=0,p=r.length;p>o;o++)if(r[o]==b){r.splice(o,1);break}!r.length&&delete k.n[l].f}}else{delete k.f;for(l in k.n)k.n[e](l)&&k.n[l].f&&delete k.n[l].f}k=k.n}}},m.once=function(a,b){var c=function(){return m.unbind(a,c),b.apply(this,arguments)};return m.on(a,c)},m.version=d,m.toString=function(){return\"You are running Eve \"+d},\"undefined\"!=typeof module&&module.exports?module.exports=m:\"function\"==typeof define&&define.amd?define(\"eve\",[],function(){return m}):a.eve=m}(this),function(a,b){\"function\"==typeof define&&define.amd?define('ProfileSVG/snap.svg', [\"eve\"],function(c){return b(a,c)}):b(a,a.eve)}(this,function(a,b){var c=function(b){var c={},d=a.requestAnimationFrame||a.webkitRequestAnimationFrame||a.mozRequestAnimationFrame||a.oRequestAnimationFrame||a.msRequestAnimationFrame||function(a){setTimeout(a,16)},e=Array.isArray||function(a){return a instanceof Array||\"[object Array]\"==Object.prototype.toString.call(a)},f=0,g=\"M\"+(+new Date).toString(36),h=function(){return g+(f++).toString(36)},i=Date.now||function(){return+new Date},j=function(a){var b=this;if(null==a)return b.s;var c=b.s-a;b.b+=b.dur*c,b.B+=b.dur*c,b.s=a},k=function(a){var b=this;return null==a?b.spd:void(b.spd=a)},l=function(a){var b=this;return null==a?b.dur:(b.s=b.s*a/b.dur,void(b.dur=a))},m=function(){var a=this;delete c[a.id],a.update(),b(\"mina.stop.\"+a.id,a)},n=function(){var a=this;a.pdif||(delete c[a.id],a.update(),a.pdif=a.get()-a.b)},o=function(){var a=this;a.pdif&&(a.b=a.get()-a.pdif,delete a.pdif,c[a.id]=a)},p=function(){var a,b=this;if(e(b.start)){a=[];for(var c=0,d=b.start.length;d>c;c++)a[c]=+b.start[c]+(b.end[c]-b.start[c])*b.easing(b.s)}else a=+b.start+(b.end-b.start)*b.easing(b.s);b.set(a)},q=function(){var a=0;for(var e in c)if(c.hasOwnProperty(e)){var f=c[e],g=f.get();a++,f.s=(g-f.b)/(f.dur/f.spd),f.s>=1&&(delete c[e],f.s=1,a--,function(a){setTimeout(function(){b(\"mina.finish.\"+a.id,a)})}(f)),f.update()}a&&d(q)},r=function(a,b,e,f,g,i,s){var t={id:h(),start:a,end:b,b:e,s:0,dur:f-e,spd:1,get:g,set:i,easing:s||r.linear,status:j,speed:k,duration:l,stop:m,pause:n,resume:o,update:p};c[t.id]=t;var u,v=0;for(u in c)if(c.hasOwnProperty(u)&&(v++,2==v))break;return 1==v&&d(q),t};return r.time=i,r.getById=function(a){return c[a]||null},r.linear=function(a){return a},r.easeout=function(a){return Math.pow(a,1.7)},r.easein=function(a){return Math.pow(a,.48)},r.easeinout=function(a){if(1==a)return 1;if(0==a)return 0;var b=.48-a/1.04,c=Math.sqrt(.1734+b*b),d=c-b,e=Math.pow(Math.abs(d),1/3)*(0>d?-1:1),f=-c-b,g=Math.pow(Math.abs(f),1/3)*(0>f?-1:1),h=e+g+.5;return 3*(1-h)*h*h+h*h*h},r.backin=function(a){if(1==a)return 1;var b=1.70158;return a*a*((b+1)*a-b)},r.backout=function(a){if(0==a)return 0;a-=1;var b=1.70158;return a*a*((b+1)*a+b)+1},r.elastic=function(a){return a==!!a?a:Math.pow(2,-10*a)*Math.sin(2*(a-.075)*Math.PI/.3)+1},r.bounce=function(a){var b,c=7.5625,d=2.75;return 1/d>a?b=c*a*a:2/d>a?(a-=1.5/d,b=c*a*a+.75):2.5/d>a?(a-=2.25/d,b=c*a*a+.9375):(a-=2.625/d,b=c*a*a+.984375),b},a.mina=r,r}(\"undefined\"==typeof b?function(){}:b),d=function(){function d(a,b){if(a){if(a.tagName)return y(a);if(f(a,\"array\")&&d.set)return d.set.apply(d,a);if(a instanceof u)return a;if(null==b)return a=z.doc.querySelector(a),y(a)}return a=null==a?\"100%\":a,b=null==b?\"100%\":b,new x(a,b)}function e(a,b){if(b){if(\"#text\"==a&&(a=z.doc.createTextNode(b.text||\"\")),\"string\"==typeof a&&(a=e(a)),\"string\"==typeof b)return\"xlink:\"==b.substring(0,6)?a.getAttributeNS(W,b.substring(6)):\"xml:\"==b.substring(0,4)?a.getAttributeNS(X,b.substring(4)):a.getAttribute(b);for(var c in b)if(b[A](c)){var d=B(b[c]);d?\"xlink:\"==c.substring(0,6)?a.setAttributeNS(W,c.substring(6),d):\"xml:\"==c.substring(0,4)?a.setAttributeNS(X,c.substring(4),d):a.setAttribute(c,d):a.removeAttribute(c)}}else a=z.doc.createElementNS(X,a);return a}function f(a,b){return b=B.prototype.toLowerCase.call(b),\"finite\"==b?isFinite(a):\"array\"==b&&(a instanceof Array||Array.isArray&&Array.isArray(a))?!0:\"null\"==b&&null===a||b==typeof a&&null!==a||\"object\"==b&&a===Object(a)||L.call(a).slice(8,-1).toLowerCase()==b}function h(a){if(\"function\"==typeof a||Object(a)!==a)return a;var b=new a.constructor;for(var c in a)a[A](c)&&(b[c]=h(a[c]));return b}function i(a,b){for(var c=0,d=a.length;d>c;c++)if(a[c]===b)return a.push(a.splice(c,1)[0])}function j(a,b,c){function d(){var e=Array.prototype.slice.call(arguments,0),f=e.join(\"␀\"),g=d.cache=d.cache||{},h=d.count=d.count||[];return g[A](f)?(i(h,f),c?c(g[f]):g[f]):(h.length>=1e3&&delete g[h.shift()],h.push(f),g[f]=a.apply(b,e),c?c(g[f]):g[f])}return d}function k(a,b,c,d,e,f){if(null==e){var g=a-c,h=b-d;return g||h?(180+180*E.atan2(-h,-g)/I+360)%360:0}return k(a,b,e,f)-k(c,d,e,f)}function l(a){return a%360*I/180}function m(a){return 180*a/I%360}function n(a){var b=[];return a=a.replace(/(?:^|\\s)(\\w+)\\(([^)]+)\\)/g,function(a,c,d){return d=d.split(/\\s*,\\s*|\\s+/),\"rotate\"==c&&1==d.length&&d.push(0,0),\"scale\"==c&&(d.length>2?d=d.slice(0,2):2==d.length&&d.push(0,0),1==d.length&&d.push(d[0],0,0)),b.push(\"skewX\"==c?[\"m\",1,0,E.tan(l(d[0])),1,0,0]:\"skewY\"==c?[\"m\",1,E.tan(l(d[0])),0,1,0,0]:[c.charAt(0)].concat(d)),a}),b}function o(a,b){var c=eb(a),e=new d.Matrix;if(c)for(var f=0,g=c.length;g>f;f++){var h,i,j,k,l,m=c[f],n=m.length,o=B(m[0]).toLowerCase(),p=m[0]!=o,q=p?e.invert():0;\"t\"==o&&2==n?e.translate(m[1],0):\"t\"==o&&3==n?p?(h=q.x(0,0),i=q.y(0,0),j=q.x(m[1],m[2]),k=q.y(m[1],m[2]),e.translate(j-h,k-i)):e.translate(m[1],m[2]):\"r\"==o?2==n?(l=l||b,e.rotate(m[1],l.x+l.width/2,l.y+l.height/2)):4==n&&(p?(j=q.x(m[2],m[3]),k=q.y(m[2],m[3]),e.rotate(m[1],j,k)):e.rotate(m[1],m[2],m[3])):\"s\"==o?2==n||3==n?(l=l||b,e.scale(m[1],m[n-1],l.x+l.width/2,l.y+l.height/2)):4==n?p?(j=q.x(m[2],m[3]),k=q.y(m[2],m[3]),e.scale(m[1],m[1],j,k)):e.scale(m[1],m[1],m[2],m[3]):5==n&&(p?(j=q.x(m[3],m[4]),k=q.y(m[3],m[4]),e.scale(m[1],m[2],j,k)):e.scale(m[1],m[2],m[3],m[4])):\"m\"==o&&7==n&&e.add(m[1],m[2],m[3],m[4],m[5],m[6])}return e}function p(a,b){if(null==b){var c=!0;if(b=a.node.getAttribute(\"linearGradient\"==a.type||\"radialGradient\"==a.type?\"gradientTransform\":\"pattern\"==a.type?\"patternTransform\":\"transform\"),!b)return new d.Matrix;b=n(b)}else b=d._.rgTransform.test(b)?B(b).replace(/\\.{3}|\\u2026/g,a._.transform||J):n(b),f(b,\"array\")&&(b=d.path?d.path.toString.call(b):B(b)),a._.transform=b;var e=o(b,a.getBBox(1));return c?e:void(a.matrix=e)}function q(a){var b=a.node.ownerSVGElement&&y(a.node.ownerSVGElement)||a.node.parentNode&&y(a.node.parentNode)||d.select(\"svg\")||d(0,0),c=b.select(\"defs\"),e=null==c?!1:c.node;return e||(e=w(\"defs\",b.node).node),e}function r(a){return a.node.ownerSVGElement&&y(a.node.ownerSVGElement)||d.select(\"svg\")}function s(a,b,c){function d(a){if(null==a)return J;if(a==+a)return a;e(j,{width:a});try{return j.getBBox().width}catch(b){return 0}}function f(a){if(null==a)return J;if(a==+a)return a;e(j,{height:a});try{return j.getBBox().height}catch(b){return 0}}function g(d,e){null==b?i[d]=e(a.attr(d)||0):d==b&&(i=e(null==c?a.attr(d)||0:c))}var h=r(a).node,i={},j=h.querySelector(\".svg---mgr\");switch(j||(j=e(\"rect\"),e(j,{x:-9e9,y:-9e9,width:10,height:10,\"class\":\"svg---mgr\",fill:\"none\"}),h.appendChild(j)),a.type){case\"rect\":g(\"rx\",d),g(\"ry\",f);case\"image\":g(\"width\",d),g(\"height\",f);case\"text\":g(\"x\",d),g(\"y\",f);break;case\"circle\":g(\"cx\",d),g(\"cy\",f),g(\"r\",d);break;case\"ellipse\":g(\"cx\",d),g(\"cy\",f),g(\"rx\",d),g(\"ry\",f);break;case\"line\":g(\"x1\",d),g(\"x2\",d),g(\"y1\",f),g(\"y2\",f);break;case\"marker\":g(\"refX\",d),g(\"markerWidth\",d),g(\"refY\",f),g(\"markerHeight\",f);break;case\"radialGradient\":g(\"fx\",d),g(\"fy\",f);break;case\"tspan\":g(\"dx\",d),g(\"dy\",f);break;default:g(b,d)}return h.removeChild(j),i}function t(a){f(a,\"array\")||(a=Array.prototype.slice.call(arguments,0));for(var b=0,c=0,d=this.node;this[b];)delete this[b++];for(b=0;b<a.length;b++)\"set\"==a[b].type?a[b].forEach(function(a){d.appendChild(a.node)}):d.appendChild(a[b].node);var e=d.childNodes;for(b=0;b<e.length;b++)this[c++]=y(e[b]);return this}function u(a){if(a.snap in Y)return Y[a.snap];var b,c=this.id=V();try{b=a.ownerSVGElement}catch(d){}if(this.node=a,b&&(this.paper=new x(b)),this.type=a.tagName,this.anims={},this._={transform:[]},a.snap=c,Y[c]=this,\"g\"==this.type&&(this.add=t),this.type in{g:1,mask:1,pattern:1})for(var e in x.prototype)x.prototype[A](e)&&(this[e]=x.prototype[e])}function v(a){this.node=a}function w(a,b){var c=e(a);b.appendChild(c);var d=y(c);return d}function x(a,b){var c,d,f,g=x.prototype;if(a&&\"svg\"==a.tagName){if(a.snap in Y)return Y[a.snap];var h=a.ownerDocument;c=new u(a),d=a.getElementsByTagName(\"desc\")[0],f=a.getElementsByTagName(\"defs\")[0],d||(d=e(\"desc\"),d.appendChild(h.createTextNode(\"Created with Snap\")),c.node.appendChild(d)),f||(f=e(\"defs\"),c.node.appendChild(f)),c.defs=f;for(var i in g)g[A](i)&&(c[i]=g[i]);c.paper=c.root=c}else c=w(\"svg\",z.doc.body),e(c.node,{height:b,version:1.1,width:a,xmlns:X});return c}function y(a){return a?a instanceof u||a instanceof v?a:a.tagName&&\"svg\"==a.tagName.toLowerCase()?new x(a):a.tagName&&\"object\"==a.tagName.toLowerCase()&&\"image/svg+xml\"==a.type?new x(a.contentDocument.getElementsByTagName(\"svg\")[0]):new u(a):a}d.version=\"0.3.0\",d.toString=function(){return\"Snap v\"+this.version},d._={};var z={win:a,doc:a.document};d._.glob=z;var A=\"hasOwnProperty\",B=String,C=parseFloat,D=parseInt,E=Math,F=E.max,G=E.min,H=E.abs,I=(E.pow,E.PI),J=(E.round,\"\"),K=\" \",L=Object.prototype.toString,M=/^\\s*((#[a-f\\d]{6})|(#[a-f\\d]{3})|rgba?\\(\\s*([\\d\\.]+%?\\s*,\\s*[\\d\\.]+%?\\s*,\\s*[\\d\\.]+%?(?:\\s*,\\s*[\\d\\.]+%?)?)\\s*\\)|hsba?\\(\\s*([\\d\\.]+(?:deg|\\xb0|%)?\\s*,\\s*[\\d\\.]+%?\\s*,\\s*[\\d\\.]+(?:%?\\s*,\\s*[\\d\\.]+)?%?)\\s*\\)|hsla?\\(\\s*([\\d\\.]+(?:deg|\\xb0|%)?\\s*,\\s*[\\d\\.]+%?\\s*,\\s*[\\d\\.]+(?:%?\\s*,\\s*[\\d\\.]+)?%?)\\s*\\))\\s*$/i,N=\"\t\\n\\x0b\\f\\r   ᠎             　\\u2028\\u2029\",O=(d._.separator=new RegExp(\"[,\"+N+\"]+\"),new RegExp(\"[\"+N+\"]\",\"g\"),new RegExp(\"[\"+N+\"]*,[\"+N+\"]*\")),P={hs:1,rg:1},Q=new RegExp(\"([a-z])[\"+N+\",]*((-?\\\\d*\\\\.?\\\\d*(?:e[\\\\-+]?\\\\d+)?[\"+N+\"]*,?[\"+N+\"]*)+)\",\"ig\"),R=new RegExp(\"([rstm])[\"+N+\",]*((-?\\\\d*\\\\.?\\\\d*(?:e[\\\\-+]?\\\\d+)?[\"+N+\"]*,?[\"+N+\"]*)+)\",\"ig\"),S=new RegExp(\"(-?\\\\d*\\\\.?\\\\d*(?:e[\\\\-+]?\\\\d+)?)[\"+N+\"]*,?[\"+N+\"]*\",\"ig\"),T=0,U=\"S\"+(+new Date).toString(36),V=function(){return U+(T++).toString(36)},W=\"http://www.w3.org/1999/xlink\",X=\"http://www.w3.org/2000/svg\",Y={},Z=d.url=function(a){return\"url('#\"+a+\"')\"};d._.$=e,d._.id=V,d.format=function(){var a=/\\{([^\\}]+)\\}/g,b=/(?:(?:^|\\.)(.+?)(?=\\[|\\.|$|\\()|\\[('|\")(.+?)\\2\\])(\\(\\))?/g,c=function(a,c,d){var e=d;return c.replace(b,function(a,b,c,d,f){b=b||d,e&&(b in e&&(e=e[b]),\"function\"==typeof e&&f&&(e=e()))}),e=(null==e||e==d?a:e)+\"\"};return function(b,d){return B(b).replace(a,function(a,b){return c(a,b,d)})}}(),d._.clone=h,d._.cacher=j,d.rad=l,d.deg=m,d.angle=k,d.is=f,d.snapTo=function(a,b,c){if(c=f(c,\"finite\")?c:10,f(a,\"array\")){for(var d=a.length;d--;)if(H(a[d]-b)<=c)return a[d]}else{a=+a;var e=b%a;if(c>e)return b-e;if(e>a-c)return b-e+a}return b},d.getRGB=j(function(a){if(!a||(a=B(a)).indexOf(\"-\")+1)return{r:-1,g:-1,b:-1,hex:\"none\",error:1,toString:bb};if(\"none\"==a)return{r:-1,g:-1,b:-1,hex:\"none\",toString:bb};if(!(P[A](a.toLowerCase().substring(0,2))||\"#\"==a.charAt())&&(a=$(a)),!a)return{r:-1,g:-1,b:-1,hex:\"none\",error:1,toString:bb};var b,c,e,g,h,i,j=a.match(M);return j?(j[2]&&(e=D(j[2].substring(5),16),c=D(j[2].substring(3,5),16),b=D(j[2].substring(1,3),16)),j[3]&&(e=D((h=j[3].charAt(3))+h,16),c=D((h=j[3].charAt(2))+h,16),b=D((h=j[3].charAt(1))+h,16)),j[4]&&(i=j[4].split(O),b=C(i[0]),\"%\"==i[0].slice(-1)&&(b*=2.55),c=C(i[1]),\"%\"==i[1].slice(-1)&&(c*=2.55),e=C(i[2]),\"%\"==i[2].slice(-1)&&(e*=2.55),\"rgba\"==j[1].toLowerCase().slice(0,4)&&(g=C(i[3])),i[3]&&\"%\"==i[3].slice(-1)&&(g/=100)),j[5]?(i=j[5].split(O),b=C(i[0]),\"%\"==i[0].slice(-1)&&(b/=100),c=C(i[1]),\"%\"==i[1].slice(-1)&&(c/=100),e=C(i[2]),\"%\"==i[2].slice(-1)&&(e/=100),(\"deg\"==i[0].slice(-3)||\"°\"==i[0].slice(-1))&&(b/=360),\"hsba\"==j[1].toLowerCase().slice(0,4)&&(g=C(i[3])),i[3]&&\"%\"==i[3].slice(-1)&&(g/=100),d.hsb2rgb(b,c,e,g)):j[6]?(i=j[6].split(O),b=C(i[0]),\"%\"==i[0].slice(-1)&&(b/=100),c=C(i[1]),\"%\"==i[1].slice(-1)&&(c/=100),e=C(i[2]),\"%\"==i[2].slice(-1)&&(e/=100),(\"deg\"==i[0].slice(-3)||\"°\"==i[0].slice(-1))&&(b/=360),\"hsla\"==j[1].toLowerCase().slice(0,4)&&(g=C(i[3])),i[3]&&\"%\"==i[3].slice(-1)&&(g/=100),d.hsl2rgb(b,c,e,g)):(b=G(E.round(b),255),c=G(E.round(c),255),e=G(E.round(e),255),g=G(F(g,0),1),j={r:b,g:c,b:e,toString:bb},j.hex=\"#\"+(16777216|e|c<<8|b<<16).toString(16).slice(1),j.opacity=f(g,\"finite\")?g:1,j)):{r:-1,g:-1,b:-1,hex:\"none\",error:1,toString:bb}},d),d.hsb=j(function(a,b,c){return d.hsb2rgb(a,b,c).hex}),d.hsl=j(function(a,b,c){return d.hsl2rgb(a,b,c).hex}),d.rgb=j(function(a,b,c,d){if(f(d,\"finite\")){var e=E.round;return\"rgba(\"+[e(a),e(b),e(c),+d.toFixed(2)]+\")\"}return\"#\"+(16777216|c|b<<8|a<<16).toString(16).slice(1)});var $=function(a){var b=z.doc.getElementsByTagName(\"head\")[0]||z.doc.getElementsByTagName(\"svg\")[0],c=\"rgb(255, 0, 0)\";return($=j(function(a){if(\"red\"==a.toLowerCase())return c;b.style.color=c,b.style.color=a;var d=z.doc.defaultView.getComputedStyle(b,J).getPropertyValue(\"color\");return d==c?null:d}))(a)},_=function(){return\"hsb(\"+[this.h,this.s,this.b]+\")\"},ab=function(){return\"hsl(\"+[this.h,this.s,this.l]+\")\"},bb=function(){return 1==this.opacity||null==this.opacity?this.hex:\"rgba(\"+[this.r,this.g,this.b,this.opacity]+\")\"},cb=function(a,b,c){if(null==b&&f(a,\"object\")&&\"r\"in a&&\"g\"in a&&\"b\"in a&&(c=a.b,b=a.g,a=a.r),null==b&&f(a,string)){var e=d.getRGB(a);a=e.r,b=e.g,c=e.b}return(a>1||b>1||c>1)&&(a/=255,b/=255,c/=255),[a,b,c]},db=function(a,b,c,e){a=E.round(255*a),b=E.round(255*b),c=E.round(255*c);var g={r:a,g:b,b:c,opacity:f(e,\"finite\")?e:1,hex:d.rgb(a,b,c),toString:bb};return f(e,\"finite\")&&(g.opacity=e),g};d.color=function(a){var b;return f(a,\"object\")&&\"h\"in a&&\"s\"in a&&\"b\"in a?(b=d.hsb2rgb(a),a.r=b.r,a.g=b.g,a.b=b.b,a.opacity=1,a.hex=b.hex):f(a,\"object\")&&\"h\"in a&&\"s\"in a&&\"l\"in a?(b=d.hsl2rgb(a),a.r=b.r,a.g=b.g,a.b=b.b,a.opacity=1,a.hex=b.hex):(f(a,\"string\")&&(a=d.getRGB(a)),f(a,\"object\")&&\"r\"in a&&\"g\"in a&&\"b\"in a&&!(\"error\"in a)?(b=d.rgb2hsl(a),a.h=b.h,a.s=b.s,a.l=b.l,b=d.rgb2hsb(a),a.v=b.b):(a={hex:\"none\"},a.r=a.g=a.b=a.h=a.s=a.v=a.l=-1,a.error=1)),a.toString=bb,a},d.hsb2rgb=function(a,b,c,d){f(a,\"object\")&&\"h\"in a&&\"s\"in a&&\"b\"in a&&(c=a.b,b=a.s,a=a.h,d=a.o),a*=360;var e,g,h,i,j;return a=a%360/60,j=c*b,i=j*(1-H(a%2-1)),e=g=h=c-j,a=~~a,e+=[j,i,0,0,i,j][a],g+=[i,j,j,i,0,0][a],h+=[0,0,i,j,j,i][a],db(e,g,h,d)},d.hsl2rgb=function(a,b,c,d){f(a,\"object\")&&\"h\"in a&&\"s\"in a&&\"l\"in a&&(c=a.l,b=a.s,a=a.h),(a>1||b>1||c>1)&&(a/=360,b/=100,c/=100),a*=360;var e,g,h,i,j;return a=a%360/60,j=2*b*(.5>c?c:1-c),i=j*(1-H(a%2-1)),e=g=h=c-j/2,a=~~a,e+=[j,i,0,0,i,j][a],g+=[i,j,j,i,0,0][a],h+=[0,0,i,j,j,i][a],db(e,g,h,d)},d.rgb2hsb=function(a,b,c){c=cb(a,b,c),a=c[0],b=c[1],c=c[2];var d,e,f,g;return f=F(a,b,c),g=f-G(a,b,c),d=0==g?null:f==a?(b-c)/g:f==b?(c-a)/g+2:(a-b)/g+4,d=(d+360)%6*60/360,e=0==g?0:g/f,{h:d,s:e,b:f,toString:_}},d.rgb2hsl=function(a,b,c){c=cb(a,b,c),a=c[0],b=c[1],c=c[2];var d,e,f,g,h,i;return g=F(a,b,c),h=G(a,b,c),i=g-h,d=0==i?null:g==a?(b-c)/i:g==b?(c-a)/i+2:(a-b)/i+4,d=(d+360)%6*60/360,f=(g+h)/2,e=0==i?0:.5>f?i/(2*f):i/(2-2*f),{h:d,s:e,l:f,toString:ab}},d.parsePathString=function(a){if(!a)return null;var b=d.path(a);if(b.arr)return d.path.clone(b.arr);var c={a:7,c:6,o:2,h:1,l:2,m:2,r:4,q:4,s:4,t:2,v:1,u:3,z:0},e=[];return f(a,\"array\")&&f(a[0],\"array\")&&(e=d.path.clone(a)),e.length||B(a).replace(Q,function(a,b,d){var f=[],g=b.toLowerCase();if(d.replace(S,function(a,b){b&&f.push(+b)}),\"m\"==g&&f.length>2&&(e.push([b].concat(f.splice(0,2))),g=\"l\",b=\"m\"==b?\"l\":\"L\"),\"o\"==g&&1==f.length&&e.push([b,f[0] ]),\"r\"==g)e.push([b].concat(f));else for(;f.length>=c[g]&&(e.push([b].concat(f.splice(0,c[g]))),c[g]););}),e.toString=d.path.toString,b.arr=d.path.clone(e),e};var eb=d.parseTransformString=function(a){if(!a)return null;var b=[];return f(a,\"array\")&&f(a[0],\"array\")&&(b=d.path.clone(a)),b.length||B(a).replace(R,function(a,c,d){{var e=[];c.toLowerCase()}d.replace(S,function(a,b){b&&e.push(+b)}),b.push([c].concat(e))}),b.toString=d.path.toString,b};d._.svgTransform2string=n,d._.rgTransform=new RegExp(\"^[a-z][\"+N+\"]*-?\\\\.?\\\\d\",\"i\"),d._.transform2matrix=o,d._unit2px=s;z.doc.contains||z.doc.compareDocumentPosition?function(a,b){var c=9==a.nodeType?a.documentElement:a,d=b&&b.parentNode;return a==d||!(!d||1!=d.nodeType||!(c.contains?c.contains(d):a.compareDocumentPosition&&16&a.compareDocumentPosition(d)))}:function(a,b){if(b)for(;b;)if(b=b.parentNode,b==a)return!0;return!1};d._.getSomeDefs=q,d._.getSomeSVG=r,d.select=function(a){return y(z.doc.querySelector(a))},d.selectAll=function(a){for(var b=z.doc.querySelectorAll(a),c=(d.set||Array)(),e=0;e<b.length;e++)c.push(y(b[e]));return c},setInterval(function(){for(var a in Y)if(Y[A](a)){var b=Y[a],c=b.node;(\"svg\"!=b.type&&!c.ownerSVGElement||\"svg\"==b.type&&(!c.parentNode||\"ownerSVGElement\"in c.parentNode&&!c.ownerSVGElement))&&delete Y[a]}},1e4),function(a){function g(a){function b(a,b){var c=e(a.node,b);c=c&&c.match(g),c=c&&c[2],c&&\"#\"==c.charAt()&&(c=c.substring(1),c&&(i[c]=(i[c]||[]).concat(function(c){var d={};d[b]=Z(c),e(a.node,d)})))}function c(a){var b=e(a.node,\"xlink:href\");b&&\"#\"==b.charAt()&&(b=b.substring(1),b&&(i[b]=(i[b]||[]).concat(function(b){a.attr(\"xlink:href\",\"#\"+b)})))}for(var d,f=a.selectAll(\"*\"),g=/^\\s*url\\((\"|'|)(.*)\\1\\)\\s*$/,h=[],i={},j=0,k=f.length;k>j;j++){d=f[j],b(d,\"fill\"),b(d,\"stroke\"),b(d,\"filter\"),b(d,\"mask\"),b(d,\"clip-path\"),c(d);var l=e(d.node,\"id\");l&&(e(d.node,{id:d.id}),h.push({old:l,id:d.id}))}for(j=0,k=h.length;k>j;j++){var m=i[h[j].old];if(m)for(var n=0,o=m.length;o>n;n++)m[n](h[j].id)}}function h(a,b,c){return function(d){var e=d.slice(a,b);return 1==e.length&&(e=e[0]),c?c(e):e}}function i(a){return function(){var b=a?\"<\"+this.type:\"\",c=this.node.attributes,d=this.node.childNodes;if(a)for(var e=0,f=c.length;f>e;e++)b+=\" \"+c[e].name+'=\"'+c[e].value.replace(/\"/g,'\\\\\"')+'\"';if(d.length){for(a&&(b+=\">\"),e=0,f=d.length;f>e;e++)3==d[e].nodeType?b+=d[e].nodeValue:1==d[e].nodeType&&(b+=y(d[e]).toString());a&&(b+=\"</\"+this.type+\">\")}else a&&(b+=\"/>\");return b}}a.attr=function(a,c){{var d=this;d.node}if(!a)return d;if(f(a,\"string\")){if(!(arguments.length>1))return b(\"snap.util.getattr.\"+a,d).firstDefined();var e={};e[a]=c,a=e}for(var g in a)a[A](g)&&b(\"snap.util.attr.\"+g,d,a[g]);return d},a.getBBox=function(a){if(!d.Matrix||!d.path)return this.node.getBBox();var b=this,c=new d.Matrix;if(b.removed)return d._.box();for(;\"use\"==b.type;)if(a||(c=c.add(b.transform().localMatrix.translate(b.attr(\"x\")||0,b.attr(\"y\")||0))),b.original)b=b.original;else{var e=b.attr(\"xlink:href\");b=b.original=b.node.ownerDocument.getElementById(e.substring(e.indexOf(\"#\")+1))}var f=b._,g=d.path.get[b.type]||d.path.get.deflt;try{return a?(f.bboxwt=g?d.path.getBBox(b.realPath=g(b)):d._.box(b.node.getBBox()),d._.box(f.bboxwt)):(b.realPath=g(b),b.matrix=b.transform().localMatrix,f.bbox=d.path.getBBox(d.path.map(b.realPath,c.add(b.matrix))),d._.box(f.bbox))}catch(h){return d._.box()}};var j=function(){return this.string};a.transform=function(a){var b=this._;if(null==a){for(var c,f=this,g=new d.Matrix(this.node.getCTM()),h=p(this),i=[h],k=new d.Matrix,l=h.toTransformString(),m=B(h)==B(this.matrix)?B(b.transform):l;\"svg\"!=f.type&&(f=f.parent());)i.push(p(f));for(c=i.length;c--;)k.add(i[c]);return{string:m,globalMatrix:g,totalMatrix:k,localMatrix:h,diffMatrix:g.clone().add(h.invert()),global:g.toTransformString(),total:k.toTransformString(),local:l,toString:j}}return a instanceof d.Matrix?this.matrix=a:p(this,a),this.node&&(\"linearGradient\"==this.type||\"radialGradient\"==this.type?e(this.node,{gradientTransform:this.matrix}):\"pattern\"==this.type?e(this.node,{patternTransform:this.matrix}):e(this.node,{transform:this.matrix})),this},a.parent=function(){return y(this.node.parentNode)},a.append=a.add=function(a){if(a){if(\"set\"==a.type){var b=this;return a.forEach(function(a){b.add(a)}),this}a=y(a),this.node.appendChild(a.node),a.paper=this.paper}return this},a.appendTo=function(a){return a&&(a=y(a),a.append(this)),this},a.prepend=function(a){if(a){if(\"set\"==a.type){var b,c=this;return a.forEach(function(a){b?b.after(a):c.prepend(a),b=a}),this}a=y(a);var d=a.parent();this.node.insertBefore(a.node,this.node.firstChild),this.add&&this.add(),a.paper=this.paper,this.parent()&&this.parent().add(),d&&d.add()}return this},a.prependTo=function(a){return a=y(a),a.prepend(this),this},a.before=function(a){if(\"set\"==a.type){var b=this;return a.forEach(function(a){var c=a.parent();b.node.parentNode.insertBefore(a.node,b.node),c&&c.add()}),this.parent().add(),this}a=y(a);var c=a.parent();return this.node.parentNode.insertBefore(a.node,this.node),this.parent()&&this.parent().add(),c&&c.add(),a.paper=this.paper,this},a.after=function(a){a=y(a);var b=a.parent();return this.node.nextSibling?this.node.parentNode.insertBefore(a.node,this.node.nextSibling):this.node.parentNode.appendChild(a.node),this.parent()&&this.parent().add(),b&&b.add(),a.paper=this.paper,this},a.insertBefore=function(a){a=y(a);var b=this.parent();return a.node.parentNode.insertBefore(this.node,a.node),this.paper=a.paper,b&&b.add(),a.parent()&&a.parent().add(),this},a.insertAfter=function(a){a=y(a);var b=this.parent();return a.node.parentNode.insertBefore(this.node,a.node.nextSibling),this.paper=a.paper,b&&b.add(),a.parent()&&a.parent().add(),this},a.remove=function(){var a=this.parent();return this.node.parentNode&&this.node.parentNode.removeChild(this.node),delete this.paper,this.removed=!0,a&&a.add(),this},a.select=function(a){return y(this.node.querySelector(a))},a.selectAll=function(a){for(var b=this.node.querySelectorAll(a),c=(d.set||Array)(),e=0;e<b.length;e++)c.push(y(b[e]));return c},a.asPX=function(a,b){return null==b&&(b=this.attr(a)),+s(this,a,b)},a.use=function(){var a,b=this.node.id;return b||(b=this.id,e(this.node,{id:b})),a=\"linearGradient\"==this.type||\"radialGradient\"==this.type||\"pattern\"==this.type?w(this.type,this.node.parentNode):w(\"use\",this.node.parentNode),e(a.node,{\"xlink:href\":\"#\"+b}),a.original=this,a};var k=/\\S+/g;a.addClass=function(a){var b,c,d,e,f=(a||\"\").match(k)||[],g=this.node,h=g.className.baseVal,i=h.match(k)||[];if(f.length){for(b=0;d=f[b++];)c=i.indexOf(d),~c||i.push(d);e=i.join(\" \"),h!=e&&(g.className.baseVal=e)}return this},a.removeClass=function(a){var b,c,d,e,f=(a||\"\").match(k)||[],g=this.node,h=g.className.baseVal,i=h.match(k)||[];if(i.length){for(b=0;d=f[b++];)c=i.indexOf(d),~c&&i.splice(c,1);e=i.join(\" \"),h!=e&&(g.className.baseVal=e)}return this},a.hasClass=function(a){var b=this.node,c=b.className.baseVal,d=c.match(k)||[];return!!~d.indexOf(a)},a.toggleClass=function(a,b){if(null!=b)return b?this.addClass(a):this.removeClass(a);var c,d,e,f,g=(a||\"\").match(k)||[],h=this.node,i=h.className.baseVal,j=i.match(k)||[];for(c=0;e=g[c++];)d=j.indexOf(e),~d?j.splice(d,1):j.push(e);return f=j.join(\" \"),i!=f&&(h.className.baseVal=f),this},a.clone=function(){var a=y(this.node.cloneNode(!0));return e(a.node,\"id\")&&e(a.node,{id:a.id}),g(a),a.insertAfter(this),a},a.toDefs=function(){var a=q(this);return a.appendChild(this.node),this},a.pattern=a.toPattern=function(a,b,c,d){var g=w(\"pattern\",q(this));return null==a&&(a=this.getBBox()),f(a,\"object\")&&\"x\"in a&&(b=a.y,c=a.width,d=a.height,a=a.x),e(g.node,{x:a,y:b,width:c,height:d,patternUnits:\"userSpaceOnUse\",id:g.id,viewBox:[a,b,c,d].join(\" \")}),g.node.appendChild(this.node),g},a.marker=function(a,b,c,d,g,h){var i=w(\"marker\",q(this));return null==a&&(a=this.getBBox()),f(a,\"object\")&&\"x\"in a&&(b=a.y,c=a.width,d=a.height,g=a.refX||a.cx,h=a.refY||a.cy,a=a.x),e(i.node,{viewBox:[a,b,c,d].join(K),markerWidth:c,markerHeight:d,orient:\"auto\",refX:g||0,refY:h||0,id:i.id}),i.node.appendChild(this.node),i};var l=function(a,b,d,e){\"function\"!=typeof d||d.length||(e=d,d=c.linear),this.attr=a,this.dur=b,d&&(this.easing=d),e&&(this.callback=e)};d._.Animation=l,d.animation=function(a,b,c,d){return new l(a,b,c,d)},a.inAnim=function(){var a=this,b=[];for(var c in a.anims)a.anims[A](c)&&!function(a){b.push({anim:new l(a._attrs,a.dur,a.easing,a._callback),mina:a,curStatus:a.status(),status:function(b){return a.status(b)},stop:function(){a.stop()}})}(a.anims[c]);return b},d.animate=function(a,d,e,f,g,h){\"function\"!=typeof g||g.length||(h=g,g=c.linear);var i=c.time(),j=c(a,d,i,i+f,c.time,e,g);return h&&b.once(\"mina.finish.\"+j.id,h),j},a.stop=function(){for(var a=this.inAnim(),b=0,c=a.length;c>b;b++)a[b].stop();return this},a.animate=function(a,d,e,g){\"function\"!=typeof e||e.length||(g=e,e=c.linear),a instanceof l&&(g=a.callback,e=a.easing,d=e.dur,a=a.attr);var i,j,k,m,n=[],o=[],p={},q=this;for(var r in a)if(a[A](r)){q.equal?(m=q.equal(r,B(a[r])),i=m.from,j=m.to,k=m.f):(i=+q.attr(r),j=+a[r]);var s=f(i,\"array\")?i.length:1;p[r]=h(n.length,n.length+s,k),n=n.concat(i),o=o.concat(j)}var t=c.time(),u=c(n,o,t,t+d,c.time,function(a){var b={};for(var c in p)p[A](c)&&(b[c]=p[c](a));q.attr(b)},e);return q.anims[u.id]=u,u._attrs=a,u._callback=g,b(\"snap.animcreated.\"+q.id,u),b.once(\"mina.finish.\"+u.id,function(){delete q.anims[u.id],g&&g.call(q)}),b.once(\"mina.stop.\"+u.id,function(){delete q.anims[u.id]}),q};var m={};a.data=function(a,c){var e=m[this.id]=m[this.id]||{};if(0==arguments.length)return b(\"snap.data.get.\"+this.id,this,e,null),e;if(1==arguments.length){if(d.is(a,\"object\")){for(var f in a)a[A](f)&&this.data(f,a[f]);return this}return b(\"snap.data.get.\"+this.id,this,e[a],a),e[a]}return e[a]=c,b(\"snap.data.set.\"+this.id,this,c,a),this},a.removeData=function(a){return null==a?m[this.id]={}:m[this.id]&&delete m[this.id][a],this},a.outerSVG=a.toString=i(1),a.innerSVG=i()}(u.prototype),d.parse=function(a){var b=z.doc.createDocumentFragment(),c=!0,d=z.doc.createElement(\"div\");if(a=B(a),a.match(/^\\s*<\\s*svg(?:\\s|>)/)||(a=\"<svg>\"+a+\"</svg>\",c=!1),d.innerHTML=a,a=d.getElementsByTagName(\"svg\")[0])if(c)b=a;else for(;a.firstChild;)b.appendChild(a.firstChild);return d.innerHTML=J,new v(b)},v.prototype.select=u.prototype.select,v.prototype.selectAll=u.prototype.selectAll,d.fragment=function(){for(var a=Array.prototype.slice.call(arguments,0),b=z.doc.createDocumentFragment(),c=0,e=a.length;e>c;c++){var f=a[c];f.node&&f.node.nodeType&&b.appendChild(f.node),f.nodeType&&b.appendChild(f),\"string\"==typeof f&&b.appendChild(d.parse(f).node)}return new v(b)},d._.make=w,d._.wrap=y,x.prototype.el=function(a,b){var c=w(a,this.node);return b&&c.attr(b),c},b.on(\"snap.util.getattr\",function(){var a=b.nt();a=a.substring(a.lastIndexOf(\".\")+1);var c=a.replace(/[A-Z]/g,function(a){return\"-\"+a.toLowerCase()});return fb[A](c)?this.node.ownerDocument.defaultView.getComputedStyle(this.node,null).getPropertyValue(c):e(this.node,a)});var fb={\"alignment-baseline\":0,\"baseline-shift\":0,clip:0,\"clip-path\":0,\"clip-rule\":0,color:0,\"color-interpolation\":0,\"color-interpolation-filters\":0,\"color-profile\":0,\"color-rendering\":0,cursor:0,direction:0,display:0,\"dominant-baseline\":0,\"enable-background\":0,fill:0,\"fill-opacity\":0,\"fill-rule\":0,filter:0,\"flood-color\":0,\"flood-opacity\":0,font:0,\"font-family\":0,\"font-size\":0,\"font-size-adjust\":0,\"font-stretch\":0,\"font-style\":0,\"font-variant\":0,\"font-weight\":0,\"glyph-orientation-horizontal\":0,\"glyph-orientation-vertical\":0,\"image-rendering\":0,kerning:0,\"letter-spacing\":0,\"lighting-color\":0,marker:0,\"marker-end\":0,\"marker-mid\":0,\"marker-start\":0,mask:0,opacity:0,overflow:0,\"pointer-events\":0,\"shape-rendering\":0,\"stop-color\":0,\"stop-opacity\":0,stroke:0,\"stroke-dasharray\":0,\"stroke-dashoffset\":0,\"stroke-linecap\":0,\"stroke-linejoin\":0,\"stroke-miterlimit\":0,\"stroke-opacity\":0,\"stroke-width\":0,\"text-anchor\":0,\"text-decoration\":0,\"text-rendering\":0,\"unicode-bidi\":0,visibility:0,\"word-spacing\":0,\"writing-mode\":0};b.on(\"snap.util.attr\",function(a){var c=b.nt(),d={};c=c.substring(c.lastIndexOf(\".\")+1),d[c]=a;var f=c.replace(/-(\\w)/gi,function(a,b){return b.toUpperCase()}),g=c.replace(/[A-Z]/g,function(a){return\"-\"+a.toLowerCase()});fb[A](g)?this.node.style[f]=null==a?J:a:e(this.node,d)}),function(){}(x.prototype),d.ajax=function(a,c,d,e){var g=new XMLHttpRequest,h=V();if(g){if(f(c,\"function\"))e=d,d=c,c=null;else if(f(c,\"object\")){var i=[];for(var j in c)c.hasOwnProperty(j)&&i.push(encodeURIComponent(j)+\"=\"+encodeURIComponent(c[j]));c=i.join(\"&\")}return g.open(c?\"POST\":\"GET\",a,!0),c&&(g.setRequestHeader(\"X-Requested-With\",\"XMLHttpRequest\"),g.setRequestHeader(\"Content-type\",\"application/x-www-form-urlencoded\")),d&&(b.once(\"snap.ajax.\"+h+\".0\",d),b.once(\"snap.ajax.\"+h+\".200\",d),b.once(\"snap.ajax.\"+h+\".304\",d)),g.onreadystatechange=function(){4==g.readyState&&b(\"snap.ajax.\"+h+\".\"+g.status,e,g)},4==g.readyState?g:(g.send(c),g)}},d.load=function(a,b,c){d.ajax(a,function(a){var e=d.parse(a.responseText);c?b.call(c,e):b(e)})};var gb=function(a){var b=a.getBoundingClientRect(),c=a.ownerDocument,d=c.body,e=c.documentElement,f=e.clientTop||d.clientTop||0,h=e.clientLeft||d.clientLeft||0,i=b.top+(g.win.pageYOffset||e.scrollTop||d.scrollTop)-f,j=b.left+(g.win.pageXOffset||e.scrollLeft||d.scrollLeft)-h;return{y:i,x:j}};return d.getElementByPoint=function(a,b){var c=this,d=(c.canvas,z.doc.elementFromPoint(a,b));if(z.win.opera&&\"svg\"==d.tagName){var e=gb(d),f=d.createSVGRect();f.x=a-e.x,f.y=b-e.y,f.width=f.height=1;var g=d.getIntersectionList(f,null);g.length&&(d=g[g.length-1])}return d?y(d):null},d.plugin=function(a){a(d,u,x,z,v)},z.win.Snap=d,d}();return d.plugin(function(a){function b(a,b,d,e,f,g){return null==b&&\"[object SVGMatrix]\"==c.call(a)?(this.a=a.a,this.b=a.b,this.c=a.c,this.d=a.d,this.e=a.e,void(this.f=a.f)):void(null!=a?(this.a=+a,this.b=+b,this.c=+d,this.d=+e,this.e=+f,this.f=+g):(this.a=1,this.b=0,this.c=0,this.d=1,this.e=0,this.f=0))}var c=Object.prototype.toString,d=String,e=Math,f=\"\";!function(c){function g(a){return a[0]*a[0]+a[1]*a[1]\n",
       "}function h(a){var b=e.sqrt(g(a));a[0]&&(a[0]/=b),a[1]&&(a[1]/=b)}c.add=function(a,c,d,e,f,g){var h,i,j,k,l=[[],[],[] ],m=[[this.a,this.c,this.e],[this.b,this.d,this.f],[0,0,1] ],n=[[a,d,f],[c,e,g],[0,0,1] ];for(a&&a instanceof b&&(n=[[a.a,a.c,a.e],[a.b,a.d,a.f],[0,0,1] ]),h=0;3>h;h++)for(i=0;3>i;i++){for(k=0,j=0;3>j;j++)k+=m[h][j]*n[j][i];l[h][i]=k}return this.a=l[0][0],this.b=l[1][0],this.c=l[0][1],this.d=l[1][1],this.e=l[0][2],this.f=l[1][2],this},c.invert=function(){var a=this,c=a.a*a.d-a.b*a.c;return new b(a.d/c,-a.b/c,-a.c/c,a.a/c,(a.c*a.f-a.d*a.e)/c,(a.b*a.e-a.a*a.f)/c)},c.clone=function(){return new b(this.a,this.b,this.c,this.d,this.e,this.f)},c.translate=function(a,b){return this.add(1,0,0,1,a,b)},c.scale=function(a,b,c,d){return null==b&&(b=a),(c||d)&&this.add(1,0,0,1,c,d),this.add(a,0,0,b,0,0),(c||d)&&this.add(1,0,0,1,-c,-d),this},c.rotate=function(b,c,d){b=a.rad(b),c=c||0,d=d||0;var f=+e.cos(b).toFixed(9),g=+e.sin(b).toFixed(9);return this.add(f,g,-g,f,c,d),this.add(1,0,0,1,-c,-d)},c.x=function(a,b){return a*this.a+b*this.c+this.e},c.y=function(a,b){return a*this.b+b*this.d+this.f},c.get=function(a){return+this[d.fromCharCode(97+a)].toFixed(4)},c.toString=function(){return\"matrix(\"+[this.get(0),this.get(1),this.get(2),this.get(3),this.get(4),this.get(5)].join()+\")\"},c.offset=function(){return[this.e.toFixed(4),this.f.toFixed(4)]},c.determinant=function(){return this.a*this.d-this.b*this.c},c.split=function(){var b={};b.dx=this.e,b.dy=this.f;var c=[[this.a,this.c],[this.b,this.d] ];b.scalex=e.sqrt(g(c[0])),h(c[0]),b.shear=c[0][0]*c[1][0]+c[0][1]*c[1][1],c[1]=[c[1][0]-c[0][0]*b.shear,c[1][1]-c[0][1]*b.shear],b.scaley=e.sqrt(g(c[1])),h(c[1]),b.shear/=b.scaley,this.determinant()<0&&(b.scalex=-b.scalex);var d=-c[0][1],f=c[1][1];return 0>f?(b.rotate=a.deg(e.acos(f)),0>d&&(b.rotate=360-b.rotate)):b.rotate=a.deg(e.asin(d)),b.isSimple=!(+b.shear.toFixed(9)||b.scalex.toFixed(9)!=b.scaley.toFixed(9)&&b.rotate),b.isSuperSimple=!+b.shear.toFixed(9)&&b.scalex.toFixed(9)==b.scaley.toFixed(9)&&!b.rotate,b.noRotation=!+b.shear.toFixed(9)&&!b.rotate,b},c.toTransformString=function(a){var b=a||this.split();return+b.shear.toFixed(9)?\"m\"+[this.get(0),this.get(1),this.get(2),this.get(3),this.get(4),this.get(5)]:(b.scalex=+b.scalex.toFixed(4),b.scaley=+b.scaley.toFixed(4),b.rotate=+b.rotate.toFixed(4),(b.dx||b.dy?\"t\"+[+b.dx.toFixed(4),+b.dy.toFixed(4)]:f)+(1!=b.scalex||1!=b.scaley?\"s\"+[b.scalex,b.scaley,0,0]:f)+(b.rotate?\"r\"+[+b.rotate.toFixed(4),0,0]:f))}}(b.prototype),a.Matrix=b,a.matrix=function(a,c,d,e,f,g){return new b(a,c,d,e,f,g)}}),d.plugin(function(a,c,d,e,f){function g(d){return function(e){if(b.stop(),e instanceof f&&1==e.node.childNodes.length&&(\"radialGradient\"==e.node.firstChild.tagName||\"linearGradient\"==e.node.firstChild.tagName||\"pattern\"==e.node.firstChild.tagName)&&(e=e.node.firstChild,n(this).appendChild(e),e=l(e)),e instanceof c)if(\"radialGradient\"==e.type||\"linearGradient\"==e.type||\"pattern\"==e.type){e.node.id||p(e.node,{id:e.id});var g=q(e.node.id)}else g=e.attr(d);else if(g=a.color(e),g.error){var h=a(n(this).ownerSVGElement).gradient(e);h?(h.node.id||p(h.node,{id:h.id}),g=q(h.node.id)):g=e}else g=r(g);var i={};i[d]=g,p(this.node,i),this.node.style[d]=t}}function h(a){b.stop(),a==+a&&(a+=\"px\"),this.node.style.fontSize=a}function i(a){for(var b=[],c=a.childNodes,d=0,e=c.length;e>d;d++){var f=c[d];3==f.nodeType&&b.push(f.nodeValue),\"tspan\"==f.tagName&&b.push(1==f.childNodes.length&&3==f.firstChild.nodeType?f.firstChild.nodeValue:i(f))}return b}function j(){return b.stop(),this.node.style.fontSize}var k=a._.make,l=a._.wrap,m=a.is,n=a._.getSomeDefs,o=/^url\\(#?([^)]+)\\)$/,p=a._.$,q=a.url,r=String,s=a._.separator,t=\"\";b.on(\"snap.util.attr.mask\",function(a){if(a instanceof c||a instanceof f){if(b.stop(),a instanceof f&&1==a.node.childNodes.length&&(a=a.node.firstChild,n(this).appendChild(a),a=l(a)),\"mask\"==a.type)var d=a;else d=k(\"mask\",n(this)),d.node.appendChild(a.node);!d.node.id&&p(d.node,{id:d.id}),p(this.node,{mask:q(d.id)})}}),function(a){b.on(\"snap.util.attr.clip\",a),b.on(\"snap.util.attr.clip-path\",a),b.on(\"snap.util.attr.clipPath\",a)}(function(a){if(a instanceof c||a instanceof f){if(b.stop(),\"clipPath\"==a.type)var d=a;else d=k(\"clipPath\",n(this)),d.node.appendChild(a.node),!d.node.id&&p(d.node,{id:d.id});p(this.node,{\"clip-path\":q(d.id)})}}),b.on(\"snap.util.attr.fill\",g(\"fill\")),b.on(\"snap.util.attr.stroke\",g(\"stroke\"));var u=/^([lr])(?:\\(([^)]*)\\))?(.*)$/i;b.on(\"snap.util.grad.parse\",function(a){a=r(a);var b=a.match(u);if(!b)return null;var c=b[1],d=b[2],e=b[3];return d=d.split(/\\s*,\\s*/).map(function(a){return+a==a?+a:a}),1==d.length&&0==d[0]&&(d=[]),e=e.split(\"-\"),e=e.map(function(a){a=a.split(\":\");var b={color:a[0]};return a[1]&&(b.offset=parseFloat(a[1])),b}),{type:c,params:d,stops:e}}),b.on(\"snap.util.attr.d\",function(c){b.stop(),m(c,\"array\")&&m(c[0],\"array\")&&(c=a.path.toString.call(c)),c=r(c),c.match(/[ruo]/i)&&(c=a.path.toAbsolute(c)),p(this.node,{d:c})})(-1),b.on(\"snap.util.attr.#text\",function(a){b.stop(),a=r(a);for(var c=e.doc.createTextNode(a);this.node.firstChild;)this.node.removeChild(this.node.firstChild);this.node.appendChild(c)})(-1),b.on(\"snap.util.attr.path\",function(a){b.stop(),this.attr({d:a})})(-1),b.on(\"snap.util.attr.class\",function(a){b.stop(),this.node.className.baseVal=a})(-1),b.on(\"snap.util.attr.viewBox\",function(a){var c;c=m(a,\"object\")&&\"x\"in a?[a.x,a.y,a.width,a.height].join(\" \"):m(a,\"array\")?a.join(\" \"):a,p(this.node,{viewBox:c}),b.stop()})(-1),b.on(\"snap.util.attr.transform\",function(a){this.transform(a),b.stop()})(-1),b.on(\"snap.util.attr.r\",function(a){\"rect\"==this.type&&(b.stop(),p(this.node,{rx:a,ry:a}))})(-1),b.on(\"snap.util.attr.textpath\",function(a){if(b.stop(),\"text\"==this.type){var d,e,f;if(!a&&this.textPath){for(e=this.textPath;e.node.firstChild;)this.node.appendChild(e.node.firstChild);return e.remove(),void delete this.textPath}if(m(a,\"string\")){var g=n(this),h=l(g.parentNode).path(a);g.appendChild(h.node),d=h.id,h.attr({id:d})}else a=l(a),a instanceof c&&(d=a.attr(\"id\"),d||(d=a.id,a.attr({id:d})));if(d)if(e=this.textPath,f=this.node,e)e.attr({\"xlink:href\":\"#\"+d});else{for(e=p(\"textPath\",{\"xlink:href\":\"#\"+d});f.firstChild;)e.appendChild(f.firstChild);f.appendChild(e),this.textPath=l(e)}}})(-1),b.on(\"snap.util.attr.text\",function(a){if(\"text\"==this.type){for(var c=this.node,d=function(a){var b=p(\"tspan\");if(m(a,\"array\"))for(var c=0;c<a.length;c++)b.appendChild(d(a[c]));else b.appendChild(e.doc.createTextNode(a));return b.normalize&&b.normalize(),b};c.firstChild;)c.removeChild(c.firstChild);for(var f=d(a);f.firstChild;)c.appendChild(f.firstChild)}b.stop()})(-1),b.on(\"snap.util.attr.fontSize\",h)(-1),b.on(\"snap.util.attr.font-size\",h)(-1),b.on(\"snap.util.getattr.transform\",function(){return b.stop(),this.transform()})(-1),b.on(\"snap.util.getattr.textpath\",function(){return b.stop(),this.textPath})(-1),function(){function c(c){return function(){b.stop();var d=e.doc.defaultView.getComputedStyle(this.node,null).getPropertyValue(\"marker-\"+c);return\"none\"==d?d:a(e.doc.getElementById(d.match(o)[1]))}}function d(a){return function(c){b.stop();var d=\"marker\"+a.charAt(0).toUpperCase()+a.substring(1);if(\"\"==c||!c)return void(this.node.style[d]=\"none\");if(\"marker\"==c.type){var e=c.node.id;return e||p(c.node,{id:c.id}),void(this.node.style[d]=q(e))}}}b.on(\"snap.util.getattr.marker-end\",c(\"end\"))(-1),b.on(\"snap.util.getattr.markerEnd\",c(\"end\"))(-1),b.on(\"snap.util.getattr.marker-start\",c(\"start\"))(-1),b.on(\"snap.util.getattr.markerStart\",c(\"start\"))(-1),b.on(\"snap.util.getattr.marker-mid\",c(\"mid\"))(-1),b.on(\"snap.util.getattr.markerMid\",c(\"mid\"))(-1),b.on(\"snap.util.attr.marker-end\",d(\"end\"))(-1),b.on(\"snap.util.attr.markerEnd\",d(\"end\"))(-1),b.on(\"snap.util.attr.marker-start\",d(\"start\"))(-1),b.on(\"snap.util.attr.markerStart\",d(\"start\"))(-1),b.on(\"snap.util.attr.marker-mid\",d(\"mid\"))(-1),b.on(\"snap.util.attr.markerMid\",d(\"mid\"))(-1)}(),b.on(\"snap.util.getattr.r\",function(){return\"rect\"==this.type&&p(this.node,\"rx\")==p(this.node,\"ry\")?(b.stop(),p(this.node,\"rx\")):void 0})(-1),b.on(\"snap.util.getattr.text\",function(){if(\"text\"==this.type||\"tspan\"==this.type){b.stop();var a=i(this.node);return 1==a.length?a[0]:a}})(-1),b.on(\"snap.util.getattr.#text\",function(){return this.node.textContent})(-1),b.on(\"snap.util.getattr.viewBox\",function(){b.stop();var c=p(this.node,\"viewBox\");return c?(c=c.split(s),a._.box(+c[0],+c[1],+c[2],+c[3])):void 0})(-1),b.on(\"snap.util.getattr.points\",function(){var a=p(this.node,\"points\");return b.stop(),a?a.split(s):void 0})(-1),b.on(\"snap.util.getattr.path\",function(){var a=p(this.node,\"d\");return b.stop(),a})(-1),b.on(\"snap.util.getattr.class\",function(){return this.node.className.baseVal})(-1),b.on(\"snap.util.getattr.fontSize\",j)(-1),b.on(\"snap.util.getattr.font-size\",j)(-1)}),d.plugin(function(){function a(a){return a}function c(a){return function(b){return+b.toFixed(3)+a}}var d={\"+\":function(a,b){return a+b},\"-\":function(a,b){return a-b},\"/\":function(a,b){return a/b},\"*\":function(a,b){return a*b}},e=String,f=/[a-z]+$/i,g=/^\\s*([+\\-\\/*])\\s*=\\s*([\\d.eE+\\-]+)\\s*([^\\d\\s]+)?\\s*$/;b.on(\"snap.util.attr\",function(a){var c=e(a).match(g);if(c){var h=b.nt(),i=h.substring(h.lastIndexOf(\".\")+1),j=this.attr(i),k={};b.stop();var l=c[3]||\"\",m=j.match(f),n=d[c[1] ];if(m&&m==l?a=n(parseFloat(j),+c[2]):(j=this.asPX(i),a=n(this.asPX(i),this.asPX(i,c[2]+l))),isNaN(j)||isNaN(a))return;k[i]=a,this.attr(k)}})(-10),b.on(\"snap.util.equal\",function(h,i){var j=e(this.attr(h)||\"\"),k=e(i).match(g);if(k){b.stop();var l=k[3]||\"\",m=j.match(f),n=d[k[1] ];return m&&m==l?{from:parseFloat(j),to:n(parseFloat(j),+k[2]),f:c(m)}:(j=this.asPX(h),{from:j,to:n(j,this.asPX(h,k[2]+l)),f:a})}})(-10)}),d.plugin(function(a,c,d,e){var f=d.prototype,g=a.is;f.rect=function(a,b,c,d,e,f){var h;return null==f&&(f=e),g(a,\"object\")&&\"[object Object]\"==a?h=a:null!=a&&(h={x:a,y:b,width:c,height:d},null!=e&&(h.rx=e,h.ry=f)),this.el(\"rect\",h)},f.circle=function(a,b,c){var d;return g(a,\"object\")&&\"[object Object]\"==a?d=a:null!=a&&(d={cx:a,cy:b,r:c}),this.el(\"circle\",d)};var h=function(){function a(){this.parentNode.removeChild(this)}return function(b,c){var d=e.doc.createElement(\"img\"),f=e.doc.body;d.style.cssText=\"position:absolute;left:-9999em;top:-9999em\",d.onload=function(){c.call(d),d.onload=d.onerror=null,f.removeChild(d)},d.onerror=a,f.appendChild(d),d.src=b}}();f.image=function(b,c,d,e,f){var i=this.el(\"image\");if(g(b,\"object\")&&\"src\"in b)i.attr(b);else if(null!=b){var j={\"xlink:href\":b,preserveAspectRatio:\"none\"};null!=c&&null!=d&&(j.x=c,j.y=d),null!=e&&null!=f?(j.width=e,j.height=f):h(b,function(){a._.$(i.node,{width:this.offsetWidth,height:this.offsetHeight})}),a._.$(i.node,j)}return i},f.ellipse=function(a,b,c,d){var e;return g(a,\"object\")&&\"[object Object]\"==a?e=a:null!=a&&(e={cx:a,cy:b,rx:c,ry:d}),this.el(\"ellipse\",e)},f.path=function(a){var b;return g(a,\"object\")&&!g(a,\"array\")?b=a:a&&(b={d:a}),this.el(\"path\",b)},f.group=f.g=function(a){var b=this.el(\"g\");return 1==arguments.length&&a&&!a.type?b.attr(a):arguments.length&&b.add(Array.prototype.slice.call(arguments,0)),b},f.svg=function(a,b,c,d,e,f,h,i){var j={};return g(a,\"object\")&&null==b?j=a:(null!=a&&(j.x=a),null!=b&&(j.y=b),null!=c&&(j.width=c),null!=d&&(j.height=d),null!=e&&null!=f&&null!=h&&null!=i&&(j.viewBox=[e,f,h,i])),this.el(\"svg\",j)},f.mask=function(a){var b=this.el(\"mask\");return 1==arguments.length&&a&&!a.type?b.attr(a):arguments.length&&b.add(Array.prototype.slice.call(arguments,0)),b},f.ptrn=function(a,b,c,d,e,f,h,i){if(g(a,\"object\"))var j=a;else arguments.length?(j={},null!=a&&(j.x=a),null!=b&&(j.y=b),null!=c&&(j.width=c),null!=d&&(j.height=d),null!=e&&null!=f&&null!=h&&null!=i&&(j.viewBox=[e,f,h,i])):j={patternUnits:\"userSpaceOnUse\"};return this.el(\"pattern\",j)},f.use=function(a){if(null!=a){{make(\"use\",this.node)}return a instanceof c&&(a.attr(\"id\")||a.attr({id:ID()}),a=a.attr(\"id\")),this.el(\"use\",{\"xlink:href\":a})}return c.prototype.use.call(this)},f.text=function(a,b,c){var d={};return g(a,\"object\")?d=a:null!=a&&(d={x:a,y:b,text:c||\"\"}),this.el(\"text\",d)},f.line=function(a,b,c,d){var e={};return g(a,\"object\")?e=a:null!=a&&(e={x1:a,x2:c,y1:b,y2:d}),this.el(\"line\",e)},f.polyline=function(a){arguments.length>1&&(a=Array.prototype.slice.call(arguments,0));var b={};return g(a,\"object\")&&!g(a,\"array\")?b=a:null!=a&&(b={points:a}),this.el(\"polyline\",b)},f.polygon=function(a){arguments.length>1&&(a=Array.prototype.slice.call(arguments,0));var b={};return g(a,\"object\")&&!g(a,\"array\")?b=a:null!=a&&(b={points:a}),this.el(\"polygon\",b)},function(){function c(){return this.selectAll(\"stop\")}function d(b,c){var d=j(\"stop\"),e={offset:+c+\"%\"};return b=a.color(b),e[\"stop-color\"]=b.hex,b.opacity<1&&(e[\"stop-opacity\"]=b.opacity),j(d,e),this.node.appendChild(d),this}function e(){if(\"linearGradient\"==this.type){var b=j(this.node,\"x1\")||0,c=j(this.node,\"x2\")||1,d=j(this.node,\"y1\")||0,e=j(this.node,\"y2\")||0;return a._.box(b,d,math.abs(c-b),math.abs(e-d))}var f=this.node.cx||.5,g=this.node.cy||.5,h=this.node.r||0;return a._.box(f-h,g-h,2*h,2*h)}function g(a,c){function d(a,b){for(var c=(b-l)/(a-m),d=m;a>d;d++)g[d].offset=+(+l+c*(d-m)).toFixed(2);m=a,l=b}var e,f=b(\"snap.util.grad.parse\",null,c).firstDefined();if(!f)return null;f.params.unshift(a),e=\"l\"==f.type.toLowerCase()?h.apply(0,f.params):i.apply(0,f.params),f.type!=f.type.toLowerCase()&&j(e.node,{gradientUnits:\"userSpaceOnUse\"});var g=f.stops,k=g.length,l=0,m=0;k--;for(var n=0;k>n;n++)\"offset\"in g[n]&&d(n,g[n].offset);for(g[k].offset=g[k].offset||100,d(k,g[k].offset),n=0;k>=n;n++){var o=g[n];e.addStop(o.color,o.offset)}return e}function h(b,f,g,h,i){var k=a._.make(\"linearGradient\",b);return k.stops=c,k.addStop=d,k.getBBox=e,null!=f&&j(k.node,{x1:f,y1:g,x2:h,y2:i}),k}function i(b,f,g,h,i,k){var l=a._.make(\"radialGradient\",b);return l.stops=c,l.addStop=d,l.getBBox=e,null!=f&&j(l.node,{cx:f,cy:g,r:h}),null!=i&&null!=k&&j(l.node,{fx:i,fy:k}),l}var j=a._.$;f.gradient=function(a){return g(this.defs,a)},f.gradientLinear=function(a,b,c,d){return h(this.defs,a,b,c,d)},f.gradientRadial=function(a,b,c,d,e){return i(this.defs,a,b,c,d,e)},f.toString=function(){var b,c=this.node.ownerDocument,d=c.createDocumentFragment(),e=c.createElement(\"div\"),f=this.node.cloneNode(!0);return d.appendChild(e),e.appendChild(f),a._.$(f,{xmlns:\"http://www.w3.org/2000/svg\"}),b=e.innerHTML,d.removeChild(d.firstChild),b},f.clear=function(){for(var a,b=this.node.firstChild;b;)a=b.nextSibling,\"defs\"!=b.tagName?b.parentNode.removeChild(b):f.clear.call({node:b}),b=a}}()}),d.plugin(function(a,b){function c(a){var b=c.ps=c.ps||{};return b[a]?b[a].sleep=100:b[a]={sleep:100},setTimeout(function(){for(var c in b)b[K](c)&&c!=a&&(b[c].sleep--,!b[c].sleep&&delete b[c])}),b[a]}function d(a,b,c,d){return null==a&&(a=b=c=d=0),null==b&&(b=a.y,c=a.width,d=a.height,a=a.x),{x:a,y:b,width:c,w:c,height:d,h:d,x2:a+c,y2:b+d,cx:a+c/2,cy:b+d/2,r1:N.min(c,d)/2,r2:N.max(c,d)/2,r0:N.sqrt(c*c+d*d)/2,path:w(a,b,c,d),vb:[a,b,c,d].join(\" \")}}function e(){return this.join(\",\").replace(L,\"$1\")}function f(a){var b=J(a);return b.toString=e,b}function g(a,b,c,d,e,f,g,h,j){return null==j?n(a,b,c,d,e,f,g,h):i(a,b,c,d,e,f,g,h,o(a,b,c,d,e,f,g,h,j))}function h(c,d){function e(a){return+(+a).toFixed(3)}return a._.cacher(function(a,f,h){a instanceof b&&(a=a.attr(\"d\")),a=E(a);for(var j,k,l,m,n,o=\"\",p={},q=0,r=0,s=a.length;s>r;r++){if(l=a[r],\"M\"==l[0])j=+l[1],k=+l[2];else{if(m=g(j,k,l[1],l[2],l[3],l[4],l[5],l[6]),q+m>f){if(d&&!p.start){if(n=g(j,k,l[1],l[2],l[3],l[4],l[5],l[6],f-q),o+=[\"C\"+e(n.start.x),e(n.start.y),e(n.m.x),e(n.m.y),e(n.x),e(n.y)],h)return o;p.start=o,o=[\"M\"+e(n.x),e(n.y)+\"C\"+e(n.n.x),e(n.n.y),e(n.end.x),e(n.end.y),e(l[5]),e(l[6])].join(),q+=m,j=+l[5],k=+l[6];continue}if(!c&&!d)return n=g(j,k,l[1],l[2],l[3],l[4],l[5],l[6],f-q)}q+=m,j=+l[5],k=+l[6]}o+=l.shift()+l}return p.end=o,n=c?q:d?p:i(j,k,l[0],l[1],l[2],l[3],l[4],l[5],1)},null,a._.clone)}function i(a,b,c,d,e,f,g,h,i){var j=1-i,k=R(j,3),l=R(j,2),m=i*i,n=m*i,o=k*a+3*l*i*c+3*j*i*i*e+n*g,p=k*b+3*l*i*d+3*j*i*i*f+n*h,q=a+2*i*(c-a)+m*(e-2*c+a),r=b+2*i*(d-b)+m*(f-2*d+b),s=c+2*i*(e-c)+m*(g-2*e+c),t=d+2*i*(f-d)+m*(h-2*f+d),u=j*a+i*c,v=j*b+i*d,w=j*e+i*g,x=j*f+i*h,y=90-180*N.atan2(q-s,r-t)/O;return{x:o,y:p,m:{x:q,y:r},n:{x:s,y:t},start:{x:u,y:v},end:{x:w,y:x},alpha:y}}function j(b,c,e,f,g,h,i,j){a.is(b,\"array\")||(b=[b,c,e,f,g,h,i,j]);var k=D.apply(null,b);return d(k.min.x,k.min.y,k.max.x-k.min.x,k.max.y-k.min.y)}function k(a,b,c){return b>=a.x&&b<=a.x+a.width&&c>=a.y&&c<=a.y+a.height}function l(a,b){return a=d(a),b=d(b),k(b,a.x,a.y)||k(b,a.x2,a.y)||k(b,a.x,a.y2)||k(b,a.x2,a.y2)||k(a,b.x,b.y)||k(a,b.x2,b.y)||k(a,b.x,b.y2)||k(a,b.x2,b.y2)||(a.x<b.x2&&a.x>b.x||b.x<a.x2&&b.x>a.x)&&(a.y<b.y2&&a.y>b.y||b.y<a.y2&&b.y>a.y)}function m(a,b,c,d,e){var f=-3*b+9*c-9*d+3*e,g=a*f+6*b-12*c+6*d;return a*g-3*b+3*c}function n(a,b,c,d,e,f,g,h,i){null==i&&(i=1),i=i>1?1:0>i?0:i;for(var j=i/2,k=12,l=[-.1252,.1252,-.3678,.3678,-.5873,.5873,-.7699,.7699,-.9041,.9041,-.9816,.9816],n=[.2491,.2491,.2335,.2335,.2032,.2032,.1601,.1601,.1069,.1069,.0472,.0472],o=0,p=0;k>p;p++){var q=j*l[p]+j,r=m(q,a,c,e,g),s=m(q,b,d,f,h),t=r*r+s*s;o+=n[p]*N.sqrt(t)}return j*o}function o(a,b,c,d,e,f,g,h,i){if(!(0>i||n(a,b,c,d,e,f,g,h)<i)){var j,k=1,l=k/2,m=k-l,o=.01;for(j=n(a,b,c,d,e,f,g,h,m);S(j-i)>o;)l/=2,m+=(i>j?1:-1)*l,j=n(a,b,c,d,e,f,g,h,m);return m}}function p(a,b,c,d,e,f,g,h){if(!(Q(a,c)<P(e,g)||P(a,c)>Q(e,g)||Q(b,d)<P(f,h)||P(b,d)>Q(f,h))){var i=(a*d-b*c)*(e-g)-(a-c)*(e*h-f*g),j=(a*d-b*c)*(f-h)-(b-d)*(e*h-f*g),k=(a-c)*(f-h)-(b-d)*(e-g);if(k){var l=i/k,m=j/k,n=+l.toFixed(2),o=+m.toFixed(2);if(!(n<+P(a,c).toFixed(2)||n>+Q(a,c).toFixed(2)||n<+P(e,g).toFixed(2)||n>+Q(e,g).toFixed(2)||o<+P(b,d).toFixed(2)||o>+Q(b,d).toFixed(2)||o<+P(f,h).toFixed(2)||o>+Q(f,h).toFixed(2)))return{x:l,y:m}}}}function q(a,b,c){var d=j(a),e=j(b);if(!l(d,e))return c?0:[];for(var f=n.apply(0,a),g=n.apply(0,b),h=~~(f/8),k=~~(g/8),m=[],o=[],q={},r=c?0:[],s=0;h+1>s;s++){var t=i.apply(0,a.concat(s/h));m.push({x:t.x,y:t.y,t:s/h})}for(s=0;k+1>s;s++)t=i.apply(0,b.concat(s/k)),o.push({x:t.x,y:t.y,t:s/k});for(s=0;h>s;s++)for(var u=0;k>u;u++){var v=m[s],w=m[s+1],x=o[u],y=o[u+1],z=S(w.x-v.x)<.001?\"y\":\"x\",A=S(y.x-x.x)<.001?\"y\":\"x\",B=p(v.x,v.y,w.x,w.y,x.x,x.y,y.x,y.y);if(B){if(q[B.x.toFixed(4)]==B.y.toFixed(4))continue;q[B.x.toFixed(4)]=B.y.toFixed(4);var C=v.t+S((B[z]-v[z])/(w[z]-v[z]))*(w.t-v.t),D=x.t+S((B[A]-x[A])/(y[A]-x[A]))*(y.t-x.t);C>=0&&1>=C&&D>=0&&1>=D&&(c?r++:r.push({x:B.x,y:B.y,t1:C,t2:D}))}}return r}function r(a,b){return t(a,b)}function s(a,b){return t(a,b,1)}function t(a,b,c){a=E(a),b=E(b);for(var d,e,f,g,h,i,j,k,l,m,n=c?0:[],o=0,p=a.length;p>o;o++){var r=a[o];if(\"M\"==r[0])d=h=r[1],e=i=r[2];else{\"C\"==r[0]?(l=[d,e].concat(r.slice(1)),d=l[6],e=l[7]):(l=[d,e,d,e,h,i,h,i],d=h,e=i);for(var s=0,t=b.length;t>s;s++){var u=b[s];if(\"M\"==u[0])f=j=u[1],g=k=u[2];else{\"C\"==u[0]?(m=[f,g].concat(u.slice(1)),f=m[6],g=m[7]):(m=[f,g,f,g,j,k,j,k],f=j,g=k);var v=q(l,m,c);if(c)n+=v;else{for(var w=0,x=v.length;x>w;w++)v[w].segment1=o,v[w].segment2=s,v[w].bez1=l,v[w].bez2=m;n=n.concat(v)}}}}}return n}function u(a,b,c){var d=v(a);return k(d,b,c)&&t(a,[[\"M\",b,c],[\"H\",d.x2+10] ],1)%2==1}function v(a){var b=c(a);if(b.bbox)return J(b.bbox);if(!a)return d();a=E(a);for(var e,f=0,g=0,h=[],i=[],j=0,k=a.length;k>j;j++)if(e=a[j],\"M\"==e[0])f=e[1],g=e[2],h.push(f),i.push(g);else{var l=D(f,g,e[1],e[2],e[3],e[4],e[5],e[6]);h=h.concat(l.min.x,l.max.x),i=i.concat(l.min.y,l.max.y),f=e[5],g=e[6]}var m=P.apply(0,h),n=P.apply(0,i),o=Q.apply(0,h),p=Q.apply(0,i),q=d(m,n,o-m,p-n);return b.bbox=J(q),q}function w(a,b,c,d,f){if(f)return[[\"M\",+a+ +f,b],[\"l\",c-2*f,0],[\"a\",f,f,0,0,1,f,f],[\"l\",0,d-2*f],[\"a\",f,f,0,0,1,-f,f],[\"l\",2*f-c,0],[\"a\",f,f,0,0,1,-f,-f],[\"l\",0,2*f-d],[\"a\",f,f,0,0,1,f,-f],[\"z\"] ];var g=[[\"M\",a,b],[\"l\",c,0],[\"l\",0,d],[\"l\",-c,0],[\"z\"] ];return g.toString=e,g}function x(a,b,c,d,f){if(null==f&&null==d&&(d=c),a=+a,b=+b,c=+c,d=+d,null!=f)var g=Math.PI/180,h=a+c*Math.cos(-d*g),i=a+c*Math.cos(-f*g),j=b+c*Math.sin(-d*g),k=b+c*Math.sin(-f*g),l=[[\"M\",h,j],[\"A\",c,c,0,+(f-d>180),0,i,k] ];else l=[[\"M\",a,b],[\"m\",0,-d],[\"a\",c,d,0,1,1,0,2*d],[\"a\",c,d,0,1,1,0,-2*d],[\"z\"] ];return l.toString=e,l}function y(b){var d=c(b),g=String.prototype.toLowerCase;if(d.rel)return f(d.rel);a.is(b,\"array\")&&a.is(b&&b[0],\"array\")||(b=a.parsePathString(b));var h=[],i=0,j=0,k=0,l=0,m=0;\"M\"==b[0][0]&&(i=b[0][1],j=b[0][2],k=i,l=j,m++,h.push([\"M\",i,j]));for(var n=m,o=b.length;o>n;n++){var p=h[n]=[],q=b[n];if(q[0]!=g.call(q[0]))switch(p[0]=g.call(q[0]),p[0]){case\"a\":p[1]=q[1],p[2]=q[2],p[3]=q[3],p[4]=q[4],p[5]=q[5],p[6]=+(q[6]-i).toFixed(3),p[7]=+(q[7]-j).toFixed(3);break;case\"v\":p[1]=+(q[1]-j).toFixed(3);break;case\"m\":k=q[1],l=q[2];default:for(var r=1,s=q.length;s>r;r++)p[r]=+(q[r]-(r%2?i:j)).toFixed(3)}else{p=h[n]=[],\"m\"==q[0]&&(k=q[1]+i,l=q[2]+j);for(var t=0,u=q.length;u>t;t++)h[n][t]=q[t]}var v=h[n].length;switch(h[n][0]){case\"z\":i=k,j=l;break;case\"h\":i+=+h[n][v-1];break;case\"v\":j+=+h[n][v-1];break;default:i+=+h[n][v-2],j+=+h[n][v-1]}}return h.toString=e,d.rel=f(h),h}function z(b){var d=c(b);if(d.abs)return f(d.abs);if(I(b,\"array\")&&I(b&&b[0],\"array\")||(b=a.parsePathString(b)),!b||!b.length)return[[\"M\",0,0] ];var g,h=[],i=0,j=0,k=0,l=0,m=0;\"M\"==b[0][0]&&(i=+b[0][1],j=+b[0][2],k=i,l=j,m++,h[0]=[\"M\",i,j]);for(var n,o,p=3==b.length&&\"M\"==b[0][0]&&\"R\"==b[1][0].toUpperCase()&&\"Z\"==b[2][0].toUpperCase(),q=m,r=b.length;r>q;q++){if(h.push(n=[]),o=b[q],g=o[0],g!=g.toUpperCase())switch(n[0]=g.toUpperCase(),n[0]){case\"A\":n[1]=o[1],n[2]=o[2],n[3]=o[3],n[4]=o[4],n[5]=o[5],n[6]=+o[6]+i,n[7]=+o[7]+j;break;case\"V\":n[1]=+o[1]+j;break;case\"H\":n[1]=+o[1]+i;break;case\"R\":for(var s=[i,j].concat(o.slice(1)),t=2,u=s.length;u>t;t++)s[t]=+s[t]+i,s[++t]=+s[t]+j;h.pop(),h=h.concat(G(s,p));break;case\"O\":h.pop(),s=x(i,j,o[1],o[2]),s.push(s[0]),h=h.concat(s);break;case\"U\":h.pop(),h=h.concat(x(i,j,o[1],o[2],o[3])),n=[\"U\"].concat(h[h.length-1].slice(-2));break;case\"M\":k=+o[1]+i,l=+o[2]+j;default:for(t=1,u=o.length;u>t;t++)n[t]=+o[t]+(t%2?i:j)}else if(\"R\"==g)s=[i,j].concat(o.slice(1)),h.pop(),h=h.concat(G(s,p)),n=[\"R\"].concat(o.slice(-2));else if(\"O\"==g)h.pop(),s=x(i,j,o[1],o[2]),s.push(s[0]),h=h.concat(s);else if(\"U\"==g)h.pop(),h=h.concat(x(i,j,o[1],o[2],o[3])),n=[\"U\"].concat(h[h.length-1].slice(-2));else for(var v=0,w=o.length;w>v;v++)n[v]=o[v];if(g=g.toUpperCase(),\"O\"!=g)switch(n[0]){case\"Z\":i=+k,j=+l;break;case\"H\":i=n[1];break;case\"V\":j=n[1];break;case\"M\":k=n[n.length-2],l=n[n.length-1];default:i=n[n.length-2],j=n[n.length-1]}}return h.toString=e,d.abs=f(h),h}function A(a,b,c,d){return[a,b,c,d,c,d]}function B(a,b,c,d,e,f){var g=1/3,h=2/3;return[g*a+h*c,g*b+h*d,g*e+h*c,g*f+h*d,e,f]}function C(b,c,d,e,f,g,h,i,j,k){var l,m=120*O/180,n=O/180*(+f||0),o=[],p=a._.cacher(function(a,b,c){var d=a*N.cos(c)-b*N.sin(c),e=a*N.sin(c)+b*N.cos(c);return{x:d,y:e}});if(k)y=k[0],z=k[1],w=k[2],x=k[3];else{l=p(b,c,-n),b=l.x,c=l.y,l=p(i,j,-n),i=l.x,j=l.y;var q=(N.cos(O/180*f),N.sin(O/180*f),(b-i)/2),r=(c-j)/2,s=q*q/(d*d)+r*r/(e*e);s>1&&(s=N.sqrt(s),d=s*d,e=s*e);var t=d*d,u=e*e,v=(g==h?-1:1)*N.sqrt(S((t*u-t*r*r-u*q*q)/(t*r*r+u*q*q))),w=v*d*r/e+(b+i)/2,x=v*-e*q/d+(c+j)/2,y=N.asin(((c-x)/e).toFixed(9)),z=N.asin(((j-x)/e).toFixed(9));y=w>b?O-y:y,z=w>i?O-z:z,0>y&&(y=2*O+y),0>z&&(z=2*O+z),h&&y>z&&(y-=2*O),!h&&z>y&&(z-=2*O)}var A=z-y;if(S(A)>m){var B=z,D=i,E=j;z=y+m*(h&&z>y?1:-1),i=w+d*N.cos(z),j=x+e*N.sin(z),o=C(i,j,d,e,f,0,h,D,E,[z,B,w,x])}A=z-y;var F=N.cos(y),G=N.sin(y),H=N.cos(z),I=N.sin(z),J=N.tan(A/4),K=4/3*d*J,L=4/3*e*J,M=[b,c],P=[b+K*G,c-L*F],Q=[i+K*I,j-L*H],R=[i,j];if(P[0]=2*M[0]-P[0],P[1]=2*M[1]-P[1],k)return[P,Q,R].concat(o);o=[P,Q,R].concat(o).join().split(\",\");for(var T=[],U=0,V=o.length;V>U;U++)T[U]=U%2?p(o[U-1],o[U],n).y:p(o[U],o[U+1],n).x;return T}function D(a,b,c,d,e,f,g,h){for(var i,j,k,l,m,n,o,p,q=[],r=[[],[] ],s=0;2>s;++s)if(0==s?(j=6*a-12*c+6*e,i=-3*a+9*c-9*e+3*g,k=3*c-3*a):(j=6*b-12*d+6*f,i=-3*b+9*d-9*f+3*h,k=3*d-3*b),S(i)<1e-12){if(S(j)<1e-12)continue;l=-k/j,l>0&&1>l&&q.push(l)}else o=j*j-4*k*i,p=N.sqrt(o),0>o||(m=(-j+p)/(2*i),m>0&&1>m&&q.push(m),n=(-j-p)/(2*i),n>0&&1>n&&q.push(n));for(var t,u=q.length,v=u;u--;)l=q[u],t=1-l,r[0][u]=t*t*t*a+3*t*t*l*c+3*t*l*l*e+l*l*l*g,r[1][u]=t*t*t*b+3*t*t*l*d+3*t*l*l*f+l*l*l*h;return r[0][v]=a,r[1][v]=b,r[0][v+1]=g,r[1][v+1]=h,r[0].length=r[1].length=v+2,{min:{x:P.apply(0,r[0]),y:P.apply(0,r[1])},max:{x:Q.apply(0,r[0]),y:Q.apply(0,r[1])}}}function E(a,b){var d=!b&&c(a);if(!b&&d.curve)return f(d.curve);for(var e=z(a),g=b&&z(b),h={x:0,y:0,bx:0,by:0,X:0,Y:0,qx:null,qy:null},i={x:0,y:0,bx:0,by:0,X:0,Y:0,qx:null,qy:null},j=(function(a,b,c){var d,e;if(!a)return[\"C\",b.x,b.y,b.x,b.y,b.x,b.y];switch(!(a[0]in{T:1,Q:1})&&(b.qx=b.qy=null),a[0]){case\"M\":b.X=a[1],b.Y=a[2];break;case\"A\":a=[\"C\"].concat(C.apply(0,[b.x,b.y].concat(a.slice(1))));break;case\"S\":\"C\"==c||\"S\"==c?(d=2*b.x-b.bx,e=2*b.y-b.by):(d=b.x,e=b.y),a=[\"C\",d,e].concat(a.slice(1));break;case\"T\":\"Q\"==c||\"T\"==c?(b.qx=2*b.x-b.qx,b.qy=2*b.y-b.qy):(b.qx=b.x,b.qy=b.y),a=[\"C\"].concat(B(b.x,b.y,b.qx,b.qy,a[1],a[2]));break;case\"Q\":b.qx=a[1],b.qy=a[2],a=[\"C\"].concat(B(b.x,b.y,a[1],a[2],a[3],a[4]));break;case\"L\":a=[\"C\"].concat(A(b.x,b.y,a[1],a[2]));break;case\"H\":a=[\"C\"].concat(A(b.x,b.y,a[1],b.y));break;case\"V\":a=[\"C\"].concat(A(b.x,b.y,b.x,a[1]));break;case\"Z\":a=[\"C\"].concat(A(b.x,b.y,b.X,b.Y))}return a}),k=function(a,b){if(a[b].length>7){a[b].shift();for(var c=a[b];c.length;)m[b]=\"A\",g&&(n[b]=\"A\"),a.splice(b++,0,[\"C\"].concat(c.splice(0,6)));a.splice(b,1),r=Q(e.length,g&&g.length||0)}},l=function(a,b,c,d,f){a&&b&&\"M\"==a[f][0]&&\"M\"!=b[f][0]&&(b.splice(f,0,[\"M\",d.x,d.y]),c.bx=0,c.by=0,c.x=a[f][1],c.y=a[f][2],r=Q(e.length,g&&g.length||0))},m=[],n=[],o=\"\",p=\"\",q=0,r=Q(e.length,g&&g.length||0);r>q;q++){e[q]&&(o=e[q][0]),\"C\"!=o&&(m[q]=o,q&&(p=m[q-1])),e[q]=j(e[q],h,p),\"A\"!=m[q]&&\"C\"==o&&(m[q]=\"C\"),k(e,q),g&&(g[q]&&(o=g[q][0]),\"C\"!=o&&(n[q]=o,q&&(p=n[q-1])),g[q]=j(g[q],i,p),\"A\"!=n[q]&&\"C\"==o&&(n[q]=\"C\"),k(g,q)),l(e,g,h,i,q),l(g,e,i,h,q);var s=e[q],t=g&&g[q],u=s.length,v=g&&t.length;h.x=s[u-2],h.y=s[u-1],h.bx=M(s[u-4])||h.x,h.by=M(s[u-3])||h.y,i.bx=g&&(M(t[v-4])||i.x),i.by=g&&(M(t[v-3])||i.y),i.x=g&&t[v-2],i.y=g&&t[v-1]}return g||(d.curve=f(e)),g?[e,g]:e}function F(a,b){if(!b)return a;var c,d,e,f,g,h,i;for(a=E(a),e=0,g=a.length;g>e;e++)for(i=a[e],f=1,h=i.length;h>f;f+=2)c=b.x(i[f],i[f+1]),d=b.y(i[f],i[f+1]),i[f]=c,i[f+1]=d;return a}function G(a,b){for(var c=[],d=0,e=a.length;e-2*!b>d;d+=2){var f=[{x:+a[d-2],y:+a[d-1]},{x:+a[d],y:+a[d+1]},{x:+a[d+2],y:+a[d+3]},{x:+a[d+4],y:+a[d+5]}];b?d?e-4==d?f[3]={x:+a[0],y:+a[1]}:e-2==d&&(f[2]={x:+a[0],y:+a[1]},f[3]={x:+a[2],y:+a[3]}):f[0]={x:+a[e-2],y:+a[e-1]}:e-4==d?f[3]=f[2]:d||(f[0]={x:+a[d],y:+a[d+1]}),c.push([\"C\",(-f[0].x+6*f[1].x+f[2].x)/6,(-f[0].y+6*f[1].y+f[2].y)/6,(f[1].x+6*f[2].x-f[3].x)/6,(f[1].y+6*f[2].y-f[3].y)/6,f[2].x,f[2].y])}return c}var H=b.prototype,I=a.is,J=a._.clone,K=\"hasOwnProperty\",L=/,?([a-z]),?/gi,M=parseFloat,N=Math,O=N.PI,P=N.min,Q=N.max,R=N.pow,S=N.abs,T=h(1),U=h(),V=h(0,1),W=a._unit2px,X={path:function(a){return a.attr(\"path\")},circle:function(a){var b=W(a);return x(b.cx,b.cy,b.r)},ellipse:function(a){var b=W(a);return x(b.cx||0,b.cy||0,b.rx,b.ry)},rect:function(a){var b=W(a);return w(b.x||0,b.y||0,b.width,b.height,b.rx,b.ry)},image:function(a){var b=W(a);return w(b.x||0,b.y||0,b.width,b.height)},line:function(a){return\"M\"+[a.attr(\"x1\")||0,a.attr(\"y1\")||0,a.attr(\"x2\"),a.attr(\"y2\")]},polyline:function(a){return\"M\"+a.attr(\"points\")},polygon:function(a){return\"M\"+a.attr(\"points\")+\"z\"},deflt:function(a){var b=a.node.getBBox();return w(b.x,b.y,b.width,b.height)}};a.path=c,a.path.getTotalLength=T,a.path.getPointAtLength=U,a.path.getSubpath=function(a,b,c){if(this.getTotalLength(a)-c<1e-6)return V(a,b).end;var d=V(a,c,1);return b?V(d,b).end:d},H.getTotalLength=function(){return this.node.getTotalLength?this.node.getTotalLength():void 0},H.getPointAtLength=function(a){return U(this.attr(\"d\"),a)},H.getSubpath=function(b,c){return a.path.getSubpath(this.attr(\"d\"),b,c)},a._.box=d,a.path.findDotsAtSegment=i,a.path.bezierBBox=j,a.path.isPointInsideBBox=k,a.path.isBBoxIntersect=l,a.path.intersection=r,a.path.intersectionNumber=s,a.path.isPointInside=u,a.path.getBBox=v,a.path.get=X,a.path.toRelative=y,a.path.toAbsolute=z,a.path.toCubic=E,a.path.map=F,a.path.toString=e,a.path.clone=f}),d.plugin(function(a){var d=Math.max,e=Math.min,f=function(a){if(this.items=[],this.bindings={},this.length=0,this.type=\"set\",a)for(var b=0,c=a.length;c>b;b++)a[b]&&(this[this.items.length]=this.items[this.items.length]=a[b],this.length++)},g=f.prototype;g.push=function(){for(var a,b,c=0,d=arguments.length;d>c;c++)a=arguments[c],a&&(b=this.items.length,this[b]=this.items[b]=a,this.length++);return this},g.pop=function(){return this.length&&delete this[this.length--],this.items.pop()},g.forEach=function(a,b){for(var c=0,d=this.items.length;d>c;c++)if(a.call(b,this.items[c],c)===!1)return this;return this},g.animate=function(d,e,f,g){\"function\"!=typeof f||f.length||(g=f,f=c.linear),d instanceof a._.Animation&&(g=d.callback,f=d.easing,e=f.dur,d=d.attr);var h=arguments;if(a.is(d,\"array\")&&a.is(h[h.length-1],\"array\"))var i=!0;var j,k=function(){j?this.b=j:j=this.b},l=0,m=g&&function(){l++==this.length&&g.call(this)};return this.forEach(function(a,c){b.once(\"snap.animcreated.\"+a.id,k),i?h[c]&&a.animate.apply(a,h[c]):a.animate(d,e,f,m)})},g.remove=function(){for(;this.length;)this.pop().remove();return this},g.bind=function(a,b,c){var d={};if(\"function\"==typeof b)this.bindings[a]=b;else{var e=c||a;this.bindings[a]=function(a){d[e]=a,b.attr(d)}}return this},g.attr=function(a){var b={};for(var c in a)this.bindings[c]?this.bindings[c](a[c]):b[c]=a[c];for(var d=0,e=this.items.length;e>d;d++)this.items[d].attr(b);return this},g.clear=function(){for(;this.length;)this.pop()},g.splice=function(a,b){a=0>a?d(this.length+a,0):a,b=d(0,e(this.length-a,b));var c,g=[],h=[],i=[];for(c=2;c<arguments.length;c++)i.push(arguments[c]);for(c=0;b>c;c++)h.push(this[a+c]);for(;c<this.length-a;c++)g.push(this[a+c]);var j=i.length;for(c=0;c<j+g.length;c++)this.items[a+c]=this[a+c]=j>c?i[c]:g[c-j];for(c=this.items.length=this.length-=b-j;this[c];)delete this[c++];return new f(h)},g.exclude=function(a){for(var b=0,c=this.length;c>b;b++)if(this[b]==a)return this.splice(b,1),!0;return!1},g.insertAfter=function(a){for(var b=this.items.length;b--;)this.items[b].insertAfter(a);return this},g.getBBox=function(){for(var a=[],b=[],c=[],f=[],g=this.items.length;g--;)if(!this.items[g].removed){var h=this.items[g].getBBox();a.push(h.x),b.push(h.y),c.push(h.x+h.width),f.push(h.y+h.height)}return a=e.apply(0,a),b=e.apply(0,b),c=d.apply(0,c),f=d.apply(0,f),{x:a,y:b,x2:c,y2:f,width:c-a,height:f-b,cx:a+(c-a)/2,cy:b+(f-b)/2}},g.clone=function(a){a=new f;for(var b=0,c=this.items.length;c>b;b++)a.push(this.items[b].clone());return a},g.toString=function(){return\"Snap‘s set\"},g.type=\"set\",a.set=function(){var a=new f;return arguments.length&&a.push.apply(a,Array.prototype.slice.call(arguments,0)),a}}),d.plugin(function(a,c){function d(a){var b=a[0];switch(b.toLowerCase()){case\"t\":return[b,0,0];case\"m\":return[b,1,0,0,1,0,0];case\"r\":return 4==a.length?[b,0,a[2],a[3] ]:[b,0];case\"s\":return 5==a.length?[b,1,1,a[3],a[4] ]:3==a.length?[b,1,1]:[b,1]}}function e(b,c,e){c=m(c).replace(/\\.{3}|\\u2026/g,b),b=a.parseTransformString(b)||[],c=a.parseTransformString(c)||[];for(var f,g,h,k,l=Math.max(b.length,c.length),n=[],o=[],p=0;l>p;p++){if(h=b[p]||d(c[p]),k=c[p]||d(h),h[0]!=k[0]||\"r\"==h[0].toLowerCase()&&(h[2]!=k[2]||h[3]!=k[3])||\"s\"==h[0].toLowerCase()&&(h[3]!=k[3]||h[4]!=k[4])){b=a._.transform2matrix(b,e()),c=a._.transform2matrix(c,e()),n=[[\"m\",b.a,b.b,b.c,b.d,b.e,b.f] ],o=[[\"m\",c.a,c.b,c.c,c.d,c.e,c.f] ];break}for(n[p]=[],o[p]=[],f=0,g=Math.max(h.length,k.length);g>f;f++)f in h&&(n[p][f]=h[f]),f in k&&(o[p][f]=k[f])}return{from:j(n),to:j(o),f:i(n)}}function f(a){return a}function g(a){return function(b){return+b.toFixed(3)+a}}function h(b){return a.rgb(b[0],b[1],b[2])}function i(a){var b,c,d,e,f,g,h=0,i=[];for(b=0,c=a.length;c>b;b++){for(f=\"[\",g=['\"'+a[b][0]+'\"'],d=1,e=a[b].length;e>d;d++)g[d]=\"val[\"+h++ +\"]\";\n",
       "f+=g+\"]\",i[b]=f}return Function(\"val\",\"return Snap.path.toString.call([\"+i+\"])\")}function j(a){for(var b=[],c=0,d=a.length;d>c;c++)for(var e=1,f=a[c].length;f>e;e++)b.push(a[c][e]);return b}var k={},l=/[a-z]+$/i,m=String;k.stroke=k.fill=\"colour\",c.prototype.equal=function(a,c){return b(\"snap.util.equal\",this,a,c).firstDefined()},b.on(\"snap.util.equal\",function(b,c){var d,n,o=m(this.attr(b)||\"\"),p=this;if(o==+o&&c==+c)return{from:+o,to:+c,f:f};if(\"colour\"==k[b])return d=a.color(o),n=a.color(c),{from:[d.r,d.g,d.b,d.opacity],to:[n.r,n.g,n.b,n.opacity],f:h};if(\"transform\"==b||\"gradientTransform\"==b||\"patternTransform\"==b)return c instanceof a.Matrix&&(c=c.toTransformString()),a._.rgTransform.test(c)||(c=a._.svgTransform2string(c)),e(o,c,function(){return p.getBBox(1)});if(\"d\"==b||\"path\"==b)return d=a.path.toCubic(o,c),{from:j(d[0]),to:j(d[1]),f:i(d[0])};if(\"points\"==b)return d=m(o).split(a._.separator),n=m(c).split(a._.separator),{from:d,to:n,f:function(a){return a}};aUnit=o.match(l);var q=m(c).match(l);return aUnit&&aUnit==q?{from:parseFloat(o),to:parseFloat(c),f:g(aUnit)}:{from:this.asPX(b),to:this.asPX(b,c),f:f}})}),d.plugin(function(a,c,d,e){for(var f=c.prototype,g=\"hasOwnProperty\",h=(\"createTouch\"in e.doc),i=[\"click\",\"dblclick\",\"mousedown\",\"mousemove\",\"mouseout\",\"mouseover\",\"mouseup\",\"touchstart\",\"touchmove\",\"touchend\",\"touchcancel\"],j={mousedown:\"touchstart\",mousemove:\"touchmove\",mouseup:\"touchend\"},k=(function(a,b){var c=\"y\"==a?\"scrollTop\":\"scrollLeft\",d=b&&b.node?b.node.ownerDocument:e.doc;return d[c in d.documentElement?\"documentElement\":\"body\"][c]}),l=function(){this.returnValue=!1},m=function(){return this.originalEvent.preventDefault()},n=function(){this.cancelBubble=!0},o=function(){return this.originalEvent.stopPropagation()},p=function(){return e.doc.addEventListener?function(a,b,c,d){var e=h&&j[b]?j[b]:b,f=function(e){var f=k(\"y\",d),i=k(\"x\",d);if(h&&j[g](b))for(var l=0,n=e.targetTouches&&e.targetTouches.length;n>l;l++)if(e.targetTouches[l].target==a||a.contains(e.targetTouches[l].target)){var p=e;e=e.targetTouches[l],e.originalEvent=p,e.preventDefault=m,e.stopPropagation=o;break}var q=e.clientX+i,r=e.clientY+f;return c.call(d,e,q,r)};return b!==e&&a.addEventListener(b,f,!1),a.addEventListener(e,f,!1),function(){return b!==e&&a.removeEventListener(b,f,!1),a.removeEventListener(e,f,!1),!0}}:e.doc.attachEvent?function(a,b,c,d){var e=function(a){a=a||d.node.ownerDocument.window.event;var b=k(\"y\",d),e=k(\"x\",d),f=a.clientX+e,g=a.clientY+b;return a.preventDefault=a.preventDefault||l,a.stopPropagation=a.stopPropagation||n,c.call(d,a,f,g)};a.attachEvent(\"on\"+b,e);var f=function(){return a.detachEvent(\"on\"+b,e),!0};return f}:void 0}(),q=[],r=function(a){for(var c,d=a.clientX,e=a.clientY,f=k(\"y\"),g=k(\"x\"),i=q.length;i--;){if(c=q[i],h){for(var j,l=a.touches&&a.touches.length;l--;)if(j=a.touches[l],j.identifier==c.el._drag.id||c.el.node.contains(j.target)){d=j.clientX,e=j.clientY,(a.originalEvent?a.originalEvent:a).preventDefault();break}}else a.preventDefault();{var m=c.el.node;m.nextSibling,m.parentNode,m.style.display}d+=g,e+=f,b(\"snap.drag.move.\"+c.el.id,c.move_scope||c.el,d-c.el._drag.x,e-c.el._drag.y,d,e,a)}},s=function(c){a.unmousemove(r).unmouseup(s);for(var d,e=q.length;e--;)d=q[e],d.el._drag={},b(\"snap.drag.end.\"+d.el.id,d.end_scope||d.start_scope||d.move_scope||d.el,c);q=[]},t=i.length;t--;)!function(b){a[b]=f[b]=function(c,d){return a.is(c,\"function\")&&(this.events=this.events||[],this.events.push({name:b,f:c,unbind:p(this.node||document,b,c,d||this)})),this},a[\"un\"+b]=f[\"un\"+b]=function(a){for(var c=this.events||[],d=c.length;d--;)if(c[d].name==b&&(c[d].f==a||!a))return c[d].unbind(),c.splice(d,1),!c.length&&delete this.events,this;return this}}(i[t]);f.hover=function(a,b,c,d){return this.mouseover(a,c).mouseout(b,d||c)},f.unhover=function(a,b){return this.unmouseover(a).unmouseout(b)};var u=[];f.drag=function(c,d,e,f,g,h){function i(i,j,k){(i.originalEvent||i).preventDefault(),this._drag.x=j,this._drag.y=k,this._drag.id=i.identifier,!q.length&&a.mousemove(r).mouseup(s),q.push({el:this,move_scope:f,start_scope:g,end_scope:h}),d&&b.on(\"snap.drag.start.\"+this.id,d),c&&b.on(\"snap.drag.move.\"+this.id,c),e&&b.on(\"snap.drag.end.\"+this.id,e),b(\"snap.drag.start.\"+this.id,g||f||this,j,k,i)}if(!arguments.length){var j;return this.drag(function(a,b){this.attr({transform:j+(j?\"T\":\"t\")+[a,b]})},function(){j=this.transform().local})}return this._drag={},u.push({el:this,start:i}),this.mousedown(i),this},f.undrag=function(){for(var c=u.length;c--;)u[c].el==this&&(this.unmousedown(u[c].start),u.splice(c,1),b.unbind(\"snap.drag.*.\"+this.id));return!u.length&&a.unmousemove(r).unmouseup(s),this}}),d.plugin(function(a,c,d){var e=(c.prototype,d.prototype),f=/^\\s*url\\((.+)\\)/,g=String,h=a._.$;a.filter={},e.filter=function(b){var d=this;\"svg\"!=d.type&&(d=d.paper);var e=a.parse(g(b)),f=a._.id(),i=(d.node.offsetWidth,d.node.offsetHeight,h(\"filter\"));return h(i,{id:f,filterUnits:\"userSpaceOnUse\"}),i.appendChild(e.node),d.defs.appendChild(i),new c(i)},b.on(\"snap.util.getattr.filter\",function(){b.stop();var c=h(this.node,\"filter\");if(c){var d=g(c).match(f);return d&&a.select(d[1])}}),b.on(\"snap.util.attr.filter\",function(d){if(d instanceof c&&\"filter\"==d.type){b.stop();var e=d.node.id;e||(h(d.node,{id:d.id}),e=d.id),h(this.node,{filter:a.url(e)})}d&&\"none\"!=d||(b.stop(),this.node.removeAttribute(\"filter\"))}),a.filter.blur=function(b,c){null==b&&(b=2);var d=null==c?b:[b,c];return a.format('<feGaussianBlur stdDeviation=\"{def}\"/>',{def:d})},a.filter.blur.toString=function(){return this()},a.filter.shadow=function(b,c,d,e,f){return\"string\"==typeof d&&(e=d,f=e,d=4),\"string\"!=typeof e&&(f=e,e=\"#000\"),e=e||\"#000\",null==d&&(d=4),null==f&&(f=1),null==b&&(b=0,c=2),null==c&&(c=b),e=a.color(e),a.format('<feGaussianBlur in=\"SourceAlpha\" stdDeviation=\"{blur}\"/><feOffset dx=\"{dx}\" dy=\"{dy}\" result=\"offsetblur\"/><feFlood flood-color=\"{color}\"/><feComposite in2=\"offsetblur\" operator=\"in\"/><feComponentTransfer><feFuncA type=\"linear\" slope=\"{opacity}\"/></feComponentTransfer><feMerge><feMergeNode/><feMergeNode in=\"SourceGraphic\"/></feMerge>',{color:e,dx:b,dy:c,blur:d,opacity:f})},a.filter.shadow.toString=function(){return this()},a.filter.grayscale=function(b){return null==b&&(b=1),a.format('<feColorMatrix type=\"matrix\" values=\"{a} {b} {c} 0 0 {d} {e} {f} 0 0 {g} {b} {h} 0 0 0 0 0 1 0\"/>',{a:.2126+.7874*(1-b),b:.7152-.7152*(1-b),c:.0722-.0722*(1-b),d:.2126-.2126*(1-b),e:.7152+.2848*(1-b),f:.0722-.0722*(1-b),g:.2126-.2126*(1-b),h:.0722+.9278*(1-b)})},a.filter.grayscale.toString=function(){return this()},a.filter.sepia=function(b){return null==b&&(b=1),a.format('<feColorMatrix type=\"matrix\" values=\"{a} {b} {c} 0 0 {d} {e} {f} 0 0 {g} {h} {i} 0 0 0 0 0 1 0\"/>',{a:.393+.607*(1-b),b:.769-.769*(1-b),c:.189-.189*(1-b),d:.349-.349*(1-b),e:.686+.314*(1-b),f:.168-.168*(1-b),g:.272-.272*(1-b),h:.534-.534*(1-b),i:.131+.869*(1-b)})},a.filter.sepia.toString=function(){return this()},a.filter.saturate=function(b){return null==b&&(b=1),a.format('<feColorMatrix type=\"saturate\" values=\"{amount}\"/>',{amount:1-b})},a.filter.saturate.toString=function(){return this()},a.filter.hueRotate=function(b){return b=b||0,a.format('<feColorMatrix type=\"hueRotate\" values=\"{angle}\"/>',{angle:b})},a.filter.hueRotate.toString=function(){return this()},a.filter.invert=function(b){return null==b&&(b=1),a.format('<feComponentTransfer><feFuncR type=\"table\" tableValues=\"{amount} {amount2}\"/><feFuncG type=\"table\" tableValues=\"{amount} {amount2}\"/><feFuncB type=\"table\" tableValues=\"{amount} {amount2}\"/></feComponentTransfer>',{amount:b,amount2:1-b})},a.filter.invert.toString=function(){return this()},a.filter.brightness=function(b){return null==b&&(b=1),a.format('<feComponentTransfer><feFuncR type=\"linear\" slope=\"{amount}\"/><feFuncG type=\"linear\" slope=\"{amount}\"/><feFuncB type=\"linear\" slope=\"{amount}\"/></feComponentTransfer>',{amount:b})},a.filter.brightness.toString=function(){return this()},a.filter.contrast=function(b){return null==b&&(b=1),a.format('<feComponentTransfer><feFuncR type=\"linear\" slope=\"{amount}\" intercept=\"{amount2}\"/><feFuncG type=\"linear\" slope=\"{amount}\" intercept=\"{amount2}\"/><feFuncB type=\"linear\" slope=\"{amount}\" intercept=\"{amount2}\"/></feComponentTransfer>',{amount:b,amount2:.5-b/2})},a.filter.contrast.toString=function(){return this()}}),d});\n",
       "]]></script>\n",
       "<script><![CDATA[\n",
       "(function (glob, factory) {\n",
       "    if (typeof define === 'function' && define.amd) {\n",
       "        define('ProfileSVG', ['ProfileSVG/snap.svg'], function (Snap) {\n",
       "            return factory(Snap);\n",
       "        });\n",
       "    } else {\n",
       "        glob.ProfileSVG = factory(glob.Snap);\n",
       "    }\n",
       "}(this, function (Snap) {\n",
       "    'use strict';\n",
       "\n",
       "    var supportsPassive = false;\n",
       "    try {\n",
       "        var opts = Object.defineProperty({}, 'passive', {\n",
       "            get: function () {\n",
       "                return supportsPassive = true;\n",
       "            }\n",
       "        });\n",
       "        window.addEventListener(\"testPassive\", null, opts);\n",
       "        window.removeEventListener(\"testPassive\", null, opts);\n",
       "    } catch (e) { // not supported\n",
       "    }\n",
       "\n",
       "    var stopper = function (e) {\n",
       "        e.preventDefault();\n",
       "        e.stopPropagation();\n",
       "    };\n",
       "\n",
       "    var throttle = function (delay, filter, callback) {\n",
       "        var previousCall = new Date().getTime();\n",
       "        return function (e) {\n",
       "            var time = new Date().getTime();\n",
       "            if ((time - previousCall) >= delay) {\n",
       "                previousCall = time;\n",
       "                callback.apply(null, arguments);\n",
       "            }\n",
       "            filter(e);\n",
       "        };\n",
       "    };\n",
       "\n",
       "\n",
       "    var ProfileSVG = {};\n",
       "\n",
       "    var NS_SVG = 'http://www.w3.org/2000/svg';\n",
       "    var DEFAULT_TRANSITION_TIME = 300;\n",
       "    var ZOOM_STEP = 1.4;\n",
       "    var VIEWPORT_SCALE = 0.9;\n",
       "    var VIEWPORT_MARGIN_X = 20;\n",
       "\n",
       "    var formatText = function (fig, text, availableWidth) {\n",
       "        if (availableWidth < 3 * fig.charWidthM) {\n",
       "            return '';\n",
       "        }\n",
       "        var w = availableWidth;\n",
       "        var m = fig.charWidthM;\n",
       "        var n = fig.charWidthN;\n",
       "        var m2 = m * m;\n",
       "        var n2 = n * n;\n",
       "        var nc = 0.5 / n2 * (\n",
       "            (n - m) * Math.sqrt(n2 + (4 * w - 2 * m) * n + m2) + n2 + 2 * (w - m) * n + m2);\n",
       "        var nchars = Math.ceil(nc);\n",
       "        if (text.length <= nchars) {\n",
       "            return text;\n",
       "        }\n",
       "        return text.slice(0, nchars - 2) + '..';\n",
       "    };\n",
       "\n",
       "    var unescapeHtml = function (str) {\n",
       "        return str\n",
       "            .replace(/&lt;/g, '<')\n",
       "            .replace(/&gt;/g, '>')\n",
       "            .replace(/&amp;/g, '&');\n",
       "    };\n",
       "\n",
       "    var isDarkColor = function (c) {\n",
       "        var m = c.match(/^rgba?\\(\\s*(\\d+)[\\s,]+(\\d+)[\\s,]+(\\d+)/);\n",
       "        if (m) {\n",
       "            return m[1] * 299 + m[2] * 587 + m[3] * 114 < 255 * 650;\n",
       "        }\n",
       "        m = c.match(/^#([\\dA-F]{2})([\\dA-F]{2})([\\dA-F]{2})/i);\n",
       "        if (m) {\n",
       "            var r = parseInt(m[1], 16);\n",
       "            var g = parseInt(m[2], 16);\n",
       "            var b = parseInt(m[3], 16);\n",
       "            return r * 299 + g * 587 + b * 114 < 255 * 650;\n",
       "        }\n",
       "        return true;\n",
       "    };\n",
       "\n",
       "    ProfileSVG.moveAndZoom = function (targetFocusX, targetScaleX, fig, deltaT) {\n",
       "        if (typeof deltaT === 'undefined') {\n",
       "            deltaT = DEFAULT_TRANSITION_TIME;\n",
       "        }\n",
       "\n",
       "        var targetFocusY = fig.cy;\n",
       "        var targetScaleY = 1;\n",
       "\n",
       "        // TODO: dynamically update the transformation while dragging\n",
       "        var mat = fig.viewport.node.transform.baseVal.consolidate().matrix;\n",
       "\n",
       "        var oldScaleX = mat.a;\n",
       "        var oldScaleY = mat.d;\n",
       "        var oldE = mat.e;\n",
       "        var oldF = mat.f;\n",
       "\n",
       "        var targetE = fig.cx - targetScaleX * targetFocusX;\n",
       "        var targetF = fig.cy - targetScaleY * targetFocusY;\n",
       "\n",
       "        fig.focusX = targetFocusX;\n",
       "        fig.focusY = targetFocusY;\n",
       "        fig.scaleX = targetScaleX;\n",
       "        fig.scaleY = targetScaleY;\n",
       "\n",
       "        var rects = undefined;\n",
       "        var pathrects = undefined;\n",
       "        if (fig.roundradius > 0) {\n",
       "            rects = fig.viewport.selectAll('rect');\n",
       "        } else {\n",
       "            pathrects = fig.viewport.selectAll('path');\n",
       "        }\n",
       "\n",
       "        var scaleViewport = function (step) {\n",
       "            var scaleX = oldScaleX + (targetScaleX - oldScaleX) * step;\n",
       "            var scaleY = oldScaleY + (targetScaleY - oldScaleY) * step;\n",
       "\n",
       "            var rMatrix = fig.viewport.node.transform.baseVal.consolidate().matrix;\n",
       "            rMatrix.a = scaleX;\n",
       "            rMatrix.d = scaleY;\n",
       "            rMatrix.e = oldE + (targetE - oldE) * step; // TransX\n",
       "            rMatrix.f = oldF + (targetF - oldF) * step; // TransY\n",
       "\n",
       "            if (rects) {\n",
       "                rects.forEach(function (r) {\n",
       "                    var rect = r.node;\n",
       "                    rect.setAttribute('rx', Math.max(0.0, fig.roundradius / scaleX));\n",
       "                    rect.setAttribute('ry', Math.max(0.0, fig.roundradius / scaleY));\n",
       "                });\n",
       "            }\n",
       "        };\n",
       "\n",
       "        var finish = function () {\n",
       "            scaleViewport(1);\n",
       "            var scaleXt = 1.0 / targetScaleX;\n",
       "            var scaleYt = 1.0 / targetScaleY;\n",
       "            var updateText = function (text, x, y, w, shortinfo) {\n",
       "                var tMatrix = text.transform.baseVal.getItem(0).matrix;\n",
       "                tMatrix.a = scaleXt;\n",
       "                tMatrix.d = scaleYt;\n",
       "                tMatrix.e = (1.0 - scaleXt) * x;\n",
       "                tMatrix.f = (1.0 - scaleYt) * y;\n",
       "\n",
       "                text.firstChild.nodeValue = formatText(fig, shortinfo, w / scaleXt);\n",
       "                text.style.display = 'inherit';\n",
       "            };\n",
       "            if (rects) {\n",
       "                rects.forEach(function (r) {\n",
       "                    var rect = r.node;\n",
       "                    var x = rect.x.baseVal.value;\n",
       "                    var y = rect.y.baseVal.value;\n",
       "                    var w = rect.width.baseVal.value;\n",
       "                    var shortinfo = rect.getAttribute('data-shortinfo');\n",
       "                    updateText(rect.nextElementSibling, x, y, w, shortinfo);\n",
       "                });\n",
       "            }\n",
       "            if (pathrects) {\n",
       "                pathrects.forEach(function (p) {\n",
       "                    var path = p.node;\n",
       "                    // The API compatibility of path segments is problematic.\n",
       "                    var d = path.getAttribute('d');\n",
       "                    var values = d.match(/^M\\s*([\\d.]+)[\\s,]+(-?[\\d.]+)[^h]+h\\s*([\\d.]+)/);\n",
       "                    var x = Number(values[1]);\n",
       "                    var y = Number(values[2]);\n",
       "                    var w = Number(values[3]);\n",
       "                    var shortinfo = path.getAttribute('data-shortinfo');\n",
       "                    updateText(path.nextElementSibling, x, y, w, shortinfo);\n",
       "                });\n",
       "            }\n",
       "        };\n",
       "\n",
       "        if (deltaT != 0) {\n",
       "            if (!fig.notext) {\n",
       "                fig.viewport.selectAll('text').forEach(function (text) {\n",
       "                    text.node.style.display = 'none';\n",
       "                });\n",
       "            }\n",
       "            Snap.animate(0, 1, scaleViewport, deltaT, null, fig.notext ? null : finish);\n",
       "        } else {\n",
       "            if (!fig.notext) {\n",
       "                finish();\n",
       "            }\n",
       "        }\n",
       "\n",
       "    };\n",
       "\n",
       "    ProfileSVG.reset = function (fig) {\n",
       "        var w = fig.width - VIEWPORT_MARGIN_X;\n",
       "        var targetScaleX = fig.width / w * VIEWPORT_SCALE;\n",
       "        ProfileSVG.moveAndZoom(fig.cx, targetScaleX, fig);\n",
       "    };\n",
       "\n",
       "    ProfileSVG.initialize = function (figId) {\n",
       "\n",
       "        var svg = Snap.select('#' + figId);\n",
       "        var fig = {};\n",
       "        fig.id = figId;\n",
       "\n",
       "        var bg = svg.select('#' + figId + '-bg');\n",
       "        var bbox = bg.getBBox();\n",
       "        fig.width = bbox.width;\n",
       "        fig.height = bbox.height;\n",
       "        fig.cx = fig.width / 2;\n",
       "        fig.cy = fig.height / 2;\n",
       "\n",
       "        fig.viewport = svg.select('#' + figId + '-viewport');\n",
       "\n",
       "        fig.xstep = fig.viewport.node.getAttribute('data-xstep');\n",
       "        fig.tunit = fig.viewport.node.getAttribute('data-tunit');\n",
       "        fig.delay = fig.viewport.node.getAttribute('data-delay');\n",
       "\n",
       "        var texts = fig.viewport.selectAll('text');\n",
       "        fig.notext = false;\n",
       "        if (texts[0]) {\n",
       "            fig.notext = getComputedStyle(texts[0].node).strokeOpacity == 0.0;\n",
       "            texts.forEach(function (text) {\n",
       "                text.node.style.display = 'none';\n",
       "            });\n",
       "        }\n",
       "        texts = null;\n",
       "\n",
       "        fig.roundradius = 0.0;\n",
       "        var rect = fig.viewport.select('rect');\n",
       "        if (rect) {\n",
       "            fig.roundradius = rect.node.rx.baseVal.value;\n",
       "        }\n",
       "\n",
       "        fig.scaleX = 1.0;\n",
       "        fig.scaleY = 1.0; // prepare for the future\n",
       "        fig.focusX = fig.cx; // center x in the raw (scaleX=1) coordinate space\n",
       "        fig.focusY = fig.cy; // center y in the raw (scaleY=1) coordinate space\n",
       "\n",
       "        var textBg = document.createElementNS(NS_SVG, 'rect');\n",
       "        var detail = document.createElementNS(NS_SVG, 'text');\n",
       "        var time = document.createElementNS(NS_SVG, 'text');\n",
       "        detail.style.visibility = 'hidden';\n",
       "        detail.textContent = 'MOw';\n",
       "        fig.viewport.node.parentNode.appendChild(textBg);\n",
       "        fig.viewport.node.parentNode.appendChild(detail);\n",
       "        fig.viewport.node.parentNode.appendChild(time);\n",
       "        var mBBox = detail.getBBox();\n",
       "        fig.charWidthM = mBBox.width / 3;\n",
       "        detail.textContent = 'night';\n",
       "        var nBBox = detail.getBBox();\n",
       "        fig.charWidthN = nBBox.width / 5;\n",
       "        fig.textHeight = nBBox.height;\n",
       "        detail.style.display = 'none';\n",
       "        detail.style.visibility = 'visible';\n",
       "\n",
       "        detail.setAttribute('id', figId + '-details');\n",
       "        detail.setAttribute('x', fig.charWidthM);\n",
       "        detail.setAttribute('y', fig.height - fig.textHeight * 0.75);\n",
       "\n",
       "        time.setAttribute('x', fig.width - fig.charWidthM * 10);\n",
       "        time.setAttribute('y', fig.height - fig.textHeight * 0.75);\n",
       "\n",
       "        textBg.setAttribute('x', 0);\n",
       "        textBg.setAttribute('y', fig.height - fig.textHeight * 2);\n",
       "        textBg.setAttribute('width', fig.width);\n",
       "        textBg.setAttribute('height', fig.textHeight * 2);\n",
       "        var textBgFill = getComputedStyle(textBg).fill;\n",
       "        if (textBgFill == \"rgba(0, 0, 0, 0)\" || textBgFill == \"transparent\") {\n",
       "            var isDark = isDarkColor(getComputedStyle(detail).fill);\n",
       "            textBg.style.fill = isDark ? 'white' : 'black';\n",
       "        }\n",
       "        textBg.style.display = 'none';\n",
       "\n",
       "        ProfileSVG.reset(fig);\n",
       "\n",
       "        var rectDblClickHandler = function (e) {\n",
       "            var bbox = e.target.getBBox();\n",
       "            var cx = bbox.x + bbox.width / 2;\n",
       "            var targetScaleX = fig.width / bbox.width * VIEWPORT_SCALE;\n",
       "            ProfileSVG.moveAndZoom(cx, targetScaleX, fig);\n",
       "        };\n",
       "\n",
       "        var rectMouseOverHandler = function (e) {\n",
       "            var rect = e.target;\n",
       "            var text = rect.nextElementSibling;\n",
       "            var details = document.getElementById(fig.id + '-details');\n",
       "            text.style.strokeWidth = '1';\n",
       "            var sinfo = rect.getAttribute('data-shortinfo');\n",
       "            var dir = rect.getAttribute('data-dinfo');\n",
       "            var i = sinfo.indexOf(' in ');\n",
       "            var func = sinfo.slice(0, i + 4);\n",
       "            var file = sinfo.slice(i + 4);\n",
       "            var time = details.nextElementSibling;\n",
       "            details.textContent = 'Function: ' + func + dir + file;\n",
       "            details.style.display = 'inherit';\n",
       "            if (fig.delay) {\n",
       "                var count = Math.round(rect.width.baseVal.value / fig.xstep);\n",
       "                var t = count * (fig.tunit === 's' ? fig.delay :\n",
       "                    fig.tunit === 'ms' ? fig.delay * 1e3 :\n",
       "                        fig.tunit === 'us' || fig.tunit === 'μs' ? fig.delay * 1e6 : 1);\n",
       "                var tp = Math.round(t * 1000) / 1000;\n",
       "                time.textContent = 'Time: ' + tp + ' ' + fig.tunit;\n",
       "                time.style.display = 'inherit';\n",
       "            }\n",
       "            details.previousElementSibling.style.display = 'inherit';\n",
       "        };\n",
       "        var rectMouseOutHandler = function (e) {\n",
       "            var rect = e.target;\n",
       "            var text = rect.nextElementSibling;\n",
       "            var details = document.getElementById(fig.id + '-details');\n",
       "            text.style.strokeWidth = '0';\n",
       "            details.style.display = 'none';\n",
       "            details.previousElementSibling.style.display = 'none';\n",
       "            details.nextElementSibling.style.display = 'none';\n",
       "        };\n",
       "\n",
       "        var rects = fig.viewport.selectAll(fig.roundradius > 0 ? 'rect' : 'path');\n",
       "        rects.forEach(function (r) {\n",
       "            var rect = r.node;\n",
       "            var text = rect.nextElementSibling;\n",
       "            rect.setAttribute('data-shortinfo', unescapeHtml(text.textContent));\n",
       "            var dir = unescapeHtml(rect.getAttribute('data-dinfo'));\n",
       "            rect.setAttribute('data-dinfo', dir);\n",
       "            rect.addEventListener('dblclick', rectDblClickHandler, false);\n",
       "            rect.addEventListener('mouseover', rectMouseOverHandler, false);\n",
       "            rect.addEventListener('mouseout', rectMouseOutHandler, false);\n",
       "            var transform = svg.node.createSVGTransform();\n",
       "            text.transform.baseVal.initialize(transform); // matrix(1, 0, 0, 1, 0, 0)\n",
       "        });\n",
       "        rects = null;\n",
       "\n",
       "        bg.dblclick(function () {\n",
       "            ProfileSVG.reset(fig);\n",
       "        });\n",
       "\n",
       "        var mouseWheelHandler = throttle(400, stopper, function (e) {\n",
       "            var delta = Math.round(e.deltaY * 100);\n",
       "            if (delta == 0) {\n",
       "                return;\n",
       "            }\n",
       "            var scale = delta < 0 ? ZOOM_STEP : 1 / ZOOM_STEP;\n",
       "\n",
       "            var clientRect = svg.node.getBoundingClientRect();\n",
       "            var mx = e.clientX - clientRect.left;\n",
       "            //var my = e.clientY - clientRect.top;\n",
       "            var ctm = svg.node.getCTM();\n",
       "            var x = ctm ? (mx - ctm.e) / ctm.a : mx;\n",
       "            //var y = ctm ? (my - ctm.f) / ctm.d : my;\n",
       "            var px = (x - fig.cx) / fig.scaleX + fig.focusX;\n",
       "            var targetScaleX = Math.max(fig.scaleX * scale, 0.01);\n",
       "            var targetFocusX = fig.scaleX / targetScaleX * (fig.focusX - px) + px;\n",
       "            ProfileSVG.moveAndZoom(targetFocusX, targetScaleX, fig, 400);\n",
       "        });\n",
       "\n",
       "        svg.node.addEventListener('wheel', mouseWheelHandler, supportsPassive ? {\n",
       "            passive: false\n",
       "        } : false);\n",
       "\n",
       "        fig.viewport.drag();\n",
       "    };\n",
       "\n",
       "    return ProfileSVG;\n",
       "}));\n",
       "\n",
       "]]></script>\n",
       "<script><![CDATA[\n",
       "if (typeof require === 'function' && define.amd) {\n",
       "    require(['ProfileSVG'], function (ProfileSVG) {\n",
       "        ProfileSVG.initialize(\"fig-3766b24ee6d64f6184be692856426494\");\n",
       "    });\n",
       "} else {\n",
       "    ProfileSVG.initialize(\"fig-3766b24ee6d64f6184be692856426494\");\n",
       "}\n",
       "]]></script>\n",
       "</svg>\n",
       "</body>\n",
       "</html>\n"
      ]
     },
     "metadata": {},
     "execution_count": 10
    }
   ],
   "metadata": {}
  },
  {
   "cell_type": "code",
   "execution_count": 22,
   "source": [
    "## Time a function\n",
    "@time test(2.0)"
   ],
   "outputs": [
    {
     "output_type": "stream",
     "name": "stdout",
     "text": [
      "  0.246265 seconds\n"
     ]
    },
    {
     "output_type": "execute_result",
     "data": {
      "text/plain": [
       "-0.8466947489163474"
      ]
     },
     "metadata": {},
     "execution_count": 22
    }
   ],
   "metadata": {}
  },
  {
   "cell_type": "markdown",
   "source": [
    "The package `BenchmarkTools` provedes an excellent alternative to `@time`."
   ],
   "metadata": {}
  },
  {
   "cell_type": "code",
   "execution_count": 19,
   "source": [
    "# using Pkg; Pkg.add(\"BenchmarkTools\")\n",
    "using BenchmarkTools"
   ],
   "outputs": [],
   "metadata": {}
  },
  {
   "cell_type": "code",
   "execution_count": 25,
   "source": [
    "@benchmark test(2.0)"
   ],
   "outputs": [
    {
     "output_type": "execute_result",
     "data": {
      "text/plain": [
       "BenchmarkTools.Trial: 20 samples with 1 evaluation.\n",
       " Range \u001b[90m(\u001b[39m\u001b[36m\u001b[1mmin\u001b[22m\u001b[39m … \u001b[35mmax\u001b[39m\u001b[90m):  \u001b[39m\u001b[36m\u001b[1m246.751 ms\u001b[22m\u001b[39m … \u001b[35m275.033 ms\u001b[39m  \u001b[90m┊\u001b[39m GC \u001b[90m(\u001b[39mmin … max\u001b[90m): \u001b[39m0.00% … 0.00%\n",
       " Time  \u001b[90m(\u001b[39m\u001b[34m\u001b[1mmedian\u001b[22m\u001b[39m\u001b[90m):     \u001b[39m\u001b[34m\u001b[1m253.955 ms               \u001b[22m\u001b[39m\u001b[90m┊\u001b[39m GC \u001b[90m(\u001b[39mmedian\u001b[90m):    \u001b[39m0.00%\n",
       " Time  \u001b[90m(\u001b[39m\u001b[32m\u001b[1mmean\u001b[22m\u001b[39m ± \u001b[32mσ\u001b[39m\u001b[90m):   \u001b[39m\u001b[32m\u001b[1m255.390 ms\u001b[22m\u001b[39m ± \u001b[32m  7.589 ms\u001b[39m  \u001b[90m┊\u001b[39m GC \u001b[90m(\u001b[39mmean ± σ\u001b[90m):  \u001b[39m0.00% ± 0.00%\n",
       "\n",
       "  \u001b[39m▃\u001b[39m \u001b[39m \u001b[39m \u001b[39m▃\u001b[39m \u001b[39m \u001b[39m \u001b[39m▃\u001b[39m \u001b[39m \u001b[39m \u001b[39m \u001b[34m \u001b[39m\u001b[39m \u001b[39m \u001b[39m \u001b[39m \u001b[39m \u001b[32m \u001b[39m\u001b[39m \u001b[39m \u001b[39m \u001b[39m \u001b[39m \u001b[39m \u001b[39m█\u001b[39m \u001b[39m \u001b[39m \u001b[39m \u001b[39m \u001b[39m \u001b[39m \u001b[39m \u001b[39m \u001b[39m \u001b[39m \u001b[39m \u001b[39m \u001b[39m \u001b[39m \u001b[39m \u001b[39m \u001b[39m \u001b[39m \u001b[39m \u001b[39m \u001b[39m \u001b[39m \u001b[39m \u001b[39m \u001b[39m \u001b[39m \u001b[39m \u001b[39m \u001b[39m \u001b[39m \u001b[39m \u001b[39m \u001b[39m \u001b[39m \u001b[39m \n",
       "  \u001b[39m█\u001b[39m▇\u001b[39m▁\u001b[39m▁\u001b[39m█\u001b[39m▇\u001b[39m▁\u001b[39m▇\u001b[39m█\u001b[39m▁\u001b[39m▁\u001b[39m▁\u001b[39m▁\u001b[34m▇\u001b[39m\u001b[39m▁\u001b[39m▁\u001b[39m▁\u001b[39m▇\u001b[39m▁\u001b[32m▁\u001b[39m\u001b[39m▇\u001b[39m▁\u001b[39m▁\u001b[39m▁\u001b[39m▁\u001b[39m▁\u001b[39m█\u001b[39m▁\u001b[39m▇\u001b[39m▇\u001b[39m▁\u001b[39m▁\u001b[39m▁\u001b[39m▁\u001b[39m▁\u001b[39m▁\u001b[39m▁\u001b[39m▁\u001b[39m▇\u001b[39m▁\u001b[39m▁\u001b[39m▁\u001b[39m▇\u001b[39m▁\u001b[39m▁\u001b[39m▁\u001b[39m▁\u001b[39m▁\u001b[39m▁\u001b[39m▁\u001b[39m▁\u001b[39m▁\u001b[39m▁\u001b[39m▁\u001b[39m▁\u001b[39m▁\u001b[39m▁\u001b[39m▁\u001b[39m▁\u001b[39m▁\u001b[39m▇\u001b[39m \u001b[39m▁\n",
       "  247 ms\u001b[90m           Histogram: frequency by time\u001b[39m          275 ms \u001b[0m\u001b[1m<\u001b[22m\n",
       "\n",
       " Memory estimate\u001b[90m: \u001b[39m\u001b[33m0 bytes\u001b[39m, allocs estimate\u001b[90m: \u001b[39m\u001b[33m0\u001b[39m."
      ]
     },
     "metadata": {},
     "execution_count": 25
    }
   ],
   "metadata": {}
  },
  {
   "cell_type": "markdown",
   "source": [
    "`@time` measure the running time of a functionm while `@benchmark` do several runs and and retunr some statistics. Since runing  time of a function is a random variable that can  be affected by many factors, it is not possible to compare the running time of two functions using just `@time`."
   ],
   "metadata": {}
  },
  {
   "cell_type": "markdown",
   "source": [
    "## Vectorization\n",
    "Vectorization **does** make your code run faster."
   ],
   "metadata": {}
  },
  {
   "cell_type": "code",
   "execution_count": 17,
   "source": [
    "temp = 1:10000000 |> collect\n",
    "@benchmark temp.+ 1"
   ],
   "outputs": [
    {
     "output_type": "execute_result",
     "data": {
      "text/plain": [
       "BenchmarkTools.Trial: 238 samples with 1 evaluation.\n",
       " Range \u001b[90m(\u001b[39m\u001b[36m\u001b[1mmin\u001b[22m\u001b[39m … \u001b[35mmax\u001b[39m\u001b[90m):  \u001b[39m\u001b[36m\u001b[1m14.146 ms\u001b[22m\u001b[39m … \u001b[35m50.247 ms\u001b[39m  \u001b[90m┊\u001b[39m GC \u001b[90m(\u001b[39mmin … max\u001b[90m): \u001b[39m0.00% … 0.00%\n",
       " Time  \u001b[90m(\u001b[39m\u001b[34m\u001b[1mmedian\u001b[22m\u001b[39m\u001b[90m):     \u001b[39m\u001b[34m\u001b[1m19.549 ms              \u001b[22m\u001b[39m\u001b[90m┊\u001b[39m GC \u001b[90m(\u001b[39mmedian\u001b[90m):    \u001b[39m0.00%\n",
       " Time  \u001b[90m(\u001b[39m\u001b[32m\u001b[1mmean\u001b[22m\u001b[39m ± \u001b[32mσ\u001b[39m\u001b[90m):   \u001b[39m\u001b[32m\u001b[1m20.952 ms\u001b[22m\u001b[39m ± \u001b[32m 5.601 ms\u001b[39m  \u001b[90m┊\u001b[39m GC \u001b[90m(\u001b[39mmean ± σ\u001b[90m):  \u001b[39m4.05% ± 5.91%\n",
       "\n",
       "  \u001b[39m \u001b[39m \u001b[39m \u001b[39m \u001b[39m \u001b[39m▂\u001b[39m█\u001b[39m▃\u001b[39m▃\u001b[39m▂\u001b[34m▂\u001b[39m\u001b[39m▃\u001b[39m▂\u001b[32m \u001b[39m\u001b[39m \u001b[39m \u001b[39m \u001b[39m \u001b[39m \u001b[39m \u001b[39m \u001b[39m \u001b[39m \u001b[39m \u001b[39m \u001b[39m \u001b[39m \u001b[39m \u001b[39m \u001b[39m \u001b[39m \u001b[39m \u001b[39m \u001b[39m \u001b[39m \u001b[39m \u001b[39m \u001b[39m \u001b[39m \u001b[39m \u001b[39m \u001b[39m \u001b[39m \u001b[39m \u001b[39m \u001b[39m \u001b[39m \u001b[39m \u001b[39m \u001b[39m \u001b[39m \u001b[39m \u001b[39m \u001b[39m \u001b[39m \u001b[39m \u001b[39m \u001b[39m \u001b[39m \u001b[39m \u001b[39m \n",
       "  \u001b[39m▅\u001b[39m▇\u001b[39m▇\u001b[39m█\u001b[39m▆\u001b[39m█\u001b[39m█\u001b[39m█\u001b[39m█\u001b[39m█\u001b[34m█\u001b[39m\u001b[39m█\u001b[39m█\u001b[32m▄\u001b[39m\u001b[39m▆\u001b[39m▆\u001b[39m▄\u001b[39m▅\u001b[39m▇\u001b[39m▄\u001b[39m▄\u001b[39m▆\u001b[39m▄\u001b[39m▁\u001b[39m▄\u001b[39m▄\u001b[39m▃\u001b[39m▁\u001b[39m▄\u001b[39m▄\u001b[39m▁\u001b[39m▁\u001b[39m▃\u001b[39m▁\u001b[39m▁\u001b[39m▃\u001b[39m▃\u001b[39m▃\u001b[39m▁\u001b[39m▁\u001b[39m▁\u001b[39m▁\u001b[39m▃\u001b[39m▁\u001b[39m▁\u001b[39m▁\u001b[39m▃\u001b[39m▁\u001b[39m▃\u001b[39m▁\u001b[39m▁\u001b[39m▁\u001b[39m▁\u001b[39m▁\u001b[39m▁\u001b[39m▁\u001b[39m▁\u001b[39m▁\u001b[39m▃\u001b[39m \u001b[39m▃\n",
       "  14.1 ms\u001b[90m         Histogram: frequency by time\u001b[39m        46.2 ms \u001b[0m\u001b[1m<\u001b[22m\n",
       "\n",
       " Memory estimate\u001b[90m: \u001b[39m\u001b[33m76.29 MiB\u001b[39m, allocs estimate\u001b[90m: \u001b[39m\u001b[33m4\u001b[39m."
      ]
     },
     "metadata": {},
     "execution_count": 17
    }
   ],
   "metadata": {}
  },
  {
   "cell_type": "code",
   "execution_count": 18,
   "source": [
    "temp = 1:10000000 |> collect\n",
    "@benchmark for i in temp\n",
    "    i+=1\n",
    "end"
   ],
   "outputs": [
    {
     "output_type": "execute_result",
     "data": {
      "text/plain": [
       "BenchmarkTools.Trial: 7 samples with 1 evaluation.\n",
       " Range \u001b[90m(\u001b[39m\u001b[36m\u001b[1mmin\u001b[22m\u001b[39m … \u001b[35mmax\u001b[39m\u001b[90m):  \u001b[39m\u001b[36m\u001b[1m713.398 ms\u001b[22m\u001b[39m … \u001b[35m854.990 ms\u001b[39m  \u001b[90m┊\u001b[39m GC \u001b[90m(\u001b[39mmin … max\u001b[90m): \u001b[39m8.05% … 8.99%\n",
       " Time  \u001b[90m(\u001b[39m\u001b[34m\u001b[1mmedian\u001b[22m\u001b[39m\u001b[90m):     \u001b[39m\u001b[34m\u001b[1m729.122 ms               \u001b[22m\u001b[39m\u001b[90m┊\u001b[39m GC \u001b[90m(\u001b[39mmedian\u001b[90m):    \u001b[39m9.44%\n",
       " Time  \u001b[90m(\u001b[39m\u001b[32m\u001b[1mmean\u001b[22m\u001b[39m ± \u001b[32mσ\u001b[39m\u001b[90m):   \u001b[39m\u001b[32m\u001b[1m770.689 ms\u001b[22m\u001b[39m ± \u001b[32m 63.070 ms\u001b[39m  \u001b[90m┊\u001b[39m GC \u001b[90m(\u001b[39mmean ± σ\u001b[90m):  \u001b[39m8.80% ± 0.52%\n",
       "\n",
       "  \u001b[39m█\u001b[39m \u001b[39m█\u001b[39m█\u001b[34m \u001b[39m\u001b[39m \u001b[39m█\u001b[39m \u001b[39m \u001b[39m \u001b[39m \u001b[39m \u001b[39m \u001b[39m \u001b[39m \u001b[39m \u001b[39m \u001b[39m \u001b[39m \u001b[39m \u001b[39m \u001b[39m \u001b[39m \u001b[39m \u001b[39m \u001b[32m \u001b[39m\u001b[39m \u001b[39m \u001b[39m \u001b[39m \u001b[39m \u001b[39m \u001b[39m \u001b[39m \u001b[39m \u001b[39m \u001b[39m \u001b[39m \u001b[39m \u001b[39m \u001b[39m \u001b[39m \u001b[39m \u001b[39m \u001b[39m \u001b[39m█\u001b[39m \u001b[39m \u001b[39m \u001b[39m \u001b[39m \u001b[39m \u001b[39m \u001b[39m█\u001b[39m \u001b[39m \u001b[39m \u001b[39m \u001b[39m \u001b[39m \u001b[39m█\u001b[39m \u001b[39m \n",
       "  \u001b[39m█\u001b[39m▁\u001b[39m█\u001b[39m█\u001b[34m▁\u001b[39m\u001b[39m▁\u001b[39m█\u001b[39m▁\u001b[39m▁\u001b[39m▁\u001b[39m▁\u001b[39m▁\u001b[39m▁\u001b[39m▁\u001b[39m▁\u001b[39m▁\u001b[39m▁\u001b[39m▁\u001b[39m▁\u001b[39m▁\u001b[39m▁\u001b[39m▁\u001b[39m▁\u001b[39m▁\u001b[39m▁\u001b[32m▁\u001b[39m\u001b[39m▁\u001b[39m▁\u001b[39m▁\u001b[39m▁\u001b[39m▁\u001b[39m▁\u001b[39m▁\u001b[39m▁\u001b[39m▁\u001b[39m▁\u001b[39m▁\u001b[39m▁\u001b[39m▁\u001b[39m▁\u001b[39m▁\u001b[39m▁\u001b[39m▁\u001b[39m▁\u001b[39m▁\u001b[39m█\u001b[39m▁\u001b[39m▁\u001b[39m▁\u001b[39m▁\u001b[39m▁\u001b[39m▁\u001b[39m▁\u001b[39m█\u001b[39m▁\u001b[39m▁\u001b[39m▁\u001b[39m▁\u001b[39m▁\u001b[39m▁\u001b[39m█\u001b[39m \u001b[39m▁\n",
       "  713 ms\u001b[90m           Histogram: frequency by time\u001b[39m          855 ms \u001b[0m\u001b[1m<\u001b[22m\n",
       "\n",
       " Memory estimate\u001b[90m: \u001b[39m\u001b[33m762.92 MiB\u001b[39m, allocs estimate\u001b[90m: \u001b[39m\u001b[33m39998469\u001b[39m."
      ]
     },
     "metadata": {},
     "execution_count": 18
    }
   ],
   "metadata": {}
  },
  {
   "cell_type": "code",
   "execution_count": 1,
   "source": [
    "## show off compilation\n",
    "function f(a, b)\n",
    "    y = (a + 8b)^2\n",
    "    return 7y\n",
    "end\n",
    "f(1, 2)"
   ],
   "outputs": [
    {
     "output_type": "execute_result",
     "data": {
      "text/plain": [
       "2023"
      ]
     },
     "metadata": {},
     "execution_count": 1
    }
   ],
   "metadata": {}
  },
  {
   "cell_type": "code",
   "execution_count": 2,
   "source": [
    "@code_native f(1, 2)  #view machine code generate by Julia"
   ],
   "outputs": [
    {
     "output_type": "stream",
     "name": "stdout",
     "text": [
      "\t\u001b[0m.text\n",
      "\u001b[90m; ┌ @ In[1]:2 within `f'\u001b[39m\n",
      "\u001b[90m; │┌ @ int.jl:87 within `+'\u001b[39m\n",
      "\t\u001b[96m\u001b[1mleaq\u001b[22m\u001b[39m\t\u001b[33m(\u001b[39m\u001b[0m%rdi\u001b[0m,\u001b[0m%rsi\u001b[0m,\u001b[33m8\u001b[39m\u001b[33m)\u001b[39m\u001b[0m, \u001b[0m%rcx\n",
      "\u001b[90m; │└\u001b[39m\n",
      "\u001b[90m; │┌ @ intfuncs.jl:313 within `literal_pow'\u001b[39m\n",
      "\u001b[90m; ││┌ @ int.jl:88 within `*'\u001b[39m\n",
      "\t\u001b[96m\u001b[1mimulq\u001b[22m\u001b[39m\t\u001b[0m%rcx\u001b[0m, \u001b[0m%rcx\n",
      "\u001b[90m; │└└\u001b[39m\n",
      "\u001b[90m; │ @ In[1]:3 within `f'\u001b[39m\n",
      "\u001b[90m; │┌ @ int.jl:88 within `*'\u001b[39m\n",
      "\t\u001b[96m\u001b[1mleaq\u001b[22m\u001b[39m\t\u001b[33m(\u001b[39m\u001b[0m,\u001b[0m%rcx\u001b[0m,\u001b[33m8\u001b[39m\u001b[33m)\u001b[39m\u001b[0m, \u001b[0m%rax\n",
      "\t\u001b[96m\u001b[1msubq\u001b[22m\u001b[39m\t\u001b[0m%rcx\u001b[0m, \u001b[0m%rax\n",
      "\u001b[90m; │└\u001b[39m\n",
      "\t\u001b[96m\u001b[1mretq\u001b[22m\u001b[39m\n",
      "\t\u001b[96m\u001b[1mnopw\u001b[22m\u001b[39m\t\u001b[0m%cs\u001b[0m:\u001b[33m(\u001b[39m\u001b[0m%rax\u001b[0m,\u001b[0m%rax\u001b[33m)\u001b[39m\n",
      "\u001b[90m; └\u001b[39m\n"
     ]
    }
   ],
   "metadata": {}
  },
  {
   "cell_type": "markdown",
   "source": [
    "## Scope of Variables "
   ],
   "metadata": {}
  },
  {
   "cell_type": "markdown",
   "source": [
    "**Avoid global variables.**\n",
    "- A global variable can be changed anytime, anywhere, inside or outside a function.\n",
    "- Difficult for the compiler to optimize code using global variables!\n",
    "\n",
    "**Global constants are acceptable.**\n",
    "- E.g., beta $=0.9$, etc.\n",
    "\n",
    "**Type declarations can help complier optimize performance.**\n",
    "- Type declarations make code run faster in many languages.\n",
    "- Not necessary in Julia because variable types can be inferred by compiler.\n",
    "- Can help in some cases in Julia.\n",
    "- Use function `f(x::Array{Float64,2})` instead of function `f(x)`"
   ],
   "metadata": {}
  },
  {
   "cell_type": "code",
   "execution_count": 15,
   "source": [
    "function f(x)\n",
    "    return 2 * x\n",
    "end\n",
    "\n",
    "function f!(out, x) # example of a wrong function\n",
    "    return out = 2 * x\n",
    "end"
   ],
   "outputs": [
    {
     "output_type": "execute_result",
     "data": {
      "text/plain": [
       "f! (generic function with 1 method)"
      ]
     },
     "metadata": {},
     "execution_count": 15
    }
   ],
   "metadata": {}
  },
  {
   "cell_type": "code",
   "execution_count": 16,
   "source": [
    "y=ones(2); \n",
    "out = [1000;1000];\n",
    "out1 = f(y)\n",
    "f!(out,y); out\n",
    "\n",
    "# The result is supposed to be 2 instead of the initial value of `out`. The f!() function works as follows:\n",
    "    # create a temporary variable = 2*x\n",
    "    # assign a local name `out` to it\n",
    "    # the temporary variable is not pushed to the input `out` so nothing is modified"
   ],
   "outputs": [
    {
     "output_type": "execute_result",
     "data": {
      "text/plain": [
       "2-element Vector{Int64}:\n",
       " 1000\n",
       " 1000"
      ]
     },
     "metadata": {},
     "execution_count": 16
    }
   ],
   "metadata": {}
  },
  {
   "cell_type": "code",
   "execution_count": 17,
   "source": [
    "# To correct for this error,\n",
    "# Method 1: make the temporary variable 2*x global\n",
    "function f1!(out, x)\n",
    "    global out = 2 * x\n",
    "end\n",
    "out = [1000;1000];\n",
    "f1!(out,y); out"
   ],
   "outputs": [
    {
     "output_type": "execute_result",
     "data": {
      "text/plain": [
       "2-element Vector{Float64}:\n",
       " 2.0\n",
       " 2.0"
      ]
     },
     "metadata": {},
     "execution_count": 17
    }
   ],
   "metadata": {}
  },
  {
   "cell_type": "code",
   "execution_count": 18,
   "source": [
    " # Method 2: copy the value instead of assign the name\n",
    " function f2!(out, x)\n",
    "    return out[:] = 2 * x\n",
    "end\n",
    "out = [1000;1000];\n",
    "f2!(out,y); out"
   ],
   "outputs": [
    {
     "output_type": "execute_result",
     "data": {
      "text/plain": [
       "2-element Vector{Int64}:\n",
       " 2\n",
       " 2"
      ]
     },
     "metadata": {},
     "execution_count": 18
    }
   ],
   "metadata": {}
  },
  {
   "cell_type": "markdown",
   "source": [
    "Next we will compare in terms of performance two functions that do exactly the same thing but one uses a global variable and the other recieves the value as a parameter."
   ],
   "metadata": {}
  },
  {
   "cell_type": "code",
   "execution_count": 22,
   "source": [
    "global a = 1\n",
    "\n",
    "function f3() \n",
    "    for i = 1:10^6\n",
    "        global a += 1\n",
    "    end\n",
    "    return a\n",
    "end\n",
    "\n",
    "@benchmark f3()"
   ],
   "outputs": [
    {
     "output_type": "execute_result",
     "data": {
      "text/plain": [
       "BenchmarkTools.Trial: 260 samples with 1 evaluation.\n",
       " Range \u001b[90m(\u001b[39m\u001b[36m\u001b[1mmin\u001b[22m\u001b[39m … \u001b[35mmax\u001b[39m\u001b[90m):  \u001b[39m\u001b[36m\u001b[1m15.033 ms\u001b[22m\u001b[39m … \u001b[35m53.952 ms\u001b[39m  \u001b[90m┊\u001b[39m GC \u001b[90m(\u001b[39mmin … max\u001b[90m): \u001b[39m0.00% … 0.00%\n",
       " Time  \u001b[90m(\u001b[39m\u001b[34m\u001b[1mmedian\u001b[22m\u001b[39m\u001b[90m):     \u001b[39m\u001b[34m\u001b[1m17.858 ms              \u001b[22m\u001b[39m\u001b[90m┊\u001b[39m GC \u001b[90m(\u001b[39mmedian\u001b[90m):    \u001b[39m0.00%\n",
       " Time  \u001b[90m(\u001b[39m\u001b[32m\u001b[1mmean\u001b[22m\u001b[39m ± \u001b[32mσ\u001b[39m\u001b[90m):   \u001b[39m\u001b[32m\u001b[1m19.248 ms\u001b[22m\u001b[39m ± \u001b[32m 5.053 ms\u001b[39m  \u001b[90m┊\u001b[39m GC \u001b[90m(\u001b[39mmean ± σ\u001b[90m):  \u001b[39m4.45% ± 6.10%\n",
       "\n",
       "  \u001b[39m \u001b[39m▂\u001b[39m▂\u001b[39m▆\u001b[39m█\u001b[39m▁\u001b[39m▂\u001b[34m▃\u001b[39m\u001b[39m▂\u001b[39m \u001b[32m▁\u001b[39m\u001b[39m \u001b[39m \u001b[39m \u001b[39m \u001b[39m \u001b[39m \u001b[39m \u001b[39m \u001b[39m \u001b[39m \u001b[39m \u001b[39m \u001b[39m \u001b[39m \u001b[39m \u001b[39m \u001b[39m \u001b[39m \u001b[39m \u001b[39m \u001b[39m \u001b[39m \u001b[39m \u001b[39m \u001b[39m \u001b[39m \u001b[39m \u001b[39m \u001b[39m \u001b[39m \u001b[39m \u001b[39m \u001b[39m \u001b[39m \u001b[39m \u001b[39m \u001b[39m \u001b[39m \u001b[39m \u001b[39m \u001b[39m \u001b[39m \u001b[39m \u001b[39m \u001b[39m \u001b[39m \u001b[39m \u001b[39m \u001b[39m \u001b[39m \n",
       "  \u001b[39m▅\u001b[39m█\u001b[39m█\u001b[39m█\u001b[39m█\u001b[39m█\u001b[39m█\u001b[34m█\u001b[39m\u001b[39m█\u001b[39m▆\u001b[32m█\u001b[39m\u001b[39m▄\u001b[39m▄\u001b[39m▆\u001b[39m▄\u001b[39m▁\u001b[39m▅\u001b[39m▄\u001b[39m▃\u001b[39m▄\u001b[39m▃\u001b[39m▃\u001b[39m▁\u001b[39m▃\u001b[39m▃\u001b[39m▂\u001b[39m▁\u001b[39m▃\u001b[39m▂\u001b[39m▁\u001b[39m▁\u001b[39m▁\u001b[39m▁\u001b[39m▁\u001b[39m▃\u001b[39m▁\u001b[39m▂\u001b[39m▁\u001b[39m▁\u001b[39m▂\u001b[39m▂\u001b[39m▁\u001b[39m▁\u001b[39m▂\u001b[39m▁\u001b[39m▁\u001b[39m▂\u001b[39m▁\u001b[39m▁\u001b[39m▃\u001b[39m▁\u001b[39m▁\u001b[39m▁\u001b[39m▁\u001b[39m▁\u001b[39m▁\u001b[39m▁\u001b[39m▁\u001b[39m▂\u001b[39m \u001b[39m▃\n",
       "  15 ms\u001b[90m           Histogram: frequency by time\u001b[39m          39 ms \u001b[0m\u001b[1m<\u001b[22m\n",
       "\n",
       " Memory estimate\u001b[90m: \u001b[39m\u001b[33m15.26 MiB\u001b[39m, allocs estimate\u001b[90m: \u001b[39m\u001b[33m1000000\u001b[39m."
      ]
     },
     "metadata": {},
     "execution_count": 22
    }
   ],
   "metadata": {}
  },
  {
   "cell_type": "code",
   "execution_count": 24,
   "source": [
    "function f4(a)\n",
    "    for i = 1:10^6\n",
    "        global a += 1\n",
    "    end\n",
    "    return a\n",
    "end\n",
    "\n",
    "@benchmark f(1)"
   ],
   "outputs": [
    {
     "output_type": "execute_result",
     "data": {
      "text/plain": [
       "BenchmarkTools.Trial: 10000 samples with 1000 evaluations.\n",
       " Range \u001b[90m(\u001b[39m\u001b[36m\u001b[1mmin\u001b[22m\u001b[39m … \u001b[35mmax\u001b[39m\u001b[90m):  \u001b[39m\u001b[36m\u001b[1m0.001 ns\u001b[22m\u001b[39m … \u001b[35m16.600 ns\u001b[39m  \u001b[90m┊\u001b[39m GC \u001b[90m(\u001b[39mmin … max\u001b[90m): \u001b[39m0.00% … 0.00%\n",
       " Time  \u001b[90m(\u001b[39m\u001b[34m\u001b[1mmedian\u001b[22m\u001b[39m\u001b[90m):     \u001b[39m\u001b[34m\u001b[1m0.100 ns              \u001b[22m\u001b[39m\u001b[90m┊\u001b[39m GC \u001b[90m(\u001b[39mmedian\u001b[90m):    \u001b[39m0.00%\n",
       " Time  \u001b[90m(\u001b[39m\u001b[32m\u001b[1mmean\u001b[22m\u001b[39m ± \u001b[32mσ\u001b[39m\u001b[90m):   \u001b[39m\u001b[32m\u001b[1m0.103 ns\u001b[22m\u001b[39m ± \u001b[32m 0.298 ns\u001b[39m  \u001b[90m┊\u001b[39m GC \u001b[90m(\u001b[39mmean ± σ\u001b[90m):  \u001b[39m0.00% ± 0.00%\n",
       "\n",
       "  \u001b[39m \u001b[39m \u001b[39m \u001b[39m \u001b[39m \u001b[39m \u001b[39m \u001b[39m \u001b[39m \u001b[39m \u001b[39m \u001b[39m \u001b[39m \u001b[39m \u001b[39m \u001b[39m \u001b[39m \u001b[39m \u001b[39m \u001b[39m \u001b[39m \u001b[39m \u001b[39m \u001b[39m \u001b[39m \u001b[39m \u001b[39m \u001b[39m \u001b[39m█\u001b[34m \u001b[39m\u001b[32m \u001b[39m\u001b[39m \u001b[39m \u001b[39m \u001b[39m \u001b[39m \u001b[39m \u001b[39m \u001b[39m \u001b[39m \u001b[39m \u001b[39m \u001b[39m \u001b[39m \u001b[39m \u001b[39m \u001b[39m \u001b[39m \u001b[39m \u001b[39m \u001b[39m \u001b[39m \u001b[39m \u001b[39m \u001b[39m \u001b[39m \u001b[39m \u001b[39m \u001b[39m \u001b[39m \n",
       "  \u001b[39m▄\u001b[39m▁\u001b[39m▁\u001b[39m▁\u001b[39m▁\u001b[39m▁\u001b[39m▁\u001b[39m▁\u001b[39m▁\u001b[39m▁\u001b[39m▁\u001b[39m▁\u001b[39m▁\u001b[39m▁\u001b[39m▁\u001b[39m▁\u001b[39m▁\u001b[39m▁\u001b[39m▁\u001b[39m▁\u001b[39m▁\u001b[39m▁\u001b[39m▁\u001b[39m▁\u001b[39m▁\u001b[39m▁\u001b[39m▁\u001b[39m▁\u001b[39m█\u001b[34m▁\u001b[39m\u001b[32m▁\u001b[39m\u001b[39m▁\u001b[39m▁\u001b[39m▁\u001b[39m▁\u001b[39m▁\u001b[39m▁\u001b[39m▁\u001b[39m▁\u001b[39m▁\u001b[39m▁\u001b[39m▁\u001b[39m▁\u001b[39m▁\u001b[39m▁\u001b[39m▁\u001b[39m▁\u001b[39m▁\u001b[39m▁\u001b[39m▁\u001b[39m▁\u001b[39m▁\u001b[39m▁\u001b[39m▁\u001b[39m▁\u001b[39m▁\u001b[39m▁\u001b[39m▃\u001b[39m \u001b[39m▂\n",
       "  01 ns\u001b[90m          Histogram: frequency by time\u001b[39m         0.2 ns \u001b[0m\u001b[1m<\u001b[22m\n",
       "\n",
       " Memory estimate\u001b[90m: \u001b[39m\u001b[33m0 bytes\u001b[39m, allocs estimate\u001b[90m: \u001b[39m\u001b[33m0\u001b[39m."
      ]
     },
     "metadata": {},
     "execution_count": 24
    }
   ],
   "metadata": {}
  },
  {
   "cell_type": "markdown",
   "source": [
    "Clearly the use of a global variable is not a good idea."
   ],
   "metadata": {}
  },
  {
   "cell_type": "markdown",
   "source": [
    "In Julia a function can have different methods this is called multiple dispatch."
   ],
   "metadata": {}
  },
  {
   "cell_type": "code",
   "execution_count": 25,
   "source": [
    "function mult_dist_example(a::String, b::String)\n",
    "    return a*\" and \"*b\n",
    "end\n",
    "\n",
    "function mult_dist_example(a::Int, b::Int)\n",
    "    return a + b\n",
    "end\n",
    "\n",
    "function mult_dist_example(a,b)\n",
    "    return (typeof(a), typeof(b))\n",
    "end"
   ],
   "outputs": [
    {
     "output_type": "execute_result",
     "data": {
      "text/plain": [
       "mult_dist_example (generic function with 3 methods)"
      ]
     },
     "metadata": {},
     "execution_count": 25
    }
   ],
   "metadata": {}
  },
  {
   "cell_type": "markdown",
   "source": [
    "`mult_disp_example` is a function with 3 methods that behaves diferently depending on the type of the input."
   ],
   "metadata": {}
  },
  {
   "cell_type": "code",
   "execution_count": 26,
   "source": [
    "mult_dist_example(\"A String\", \"Another String\")"
   ],
   "outputs": [
    {
     "output_type": "execute_result",
     "data": {
      "text/plain": [
       "\"A String and Another String\""
      ]
     },
     "metadata": {},
     "execution_count": 26
    }
   ],
   "metadata": {}
  },
  {
   "cell_type": "code",
   "execution_count": 27,
   "source": [
    "mult_dist_example(1,2)"
   ],
   "outputs": [
    {
     "output_type": "execute_result",
     "data": {
      "text/plain": [
       "3"
      ]
     },
     "metadata": {},
     "execution_count": 27
    }
   ],
   "metadata": {}
  },
  {
   "cell_type": "code",
   "execution_count": 28,
   "source": [
    "mult_dist_example(1.0, [2])"
   ],
   "outputs": [
    {
     "output_type": "execute_result",
     "data": {
      "text/plain": [
       "(Float64, Vector{Int64})"
      ]
     },
     "metadata": {},
     "execution_count": 28
    }
   ],
   "metadata": {}
  },
  {
   "cell_type": "code",
   "execution_count": 29,
   "source": [
    "# to see whet methods are defined for a function use\n",
    "methods(mult_dist_example)"
   ],
   "outputs": [
    {
     "output_type": "execute_result",
     "data": {
      "text/plain": [
       "# 3 methods for generic function \"mult_dist_example\":\n",
       "[1] mult_dist_example(a::String, b::String) in Main at In[25]:1\n",
       "[2] mult_dist_example(a::Int64, b::Int64) in Main at In[25]:5\n",
       "[3] mult_dist_example(a, b) in Main at In[25]:9"
      ],
      "text/html": [
       "# 3 methods for generic function <b>mult_dist_example</b>:<ul><li> mult_dist_example(a::<b>String</b>, b::<b>String</b>) in Main at In[25]:1</li> <li> mult_dist_example(a::<b>Int64</b>, b::<b>Int64</b>) in Main at In[25]:5</li> <li> mult_dist_example(a, b) in Main at In[25]:9</li> </ul>"
      ]
     },
     "metadata": {},
     "execution_count": 29
    }
   ],
   "metadata": {}
  },
  {
   "cell_type": "code",
   "execution_count": 30,
   "source": [
    "# The sum function has a lot of methods defined\n",
    "methods(+)"
   ],
   "outputs": [
    {
     "output_type": "execute_result",
     "data": {
      "text/plain": [
       "# 192 methods for generic function \"+\":\n",
       "[1] +(x::T, y::T) where T<:Union{Int128, Int16, Int32, Int64, Int8, UInt128, UInt16, UInt32, UInt64, UInt8} in Base at int.jl:87\n",
       "[2] +(c::Union{UInt16, UInt32, UInt64, UInt8}, x::BigInt) in Base.GMP at gmp.jl:528\n",
       "[3] +(c::Union{Int16, Int32, Int64, Int8}, x::BigInt) in Base.GMP at gmp.jl:534\n",
       "[4] +(c::Union{UInt16, UInt32, UInt64, UInt8}, x::BigFloat) in Base.MPFR at mpfr.jl:376\n",
       "[5] +(c::Union{Int16, Int32, Int64, Int8}, x::BigFloat) in Base.MPFR at mpfr.jl:384\n",
       "[6] +(c::Union{Float16, Float32, Float64}, x::BigFloat) in Base.MPFR at mpfr.jl:392\n",
       "[7] +(x::Union{Dates.CompoundPeriod, Dates.Period}) in Dates at /home/mitchv34/Julia/share/julia/stdlib/v1.6/Dates/src/periods.jl:362\n",
       "[8] +(a::Union{ColorTypes.LMS, ColorTypes.XYZ}, b::Union{ColorTypes.LMS, ColorTypes.XYZ}) in Colors at /home/mitchv34/.julia/packages/Colors/yDxFN/src/algorithms.jl:4\n",
       "[9] +(y::AbstractFloat, x::Bool) in Base at bool.jl:102\n",
       "[10] +(A::LinearAlgebra.Bidiagonal, B::LinearAlgebra.Bidiagonal) in LinearAlgebra at /home/mitchv34/Julia/share/julia/stdlib/v1.6/LinearAlgebra/src/bidiag.jl:354\n",
       "[11] +(A::LinearAlgebra.Bidiagonal, B::LinearAlgebra.UpperTriangular) in LinearAlgebra at /home/mitchv34/Julia/share/julia/stdlib/v1.6/LinearAlgebra/src/special.jl:94\n",
       "[12] +(A::LinearAlgebra.Bidiagonal, B::LinearAlgebra.UnitUpperTriangular) in LinearAlgebra at /home/mitchv34/Julia/share/julia/stdlib/v1.6/LinearAlgebra/src/special.jl:94\n",
       "[13] +(A::LinearAlgebra.Bidiagonal, B::LinearAlgebra.LowerTriangular) in LinearAlgebra at /home/mitchv34/Julia/share/julia/stdlib/v1.6/LinearAlgebra/src/special.jl:94\n",
       "[14] +(A::LinearAlgebra.Bidiagonal, B::LinearAlgebra.UnitLowerTriangular) in LinearAlgebra at /home/mitchv34/Julia/share/julia/stdlib/v1.6/LinearAlgebra/src/special.jl:94\n",
       "[15] +(A::LinearAlgebra.Bidiagonal, B::LinearAlgebra.Diagonal) in LinearAlgebra at /home/mitchv34/Julia/share/julia/stdlib/v1.6/LinearAlgebra/src/special.jl:115\n",
       "[16] +(A::LinearAlgebra.Bidiagonal, B::LinearAlgebra.Tridiagonal) in LinearAlgebra at /home/mitchv34/Julia/share/julia/stdlib/v1.6/LinearAlgebra/src/special.jl:183\n",
       "[17] +(A::LinearAlgebra.Bidiagonal, B::LinearAlgebra.SymTridiagonal) in LinearAlgebra at /home/mitchv34/Julia/share/julia/stdlib/v1.6/LinearAlgebra/src/special.jl:203\n",
       "[18] +(A::LinearAlgebra.Bidiagonal{var\"#s832\", V} where {var\"#s832\"<:Number, V<:AbstractVector{var\"#s832\"}}, B::LinearAlgebra.UniformScaling) in LinearAlgebra at /home/mitchv34/Julia/share/julia/stdlib/v1.6/LinearAlgebra/src/special.jl:236\n",
       "[19] +(J::LinearAlgebra.UniformScaling) in LinearAlgebra at /home/mitchv34/Julia/share/julia/stdlib/v1.6/LinearAlgebra/src/uniformscaling.jl:150\n",
       "[20] +(J::LinearAlgebra.UniformScaling, x::Number) in LinearAlgebra at /home/mitchv34/Julia/share/julia/stdlib/v1.6/LinearAlgebra/src/uniformscaling.jl:145\n",
       "[21] +(J1::LinearAlgebra.UniformScaling, J2::LinearAlgebra.UniformScaling) in LinearAlgebra at /home/mitchv34/Julia/share/julia/stdlib/v1.6/LinearAlgebra/src/uniformscaling.jl:151\n",
       "[22] +(J::LinearAlgebra.UniformScaling, B::BitMatrix) in LinearAlgebra at /home/mitchv34/Julia/share/julia/stdlib/v1.6/LinearAlgebra/src/uniformscaling.jl:153\n",
       "[23] +(J::LinearAlgebra.UniformScaling, F::LinearAlgebra.Hessenberg) in LinearAlgebra at /home/mitchv34/Julia/share/julia/stdlib/v1.6/LinearAlgebra/src/hessenberg.jl:560\n",
       "[24] +(A::LinearAlgebra.UniformScaling, B::LinearAlgebra.Tridiagonal{var\"#s832\", V} where {var\"#s832\"<:Number, V<:AbstractVector{var\"#s832\"}}) in LinearAlgebra at /home/mitchv34/Julia/share/julia/stdlib/v1.6/LinearAlgebra/src/special.jl:245\n",
       "[25] +(A::LinearAlgebra.UniformScaling, B::LinearAlgebra.SymTridiagonal{var\"#s832\", V} where {var\"#s832\"<:Number, V<:AbstractVector{var\"#s832\"}}) in LinearAlgebra at /home/mitchv34/Julia/share/julia/stdlib/v1.6/LinearAlgebra/src/special.jl:250\n",
       "[26] +(A::LinearAlgebra.UniformScaling, B::LinearAlgebra.Bidiagonal{var\"#s832\", V} where {var\"#s832\"<:Number, V<:AbstractVector{var\"#s832\"}}) in LinearAlgebra at /home/mitchv34/Julia/share/julia/stdlib/v1.6/LinearAlgebra/src/special.jl:255\n",
       "[27] +(A::LinearAlgebra.UniformScaling, B::LinearAlgebra.Diagonal{var\"#s832\", V} where {var\"#s832\"<:Number, V<:AbstractVector{var\"#s832\"}}) in LinearAlgebra at /home/mitchv34/Julia/share/julia/stdlib/v1.6/LinearAlgebra/src/special.jl:260\n",
       "[28] +(J::LinearAlgebra.UniformScaling, A::AbstractMatrix{T} where T) in LinearAlgebra at /home/mitchv34/Julia/share/julia/stdlib/v1.6/LinearAlgebra/src/uniformscaling.jl:154\n",
       "[29] +(x::Rational, y::Integer) in Base at rational.jl:289\n",
       "[30] +(A::LinearAlgebra.Symmetric, B::LinearAlgebra.Symmetric) in LinearAlgebra at /home/mitchv34/Julia/share/julia/stdlib/v1.6/LinearAlgebra/src/symmetric.jl:469\n",
       "[31] +(S::LinearAlgebra.Symmetric, D::LinearAlgebra.Diagonal) in LinearAlgebra at /home/mitchv34/Julia/share/julia/stdlib/v1.6/LinearAlgebra/src/diagonal.jl:163\n",
       "[32] +(A::LinearAlgebra.Symmetric{var\"#s830\", var\"#s829\"} where {var\"#s830\", var\"#s829\"<:(SparseArrays.AbstractSparseMatrix{Tv, Ti} where {Tv, Ti})}, B::SparseArrays.AbstractSparseMatrix{Tv, Ti} where {Tv, Ti}) in SparseArrays at /home/mitchv34/Julia/share/julia/stdlib/v1.6/SparseArrays/src/linalg.jl:15\n",
       "[33] +(A::LinearAlgebra.Symmetric, B::SparseArrays.AbstractSparseMatrix{Tv, Ti} where {Tv, Ti}) in SparseArrays at /home/mitchv34/Julia/share/julia/stdlib/v1.6/SparseArrays/src/linalg.jl:18\n",
       "[34] +(A::LinearAlgebra.Symmetric{var\"#s824\", var\"#s823\"} where {var\"#s824\"<:Real, var\"#s823\"<:(SparseArrays.AbstractSparseMatrix{Tv, Ti} where {Tv, Ti})}, B::LinearAlgebra.Hermitian{var\"#s822\", var\"#s821\"} where {var\"#s822\", var\"#s821\"<:(SparseArrays.AbstractSparseMatrix{Tv, Ti} where {Tv, Ti})}) in SparseArrays at /home/mitchv34/Julia/share/julia/stdlib/v1.6/SparseArrays/src/linalg.jl:25\n",
       "[35] +(A::LinearAlgebra.Symmetric{var\"#s831\", S} where {var\"#s831\"<:Real, S<:(AbstractMatrix{var\"#s832\"} where var\"#s832\"<:var\"#s831\")}, B::LinearAlgebra.Hermitian) in LinearAlgebra at /home/mitchv34/Julia/share/julia/stdlib/v1.6/LinearAlgebra/src/symmetric.jl:484\n",
       "[36] +(A::LinearAlgebra.Symmetric{var\"#s832\", var\"#s831\"} where {var\"#s832\", var\"#s831\"<:(SparseArrays.AbstractSparseMatrix{Tv, Ti} where {Tv, Ti})}, B::LinearAlgebra.Hermitian{var\"#s830\", var\"#s829\"} where {var\"#s830\", var\"#s829\"<:(SparseArrays.AbstractSparseMatrix{Tv, Ti} where {Tv, Ti})}) in SparseArrays at /home/mitchv34/Julia/share/julia/stdlib/v1.6/SparseArrays/src/linalg.jl:23\n",
       "[37] +(x::AbstractIrrational, y::AbstractIrrational) in Base at irrationals.jl:156\n",
       "[38] +(Da::LinearAlgebra.Diagonal, Db::LinearAlgebra.Diagonal) in LinearAlgebra at /home/mitchv34/Julia/share/julia/stdlib/v1.6/LinearAlgebra/src/diagonal.jl:156\n",
       "[39] +(D::LinearAlgebra.Diagonal, S::LinearAlgebra.Symmetric) in LinearAlgebra at /home/mitchv34/Julia/share/julia/stdlib/v1.6/LinearAlgebra/src/diagonal.jl:160\n",
       "[40] +(D::LinearAlgebra.Diagonal{var\"#s832\", V} where {var\"#s832\"<:Real, V<:AbstractVector{var\"#s832\"}}, H::LinearAlgebra.Hermitian) in LinearAlgebra at /home/mitchv34/Julia/share/julia/stdlib/v1.6/LinearAlgebra/src/diagonal.jl:166\n",
       "[41] +(A::LinearAlgebra.Diagonal, B::LinearAlgebra.Bidiagonal) in LinearAlgebra at /home/mitchv34/Julia/share/julia/stdlib/v1.6/LinearAlgebra/src/special.jl:125\n",
       "[42] +(A::LinearAlgebra.Diagonal, B::LinearAlgebra.SymTridiagonal) in LinearAlgebra at /home/mitchv34/Julia/share/julia/stdlib/v1.6/LinearAlgebra/src/special.jl:135\n",
       "[43] +(A::LinearAlgebra.Diagonal, B::LinearAlgebra.Tridiagonal) in LinearAlgebra at /home/mitchv34/Julia/share/julia/stdlib/v1.6/LinearAlgebra/src/special.jl:163\n",
       "[44] +(A::LinearAlgebra.Diagonal{var\"#s832\", V} where {var\"#s832\"<:Number, V<:AbstractVector{var\"#s832\"}}, B::LinearAlgebra.UniformScaling) in LinearAlgebra at /home/mitchv34/Julia/share/julia/stdlib/v1.6/LinearAlgebra/src/special.jl:241\n",
       "[45] +(A::LinearAlgebra.UnitUpperTriangular, B::LinearAlgebra.UpperTriangular) in LinearAlgebra at /home/mitchv34/Julia/share/julia/stdlib/v1.6/LinearAlgebra/src/triangular.jl:652\n",
       "[46] +(A::LinearAlgebra.UnitUpperTriangular, B::LinearAlgebra.UnitUpperTriangular) in LinearAlgebra at /home/mitchv34/Julia/share/julia/stdlib/v1.6/LinearAlgebra/src/triangular.jl:654\n",
       "[47] +(UL::LinearAlgebra.UnitUpperTriangular, J::LinearAlgebra.UniformScaling) in LinearAlgebra at /home/mitchv34/Julia/share/julia/stdlib/v1.6/LinearAlgebra/src/uniformscaling.jl:182\n",
       "[48] +(A::LinearAlgebra.UnitUpperTriangular, B::LinearAlgebra.Bidiagonal) in LinearAlgebra at /home/mitchv34/Julia/share/julia/stdlib/v1.6/LinearAlgebra/src/special.jl:86\n",
       "[49] +(A::LinearAlgebra.SymTridiagonal, B::LinearAlgebra.SymTridiagonal) in LinearAlgebra at /home/mitchv34/Julia/share/julia/stdlib/v1.6/LinearAlgebra/src/tridiag.jl:205\n",
       "[50] +(A::LinearAlgebra.SymTridiagonal, B::LinearAlgebra.Diagonal) in LinearAlgebra at /home/mitchv34/Julia/share/julia/stdlib/v1.6/LinearAlgebra/src/special.jl:145\n",
       "[51] +(A::LinearAlgebra.SymTridiagonal, B::LinearAlgebra.Tridiagonal) in LinearAlgebra at /home/mitchv34/Julia/share/julia/stdlib/v1.6/LinearAlgebra/src/special.jl:159\n",
       "[52] +(A::LinearAlgebra.SymTridiagonal, B::LinearAlgebra.Bidiagonal) in LinearAlgebra at /home/mitchv34/Julia/share/julia/stdlib/v1.6/LinearAlgebra/src/special.jl:213\n",
       "[53] +(A::LinearAlgebra.SymTridiagonal{var\"#s832\", V} where {var\"#s832\"<:Number, V<:AbstractVector{var\"#s832\"}}, B::LinearAlgebra.UniformScaling) in LinearAlgebra at /home/mitchv34/Julia/share/julia/stdlib/v1.6/LinearAlgebra/src/special.jl:231\n",
       "[54] +(r::AbstractRange{var\"#s832\"} where var\"#s832\"<:Dates.TimeType, x::Dates.Period) in Dates at /home/mitchv34/Julia/share/julia/stdlib/v1.6/Dates/src/ranges.jl:63\n",
       "[55] +(A::LinearAlgebra.UpperHessenberg, B::LinearAlgebra.UpperHessenberg) in LinearAlgebra at /home/mitchv34/Julia/share/julia/stdlib/v1.6/LinearAlgebra/src/hessenberg.jl:101\n",
       "[56] +(H::LinearAlgebra.UpperHessenberg, J::LinearAlgebra.UniformScaling) in LinearAlgebra at /home/mitchv34/Julia/share/julia/stdlib/v1.6/LinearAlgebra/src/hessenberg.jl:106\n",
       "[57] +(x::T, y::Integer) where T<:AbstractChar in Base at char.jl:223\n",
       "[58] +(A::Array, Bs::Array...) in Base at arraymath.jl:43\n",
       "[59] +(X::StridedArray{var\"#s832\", N} where {var\"#s832\"<:Union{Dates.CompoundPeriod, Dates.Period}, N}, Y::StridedArray{var\"#s831\", N} where {var\"#s831\"<:Union{Dates.CompoundPeriod, Dates.Period}, N}) in Dates at /home/mitchv34/Julia/share/julia/stdlib/v1.6/Dates/src/deprecated.jl:62\n",
       "[60] +(A::Array, B::SparseArrays.AbstractSparseMatrixCSC) in SparseArrays at /home/mitchv34/Julia/share/julia/stdlib/v1.6/SparseArrays/src/sparsematrix.jl:1745\n",
       "[61] +(x::StridedArray{var\"#s832\", N} where {var\"#s832\"<:Union{Dates.CompoundPeriod, Dates.Period}, N}) in Dates at /home/mitchv34/Julia/share/julia/stdlib/v1.6/Dates/src/deprecated.jl:55\n",
       "[62] +(x::StridedArray{var\"#s832\", N} where {var\"#s832\"<:Union{Dates.CompoundPeriod, Dates.Period}, N}, y::Dates.TimeType) in Dates at /home/mitchv34/Julia/share/julia/stdlib/v1.6/Dates/src/deprecated.jl:10\n",
       "[63] +(x::Dates.Instant) in Dates at /home/mitchv34/Julia/share/julia/stdlib/v1.6/Dates/src/arithmetic.jl:4\n",
       "[64] +(A::LinearAlgebra.Tridiagonal, B::LinearAlgebra.Tridiagonal) in LinearAlgebra at /home/mitchv34/Julia/share/julia/stdlib/v1.6/LinearAlgebra/src/tridiag.jl:733\n",
       "[65] +(A::LinearAlgebra.Tridiagonal, B::LinearAlgebra.SymTridiagonal) in LinearAlgebra at /home/mitchv34/Julia/share/julia/stdlib/v1.6/LinearAlgebra/src/special.jl:157\n",
       "[66] +(A::LinearAlgebra.Tridiagonal, B::LinearAlgebra.Diagonal) in LinearAlgebra at /home/mitchv34/Julia/share/julia/stdlib/v1.6/LinearAlgebra/src/special.jl:173\n",
       "[67] +(A::LinearAlgebra.Tridiagonal, B::LinearAlgebra.Bidiagonal) in LinearAlgebra at /home/mitchv34/Julia/share/julia/stdlib/v1.6/LinearAlgebra/src/special.jl:193\n",
       "[68] +(A::LinearAlgebra.Tridiagonal{var\"#s832\", V} where {var\"#s832\"<:Number, V<:AbstractVector{var\"#s832\"}}, B::LinearAlgebra.UniformScaling) in LinearAlgebra at /home/mitchv34/Julia/share/julia/stdlib/v1.6/LinearAlgebra/src/special.jl:226\n",
       "[69] +(r1::StepRangeLen{T, R, S} where S, r2::StepRangeLen{T, R, S} where S) where {R<:Base.TwicePrecision, T} in Base at twiceprecision.jl:574\n",
       "[70] +(r1::StepRangeLen{T, S, S1} where S1, r2::StepRangeLen{T, S, S1} where S1) where {T, S} in Base at range.jl:1126\n",
       "[71] +(x::Ptr, y::Integer) in Base at pointer.jl:159\n",
       "[72] +(r1::LinRange{T}, r2::LinRange{T}) where T in Base at range.jl:1110\n",
       "[73] +(x::Base.TwicePrecision, y::Number) in Base at twiceprecision.jl:267\n",
       "[74] +(x::Base.TwicePrecision{T}, y::Base.TwicePrecision{T}) where T in Base at twiceprecision.jl:273\n",
       "[75] +(x::Base.TwicePrecision, y::Base.TwicePrecision) in Base at twiceprecision.jl:278\n",
       "[76] +(A::LinearAlgebra.UnitLowerTriangular, B::LinearAlgebra.LowerTriangular) in LinearAlgebra at /home/mitchv34/Julia/share/julia/stdlib/v1.6/LinearAlgebra/src/triangular.jl:653\n",
       "[77] +(A::LinearAlgebra.UnitLowerTriangular, B::LinearAlgebra.UnitLowerTriangular) in LinearAlgebra at /home/mitchv34/Julia/share/julia/stdlib/v1.6/LinearAlgebra/src/triangular.jl:655\n",
       "[78] +(UL::LinearAlgebra.UnitLowerTriangular, J::LinearAlgebra.UniformScaling) in LinearAlgebra at /home/mitchv34/Julia/share/julia/stdlib/v1.6/LinearAlgebra/src/uniformscaling.jl:182\n",
       "[79] +(A::LinearAlgebra.UnitLowerTriangular, B::LinearAlgebra.Bidiagonal) in LinearAlgebra at /home/mitchv34/Julia/share/julia/stdlib/v1.6/LinearAlgebra/src/special.jl:86\n",
       "[80] +(A::LinearAlgebra.Hermitian, B::LinearAlgebra.Hermitian) in LinearAlgebra at /home/mitchv34/Julia/share/julia/stdlib/v1.6/LinearAlgebra/src/symmetric.jl:469\n",
       "[81] +(H::LinearAlgebra.Hermitian, D::LinearAlgebra.Diagonal{var\"#s832\", V} where {var\"#s832\"<:Real, V<:AbstractVector{var\"#s832\"}}) in LinearAlgebra at /home/mitchv34/Julia/share/julia/stdlib/v1.6/LinearAlgebra/src/diagonal.jl:169\n",
       "[82] +(A::LinearAlgebra.Hermitian, J::LinearAlgebra.UniformScaling{var\"#s832\"} where var\"#s832\"<:Complex) in LinearAlgebra at /home/mitchv34/Julia/share/julia/stdlib/v1.6/LinearAlgebra/src/uniformscaling.jl:196\n",
       "[83] +(A::LinearAlgebra.Hermitian{var\"#s830\", var\"#s829\"} where {var\"#s830\", var\"#s829\"<:(SparseArrays.AbstractSparseMatrix{Tv, Ti} where {Tv, Ti})}, B::SparseArrays.AbstractSparseMatrix{Tv, Ti} where {Tv, Ti}) in SparseArrays at /home/mitchv34/Julia/share/julia/stdlib/v1.6/SparseArrays/src/linalg.jl:15\n",
       "[84] +(A::LinearAlgebra.Hermitian, B::SparseArrays.AbstractSparseMatrix{Tv, Ti} where {Tv, Ti}) in SparseArrays at /home/mitchv34/Julia/share/julia/stdlib/v1.6/SparseArrays/src/linalg.jl:18\n",
       "[85] +(A::LinearAlgebra.Hermitian{var\"#s820\", var\"#s819\"} where {var\"#s820\", var\"#s819\"<:(SparseArrays.AbstractSparseMatrix{Tv, Ti} where {Tv, Ti})}, B::LinearAlgebra.Symmetric{var\"#s818\", var\"#s817\"} where {var\"#s818\"<:Real, var\"#s817\"<:(SparseArrays.AbstractSparseMatrix{Tv, Ti} where {Tv, Ti})}) in SparseArrays at /home/mitchv34/Julia/share/julia/stdlib/v1.6/SparseArrays/src/linalg.jl:26\n",
       "[86] +(A::LinearAlgebra.Hermitian, B::LinearAlgebra.Symmetric{var\"#s832\", S} where {var\"#s832\"<:Real, S<:(AbstractMatrix{var\"#s832\"} where var\"#s832\"<:var\"#s832\")}) in LinearAlgebra at /home/mitchv34/Julia/share/julia/stdlib/v1.6/LinearAlgebra/src/symmetric.jl:483\n",
       "[87] +(A::LinearAlgebra.Hermitian{var\"#s828\", var\"#s827\"} where {var\"#s828\", var\"#s827\"<:(SparseArrays.AbstractSparseMatrix{Tv, Ti} where {Tv, Ti})}, B::LinearAlgebra.Symmetric{var\"#s826\", var\"#s825\"} where {var\"#s826\", var\"#s825\"<:(SparseArrays.AbstractSparseMatrix{Tv, Ti} where {Tv, Ti})}) in SparseArrays at /home/mitchv34/Julia/share/julia/stdlib/v1.6/SparseArrays/src/linalg.jl:24\n",
       "[88] +(x::P, y::P) where P<:Dates.Period in Dates at /home/mitchv34/Julia/share/julia/stdlib/v1.6/Dates/src/periods.jl:79\n",
       "[89] +(x::Dates.Period, y::Dates.Period) in Dates at /home/mitchv34/Julia/share/julia/stdlib/v1.6/Dates/src/periods.jl:351\n",
       "[90] +(y::Dates.Period, x::Dates.CompoundPeriod) in Dates at /home/mitchv34/Julia/share/julia/stdlib/v1.6/Dates/src/periods.jl:353\n",
       "[91] +(y::Dates.Period, x::Dates.TimeType) in Dates at /home/mitchv34/Julia/share/julia/stdlib/v1.6/Dates/src/arithmetic.jl:85\n",
       "[92] +(x::Dates.Period, r::AbstractRange{var\"#s832\"} where var\"#s832\"<:Dates.TimeType) in Dates at /home/mitchv34/Julia/share/julia/stdlib/v1.6/Dates/src/ranges.jl:62\n",
       "[93] +(y::Union{Dates.CompoundPeriod, Dates.Period}, x::AbstractArray{var\"#s832\", N} where {var\"#s832\"<:Dates.TimeType, N}) in Dates at /home/mitchv34/Julia/share/julia/stdlib/v1.6/Dates/src/deprecated.jl:14\n",
       "[94] +(index1::CartesianIndex{N}, index2::CartesianIndex{N}) where N in Base.IteratorsMD at multidimensional.jl:114\n",
       "[95] +(F::LinearAlgebra.Hessenberg, J::LinearAlgebra.UniformScaling) in LinearAlgebra at /home/mitchv34/Julia/share/julia/stdlib/v1.6/LinearAlgebra/src/hessenberg.jl:559\n",
       "[96] +(A::LinearAlgebra.UpperTriangular, B::LinearAlgebra.UpperTriangular) in LinearAlgebra at /home/mitchv34/Julia/share/julia/stdlib/v1.6/LinearAlgebra/src/triangular.jl:648\n",
       "[97] +(A::LinearAlgebra.UpperTriangular, B::LinearAlgebra.UnitUpperTriangular) in LinearAlgebra at /home/mitchv34/Julia/share/julia/stdlib/v1.6/LinearAlgebra/src/triangular.jl:650\n",
       "[98] +(A::LinearAlgebra.UpperTriangular, B::LinearAlgebra.Bidiagonal) in LinearAlgebra at /home/mitchv34/Julia/share/julia/stdlib/v1.6/LinearAlgebra/src/special.jl:86\n",
       "[99] +(A::SparseArrays.AbstractSparseMatrix{Tv, Ti} where {Tv, Ti}, B::LinearAlgebra.Hermitian{var\"#s832\", var\"#s831\"} where {var\"#s832\", var\"#s831\"<:(SparseArrays.AbstractSparseMatrix{Tv, Ti} where {Tv, Ti})}) in SparseArrays at /home/mitchv34/Julia/share/julia/stdlib/v1.6/SparseArrays/src/linalg.jl:14\n",
       "[100] +(A::SparseArrays.AbstractSparseMatrix{Tv, Ti} where {Tv, Ti}, B::LinearAlgebra.Hermitian) in SparseArrays at /home/mitchv34/Julia/share/julia/stdlib/v1.6/SparseArrays/src/linalg.jl:17\n",
       "[101] +(A::SparseArrays.AbstractSparseMatrix{Tv, Ti} where {Tv, Ti}, B::LinearAlgebra.Symmetric{var\"#s832\", var\"#s831\"} where {var\"#s832\", var\"#s831\"<:(SparseArrays.AbstractSparseMatrix{Tv, Ti} where {Tv, Ti})}) in SparseArrays at /home/mitchv34/Julia/share/julia/stdlib/v1.6/SparseArrays/src/linalg.jl:14\n",
       "[102] +(A::SparseArrays.AbstractSparseMatrix{Tv, Ti} where {Tv, Ti}, B::LinearAlgebra.Symmetric) in SparseArrays at /home/mitchv34/Julia/share/julia/stdlib/v1.6/SparseArrays/src/linalg.jl:17\n",
       "[103] +(y::Dates.TimeType, x::StridedArray{var\"#s832\", N} where {var\"#s832\"<:Union{Dates.CompoundPeriod, Dates.Period}, N}) in Dates at /home/mitchv34/Julia/share/julia/stdlib/v1.6/Dates/src/deprecated.jl:18\n",
       "[104] +(A::SparseArrays.AbstractSparseMatrixCSC, B::SparseArrays.AbstractSparseMatrixCSC) in SparseArrays at /home/mitchv34/Julia/share/julia/stdlib/v1.6/SparseArrays/src/sparsematrix.jl:1741\n",
       "[105] +(x::SparseArrays.AbstractSparseVector{Tv, Ti} where {Tv, Ti}, y::SparseArrays.AbstractSparseVector{Tv, Ti} where {Tv, Ti}) in SparseArrays at /home/mitchv34/Julia/share/julia/stdlib/v1.6/SparseArrays/src/sparsevector.jl:1345\n",
       "[106] +(A::SparseArrays.AbstractSparseMatrixCSC, B::Array) in SparseArrays at /home/mitchv34/Julia/share/julia/stdlib/v1.6/SparseArrays/src/sparsematrix.jl:1744\n",
       "[107] +(A::SparseArrays.AbstractSparseMatrixCSC, J::LinearAlgebra.UniformScaling) in SparseArrays at /home/mitchv34/Julia/share/julia/stdlib/v1.6/SparseArrays/src/sparsematrix.jl:3797\n",
       "[108] +(r1::OrdinalRange, r2::OrdinalRange) in Base at range.jl:1103\n",
       "[109] +(r1::Union{LinRange, OrdinalRange, StepRangeLen}, r2::Union{LinRange, OrdinalRange, StepRangeLen}) in Base at range.jl:1119\n",
       "[110] +(x::AbstractArray{var\"#s832\", N} where {var\"#s832\"<:Dates.TimeType, N}, y::Union{Dates.CompoundPeriod, Dates.Period}) in Dates at /home/mitchv34/Julia/share/julia/stdlib/v1.6/Dates/src/deprecated.jl:6\n",
       "[111] +(A::LinearAlgebra.LowerTriangular, B::LinearAlgebra.LowerTriangular) in LinearAlgebra at /home/mitchv34/Julia/share/julia/stdlib/v1.6/LinearAlgebra/src/triangular.jl:649\n",
       "[112] +(A::LinearAlgebra.LowerTriangular, B::LinearAlgebra.UnitLowerTriangular) in LinearAlgebra at /home/mitchv34/Julia/share/julia/stdlib/v1.6/LinearAlgebra/src/triangular.jl:651\n",
       "[113] +(A::LinearAlgebra.AbstractTriangular, B::LinearAlgebra.AbstractTriangular) in LinearAlgebra at /home/mitchv34/Julia/share/julia/stdlib/v1.6/LinearAlgebra/src/triangular.jl:656\n",
       "[114] +(A::LinearAlgebra.LowerTriangular, B::LinearAlgebra.Bidiagonal) in LinearAlgebra at /home/mitchv34/Julia/share/julia/stdlib/v1.6/LinearAlgebra/src/special.jl:86\n",
       "[115] +(z::Complex, w::Complex) in Base at complex.jl:275\n",
       "[116] +(x::X, y::X) where X<:FixedPointNumbers.FixedPoint in FixedPointNumbers at /home/mitchv34/.julia/packages/FixedPointNumbers/HAGk2/src/FixedPointNumbers.jl:237\n",
       "[117] +(A::BitArray, B::BitArray) in Base at bitarray.jl:1127\n",
       "[118] +(A::AbstractArray, B::AbstractArray) in Base at arraymath.jl:37\n",
       "[119] +(x::Float32, y::Float32) in Base at float.jl:325\n",
       "[120] +(dt::Dates.DateTime, y::Dates.Year) in Dates at /home/mitchv34/Julia/share/julia/stdlib/v1.6/Dates/src/arithmetic.jl:23\n",
       "[121] +(dt::Dates.DateTime, z::Dates.Month) in Dates at /home/mitchv34/Julia/share/julia/stdlib/v1.6/Dates/src/arithmetic.jl:47\n",
       "[122] +(x::Dates.DateTime, y::Dates.Quarter) in Dates at /home/mitchv34/Julia/share/julia/stdlib/v1.6/Dates/src/arithmetic.jl:75\n",
       "[123] +(x::Dates.DateTime, y::Dates.Period) in Dates at /home/mitchv34/Julia/share/julia/stdlib/v1.6/Dates/src/arithmetic.jl:81\n",
       "[124] +(x::BigFloat, y::BigFloat) in Base.MPFR at mpfr.jl:364\n",
       "[125] +(x::BigFloat, c::Union{UInt16, UInt32, UInt64, UInt8}) in Base.MPFR at mpfr.jl:371\n",
       "[126] +(x::BigFloat, c::Union{Int16, Int32, Int64, Int8}) in Base.MPFR at mpfr.jl:379\n",
       "[127] +(x::BigFloat, c::Union{Float16, Float32, Float64}) in Base.MPFR at mpfr.jl:387\n",
       "[128] +(x::BigFloat, c::BigInt) in Base.MPFR at mpfr.jl:395\n",
       "[129] +(a::BigFloat, b::BigFloat, c::BigFloat) in Base.MPFR at mpfr.jl:536\n",
       "[130] +(a::BigFloat, b::BigFloat, c::BigFloat, d::BigFloat) in Base.MPFR at mpfr.jl:542\n",
       "[131] +(a::BigFloat, b::BigFloat, c::BigFloat, d::BigFloat, e::BigFloat) in Base.MPFR at mpfr.jl:549\n",
       "[132] +(z::Complex{Bool}, x::Bool) in Base at complex.jl:287\n",
       "[133] +(z::Complex, x::Bool) in Base at complex.jl:294\n",
       "[134] +(z::Complex{Bool}, x::Real) in Base at complex.jl:301\n",
       "[135] +(z::Complex) in Base at complex.jl:273\n",
       "[136] +(z::Complex, x::Real) in Base at complex.jl:313\n",
       "[137] +(t::Dates.Time, dt::Dates.Date) in Dates at /home/mitchv34/Julia/share/julia/stdlib/v1.6/Dates/src/arithmetic.jl:20\n",
       "[138] +(x::Dates.Time, y::Dates.TimePeriod) in Dates at /home/mitchv34/Julia/share/julia/stdlib/v1.6/Dates/src/arithmetic.jl:83\n",
       "[139] +(dt::Dates.Date, t::Dates.Time) in Dates at /home/mitchv34/Julia/share/julia/stdlib/v1.6/Dates/src/arithmetic.jl:19\n",
       "[140] +(dt::Dates.Date, y::Dates.Year) in Dates at /home/mitchv34/Julia/share/julia/stdlib/v1.6/Dates/src/arithmetic.jl:27\n",
       "[141] +(dt::Dates.Date, z::Dates.Month) in Dates at /home/mitchv34/Julia/share/julia/stdlib/v1.6/Dates/src/arithmetic.jl:54\n",
       "[142] +(x::Dates.Date, y::Dates.Quarter) in Dates at /home/mitchv34/Julia/share/julia/stdlib/v1.6/Dates/src/arithmetic.jl:73\n",
       "[143] +(x::Dates.Date, y::Dates.Week) in Dates at /home/mitchv34/Julia/share/julia/stdlib/v1.6/Dates/src/arithmetic.jl:77\n",
       "[144] +(x::Dates.Date, y::Dates.Day) in Dates at /home/mitchv34/Julia/share/julia/stdlib/v1.6/Dates/src/arithmetic.jl:79\n",
       "[145] +(x::Dates.TimeType) in Dates at /home/mitchv34/Julia/share/julia/stdlib/v1.6/Dates/src/arithmetic.jl:8\n",
       "[146] +(x::Dates.AbstractTime, y::Missing) in Dates at /home/mitchv34/Julia/share/julia/stdlib/v1.6/Dates/src/arithmetic.jl:88\n",
       "[147] +(a::Dates.TimeType, b::Dates.Period, c::Dates.Period) in Dates at /home/mitchv34/Julia/share/julia/stdlib/v1.6/Dates/src/periods.jl:373\n",
       "[148] +(a::Dates.TimeType, b::Dates.Period, c::Dates.Period, d::Dates.Period...) in Dates at /home/mitchv34/Julia/share/julia/stdlib/v1.6/Dates/src/periods.jl:374\n",
       "[149] +(x::Dates.TimeType, y::Dates.CompoundPeriod) in Dates at /home/mitchv34/Julia/share/julia/stdlib/v1.6/Dates/src/periods.jl:376\n",
       "[150] +(::Missing) in Base at missing.jl:101\n",
       "[151] +(::Missing, ::Missing) in Base at missing.jl:115\n",
       "[152] +(::Missing, ::Number) in Base at missing.jl:116\n",
       "[153] +(x::Missing, y::Dates.AbstractTime) in Dates at /home/mitchv34/Julia/share/julia/stdlib/v1.6/Dates/src/arithmetic.jl:89\n",
       "[154] +(level::Base.CoreLogging.LogLevel, inc::Integer) in Base.CoreLogging at logging.jl:131\n",
       "[155] +(x::Dates.CompoundPeriod, y::Dates.Period) in Dates at /home/mitchv34/Julia/share/julia/stdlib/v1.6/Dates/src/periods.jl:352\n",
       "[156] +(x::Dates.CompoundPeriod, y::Dates.CompoundPeriod) in Dates at /home/mitchv34/Julia/share/julia/stdlib/v1.6/Dates/src/periods.jl:354\n",
       "[157] +(x::Dates.CompoundPeriod, y::Dates.TimeType) in Dates at /home/mitchv34/Julia/share/julia/stdlib/v1.6/Dates/src/periods.jl:382\n",
       "[158] +(x::BigInt, y::BigInt) in Base.GMP at gmp.jl:479\n",
       "[159] +(a::BigInt, b::BigInt, c::BigInt) in Base.GMP at gmp.jl:519\n",
       "[160] +(a::BigInt, b::BigInt, c::BigInt, d::BigInt) in Base.GMP at gmp.jl:520\n",
       "[161] +(a::BigInt, b::BigInt, c::BigInt, d::BigInt, e::BigInt) in Base.GMP at gmp.jl:521\n",
       "[162] +(x::BigInt, c::Union{UInt16, UInt32, UInt64, UInt8}) in Base.GMP at gmp.jl:527\n",
       "[163] +(x::BigInt, c::Union{Int16, Int32, Int64, Int8}) in Base.GMP at gmp.jl:533\n",
       "[164] +(c::BigInt, x::BigFloat) in Base.MPFR at mpfr.jl:400\n",
       "[165] +(a::Pkg.Resolve.VersionWeight, b::Pkg.Resolve.VersionWeight) in Pkg.Resolve at /home/mitchv34/Julia/share/julia/stdlib/v1.6/Pkg/src/Resolve/versionweights.jl:22\n",
       "[166] +(x::Float64, y::Float64) in Base at float.jl:326\n",
       "[167] +(x::Float16, y::Float16) in Base at float.jl:324\n",
       "[168] +(x::Bool) in Base at bool.jl:89\n",
       "[169] +(x::Number, y::Base.TwicePrecision) in Base at twiceprecision.jl:271\n",
       "[170] +(::Number, ::Missing) in Base at missing.jl:117\n",
       "[171] +(x::Number, J::LinearAlgebra.UniformScaling) in LinearAlgebra at /home/mitchv34/Julia/share/julia/stdlib/v1.6/LinearAlgebra/src/uniformscaling.jl:146\n",
       "[172] +(x::Integer, y::Ptr) in Base at pointer.jl:161\n",
       "[173] +(y::Integer, x::Rational) in Base at rational.jl:296\n",
       "[174] +(x::Integer, y::AbstractChar) in Base at char.jl:224\n",
       "[175] +(x::Bool, y::Bool) in Base at bool.jl:92\n",
       "[176] +(a::Integer, b::Integer) in Base at int.jl:919\n",
       "[177] +(x::Bool, y::T) where T<:AbstractFloat in Base at bool.jl:99\n",
       "[178] +(x::Bool, z::Complex{Bool}) in Base at complex.jl:286\n",
       "[179] +(x::Bool, z::Complex) in Base at complex.jl:293\n",
       "[180] +(a::Pkg.Resolve.FieldValue, b::Pkg.Resolve.FieldValue) in Pkg.Resolve at /home/mitchv34/Julia/share/julia/stdlib/v1.6/Pkg/src/Resolve/fieldvalues.jl:43\n",
       "[181] +(B::BitMatrix, J::LinearAlgebra.UniformScaling) in LinearAlgebra at /home/mitchv34/Julia/share/julia/stdlib/v1.6/LinearAlgebra/src/uniformscaling.jl:152\n",
       "[182] +(A::AbstractMatrix{T} where T, J::LinearAlgebra.UniformScaling) in LinearAlgebra at /home/mitchv34/Julia/share/julia/stdlib/v1.6/LinearAlgebra/src/uniformscaling.jl:215\n",
       "[183] +(x::AbstractArray{var\"#s79\", N} where {var\"#s79\"<:Number, N}) in Base at abstractarraymath.jl:97\n",
       "[184] +(x::Rational{BigInt}, y::Rational{BigInt}) in Base.GMP.MPQ at gmp.jl:889\n",
       "[185] +(x::Rational) in Base at rational.jl:268\n",
       "[186] +(x::Real, z::Complex{Bool}) in Base at complex.jl:300\n",
       "[187] +(x::Real, z::Complex) in Base at complex.jl:312\n",
       "[188] +(x::Rational, y::Rational) in Base at rational.jl:284\n",
       "[189] +(x::Number) in Base at operators.jl:515\n",
       "[190] +(x::T, y::T) where T<:Number in Base at promotion.jl:396\n",
       "[191] +(x::Number, y::Number) in Base at promotion.jl:321\n",
       "[192] +(a, b, c, xs...) in Base at operators.jl:560"
      ],
      "text/html": [
       "# 192 methods for generic function <b>+</b>:<ul><li> +(x::<b>T</b>, y::<b>T</b>)<i> where T<:Union{Int128, Int16, Int32, Int64, Int8, UInt128, UInt16, UInt32, UInt64, UInt8}</i> in Base at <a href=\"https://github.com/JuliaLang/julia/tree/1b93d53fc4bb59350ada898038ed4de2994cce33/base/int.jl#L87\" target=\"_blank\">int.jl:87</a></li> <li> +(c::<b>Union{UInt16, UInt32, UInt64, UInt8}</b>, x::<b>BigInt</b>) in Base.GMP at <a href=\"https://github.com/JuliaLang/julia/tree/1b93d53fc4bb59350ada898038ed4de2994cce33/base/gmp.jl#L528\" target=\"_blank\">gmp.jl:528</a></li> <li> +(c::<b>Union{Int16, Int32, Int64, Int8}</b>, x::<b>BigInt</b>) in Base.GMP at <a href=\"https://github.com/JuliaLang/julia/tree/1b93d53fc4bb59350ada898038ed4de2994cce33/base/gmp.jl#L534\" target=\"_blank\">gmp.jl:534</a></li> <li> +(c::<b>Union{UInt16, UInt32, UInt64, UInt8}</b>, x::<b>BigFloat</b>) in Base.MPFR at <a href=\"https://github.com/JuliaLang/julia/tree/1b93d53fc4bb59350ada898038ed4de2994cce33/base/mpfr.jl#L376\" target=\"_blank\">mpfr.jl:376</a></li> <li> +(c::<b>Union{Int16, Int32, Int64, Int8}</b>, x::<b>BigFloat</b>) in Base.MPFR at <a href=\"https://github.com/JuliaLang/julia/tree/1b93d53fc4bb59350ada898038ed4de2994cce33/base/mpfr.jl#L384\" target=\"_blank\">mpfr.jl:384</a></li> <li> +(c::<b>Union{Float16, Float32, Float64}</b>, x::<b>BigFloat</b>) in Base.MPFR at <a href=\"https://github.com/JuliaLang/julia/tree/1b93d53fc4bb59350ada898038ed4de2994cce33/base/mpfr.jl#L392\" target=\"_blank\">mpfr.jl:392</a></li> <li> +(x::<b>Union{Dates.CompoundPeriod, Dates.Period}</b>) in Dates at <a href=\"file:///buildworker/worker/package_linux64/build/usr/share/julia/stdlib/v1.6/Dates/src/periods.jl\" target=\"_blank\">/home/mitchv34/Julia/share/julia/stdlib/v1.6/Dates/src/periods.jl:362</a></li> <li> +(a::<b>Union{ColorTypes.LMS, ColorTypes.XYZ}</b>, b::<b>Union{ColorTypes.LMS, ColorTypes.XYZ}</b>) in Colors at <a href=\"file:///home/mitchv34/.julia/packages/Colors/yDxFN/src/algorithms.jl\" target=\"_blank\">/home/mitchv34/.julia/packages/Colors/yDxFN/src/algorithms.jl:4</a></li> <li> +(y::<b>AbstractFloat</b>, x::<b>Bool</b>) in Base at <a href=\"https://github.com/JuliaLang/julia/tree/1b93d53fc4bb59350ada898038ed4de2994cce33/base/bool.jl#L102\" target=\"_blank\">bool.jl:102</a></li> <li> +(A::<b>LinearAlgebra.Bidiagonal</b>, B::<b>LinearAlgebra.Bidiagonal</b>) in LinearAlgebra at <a href=\"file:///buildworker/worker/package_linux64/build/usr/share/julia/stdlib/v1.6/LinearAlgebra/src/bidiag.jl\" target=\"_blank\">/home/mitchv34/Julia/share/julia/stdlib/v1.6/LinearAlgebra/src/bidiag.jl:354</a></li> <li> +(A::<b>LinearAlgebra.Bidiagonal</b>, B::<b>LinearAlgebra.UpperTriangular</b>) in LinearAlgebra at <a href=\"file:///buildworker/worker/package_linux64/build/usr/share/julia/stdlib/v1.6/LinearAlgebra/src/special.jl\" target=\"_blank\">/home/mitchv34/Julia/share/julia/stdlib/v1.6/LinearAlgebra/src/special.jl:94</a></li> <li> +(A::<b>LinearAlgebra.Bidiagonal</b>, B::<b>LinearAlgebra.UnitUpperTriangular</b>) in LinearAlgebra at <a href=\"file:///buildworker/worker/package_linux64/build/usr/share/julia/stdlib/v1.6/LinearAlgebra/src/special.jl\" target=\"_blank\">/home/mitchv34/Julia/share/julia/stdlib/v1.6/LinearAlgebra/src/special.jl:94</a></li> <li> +(A::<b>LinearAlgebra.Bidiagonal</b>, B::<b>LinearAlgebra.LowerTriangular</b>) in LinearAlgebra at <a href=\"file:///buildworker/worker/package_linux64/build/usr/share/julia/stdlib/v1.6/LinearAlgebra/src/special.jl\" target=\"_blank\">/home/mitchv34/Julia/share/julia/stdlib/v1.6/LinearAlgebra/src/special.jl:94</a></li> <li> +(A::<b>LinearAlgebra.Bidiagonal</b>, B::<b>LinearAlgebra.UnitLowerTriangular</b>) in LinearAlgebra at <a href=\"file:///buildworker/worker/package_linux64/build/usr/share/julia/stdlib/v1.6/LinearAlgebra/src/special.jl\" target=\"_blank\">/home/mitchv34/Julia/share/julia/stdlib/v1.6/LinearAlgebra/src/special.jl:94</a></li> <li> +(A::<b>LinearAlgebra.Bidiagonal</b>, B::<b>LinearAlgebra.Diagonal</b>) in LinearAlgebra at <a href=\"file:///buildworker/worker/package_linux64/build/usr/share/julia/stdlib/v1.6/LinearAlgebra/src/special.jl\" target=\"_blank\">/home/mitchv34/Julia/share/julia/stdlib/v1.6/LinearAlgebra/src/special.jl:115</a></li> <li> +(A::<b>LinearAlgebra.Bidiagonal</b>, B::<b>LinearAlgebra.Tridiagonal</b>) in LinearAlgebra at <a href=\"file:///buildworker/worker/package_linux64/build/usr/share/julia/stdlib/v1.6/LinearAlgebra/src/special.jl\" target=\"_blank\">/home/mitchv34/Julia/share/julia/stdlib/v1.6/LinearAlgebra/src/special.jl:183</a></li> <li> +(A::<b>LinearAlgebra.Bidiagonal</b>, B::<b>LinearAlgebra.SymTridiagonal</b>) in LinearAlgebra at <a href=\"file:///buildworker/worker/package_linux64/build/usr/share/julia/stdlib/v1.6/LinearAlgebra/src/special.jl\" target=\"_blank\">/home/mitchv34/Julia/share/julia/stdlib/v1.6/LinearAlgebra/src/special.jl:203</a></li> <li> +(A::<b>LinearAlgebra.Bidiagonal{var\"#s832\", V} where {var\"#s832\"<:Number, V<:AbstractVector{var\"#s832\"}}</b>, B::<b>LinearAlgebra.UniformScaling</b>) in LinearAlgebra at <a href=\"file:///buildworker/worker/package_linux64/build/usr/share/julia/stdlib/v1.6/LinearAlgebra/src/special.jl\" target=\"_blank\">/home/mitchv34/Julia/share/julia/stdlib/v1.6/LinearAlgebra/src/special.jl:236</a></li> <li> +(J::<b>LinearAlgebra.UniformScaling</b>) in LinearAlgebra at <a href=\"file:///buildworker/worker/package_linux64/build/usr/share/julia/stdlib/v1.6/LinearAlgebra/src/uniformscaling.jl\" target=\"_blank\">/home/mitchv34/Julia/share/julia/stdlib/v1.6/LinearAlgebra/src/uniformscaling.jl:150</a></li> <li> +(J::<b>LinearAlgebra.UniformScaling</b>, x::<b>Number</b>) in LinearAlgebra at <a href=\"file:///buildworker/worker/package_linux64/build/usr/share/julia/stdlib/v1.6/LinearAlgebra/src/uniformscaling.jl\" target=\"_blank\">/home/mitchv34/Julia/share/julia/stdlib/v1.6/LinearAlgebra/src/uniformscaling.jl:145</a></li> <li> +(J1::<b>LinearAlgebra.UniformScaling</b>, J2::<b>LinearAlgebra.UniformScaling</b>) in LinearAlgebra at <a href=\"file:///buildworker/worker/package_linux64/build/usr/share/julia/stdlib/v1.6/LinearAlgebra/src/uniformscaling.jl\" target=\"_blank\">/home/mitchv34/Julia/share/julia/stdlib/v1.6/LinearAlgebra/src/uniformscaling.jl:151</a></li> <li> +(J::<b>LinearAlgebra.UniformScaling</b>, B::<b>BitMatrix</b>) in LinearAlgebra at <a href=\"file:///buildworker/worker/package_linux64/build/usr/share/julia/stdlib/v1.6/LinearAlgebra/src/uniformscaling.jl\" target=\"_blank\">/home/mitchv34/Julia/share/julia/stdlib/v1.6/LinearAlgebra/src/uniformscaling.jl:153</a></li> <li> +(J::<b>LinearAlgebra.UniformScaling</b>, F::<b>LinearAlgebra.Hessenberg</b>) in LinearAlgebra at <a href=\"file:///buildworker/worker/package_linux64/build/usr/share/julia/stdlib/v1.6/LinearAlgebra/src/hessenberg.jl\" target=\"_blank\">/home/mitchv34/Julia/share/julia/stdlib/v1.6/LinearAlgebra/src/hessenberg.jl:560</a></li> <li> +(A::<b>LinearAlgebra.UniformScaling</b>, B::<b>LinearAlgebra.Tridiagonal{var\"#s832\", V} where {var\"#s832\"<:Number, V<:AbstractVector{var\"#s832\"}}</b>) in LinearAlgebra at <a href=\"file:///buildworker/worker/package_linux64/build/usr/share/julia/stdlib/v1.6/LinearAlgebra/src/special.jl\" target=\"_blank\">/home/mitchv34/Julia/share/julia/stdlib/v1.6/LinearAlgebra/src/special.jl:245</a></li> <li> +(A::<b>LinearAlgebra.UniformScaling</b>, B::<b>LinearAlgebra.SymTridiagonal{var\"#s832\", V} where {var\"#s832\"<:Number, V<:AbstractVector{var\"#s832\"}}</b>) in LinearAlgebra at <a href=\"file:///buildworker/worker/package_linux64/build/usr/share/julia/stdlib/v1.6/LinearAlgebra/src/special.jl\" target=\"_blank\">/home/mitchv34/Julia/share/julia/stdlib/v1.6/LinearAlgebra/src/special.jl:250</a></li> <li> +(A::<b>LinearAlgebra.UniformScaling</b>, B::<b>LinearAlgebra.Bidiagonal{var\"#s832\", V} where {var\"#s832\"<:Number, V<:AbstractVector{var\"#s832\"}}</b>) in LinearAlgebra at <a href=\"file:///buildworker/worker/package_linux64/build/usr/share/julia/stdlib/v1.6/LinearAlgebra/src/special.jl\" target=\"_blank\">/home/mitchv34/Julia/share/julia/stdlib/v1.6/LinearAlgebra/src/special.jl:255</a></li> <li> +(A::<b>LinearAlgebra.UniformScaling</b>, B::<b>LinearAlgebra.Diagonal{var\"#s832\", V} where {var\"#s832\"<:Number, V<:AbstractVector{var\"#s832\"}}</b>) in LinearAlgebra at <a href=\"file:///buildworker/worker/package_linux64/build/usr/share/julia/stdlib/v1.6/LinearAlgebra/src/special.jl\" target=\"_blank\">/home/mitchv34/Julia/share/julia/stdlib/v1.6/LinearAlgebra/src/special.jl:260</a></li> <li> +(J::<b>LinearAlgebra.UniformScaling</b>, A::<b>AbstractMatrix{T} where T</b>) in LinearAlgebra at <a href=\"file:///buildworker/worker/package_linux64/build/usr/share/julia/stdlib/v1.6/LinearAlgebra/src/uniformscaling.jl\" target=\"_blank\">/home/mitchv34/Julia/share/julia/stdlib/v1.6/LinearAlgebra/src/uniformscaling.jl:154</a></li> <li> +(x::<b>Rational</b>, y::<b>Integer</b>) in Base at <a href=\"https://github.com/JuliaLang/julia/tree/1b93d53fc4bb59350ada898038ed4de2994cce33/base/rational.jl#L289\" target=\"_blank\">rational.jl:289</a></li> <li> +(A::<b>LinearAlgebra.Symmetric</b>, B::<b>LinearAlgebra.Symmetric</b>) in LinearAlgebra at <a href=\"file:///buildworker/worker/package_linux64/build/usr/share/julia/stdlib/v1.6/LinearAlgebra/src/symmetric.jl\" target=\"_blank\">/home/mitchv34/Julia/share/julia/stdlib/v1.6/LinearAlgebra/src/symmetric.jl:469</a></li> <li> +(S::<b>LinearAlgebra.Symmetric</b>, D::<b>LinearAlgebra.Diagonal</b>) in LinearAlgebra at <a href=\"file:///buildworker/worker/package_linux64/build/usr/share/julia/stdlib/v1.6/LinearAlgebra/src/diagonal.jl\" target=\"_blank\">/home/mitchv34/Julia/share/julia/stdlib/v1.6/LinearAlgebra/src/diagonal.jl:163</a></li> <li> +(A::<b>LinearAlgebra.Symmetric{var\"#s830\", var\"#s829\"} where {var\"#s830\", var\"#s829\"<:(SparseArrays.AbstractSparseMatrix{Tv, Ti} where {Tv, Ti})}</b>, B::<b>SparseArrays.AbstractSparseMatrix{Tv, Ti} where {Tv, Ti}</b>) in SparseArrays at <a href=\"file:///buildworker/worker/package_linux64/build/usr/share/julia/stdlib/v1.6/SparseArrays/src/linalg.jl\" target=\"_blank\">/home/mitchv34/Julia/share/julia/stdlib/v1.6/SparseArrays/src/linalg.jl:15</a></li> <li> +(A::<b>LinearAlgebra.Symmetric</b>, B::<b>SparseArrays.AbstractSparseMatrix{Tv, Ti} where {Tv, Ti}</b>) in SparseArrays at <a href=\"file:///buildworker/worker/package_linux64/build/usr/share/julia/stdlib/v1.6/SparseArrays/src/linalg.jl\" target=\"_blank\">/home/mitchv34/Julia/share/julia/stdlib/v1.6/SparseArrays/src/linalg.jl:18</a></li> <li> +(A::<b>LinearAlgebra.Symmetric{var\"#s824\", var\"#s823\"} where {var\"#s824\"<:Real, var\"#s823\"<:(SparseArrays.AbstractSparseMatrix{Tv, Ti} where {Tv, Ti})}</b>, B::<b>LinearAlgebra.Hermitian{var\"#s822\", var\"#s821\"} where {var\"#s822\", var\"#s821\"<:(SparseArrays.AbstractSparseMatrix{Tv, Ti} where {Tv, Ti})}</b>) in SparseArrays at <a href=\"file:///buildworker/worker/package_linux64/build/usr/share/julia/stdlib/v1.6/SparseArrays/src/linalg.jl\" target=\"_blank\">/home/mitchv34/Julia/share/julia/stdlib/v1.6/SparseArrays/src/linalg.jl:25</a></li> <li> +(A::<b>LinearAlgebra.Symmetric{var\"#s831\", S} where {var\"#s831\"<:Real, S<:(AbstractMatrix{var\"#s832\"} where var\"#s832\"<:var\"#s831\")}</b>, B::<b>LinearAlgebra.Hermitian</b>) in LinearAlgebra at <a href=\"file:///buildworker/worker/package_linux64/build/usr/share/julia/stdlib/v1.6/LinearAlgebra/src/symmetric.jl\" target=\"_blank\">/home/mitchv34/Julia/share/julia/stdlib/v1.6/LinearAlgebra/src/symmetric.jl:484</a></li> <li> +(A::<b>LinearAlgebra.Symmetric{var\"#s832\", var\"#s831\"} where {var\"#s832\", var\"#s831\"<:(SparseArrays.AbstractSparseMatrix{Tv, Ti} where {Tv, Ti})}</b>, B::<b>LinearAlgebra.Hermitian{var\"#s830\", var\"#s829\"} where {var\"#s830\", var\"#s829\"<:(SparseArrays.AbstractSparseMatrix{Tv, Ti} where {Tv, Ti})}</b>) in SparseArrays at <a href=\"file:///buildworker/worker/package_linux64/build/usr/share/julia/stdlib/v1.6/SparseArrays/src/linalg.jl\" target=\"_blank\">/home/mitchv34/Julia/share/julia/stdlib/v1.6/SparseArrays/src/linalg.jl:23</a></li> <li> +(x::<b>AbstractIrrational</b>, y::<b>AbstractIrrational</b>) in Base at <a href=\"https://github.com/JuliaLang/julia/tree/1b93d53fc4bb59350ada898038ed4de2994cce33/base/irrationals.jl#L156\" target=\"_blank\">irrationals.jl:156</a></li> <li> +(Da::<b>LinearAlgebra.Diagonal</b>, Db::<b>LinearAlgebra.Diagonal</b>) in LinearAlgebra at <a href=\"file:///buildworker/worker/package_linux64/build/usr/share/julia/stdlib/v1.6/LinearAlgebra/src/diagonal.jl\" target=\"_blank\">/home/mitchv34/Julia/share/julia/stdlib/v1.6/LinearAlgebra/src/diagonal.jl:156</a></li> <li> +(D::<b>LinearAlgebra.Diagonal</b>, S::<b>LinearAlgebra.Symmetric</b>) in LinearAlgebra at <a href=\"file:///buildworker/worker/package_linux64/build/usr/share/julia/stdlib/v1.6/LinearAlgebra/src/diagonal.jl\" target=\"_blank\">/home/mitchv34/Julia/share/julia/stdlib/v1.6/LinearAlgebra/src/diagonal.jl:160</a></li> <li> +(D::<b>LinearAlgebra.Diagonal{var\"#s832\", V} where {var\"#s832\"<:Real, V<:AbstractVector{var\"#s832\"}}</b>, H::<b>LinearAlgebra.Hermitian</b>) in LinearAlgebra at <a href=\"file:///buildworker/worker/package_linux64/build/usr/share/julia/stdlib/v1.6/LinearAlgebra/src/diagonal.jl\" target=\"_blank\">/home/mitchv34/Julia/share/julia/stdlib/v1.6/LinearAlgebra/src/diagonal.jl:166</a></li> <li> +(A::<b>LinearAlgebra.Diagonal</b>, B::<b>LinearAlgebra.Bidiagonal</b>) in LinearAlgebra at <a href=\"file:///buildworker/worker/package_linux64/build/usr/share/julia/stdlib/v1.6/LinearAlgebra/src/special.jl\" target=\"_blank\">/home/mitchv34/Julia/share/julia/stdlib/v1.6/LinearAlgebra/src/special.jl:125</a></li> <li> +(A::<b>LinearAlgebra.Diagonal</b>, B::<b>LinearAlgebra.SymTridiagonal</b>) in LinearAlgebra at <a href=\"file:///buildworker/worker/package_linux64/build/usr/share/julia/stdlib/v1.6/LinearAlgebra/src/special.jl\" target=\"_blank\">/home/mitchv34/Julia/share/julia/stdlib/v1.6/LinearAlgebra/src/special.jl:135</a></li> <li> +(A::<b>LinearAlgebra.Diagonal</b>, B::<b>LinearAlgebra.Tridiagonal</b>) in LinearAlgebra at <a href=\"file:///buildworker/worker/package_linux64/build/usr/share/julia/stdlib/v1.6/LinearAlgebra/src/special.jl\" target=\"_blank\">/home/mitchv34/Julia/share/julia/stdlib/v1.6/LinearAlgebra/src/special.jl:163</a></li> <li> +(A::<b>LinearAlgebra.Diagonal{var\"#s832\", V} where {var\"#s832\"<:Number, V<:AbstractVector{var\"#s832\"}}</b>, B::<b>LinearAlgebra.UniformScaling</b>) in LinearAlgebra at <a href=\"file:///buildworker/worker/package_linux64/build/usr/share/julia/stdlib/v1.6/LinearAlgebra/src/special.jl\" target=\"_blank\">/home/mitchv34/Julia/share/julia/stdlib/v1.6/LinearAlgebra/src/special.jl:241</a></li> <li> +(A::<b>LinearAlgebra.UnitUpperTriangular</b>, B::<b>LinearAlgebra.UpperTriangular</b>) in LinearAlgebra at <a href=\"file:///buildworker/worker/package_linux64/build/usr/share/julia/stdlib/v1.6/LinearAlgebra/src/triangular.jl\" target=\"_blank\">/home/mitchv34/Julia/share/julia/stdlib/v1.6/LinearAlgebra/src/triangular.jl:652</a></li> <li> +(A::<b>LinearAlgebra.UnitUpperTriangular</b>, B::<b>LinearAlgebra.UnitUpperTriangular</b>) in LinearAlgebra at <a href=\"file:///buildworker/worker/package_linux64/build/usr/share/julia/stdlib/v1.6/LinearAlgebra/src/triangular.jl\" target=\"_blank\">/home/mitchv34/Julia/share/julia/stdlib/v1.6/LinearAlgebra/src/triangular.jl:654</a></li> <li> +(UL::<b>LinearAlgebra.UnitUpperTriangular</b>, J::<b>LinearAlgebra.UniformScaling</b>) in LinearAlgebra at <a href=\"file:///buildworker/worker/package_linux64/build/usr/share/julia/stdlib/v1.6/LinearAlgebra/src/uniformscaling.jl\" target=\"_blank\">/home/mitchv34/Julia/share/julia/stdlib/v1.6/LinearAlgebra/src/uniformscaling.jl:182</a></li> <li> +(A::<b>LinearAlgebra.UnitUpperTriangular</b>, B::<b>LinearAlgebra.Bidiagonal</b>) in LinearAlgebra at <a href=\"file:///buildworker/worker/package_linux64/build/usr/share/julia/stdlib/v1.6/LinearAlgebra/src/special.jl\" target=\"_blank\">/home/mitchv34/Julia/share/julia/stdlib/v1.6/LinearAlgebra/src/special.jl:86</a></li> <li> +(A::<b>LinearAlgebra.SymTridiagonal</b>, B::<b>LinearAlgebra.SymTridiagonal</b>) in LinearAlgebra at <a href=\"file:///buildworker/worker/package_linux64/build/usr/share/julia/stdlib/v1.6/LinearAlgebra/src/tridiag.jl\" target=\"_blank\">/home/mitchv34/Julia/share/julia/stdlib/v1.6/LinearAlgebra/src/tridiag.jl:205</a></li> <li> +(A::<b>LinearAlgebra.SymTridiagonal</b>, B::<b>LinearAlgebra.Diagonal</b>) in LinearAlgebra at <a href=\"file:///buildworker/worker/package_linux64/build/usr/share/julia/stdlib/v1.6/LinearAlgebra/src/special.jl\" target=\"_blank\">/home/mitchv34/Julia/share/julia/stdlib/v1.6/LinearAlgebra/src/special.jl:145</a></li> <li> +(A::<b>LinearAlgebra.SymTridiagonal</b>, B::<b>LinearAlgebra.Tridiagonal</b>) in LinearAlgebra at <a href=\"file:///buildworker/worker/package_linux64/build/usr/share/julia/stdlib/v1.6/LinearAlgebra/src/special.jl\" target=\"_blank\">/home/mitchv34/Julia/share/julia/stdlib/v1.6/LinearAlgebra/src/special.jl:159</a></li> <li> +(A::<b>LinearAlgebra.SymTridiagonal</b>, B::<b>LinearAlgebra.Bidiagonal</b>) in LinearAlgebra at <a href=\"file:///buildworker/worker/package_linux64/build/usr/share/julia/stdlib/v1.6/LinearAlgebra/src/special.jl\" target=\"_blank\">/home/mitchv34/Julia/share/julia/stdlib/v1.6/LinearAlgebra/src/special.jl:213</a></li> <li> +(A::<b>LinearAlgebra.SymTridiagonal{var\"#s832\", V} where {var\"#s832\"<:Number, V<:AbstractVector{var\"#s832\"}}</b>, B::<b>LinearAlgebra.UniformScaling</b>) in LinearAlgebra at <a href=\"file:///buildworker/worker/package_linux64/build/usr/share/julia/stdlib/v1.6/LinearAlgebra/src/special.jl\" target=\"_blank\">/home/mitchv34/Julia/share/julia/stdlib/v1.6/LinearAlgebra/src/special.jl:231</a></li> <li> +(r::<b>AbstractRange{var\"#s832\"} where var\"#s832\"<:Dates.TimeType</b>, x::<b>Dates.Period</b>) in Dates at <a href=\"file:///buildworker/worker/package_linux64/build/usr/share/julia/stdlib/v1.6/Dates/src/ranges.jl\" target=\"_blank\">/home/mitchv34/Julia/share/julia/stdlib/v1.6/Dates/src/ranges.jl:63</a></li> <li> +(A::<b>LinearAlgebra.UpperHessenberg</b>, B::<b>LinearAlgebra.UpperHessenberg</b>) in LinearAlgebra at <a href=\"file:///buildworker/worker/package_linux64/build/usr/share/julia/stdlib/v1.6/LinearAlgebra/src/hessenberg.jl\" target=\"_blank\">/home/mitchv34/Julia/share/julia/stdlib/v1.6/LinearAlgebra/src/hessenberg.jl:101</a></li> <li> +(H::<b>LinearAlgebra.UpperHessenberg</b>, J::<b>LinearAlgebra.UniformScaling</b>) in LinearAlgebra at <a href=\"file:///buildworker/worker/package_linux64/build/usr/share/julia/stdlib/v1.6/LinearAlgebra/src/hessenberg.jl\" target=\"_blank\">/home/mitchv34/Julia/share/julia/stdlib/v1.6/LinearAlgebra/src/hessenberg.jl:106</a></li> <li> +(x::<b>T</b>, y::<b>Integer</b>)<i> where T<:AbstractChar</i> in Base at <a href=\"https://github.com/JuliaLang/julia/tree/1b93d53fc4bb59350ada898038ed4de2994cce33/base/char.jl#L223\" target=\"_blank\">char.jl:223</a></li> <li> +(A::<b>Array</b>, Bs::<b>Array...</b>) in Base at <a href=\"https://github.com/JuliaLang/julia/tree/1b93d53fc4bb59350ada898038ed4de2994cce33/base/arraymath.jl#L43\" target=\"_blank\">arraymath.jl:43</a></li> <li> +(X::<b>StridedArray{var\"#s832\", N} where {var\"#s832\"<:Union{Dates.CompoundPeriod, Dates.Period}, N}</b>, Y::<b>StridedArray{var\"#s831\", N} where {var\"#s831\"<:Union{Dates.CompoundPeriod, Dates.Period}, N}</b>) in Dates at <a href=\"file:///buildworker/worker/package_linux64/build/usr/share/julia/stdlib/v1.6/Dates/src/deprecated.jl\" target=\"_blank\">/home/mitchv34/Julia/share/julia/stdlib/v1.6/Dates/src/deprecated.jl:62</a></li> <li> +(A::<b>Array</b>, B::<b>SparseArrays.AbstractSparseMatrixCSC</b>) in SparseArrays at <a href=\"file:///buildworker/worker/package_linux64/build/usr/share/julia/stdlib/v1.6/SparseArrays/src/sparsematrix.jl\" target=\"_blank\">/home/mitchv34/Julia/share/julia/stdlib/v1.6/SparseArrays/src/sparsematrix.jl:1745</a></li> <li> +(x::<b>StridedArray{var\"#s832\", N} where {var\"#s832\"<:Union{Dates.CompoundPeriod, Dates.Period}, N}</b>) in Dates at <a href=\"file:///buildworker/worker/package_linux64/build/usr/share/julia/stdlib/v1.6/Dates/src/deprecated.jl\" target=\"_blank\">/home/mitchv34/Julia/share/julia/stdlib/v1.6/Dates/src/deprecated.jl:55</a></li> <li> +(x::<b>StridedArray{var\"#s832\", N} where {var\"#s832\"<:Union{Dates.CompoundPeriod, Dates.Period}, N}</b>, y::<b>Dates.TimeType</b>) in Dates at <a href=\"file:///buildworker/worker/package_linux64/build/usr/share/julia/stdlib/v1.6/Dates/src/deprecated.jl\" target=\"_blank\">/home/mitchv34/Julia/share/julia/stdlib/v1.6/Dates/src/deprecated.jl:10</a></li> <li> +(x::<b>Dates.Instant</b>) in Dates at <a href=\"file:///buildworker/worker/package_linux64/build/usr/share/julia/stdlib/v1.6/Dates/src/arithmetic.jl\" target=\"_blank\">/home/mitchv34/Julia/share/julia/stdlib/v1.6/Dates/src/arithmetic.jl:4</a></li> <li> +(A::<b>LinearAlgebra.Tridiagonal</b>, B::<b>LinearAlgebra.Tridiagonal</b>) in LinearAlgebra at <a href=\"file:///buildworker/worker/package_linux64/build/usr/share/julia/stdlib/v1.6/LinearAlgebra/src/tridiag.jl\" target=\"_blank\">/home/mitchv34/Julia/share/julia/stdlib/v1.6/LinearAlgebra/src/tridiag.jl:733</a></li> <li> +(A::<b>LinearAlgebra.Tridiagonal</b>, B::<b>LinearAlgebra.SymTridiagonal</b>) in LinearAlgebra at <a href=\"file:///buildworker/worker/package_linux64/build/usr/share/julia/stdlib/v1.6/LinearAlgebra/src/special.jl\" target=\"_blank\">/home/mitchv34/Julia/share/julia/stdlib/v1.6/LinearAlgebra/src/special.jl:157</a></li> <li> +(A::<b>LinearAlgebra.Tridiagonal</b>, B::<b>LinearAlgebra.Diagonal</b>) in LinearAlgebra at <a href=\"file:///buildworker/worker/package_linux64/build/usr/share/julia/stdlib/v1.6/LinearAlgebra/src/special.jl\" target=\"_blank\">/home/mitchv34/Julia/share/julia/stdlib/v1.6/LinearAlgebra/src/special.jl:173</a></li> <li> +(A::<b>LinearAlgebra.Tridiagonal</b>, B::<b>LinearAlgebra.Bidiagonal</b>) in LinearAlgebra at <a href=\"file:///buildworker/worker/package_linux64/build/usr/share/julia/stdlib/v1.6/LinearAlgebra/src/special.jl\" target=\"_blank\">/home/mitchv34/Julia/share/julia/stdlib/v1.6/LinearAlgebra/src/special.jl:193</a></li> <li> +(A::<b>LinearAlgebra.Tridiagonal{var\"#s832\", V} where {var\"#s832\"<:Number, V<:AbstractVector{var\"#s832\"}}</b>, B::<b>LinearAlgebra.UniformScaling</b>) in LinearAlgebra at <a href=\"file:///buildworker/worker/package_linux64/build/usr/share/julia/stdlib/v1.6/LinearAlgebra/src/special.jl\" target=\"_blank\">/home/mitchv34/Julia/share/julia/stdlib/v1.6/LinearAlgebra/src/special.jl:226</a></li> <li> +(r1::<b>StepRangeLen{T, R, S} where S</b>, r2::<b>StepRangeLen{T, R, S} where S</b>)<i> where {R<:Base.TwicePrecision, T}</i> in Base at <a href=\"https://github.com/JuliaLang/julia/tree/1b93d53fc4bb59350ada898038ed4de2994cce33/base/twiceprecision.jl#L574\" target=\"_blank\">twiceprecision.jl:574</a></li> <li> +(r1::<b>StepRangeLen{T, S, S1} where S1</b>, r2::<b>StepRangeLen{T, S, S1} where S1</b>)<i> where {T, S}</i> in Base at <a href=\"https://github.com/JuliaLang/julia/tree/1b93d53fc4bb59350ada898038ed4de2994cce33/base/range.jl#L1126\" target=\"_blank\">range.jl:1126</a></li> <li> +(x::<b>Ptr</b>, y::<b>Integer</b>) in Base at <a href=\"https://github.com/JuliaLang/julia/tree/1b93d53fc4bb59350ada898038ed4de2994cce33/base/pointer.jl#L159\" target=\"_blank\">pointer.jl:159</a></li> <li> +(r1::<b>LinRange{T}</b>, r2::<b>LinRange{T}</b>)<i> where T</i> in Base at <a href=\"https://github.com/JuliaLang/julia/tree/1b93d53fc4bb59350ada898038ed4de2994cce33/base/range.jl#L1110\" target=\"_blank\">range.jl:1110</a></li> <li> +(x::<b>Base.TwicePrecision</b>, y::<b>Number</b>) in Base at <a href=\"https://github.com/JuliaLang/julia/tree/1b93d53fc4bb59350ada898038ed4de2994cce33/base/twiceprecision.jl#L267\" target=\"_blank\">twiceprecision.jl:267</a></li> <li> +(x::<b>Base.TwicePrecision{T}</b>, y::<b>Base.TwicePrecision{T}</b>)<i> where T</i> in Base at <a href=\"https://github.com/JuliaLang/julia/tree/1b93d53fc4bb59350ada898038ed4de2994cce33/base/twiceprecision.jl#L273\" target=\"_blank\">twiceprecision.jl:273</a></li> <li> +(x::<b>Base.TwicePrecision</b>, y::<b>Base.TwicePrecision</b>) in Base at <a href=\"https://github.com/JuliaLang/julia/tree/1b93d53fc4bb59350ada898038ed4de2994cce33/base/twiceprecision.jl#L278\" target=\"_blank\">twiceprecision.jl:278</a></li> <li> +(A::<b>LinearAlgebra.UnitLowerTriangular</b>, B::<b>LinearAlgebra.LowerTriangular</b>) in LinearAlgebra at <a href=\"file:///buildworker/worker/package_linux64/build/usr/share/julia/stdlib/v1.6/LinearAlgebra/src/triangular.jl\" target=\"_blank\">/home/mitchv34/Julia/share/julia/stdlib/v1.6/LinearAlgebra/src/triangular.jl:653</a></li> <li> +(A::<b>LinearAlgebra.UnitLowerTriangular</b>, B::<b>LinearAlgebra.UnitLowerTriangular</b>) in LinearAlgebra at <a href=\"file:///buildworker/worker/package_linux64/build/usr/share/julia/stdlib/v1.6/LinearAlgebra/src/triangular.jl\" target=\"_blank\">/home/mitchv34/Julia/share/julia/stdlib/v1.6/LinearAlgebra/src/triangular.jl:655</a></li> <li> +(UL::<b>LinearAlgebra.UnitLowerTriangular</b>, J::<b>LinearAlgebra.UniformScaling</b>) in LinearAlgebra at <a href=\"file:///buildworker/worker/package_linux64/build/usr/share/julia/stdlib/v1.6/LinearAlgebra/src/uniformscaling.jl\" target=\"_blank\">/home/mitchv34/Julia/share/julia/stdlib/v1.6/LinearAlgebra/src/uniformscaling.jl:182</a></li> <li> +(A::<b>LinearAlgebra.UnitLowerTriangular</b>, B::<b>LinearAlgebra.Bidiagonal</b>) in LinearAlgebra at <a href=\"file:///buildworker/worker/package_linux64/build/usr/share/julia/stdlib/v1.6/LinearAlgebra/src/special.jl\" target=\"_blank\">/home/mitchv34/Julia/share/julia/stdlib/v1.6/LinearAlgebra/src/special.jl:86</a></li> <li> +(A::<b>LinearAlgebra.Hermitian</b>, B::<b>LinearAlgebra.Hermitian</b>) in LinearAlgebra at <a href=\"file:///buildworker/worker/package_linux64/build/usr/share/julia/stdlib/v1.6/LinearAlgebra/src/symmetric.jl\" target=\"_blank\">/home/mitchv34/Julia/share/julia/stdlib/v1.6/LinearAlgebra/src/symmetric.jl:469</a></li> <li> +(H::<b>LinearAlgebra.Hermitian</b>, D::<b>LinearAlgebra.Diagonal{var\"#s832\", V} where {var\"#s832\"<:Real, V<:AbstractVector{var\"#s832\"}}</b>) in LinearAlgebra at <a href=\"file:///buildworker/worker/package_linux64/build/usr/share/julia/stdlib/v1.6/LinearAlgebra/src/diagonal.jl\" target=\"_blank\">/home/mitchv34/Julia/share/julia/stdlib/v1.6/LinearAlgebra/src/diagonal.jl:169</a></li> <li> +(A::<b>LinearAlgebra.Hermitian</b>, J::<b>LinearAlgebra.UniformScaling{var\"#s832\"} where var\"#s832\"<:Complex</b>) in LinearAlgebra at <a href=\"file:///buildworker/worker/package_linux64/build/usr/share/julia/stdlib/v1.6/LinearAlgebra/src/uniformscaling.jl\" target=\"_blank\">/home/mitchv34/Julia/share/julia/stdlib/v1.6/LinearAlgebra/src/uniformscaling.jl:196</a></li> <li> +(A::<b>LinearAlgebra.Hermitian{var\"#s830\", var\"#s829\"} where {var\"#s830\", var\"#s829\"<:(SparseArrays.AbstractSparseMatrix{Tv, Ti} where {Tv, Ti})}</b>, B::<b>SparseArrays.AbstractSparseMatrix{Tv, Ti} where {Tv, Ti}</b>) in SparseArrays at <a href=\"file:///buildworker/worker/package_linux64/build/usr/share/julia/stdlib/v1.6/SparseArrays/src/linalg.jl\" target=\"_blank\">/home/mitchv34/Julia/share/julia/stdlib/v1.6/SparseArrays/src/linalg.jl:15</a></li> <li> +(A::<b>LinearAlgebra.Hermitian</b>, B::<b>SparseArrays.AbstractSparseMatrix{Tv, Ti} where {Tv, Ti}</b>) in SparseArrays at <a href=\"file:///buildworker/worker/package_linux64/build/usr/share/julia/stdlib/v1.6/SparseArrays/src/linalg.jl\" target=\"_blank\">/home/mitchv34/Julia/share/julia/stdlib/v1.6/SparseArrays/src/linalg.jl:18</a></li> <li> +(A::<b>LinearAlgebra.Hermitian{var\"#s820\", var\"#s819\"} where {var\"#s820\", var\"#s819\"<:(SparseArrays.AbstractSparseMatrix{Tv, Ti} where {Tv, Ti})}</b>, B::<b>LinearAlgebra.Symmetric{var\"#s818\", var\"#s817\"} where {var\"#s818\"<:Real, var\"#s817\"<:(SparseArrays.AbstractSparseMatrix{Tv, Ti} where {Tv, Ti})}</b>) in SparseArrays at <a href=\"file:///buildworker/worker/package_linux64/build/usr/share/julia/stdlib/v1.6/SparseArrays/src/linalg.jl\" target=\"_blank\">/home/mitchv34/Julia/share/julia/stdlib/v1.6/SparseArrays/src/linalg.jl:26</a></li> <li> +(A::<b>LinearAlgebra.Hermitian</b>, B::<b>LinearAlgebra.Symmetric{var\"#s832\", S} where {var\"#s832\"<:Real, S<:(AbstractMatrix{var\"#s832\"} where var\"#s832\"<:var\"#s832\")}</b>) in LinearAlgebra at <a href=\"file:///buildworker/worker/package_linux64/build/usr/share/julia/stdlib/v1.6/LinearAlgebra/src/symmetric.jl\" target=\"_blank\">/home/mitchv34/Julia/share/julia/stdlib/v1.6/LinearAlgebra/src/symmetric.jl:483</a></li> <li> +(A::<b>LinearAlgebra.Hermitian{var\"#s828\", var\"#s827\"} where {var\"#s828\", var\"#s827\"<:(SparseArrays.AbstractSparseMatrix{Tv, Ti} where {Tv, Ti})}</b>, B::<b>LinearAlgebra.Symmetric{var\"#s826\", var\"#s825\"} where {var\"#s826\", var\"#s825\"<:(SparseArrays.AbstractSparseMatrix{Tv, Ti} where {Tv, Ti})}</b>) in SparseArrays at <a href=\"file:///buildworker/worker/package_linux64/build/usr/share/julia/stdlib/v1.6/SparseArrays/src/linalg.jl\" target=\"_blank\">/home/mitchv34/Julia/share/julia/stdlib/v1.6/SparseArrays/src/linalg.jl:24</a></li> <li> +(x::<b>P</b>, y::<b>P</b>)<i> where P<:Dates.Period</i> in Dates at <a href=\"file:///buildworker/worker/package_linux64/build/usr/share/julia/stdlib/v1.6/Dates/src/periods.jl\" target=\"_blank\">/home/mitchv34/Julia/share/julia/stdlib/v1.6/Dates/src/periods.jl:79</a></li> <li> +(x::<b>Dates.Period</b>, y::<b>Dates.Period</b>) in Dates at <a href=\"file:///buildworker/worker/package_linux64/build/usr/share/julia/stdlib/v1.6/Dates/src/periods.jl\" target=\"_blank\">/home/mitchv34/Julia/share/julia/stdlib/v1.6/Dates/src/periods.jl:351</a></li> <li> +(y::<b>Dates.Period</b>, x::<b>Dates.CompoundPeriod</b>) in Dates at <a href=\"file:///buildworker/worker/package_linux64/build/usr/share/julia/stdlib/v1.6/Dates/src/periods.jl\" target=\"_blank\">/home/mitchv34/Julia/share/julia/stdlib/v1.6/Dates/src/periods.jl:353</a></li> <li> +(y::<b>Dates.Period</b>, x::<b>Dates.TimeType</b>) in Dates at <a href=\"file:///buildworker/worker/package_linux64/build/usr/share/julia/stdlib/v1.6/Dates/src/arithmetic.jl\" target=\"_blank\">/home/mitchv34/Julia/share/julia/stdlib/v1.6/Dates/src/arithmetic.jl:85</a></li> <li> +(x::<b>Dates.Period</b>, r::<b>AbstractRange{var\"#s832\"} where var\"#s832\"<:Dates.TimeType</b>) in Dates at <a href=\"file:///buildworker/worker/package_linux64/build/usr/share/julia/stdlib/v1.6/Dates/src/ranges.jl\" target=\"_blank\">/home/mitchv34/Julia/share/julia/stdlib/v1.6/Dates/src/ranges.jl:62</a></li> <li> +(y::<b>Union{Dates.CompoundPeriod, Dates.Period}</b>, x::<b>AbstractArray{var\"#s832\", N} where {var\"#s832\"<:Dates.TimeType, N}</b>) in Dates at <a href=\"file:///buildworker/worker/package_linux64/build/usr/share/julia/stdlib/v1.6/Dates/src/deprecated.jl\" target=\"_blank\">/home/mitchv34/Julia/share/julia/stdlib/v1.6/Dates/src/deprecated.jl:14</a></li> <li> +(index1::<b>CartesianIndex{N}</b>, index2::<b>CartesianIndex{N}</b>)<i> where N</i> in Base.IteratorsMD at <a href=\"https://github.com/JuliaLang/julia/tree/1b93d53fc4bb59350ada898038ed4de2994cce33/base/multidimensional.jl#L114\" target=\"_blank\">multidimensional.jl:114</a></li> <li> +(F::<b>LinearAlgebra.Hessenberg</b>, J::<b>LinearAlgebra.UniformScaling</b>) in LinearAlgebra at <a href=\"file:///buildworker/worker/package_linux64/build/usr/share/julia/stdlib/v1.6/LinearAlgebra/src/hessenberg.jl\" target=\"_blank\">/home/mitchv34/Julia/share/julia/stdlib/v1.6/LinearAlgebra/src/hessenberg.jl:559</a></li> <li> +(A::<b>LinearAlgebra.UpperTriangular</b>, B::<b>LinearAlgebra.UpperTriangular</b>) in LinearAlgebra at <a href=\"file:///buildworker/worker/package_linux64/build/usr/share/julia/stdlib/v1.6/LinearAlgebra/src/triangular.jl\" target=\"_blank\">/home/mitchv34/Julia/share/julia/stdlib/v1.6/LinearAlgebra/src/triangular.jl:648</a></li> <li> +(A::<b>LinearAlgebra.UpperTriangular</b>, B::<b>LinearAlgebra.UnitUpperTriangular</b>) in LinearAlgebra at <a href=\"file:///buildworker/worker/package_linux64/build/usr/share/julia/stdlib/v1.6/LinearAlgebra/src/triangular.jl\" target=\"_blank\">/home/mitchv34/Julia/share/julia/stdlib/v1.6/LinearAlgebra/src/triangular.jl:650</a></li> <li> +(A::<b>LinearAlgebra.UpperTriangular</b>, B::<b>LinearAlgebra.Bidiagonal</b>) in LinearAlgebra at <a href=\"file:///buildworker/worker/package_linux64/build/usr/share/julia/stdlib/v1.6/LinearAlgebra/src/special.jl\" target=\"_blank\">/home/mitchv34/Julia/share/julia/stdlib/v1.6/LinearAlgebra/src/special.jl:86</a></li> <li> +(A::<b>SparseArrays.AbstractSparseMatrix{Tv, Ti} where {Tv, Ti}</b>, B::<b>LinearAlgebra.Hermitian{var\"#s832\", var\"#s831\"} where {var\"#s832\", var\"#s831\"<:(SparseArrays.AbstractSparseMatrix{Tv, Ti} where {Tv, Ti})}</b>) in SparseArrays at <a href=\"file:///buildworker/worker/package_linux64/build/usr/share/julia/stdlib/v1.6/SparseArrays/src/linalg.jl\" target=\"_blank\">/home/mitchv34/Julia/share/julia/stdlib/v1.6/SparseArrays/src/linalg.jl:14</a></li> <li> +(A::<b>SparseArrays.AbstractSparseMatrix{Tv, Ti} where {Tv, Ti}</b>, B::<b>LinearAlgebra.Hermitian</b>) in SparseArrays at <a href=\"file:///buildworker/worker/package_linux64/build/usr/share/julia/stdlib/v1.6/SparseArrays/src/linalg.jl\" target=\"_blank\">/home/mitchv34/Julia/share/julia/stdlib/v1.6/SparseArrays/src/linalg.jl:17</a></li> <li> +(A::<b>SparseArrays.AbstractSparseMatrix{Tv, Ti} where {Tv, Ti}</b>, B::<b>LinearAlgebra.Symmetric{var\"#s832\", var\"#s831\"} where {var\"#s832\", var\"#s831\"<:(SparseArrays.AbstractSparseMatrix{Tv, Ti} where {Tv, Ti})}</b>) in SparseArrays at <a href=\"file:///buildworker/worker/package_linux64/build/usr/share/julia/stdlib/v1.6/SparseArrays/src/linalg.jl\" target=\"_blank\">/home/mitchv34/Julia/share/julia/stdlib/v1.6/SparseArrays/src/linalg.jl:14</a></li> <li> +(A::<b>SparseArrays.AbstractSparseMatrix{Tv, Ti} where {Tv, Ti}</b>, B::<b>LinearAlgebra.Symmetric</b>) in SparseArrays at <a href=\"file:///buildworker/worker/package_linux64/build/usr/share/julia/stdlib/v1.6/SparseArrays/src/linalg.jl\" target=\"_blank\">/home/mitchv34/Julia/share/julia/stdlib/v1.6/SparseArrays/src/linalg.jl:17</a></li> <li> +(y::<b>Dates.TimeType</b>, x::<b>StridedArray{var\"#s832\", N} where {var\"#s832\"<:Union{Dates.CompoundPeriod, Dates.Period}, N}</b>) in Dates at <a href=\"file:///buildworker/worker/package_linux64/build/usr/share/julia/stdlib/v1.6/Dates/src/deprecated.jl\" target=\"_blank\">/home/mitchv34/Julia/share/julia/stdlib/v1.6/Dates/src/deprecated.jl:18</a></li> <li> +(A::<b>SparseArrays.AbstractSparseMatrixCSC</b>, B::<b>SparseArrays.AbstractSparseMatrixCSC</b>) in SparseArrays at <a href=\"file:///buildworker/worker/package_linux64/build/usr/share/julia/stdlib/v1.6/SparseArrays/src/sparsematrix.jl\" target=\"_blank\">/home/mitchv34/Julia/share/julia/stdlib/v1.6/SparseArrays/src/sparsematrix.jl:1741</a></li> <li> +(x::<b>SparseArrays.AbstractSparseVector{Tv, Ti} where {Tv, Ti}</b>, y::<b>SparseArrays.AbstractSparseVector{Tv, Ti} where {Tv, Ti}</b>) in SparseArrays at <a href=\"file:///buildworker/worker/package_linux64/build/usr/share/julia/stdlib/v1.6/SparseArrays/src/sparsevector.jl\" target=\"_blank\">/home/mitchv34/Julia/share/julia/stdlib/v1.6/SparseArrays/src/sparsevector.jl:1345</a></li> <li> +(A::<b>SparseArrays.AbstractSparseMatrixCSC</b>, B::<b>Array</b>) in SparseArrays at <a href=\"file:///buildworker/worker/package_linux64/build/usr/share/julia/stdlib/v1.6/SparseArrays/src/sparsematrix.jl\" target=\"_blank\">/home/mitchv34/Julia/share/julia/stdlib/v1.6/SparseArrays/src/sparsematrix.jl:1744</a></li> <li> +(A::<b>SparseArrays.AbstractSparseMatrixCSC</b>, J::<b>LinearAlgebra.UniformScaling</b>) in SparseArrays at <a href=\"file:///buildworker/worker/package_linux64/build/usr/share/julia/stdlib/v1.6/SparseArrays/src/sparsematrix.jl\" target=\"_blank\">/home/mitchv34/Julia/share/julia/stdlib/v1.6/SparseArrays/src/sparsematrix.jl:3797</a></li> <li> +(r1::<b>OrdinalRange</b>, r2::<b>OrdinalRange</b>) in Base at <a href=\"https://github.com/JuliaLang/julia/tree/1b93d53fc4bb59350ada898038ed4de2994cce33/base/range.jl#L1103\" target=\"_blank\">range.jl:1103</a></li> <li> +(r1::<b>Union{LinRange, OrdinalRange, StepRangeLen}</b>, r2::<b>Union{LinRange, OrdinalRange, StepRangeLen}</b>) in Base at <a href=\"https://github.com/JuliaLang/julia/tree/1b93d53fc4bb59350ada898038ed4de2994cce33/base/range.jl#L1119\" target=\"_blank\">range.jl:1119</a></li> <li> +(x::<b>AbstractArray{var\"#s832\", N} where {var\"#s832\"<:Dates.TimeType, N}</b>, y::<b>Union{Dates.CompoundPeriod, Dates.Period}</b>) in Dates at <a href=\"file:///buildworker/worker/package_linux64/build/usr/share/julia/stdlib/v1.6/Dates/src/deprecated.jl\" target=\"_blank\">/home/mitchv34/Julia/share/julia/stdlib/v1.6/Dates/src/deprecated.jl:6</a></li> <li> +(A::<b>LinearAlgebra.LowerTriangular</b>, B::<b>LinearAlgebra.LowerTriangular</b>) in LinearAlgebra at <a href=\"file:///buildworker/worker/package_linux64/build/usr/share/julia/stdlib/v1.6/LinearAlgebra/src/triangular.jl\" target=\"_blank\">/home/mitchv34/Julia/share/julia/stdlib/v1.6/LinearAlgebra/src/triangular.jl:649</a></li> <li> +(A::<b>LinearAlgebra.LowerTriangular</b>, B::<b>LinearAlgebra.UnitLowerTriangular</b>) in LinearAlgebra at <a href=\"file:///buildworker/worker/package_linux64/build/usr/share/julia/stdlib/v1.6/LinearAlgebra/src/triangular.jl\" target=\"_blank\">/home/mitchv34/Julia/share/julia/stdlib/v1.6/LinearAlgebra/src/triangular.jl:651</a></li> <li> +(A::<b>LinearAlgebra.AbstractTriangular</b>, B::<b>LinearAlgebra.AbstractTriangular</b>) in LinearAlgebra at <a href=\"file:///buildworker/worker/package_linux64/build/usr/share/julia/stdlib/v1.6/LinearAlgebra/src/triangular.jl\" target=\"_blank\">/home/mitchv34/Julia/share/julia/stdlib/v1.6/LinearAlgebra/src/triangular.jl:656</a></li> <li> +(A::<b>LinearAlgebra.LowerTriangular</b>, B::<b>LinearAlgebra.Bidiagonal</b>) in LinearAlgebra at <a href=\"file:///buildworker/worker/package_linux64/build/usr/share/julia/stdlib/v1.6/LinearAlgebra/src/special.jl\" target=\"_blank\">/home/mitchv34/Julia/share/julia/stdlib/v1.6/LinearAlgebra/src/special.jl:86</a></li> <li> +(z::<b>Complex</b>, w::<b>Complex</b>) in Base at <a href=\"https://github.com/JuliaLang/julia/tree/1b93d53fc4bb59350ada898038ed4de2994cce33/base/complex.jl#L275\" target=\"_blank\">complex.jl:275</a></li> <li> +(x::<b>X</b>, y::<b>X</b>)<i> where X<:FixedPointNumbers.FixedPoint</i> in FixedPointNumbers at <a href=\"file:///home/mitchv34/.julia/packages/FixedPointNumbers/HAGk2/src/FixedPointNumbers.jl\" target=\"_blank\">/home/mitchv34/.julia/packages/FixedPointNumbers/HAGk2/src/FixedPointNumbers.jl:237</a></li> <li> +(A::<b>BitArray</b>, B::<b>BitArray</b>) in Base at <a href=\"https://github.com/JuliaLang/julia/tree/1b93d53fc4bb59350ada898038ed4de2994cce33/base/bitarray.jl#L1127\" target=\"_blank\">bitarray.jl:1127</a></li> <li> +(A::<b>AbstractArray</b>, B::<b>AbstractArray</b>) in Base at <a href=\"https://github.com/JuliaLang/julia/tree/1b93d53fc4bb59350ada898038ed4de2994cce33/base/arraymath.jl#L37\" target=\"_blank\">arraymath.jl:37</a></li> <li> +(x::<b>Float32</b>, y::<b>Float32</b>) in Base at <a href=\"https://github.com/JuliaLang/julia/tree/1b93d53fc4bb59350ada898038ed4de2994cce33/base/float.jl#L325\" target=\"_blank\">float.jl:325</a></li> <li> +(dt::<b>Dates.DateTime</b>, y::<b>Dates.Year</b>) in Dates at <a href=\"file:///buildworker/worker/package_linux64/build/usr/share/julia/stdlib/v1.6/Dates/src/arithmetic.jl\" target=\"_blank\">/home/mitchv34/Julia/share/julia/stdlib/v1.6/Dates/src/arithmetic.jl:23</a></li> <li> +(dt::<b>Dates.DateTime</b>, z::<b>Dates.Month</b>) in Dates at <a href=\"file:///buildworker/worker/package_linux64/build/usr/share/julia/stdlib/v1.6/Dates/src/arithmetic.jl\" target=\"_blank\">/home/mitchv34/Julia/share/julia/stdlib/v1.6/Dates/src/arithmetic.jl:47</a></li> <li> +(x::<b>Dates.DateTime</b>, y::<b>Dates.Quarter</b>) in Dates at <a href=\"file:///buildworker/worker/package_linux64/build/usr/share/julia/stdlib/v1.6/Dates/src/arithmetic.jl\" target=\"_blank\">/home/mitchv34/Julia/share/julia/stdlib/v1.6/Dates/src/arithmetic.jl:75</a></li> <li> +(x::<b>Dates.DateTime</b>, y::<b>Dates.Period</b>) in Dates at <a href=\"file:///buildworker/worker/package_linux64/build/usr/share/julia/stdlib/v1.6/Dates/src/arithmetic.jl\" target=\"_blank\">/home/mitchv34/Julia/share/julia/stdlib/v1.6/Dates/src/arithmetic.jl:81</a></li> <li> +(x::<b>BigFloat</b>, y::<b>BigFloat</b>) in Base.MPFR at <a href=\"https://github.com/JuliaLang/julia/tree/1b93d53fc4bb59350ada898038ed4de2994cce33/base/mpfr.jl#L364\" target=\"_blank\">mpfr.jl:364</a></li> <li> +(x::<b>BigFloat</b>, c::<b>Union{UInt16, UInt32, UInt64, UInt8}</b>) in Base.MPFR at <a href=\"https://github.com/JuliaLang/julia/tree/1b93d53fc4bb59350ada898038ed4de2994cce33/base/mpfr.jl#L371\" target=\"_blank\">mpfr.jl:371</a></li> <li> +(x::<b>BigFloat</b>, c::<b>Union{Int16, Int32, Int64, Int8}</b>) in Base.MPFR at <a href=\"https://github.com/JuliaLang/julia/tree/1b93d53fc4bb59350ada898038ed4de2994cce33/base/mpfr.jl#L379\" target=\"_blank\">mpfr.jl:379</a></li> <li> +(x::<b>BigFloat</b>, c::<b>Union{Float16, Float32, Float64}</b>) in Base.MPFR at <a href=\"https://github.com/JuliaLang/julia/tree/1b93d53fc4bb59350ada898038ed4de2994cce33/base/mpfr.jl#L387\" target=\"_blank\">mpfr.jl:387</a></li> <li> +(x::<b>BigFloat</b>, c::<b>BigInt</b>) in Base.MPFR at <a href=\"https://github.com/JuliaLang/julia/tree/1b93d53fc4bb59350ada898038ed4de2994cce33/base/mpfr.jl#L395\" target=\"_blank\">mpfr.jl:395</a></li> <li> +(a::<b>BigFloat</b>, b::<b>BigFloat</b>, c::<b>BigFloat</b>) in Base.MPFR at <a href=\"https://github.com/JuliaLang/julia/tree/1b93d53fc4bb59350ada898038ed4de2994cce33/base/mpfr.jl#L536\" target=\"_blank\">mpfr.jl:536</a></li> <li> +(a::<b>BigFloat</b>, b::<b>BigFloat</b>, c::<b>BigFloat</b>, d::<b>BigFloat</b>) in Base.MPFR at <a href=\"https://github.com/JuliaLang/julia/tree/1b93d53fc4bb59350ada898038ed4de2994cce33/base/mpfr.jl#L542\" target=\"_blank\">mpfr.jl:542</a></li> <li> +(a::<b>BigFloat</b>, b::<b>BigFloat</b>, c::<b>BigFloat</b>, d::<b>BigFloat</b>, e::<b>BigFloat</b>) in Base.MPFR at <a href=\"https://github.com/JuliaLang/julia/tree/1b93d53fc4bb59350ada898038ed4de2994cce33/base/mpfr.jl#L549\" target=\"_blank\">mpfr.jl:549</a></li> <li> +(z::<b>Complex{Bool}</b>, x::<b>Bool</b>) in Base at <a href=\"https://github.com/JuliaLang/julia/tree/1b93d53fc4bb59350ada898038ed4de2994cce33/base/complex.jl#L287\" target=\"_blank\">complex.jl:287</a></li> <li> +(z::<b>Complex</b>, x::<b>Bool</b>) in Base at <a href=\"https://github.com/JuliaLang/julia/tree/1b93d53fc4bb59350ada898038ed4de2994cce33/base/complex.jl#L294\" target=\"_blank\">complex.jl:294</a></li> <li> +(z::<b>Complex{Bool}</b>, x::<b>Real</b>) in Base at <a href=\"https://github.com/JuliaLang/julia/tree/1b93d53fc4bb59350ada898038ed4de2994cce33/base/complex.jl#L301\" target=\"_blank\">complex.jl:301</a></li> <li> +(z::<b>Complex</b>) in Base at <a href=\"https://github.com/JuliaLang/julia/tree/1b93d53fc4bb59350ada898038ed4de2994cce33/base/complex.jl#L273\" target=\"_blank\">complex.jl:273</a></li> <li> +(z::<b>Complex</b>, x::<b>Real</b>) in Base at <a href=\"https://github.com/JuliaLang/julia/tree/1b93d53fc4bb59350ada898038ed4de2994cce33/base/complex.jl#L313\" target=\"_blank\">complex.jl:313</a></li> <li> +(t::<b>Dates.Time</b>, dt::<b>Dates.Date</b>) in Dates at <a href=\"file:///buildworker/worker/package_linux64/build/usr/share/julia/stdlib/v1.6/Dates/src/arithmetic.jl\" target=\"_blank\">/home/mitchv34/Julia/share/julia/stdlib/v1.6/Dates/src/arithmetic.jl:20</a></li> <li> +(x::<b>Dates.Time</b>, y::<b>Dates.TimePeriod</b>) in Dates at <a href=\"file:///buildworker/worker/package_linux64/build/usr/share/julia/stdlib/v1.6/Dates/src/arithmetic.jl\" target=\"_blank\">/home/mitchv34/Julia/share/julia/stdlib/v1.6/Dates/src/arithmetic.jl:83</a></li> <li> +(dt::<b>Dates.Date</b>, t::<b>Dates.Time</b>) in Dates at <a href=\"file:///buildworker/worker/package_linux64/build/usr/share/julia/stdlib/v1.6/Dates/src/arithmetic.jl\" target=\"_blank\">/home/mitchv34/Julia/share/julia/stdlib/v1.6/Dates/src/arithmetic.jl:19</a></li> <li> +(dt::<b>Dates.Date</b>, y::<b>Dates.Year</b>) in Dates at <a href=\"file:///buildworker/worker/package_linux64/build/usr/share/julia/stdlib/v1.6/Dates/src/arithmetic.jl\" target=\"_blank\">/home/mitchv34/Julia/share/julia/stdlib/v1.6/Dates/src/arithmetic.jl:27</a></li> <li> +(dt::<b>Dates.Date</b>, z::<b>Dates.Month</b>) in Dates at <a href=\"file:///buildworker/worker/package_linux64/build/usr/share/julia/stdlib/v1.6/Dates/src/arithmetic.jl\" target=\"_blank\">/home/mitchv34/Julia/share/julia/stdlib/v1.6/Dates/src/arithmetic.jl:54</a></li> <li> +(x::<b>Dates.Date</b>, y::<b>Dates.Quarter</b>) in Dates at <a href=\"file:///buildworker/worker/package_linux64/build/usr/share/julia/stdlib/v1.6/Dates/src/arithmetic.jl\" target=\"_blank\">/home/mitchv34/Julia/share/julia/stdlib/v1.6/Dates/src/arithmetic.jl:73</a></li> <li> +(x::<b>Dates.Date</b>, y::<b>Dates.Week</b>) in Dates at <a href=\"file:///buildworker/worker/package_linux64/build/usr/share/julia/stdlib/v1.6/Dates/src/arithmetic.jl\" target=\"_blank\">/home/mitchv34/Julia/share/julia/stdlib/v1.6/Dates/src/arithmetic.jl:77</a></li> <li> +(x::<b>Dates.Date</b>, y::<b>Dates.Day</b>) in Dates at <a href=\"file:///buildworker/worker/package_linux64/build/usr/share/julia/stdlib/v1.6/Dates/src/arithmetic.jl\" target=\"_blank\">/home/mitchv34/Julia/share/julia/stdlib/v1.6/Dates/src/arithmetic.jl:79</a></li> <li> +(x::<b>Dates.TimeType</b>) in Dates at <a href=\"file:///buildworker/worker/package_linux64/build/usr/share/julia/stdlib/v1.6/Dates/src/arithmetic.jl\" target=\"_blank\">/home/mitchv34/Julia/share/julia/stdlib/v1.6/Dates/src/arithmetic.jl:8</a></li> <li> +(x::<b>Dates.AbstractTime</b>, y::<b>Missing</b>) in Dates at <a href=\"file:///buildworker/worker/package_linux64/build/usr/share/julia/stdlib/v1.6/Dates/src/arithmetic.jl\" target=\"_blank\">/home/mitchv34/Julia/share/julia/stdlib/v1.6/Dates/src/arithmetic.jl:88</a></li> <li> +(a::<b>Dates.TimeType</b>, b::<b>Dates.Period</b>, c::<b>Dates.Period</b>) in Dates at <a href=\"file:///buildworker/worker/package_linux64/build/usr/share/julia/stdlib/v1.6/Dates/src/periods.jl\" target=\"_blank\">/home/mitchv34/Julia/share/julia/stdlib/v1.6/Dates/src/periods.jl:373</a></li> <li> +(a::<b>Dates.TimeType</b>, b::<b>Dates.Period</b>, c::<b>Dates.Period</b>, d::<b>Dates.Period...</b>) in Dates at <a href=\"file:///buildworker/worker/package_linux64/build/usr/share/julia/stdlib/v1.6/Dates/src/periods.jl\" target=\"_blank\">/home/mitchv34/Julia/share/julia/stdlib/v1.6/Dates/src/periods.jl:374</a></li> <li> +(x::<b>Dates.TimeType</b>, y::<b>Dates.CompoundPeriod</b>) in Dates at <a href=\"file:///buildworker/worker/package_linux64/build/usr/share/julia/stdlib/v1.6/Dates/src/periods.jl\" target=\"_blank\">/home/mitchv34/Julia/share/julia/stdlib/v1.6/Dates/src/periods.jl:376</a></li> <li> +(::<b>Missing</b>) in Base at <a href=\"https://github.com/JuliaLang/julia/tree/1b93d53fc4bb59350ada898038ed4de2994cce33/base/missing.jl#L101\" target=\"_blank\">missing.jl:101</a></li> <li> +(::<b>Missing</b>, ::<b>Missing</b>) in Base at <a href=\"https://github.com/JuliaLang/julia/tree/1b93d53fc4bb59350ada898038ed4de2994cce33/base/missing.jl#L115\" target=\"_blank\">missing.jl:115</a></li> <li> +(::<b>Missing</b>, ::<b>Number</b>) in Base at <a href=\"https://github.com/JuliaLang/julia/tree/1b93d53fc4bb59350ada898038ed4de2994cce33/base/missing.jl#L116\" target=\"_blank\">missing.jl:116</a></li> <li> +(x::<b>Missing</b>, y::<b>Dates.AbstractTime</b>) in Dates at <a href=\"file:///buildworker/worker/package_linux64/build/usr/share/julia/stdlib/v1.6/Dates/src/arithmetic.jl\" target=\"_blank\">/home/mitchv34/Julia/share/julia/stdlib/v1.6/Dates/src/arithmetic.jl:89</a></li> <li> +(level::<b>Base.CoreLogging.LogLevel</b>, inc::<b>Integer</b>) in Base.CoreLogging at <a href=\"https://github.com/JuliaLang/julia/tree/1b93d53fc4bb59350ada898038ed4de2994cce33/base/logging.jl#L131\" target=\"_blank\">logging.jl:131</a></li> <li> +(x::<b>Dates.CompoundPeriod</b>, y::<b>Dates.Period</b>) in Dates at <a href=\"file:///buildworker/worker/package_linux64/build/usr/share/julia/stdlib/v1.6/Dates/src/periods.jl\" target=\"_blank\">/home/mitchv34/Julia/share/julia/stdlib/v1.6/Dates/src/periods.jl:352</a></li> <li> +(x::<b>Dates.CompoundPeriod</b>, y::<b>Dates.CompoundPeriod</b>) in Dates at <a href=\"file:///buildworker/worker/package_linux64/build/usr/share/julia/stdlib/v1.6/Dates/src/periods.jl\" target=\"_blank\">/home/mitchv34/Julia/share/julia/stdlib/v1.6/Dates/src/periods.jl:354</a></li> <li> +(x::<b>Dates.CompoundPeriod</b>, y::<b>Dates.TimeType</b>) in Dates at <a href=\"file:///buildworker/worker/package_linux64/build/usr/share/julia/stdlib/v1.6/Dates/src/periods.jl\" target=\"_blank\">/home/mitchv34/Julia/share/julia/stdlib/v1.6/Dates/src/periods.jl:382</a></li> <li> +(x::<b>BigInt</b>, y::<b>BigInt</b>) in Base.GMP at <a href=\"https://github.com/JuliaLang/julia/tree/1b93d53fc4bb59350ada898038ed4de2994cce33/base/gmp.jl#L479\" target=\"_blank\">gmp.jl:479</a></li> <li> +(a::<b>BigInt</b>, b::<b>BigInt</b>, c::<b>BigInt</b>) in Base.GMP at <a href=\"https://github.com/JuliaLang/julia/tree/1b93d53fc4bb59350ada898038ed4de2994cce33/base/gmp.jl#L519\" target=\"_blank\">gmp.jl:519</a></li> <li> +(a::<b>BigInt</b>, b::<b>BigInt</b>, c::<b>BigInt</b>, d::<b>BigInt</b>) in Base.GMP at <a href=\"https://github.com/JuliaLang/julia/tree/1b93d53fc4bb59350ada898038ed4de2994cce33/base/gmp.jl#L520\" target=\"_blank\">gmp.jl:520</a></li> <li> +(a::<b>BigInt</b>, b::<b>BigInt</b>, c::<b>BigInt</b>, d::<b>BigInt</b>, e::<b>BigInt</b>) in Base.GMP at <a href=\"https://github.com/JuliaLang/julia/tree/1b93d53fc4bb59350ada898038ed4de2994cce33/base/gmp.jl#L521\" target=\"_blank\">gmp.jl:521</a></li> <li> +(x::<b>BigInt</b>, c::<b>Union{UInt16, UInt32, UInt64, UInt8}</b>) in Base.GMP at <a href=\"https://github.com/JuliaLang/julia/tree/1b93d53fc4bb59350ada898038ed4de2994cce33/base/gmp.jl#L527\" target=\"_blank\">gmp.jl:527</a></li> <li> +(x::<b>BigInt</b>, c::<b>Union{Int16, Int32, Int64, Int8}</b>) in Base.GMP at <a href=\"https://github.com/JuliaLang/julia/tree/1b93d53fc4bb59350ada898038ed4de2994cce33/base/gmp.jl#L533\" target=\"_blank\">gmp.jl:533</a></li> <li> +(c::<b>BigInt</b>, x::<b>BigFloat</b>) in Base.MPFR at <a href=\"https://github.com/JuliaLang/julia/tree/1b93d53fc4bb59350ada898038ed4de2994cce33/base/mpfr.jl#L400\" target=\"_blank\">mpfr.jl:400</a></li> <li> +(a::<b>Pkg.Resolve.VersionWeight</b>, b::<b>Pkg.Resolve.VersionWeight</b>) in Pkg.Resolve at <a href=\"file:///buildworker/worker/package_linux64/build/usr/share/julia/stdlib/v1.6/Pkg/src/Resolve/versionweights.jl\" target=\"_blank\">/home/mitchv34/Julia/share/julia/stdlib/v1.6/Pkg/src/Resolve/versionweights.jl:22</a></li> <li> +(x::<b>Float64</b>, y::<b>Float64</b>) in Base at <a href=\"https://github.com/JuliaLang/julia/tree/1b93d53fc4bb59350ada898038ed4de2994cce33/base/float.jl#L326\" target=\"_blank\">float.jl:326</a></li> <li> +(x::<b>Float16</b>, y::<b>Float16</b>) in Base at <a href=\"https://github.com/JuliaLang/julia/tree/1b93d53fc4bb59350ada898038ed4de2994cce33/base/float.jl#L324\" target=\"_blank\">float.jl:324</a></li> <li> +(x::<b>Bool</b>) in Base at <a href=\"https://github.com/JuliaLang/julia/tree/1b93d53fc4bb59350ada898038ed4de2994cce33/base/bool.jl#L89\" target=\"_blank\">bool.jl:89</a></li> <li> +(x::<b>Number</b>, y::<b>Base.TwicePrecision</b>) in Base at <a href=\"https://github.com/JuliaLang/julia/tree/1b93d53fc4bb59350ada898038ed4de2994cce33/base/twiceprecision.jl#L271\" target=\"_blank\">twiceprecision.jl:271</a></li> <li> +(::<b>Number</b>, ::<b>Missing</b>) in Base at <a href=\"https://github.com/JuliaLang/julia/tree/1b93d53fc4bb59350ada898038ed4de2994cce33/base/missing.jl#L117\" target=\"_blank\">missing.jl:117</a></li> <li> +(x::<b>Number</b>, J::<b>LinearAlgebra.UniformScaling</b>) in LinearAlgebra at <a href=\"file:///buildworker/worker/package_linux64/build/usr/share/julia/stdlib/v1.6/LinearAlgebra/src/uniformscaling.jl\" target=\"_blank\">/home/mitchv34/Julia/share/julia/stdlib/v1.6/LinearAlgebra/src/uniformscaling.jl:146</a></li> <li> +(x::<b>Integer</b>, y::<b>Ptr</b>) in Base at <a href=\"https://github.com/JuliaLang/julia/tree/1b93d53fc4bb59350ada898038ed4de2994cce33/base/pointer.jl#L161\" target=\"_blank\">pointer.jl:161</a></li> <li> +(y::<b>Integer</b>, x::<b>Rational</b>) in Base at <a href=\"https://github.com/JuliaLang/julia/tree/1b93d53fc4bb59350ada898038ed4de2994cce33/base/rational.jl#L296\" target=\"_blank\">rational.jl:296</a></li> <li> +(x::<b>Integer</b>, y::<b>AbstractChar</b>) in Base at <a href=\"https://github.com/JuliaLang/julia/tree/1b93d53fc4bb59350ada898038ed4de2994cce33/base/char.jl#L224\" target=\"_blank\">char.jl:224</a></li> <li> +(x::<b>Bool</b>, y::<b>Bool</b>) in Base at <a href=\"https://github.com/JuliaLang/julia/tree/1b93d53fc4bb59350ada898038ed4de2994cce33/base/bool.jl#L92\" target=\"_blank\">bool.jl:92</a></li> <li> +(a::<b>Integer</b>, b::<b>Integer</b>) in Base at <a href=\"https://github.com/JuliaLang/julia/tree/1b93d53fc4bb59350ada898038ed4de2994cce33/base/int.jl#L919\" target=\"_blank\">int.jl:919</a></li> <li> +(x::<b>Bool</b>, y::<b>T</b>)<i> where T<:AbstractFloat</i> in Base at <a href=\"https://github.com/JuliaLang/julia/tree/1b93d53fc4bb59350ada898038ed4de2994cce33/base/bool.jl#L99\" target=\"_blank\">bool.jl:99</a></li> <li> +(x::<b>Bool</b>, z::<b>Complex{Bool}</b>) in Base at <a href=\"https://github.com/JuliaLang/julia/tree/1b93d53fc4bb59350ada898038ed4de2994cce33/base/complex.jl#L286\" target=\"_blank\">complex.jl:286</a></li> <li> +(x::<b>Bool</b>, z::<b>Complex</b>) in Base at <a href=\"https://github.com/JuliaLang/julia/tree/1b93d53fc4bb59350ada898038ed4de2994cce33/base/complex.jl#L293\" target=\"_blank\">complex.jl:293</a></li> <li> +(a::<b>Pkg.Resolve.FieldValue</b>, b::<b>Pkg.Resolve.FieldValue</b>) in Pkg.Resolve at <a href=\"file:///buildworker/worker/package_linux64/build/usr/share/julia/stdlib/v1.6/Pkg/src/Resolve/fieldvalues.jl\" target=\"_blank\">/home/mitchv34/Julia/share/julia/stdlib/v1.6/Pkg/src/Resolve/fieldvalues.jl:43</a></li> <li> +(B::<b>BitMatrix</b>, J::<b>LinearAlgebra.UniformScaling</b>) in LinearAlgebra at <a href=\"file:///buildworker/worker/package_linux64/build/usr/share/julia/stdlib/v1.6/LinearAlgebra/src/uniformscaling.jl\" target=\"_blank\">/home/mitchv34/Julia/share/julia/stdlib/v1.6/LinearAlgebra/src/uniformscaling.jl:152</a></li> <li> +(A::<b>AbstractMatrix{T} where T</b>, J::<b>LinearAlgebra.UniformScaling</b>) in LinearAlgebra at <a href=\"file:///buildworker/worker/package_linux64/build/usr/share/julia/stdlib/v1.6/LinearAlgebra/src/uniformscaling.jl\" target=\"_blank\">/home/mitchv34/Julia/share/julia/stdlib/v1.6/LinearAlgebra/src/uniformscaling.jl:215</a></li> <li> +(x::<b>AbstractArray{var\"#s79\", N} where {var\"#s79\"<:Number, N}</b>) in Base at <a href=\"https://github.com/JuliaLang/julia/tree/1b93d53fc4bb59350ada898038ed4de2994cce33/base/abstractarraymath.jl#L97\" target=\"_blank\">abstractarraymath.jl:97</a></li> <li> +(x::<b>Rational{BigInt}</b>, y::<b>Rational{BigInt}</b>) in Base.GMP.MPQ at <a href=\"https://github.com/JuliaLang/julia/tree/1b93d53fc4bb59350ada898038ed4de2994cce33/base/gmp.jl#L889\" target=\"_blank\">gmp.jl:889</a></li> <li> +(x::<b>Rational</b>) in Base at <a href=\"https://github.com/JuliaLang/julia/tree/1b93d53fc4bb59350ada898038ed4de2994cce33/base/rational.jl#L268\" target=\"_blank\">rational.jl:268</a></li> <li> +(x::<b>Real</b>, z::<b>Complex{Bool}</b>) in Base at <a href=\"https://github.com/JuliaLang/julia/tree/1b93d53fc4bb59350ada898038ed4de2994cce33/base/complex.jl#L300\" target=\"_blank\">complex.jl:300</a></li> <li> +(x::<b>Real</b>, z::<b>Complex</b>) in Base at <a href=\"https://github.com/JuliaLang/julia/tree/1b93d53fc4bb59350ada898038ed4de2994cce33/base/complex.jl#L312\" target=\"_blank\">complex.jl:312</a></li> <li> +(x::<b>Rational</b>, y::<b>Rational</b>) in Base at <a href=\"https://github.com/JuliaLang/julia/tree/1b93d53fc4bb59350ada898038ed4de2994cce33/base/rational.jl#L284\" target=\"_blank\">rational.jl:284</a></li> <li> +(x::<b>Number</b>) in Base at <a href=\"https://github.com/JuliaLang/julia/tree/1b93d53fc4bb59350ada898038ed4de2994cce33/base/operators.jl#L515\" target=\"_blank\">operators.jl:515</a></li> <li> +(x::<b>T</b>, y::<b>T</b>)<i> where T<:Number</i> in Base at <a href=\"https://github.com/JuliaLang/julia/tree/1b93d53fc4bb59350ada898038ed4de2994cce33/base/promotion.jl#L396\" target=\"_blank\">promotion.jl:396</a></li> <li> +(x::<b>Number</b>, y::<b>Number</b>) in Base at <a href=\"https://github.com/JuliaLang/julia/tree/1b93d53fc4bb59350ada898038ed4de2994cce33/base/promotion.jl#L321\" target=\"_blank\">promotion.jl:321</a></li> <li> +(a, b, c, xs...) in Base at <a href=\"https://github.com/JuliaLang/julia/tree/1b93d53fc4bb59350ada898038ed4de2994cce33/base/operators.jl#L560\" target=\"_blank\">operators.jl:560</a></li> </ul>"
      ]
     },
     "metadata": {},
     "execution_count": 30
    }
   ],
   "metadata": {}
  },
  {
   "cell_type": "markdown",
   "source": [
    "Finally we will compare the performance of the two functions that do the same thin but one has type declarations and the other does not."
   ],
   "metadata": {}
  },
  {
   "cell_type": "code",
   "execution_count": 31,
   "source": [
    "function type_dec(a::Float64, b::Float64)\n",
    "    for i = 1:10^6\n",
    "        a +=1\n",
    "        b +=1\n",
    "    end\n",
    "    return a/b\n",
    "end"
   ],
   "outputs": [
    {
     "output_type": "execute_result",
     "data": {
      "text/plain": [
       "type_dec (generic function with 1 method)"
      ]
     },
     "metadata": {},
     "execution_count": 31
    }
   ],
   "metadata": {}
  },
  {
   "cell_type": "code",
   "execution_count": 32,
   "source": [
    "function no_type_dec(a, b)\n",
    "    for i = 1:10^6\n",
    "        a +=1\n",
    "        b +=1\n",
    "    end\n",
    "    return a/b\n",
    "end"
   ],
   "outputs": [
    {
     "output_type": "execute_result",
     "data": {
      "text/plain": [
       "no_type_dec (generic function with 1 method)"
      ]
     },
     "metadata": {},
     "execution_count": 32
    }
   ],
   "metadata": {}
  },
  {
   "cell_type": "code",
   "execution_count": 33,
   "source": [
    "@benchmark type_dec(2.0, 4.0)"
   ],
   "outputs": [
    {
     "output_type": "execute_result",
     "data": {
      "text/plain": [
       "BenchmarkTools.Trial: 5217 samples with 1 evaluation.\n",
       " Range \u001b[90m(\u001b[39m\u001b[36m\u001b[1mmin\u001b[22m\u001b[39m … \u001b[35mmax\u001b[39m\u001b[90m):  \u001b[39m\u001b[36m\u001b[1m818.300 μs\u001b[22m\u001b[39m … \u001b[35m  3.680 ms\u001b[39m  \u001b[90m┊\u001b[39m GC \u001b[90m(\u001b[39mmin … max\u001b[90m): \u001b[39m0.00% … 0.00%\n",
       " Time  \u001b[90m(\u001b[39m\u001b[34m\u001b[1mmedian\u001b[22m\u001b[39m\u001b[90m):     \u001b[39m\u001b[34m\u001b[1m911.600 μs               \u001b[22m\u001b[39m\u001b[90m┊\u001b[39m GC \u001b[90m(\u001b[39mmedian\u001b[90m):    \u001b[39m0.00%\n",
       " Time  \u001b[90m(\u001b[39m\u001b[32m\u001b[1mmean\u001b[22m\u001b[39m ± \u001b[32mσ\u001b[39m\u001b[90m):   \u001b[39m\u001b[32m\u001b[1m948.794 μs\u001b[22m\u001b[39m ± \u001b[32m143.070 μs\u001b[39m  \u001b[90m┊\u001b[39m GC \u001b[90m(\u001b[39mmean ± σ\u001b[90m):  \u001b[39m0.00% ± 0.00%\n",
       "\n",
       "  \u001b[39m \u001b[39m▅\u001b[39m█\u001b[39m▄\u001b[39m▄\u001b[39m▆\u001b[39m▄\u001b[39m▃\u001b[39m▃\u001b[34m▃\u001b[39m\u001b[39m▃\u001b[39m▆\u001b[39m▅\u001b[32m▃\u001b[39m\u001b[39m▃\u001b[39m▃\u001b[39m▃\u001b[39m▃\u001b[39m▃\u001b[39m▃\u001b[39m▂\u001b[39m▂\u001b[39m▁\u001b[39m▂\u001b[39m▂\u001b[39m▂\u001b[39m▁\u001b[39m▁\u001b[39m▁\u001b[39m▁\u001b[39m \u001b[39m \u001b[39m \u001b[39m \u001b[39m \u001b[39m \u001b[39m \u001b[39m \u001b[39m \u001b[39m \u001b[39m \u001b[39m \u001b[39m \u001b[39m \u001b[39m \u001b[39m \u001b[39m \u001b[39m \u001b[39m \u001b[39m \u001b[39m \u001b[39m \u001b[39m \u001b[39m \u001b[39m \u001b[39m \u001b[39m \u001b[39m \u001b[39m \u001b[39m \u001b[39m \u001b[39m \u001b[39m▁\n",
       "  \u001b[39m▇\u001b[39m█\u001b[39m█\u001b[39m█\u001b[39m█\u001b[39m█\u001b[39m█\u001b[39m█\u001b[39m█\u001b[34m█\u001b[39m\u001b[39m█\u001b[39m█\u001b[39m█\u001b[32m█\u001b[39m\u001b[39m█\u001b[39m█\u001b[39m█\u001b[39m█\u001b[39m█\u001b[39m█\u001b[39m█\u001b[39m█\u001b[39m█\u001b[39m█\u001b[39m█\u001b[39m█\u001b[39m█\u001b[39m█\u001b[39m█\u001b[39m█\u001b[39m█\u001b[39m█\u001b[39m█\u001b[39m█\u001b[39m█\u001b[39m▇\u001b[39m█\u001b[39m▇\u001b[39m▇\u001b[39m▇\u001b[39m▇\u001b[39m▇\u001b[39m▇\u001b[39m▅\u001b[39m▇\u001b[39m▇\u001b[39m▇\u001b[39m▇\u001b[39m▆\u001b[39m▆\u001b[39m▄\u001b[39m▅\u001b[39m▆\u001b[39m▅\u001b[39m▅\u001b[39m▄\u001b[39m▆\u001b[39m▆\u001b[39m▄\u001b[39m▅\u001b[39m▆\u001b[39m \u001b[39m█\n",
       "  818 μs\u001b[90m        \u001b[39m\u001b[90mHistogram: \u001b[39m\u001b[90m\u001b[1mlog(\u001b[22m\u001b[39m\u001b[90mfrequency\u001b[39m\u001b[90m\u001b[1m)\u001b[22m\u001b[39m\u001b[90m by time\u001b[39m       1.44 ms \u001b[0m\u001b[1m<\u001b[22m\n",
       "\n",
       " Memory estimate\u001b[90m: \u001b[39m\u001b[33m0 bytes\u001b[39m, allocs estimate\u001b[90m: \u001b[39m\u001b[33m0\u001b[39m."
      ]
     },
     "metadata": {},
     "execution_count": 33
    }
   ],
   "metadata": {}
  },
  {
   "cell_type": "code",
   "execution_count": 34,
   "source": [
    "@benchmark no_type_dec(2.0, 4.0)"
   ],
   "outputs": [
    {
     "output_type": "execute_result",
     "data": {
      "text/plain": [
       "BenchmarkTools.Trial: 5284 samples with 1 evaluation.\n",
       " Range \u001b[90m(\u001b[39m\u001b[36m\u001b[1mmin\u001b[22m\u001b[39m … \u001b[35mmax\u001b[39m\u001b[90m):  \u001b[39m\u001b[36m\u001b[1m818.300 μs\u001b[22m\u001b[39m … \u001b[35m  3.693 ms\u001b[39m  \u001b[90m┊\u001b[39m GC \u001b[90m(\u001b[39mmin … max\u001b[90m): \u001b[39m0.00% … 0.00%\n",
       " Time  \u001b[90m(\u001b[39m\u001b[34m\u001b[1mmedian\u001b[22m\u001b[39m\u001b[90m):     \u001b[39m\u001b[34m\u001b[1m876.400 μs               \u001b[22m\u001b[39m\u001b[90m┊\u001b[39m GC \u001b[90m(\u001b[39mmedian\u001b[90m):    \u001b[39m0.00%\n",
       " Time  \u001b[90m(\u001b[39m\u001b[32m\u001b[1mmean\u001b[22m\u001b[39m ± \u001b[32mσ\u001b[39m\u001b[90m):   \u001b[39m\u001b[32m\u001b[1m936.325 μs\u001b[22m\u001b[39m ± \u001b[32m132.125 μs\u001b[39m  \u001b[90m┊\u001b[39m GC \u001b[90m(\u001b[39mmean ± σ\u001b[90m):  \u001b[39m0.00% ± 0.00%\n",
       "\n",
       "  \u001b[39m \u001b[39m▅\u001b[39m█\u001b[39m▄\u001b[39m▄\u001b[39m▆\u001b[34m▅\u001b[39m\u001b[39m▃\u001b[39m▃\u001b[39m▂\u001b[39m▂\u001b[39m▂\u001b[32m▃\u001b[39m\u001b[39m▃\u001b[39m▃\u001b[39m▂\u001b[39m▃\u001b[39m▂\u001b[39m▂\u001b[39m▂\u001b[39m▂\u001b[39m▂\u001b[39m▂\u001b[39m▂\u001b[39m▁\u001b[39m▂\u001b[39m▁\u001b[39m▂\u001b[39m▁\u001b[39m▂\u001b[39m▁\u001b[39m▁\u001b[39m▁\u001b[39m \u001b[39m \u001b[39m \u001b[39m \u001b[39m \u001b[39m \u001b[39m \u001b[39m \u001b[39m \u001b[39m \u001b[39m \u001b[39m \u001b[39m \u001b[39m \u001b[39m \u001b[39m \u001b[39m \u001b[39m \u001b[39m \u001b[39m \u001b[39m \u001b[39m \u001b[39m \u001b[39m \u001b[39m \u001b[39m \u001b[39m \u001b[39m \u001b[39m \u001b[39m▁\n",
       "  \u001b[39m█\u001b[39m█\u001b[39m█\u001b[39m█\u001b[39m█\u001b[39m█\u001b[34m█\u001b[39m\u001b[39m█\u001b[39m█\u001b[39m█\u001b[39m█\u001b[39m█\u001b[32m█\u001b[39m\u001b[39m█\u001b[39m█\u001b[39m█\u001b[39m█\u001b[39m█\u001b[39m█\u001b[39m█\u001b[39m█\u001b[39m█\u001b[39m█\u001b[39m█\u001b[39m█\u001b[39m█\u001b[39m█\u001b[39m█\u001b[39m█\u001b[39m█\u001b[39m█\u001b[39m█\u001b[39m█\u001b[39m█\u001b[39m▇\u001b[39m█\u001b[39m▇\u001b[39m▇\u001b[39m▇\u001b[39m▇\u001b[39m▆\u001b[39m█\u001b[39m▆\u001b[39m▆\u001b[39m▅\u001b[39m▇\u001b[39m▆\u001b[39m▆\u001b[39m▇\u001b[39m▆\u001b[39m▆\u001b[39m▅\u001b[39m▅\u001b[39m▅\u001b[39m▄\u001b[39m▅\u001b[39m▅\u001b[39m▆\u001b[39m▅\u001b[39m▅\u001b[39m▅\u001b[39m \u001b[39m█\n",
       "  818 μs\u001b[90m        \u001b[39m\u001b[90mHistogram: \u001b[39m\u001b[90m\u001b[1mlog(\u001b[22m\u001b[39m\u001b[90mfrequency\u001b[39m\u001b[90m\u001b[1m)\u001b[22m\u001b[39m\u001b[90m by time\u001b[39m        1.4 ms \u001b[0m\u001b[1m<\u001b[22m\n",
       "\n",
       " Memory estimate\u001b[90m: \u001b[39m\u001b[33m0 bytes\u001b[39m, allocs estimate\u001b[90m: \u001b[39m\u001b[33m0\u001b[39m."
      ]
     },
     "metadata": {},
     "execution_count": 34
    }
   ],
   "metadata": {}
  },
  {
   "cell_type": "markdown",
   "source": [
    "## Nothing, NaN, and Missing\n",
    "Sometimes the results are absent. You can use a value `nothing` of Type \"Nothing\"."
   ],
   "metadata": {}
  },
  {
   "cell_type": "code",
   "execution_count": 36,
   "source": [
    "# function f(x)\n",
    "#     if x >=0\n",
    "#         return sqrt(x)\n",
    "#     else\n",
    "#         return nothing\n",
    "#     end\n",
    "# end\n",
    "\n",
    "# There is a more concise way to write this function\n",
    "\n",
    "f(x) = (x >= 0) ? sqrt(x) : nothing\n",
    "\n",
    "f(4)\n"
   ],
   "outputs": [
    {
     "output_type": "execute_result",
     "data": {
      "text/plain": [
       "2.0"
      ]
     },
     "metadata": {},
     "execution_count": 36
    }
   ],
   "metadata": {}
  },
  {
   "cell_type": "code",
   "execution_count": 37,
   "source": [
    "f(-2) # return nothing"
   ],
   "outputs": [],
   "metadata": {}
  },
  {
   "cell_type": "code",
   "execution_count": 38,
   "source": [
    "typeof(f(-23))"
   ],
   "outputs": [
    {
     "output_type": "execute_result",
     "data": {
      "text/plain": [
       "Nothing"
      ]
     },
     "metadata": {},
     "execution_count": 38
    }
   ],
   "metadata": {}
  },
  {
   "cell_type": "code",
   "execution_count": 39,
   "source": [
    "f(-233) == nothing"
   ],
   "outputs": [
    {
     "output_type": "execute_result",
     "data": {
      "text/plain": [
       "true"
      ]
     },
     "metadata": {},
     "execution_count": 39
    }
   ],
   "metadata": {}
  },
  {
   "cell_type": "code",
   "execution_count": 41,
   "source": [
    "f(-233) === nothing # When comparing against `nothing`, `===` is better used"
   ],
   "outputs": [
    {
     "output_type": "execute_result",
     "data": {
      "text/plain": [
       "true"
      ]
     },
     "metadata": {},
     "execution_count": 41
    }
   ],
   "metadata": {}
  },
  {
   "cell_type": "code",
   "execution_count": 45,
   "source": [
    "### More often, we use NaN\n",
    "### NaN (not a number) is trikier. For example, Inf/Inf = NaN\n",
    "exp(1000)\n",
    "exp(1000)/exp(1000)"
   ],
   "outputs": [
    {
     "output_type": "execute_result",
     "data": {
      "text/plain": [
       "NaN"
      ]
     },
     "metadata": {},
     "execution_count": 45
    }
   ],
   "metadata": {}
  },
  {
   "cell_type": "code",
   "execution_count": 46,
   "source": [
    "# keep in mind to use isnan() to check whether an object is NaN\n",
    "isnan(NaN)"
   ],
   "outputs": [
    {
     "output_type": "execute_result",
     "data": {
      "text/plain": [
       "true"
      ]
     },
     "metadata": {},
     "execution_count": 46
    }
   ],
   "metadata": {}
  },
  {
   "cell_type": "code",
   "execution_count": 47,
   "source": [
    "NaN == NaN # is always false"
   ],
   "outputs": [
    {
     "output_type": "execute_result",
     "data": {
      "text/plain": [
       "false"
      ]
     },
     "metadata": {},
     "execution_count": 47
    }
   ],
   "metadata": {}
  },
  {
   "cell_type": "code",
   "execution_count": 48,
   "source": [
    "### The value missing of type Missing is used to represent missing value in a statistical sense (similar to \".\" in Stata).\n",
    "x = [3.0, missing, 5.0, missing, missing]"
   ],
   "outputs": [
    {
     "output_type": "execute_result",
     "data": {
      "text/plain": [
       "5-element Vector{Union{Missing, Float64}}:\n",
       " 3.0\n",
       "  missing\n",
       " 5.0\n",
       "  missing\n",
       "  missing"
      ]
     },
     "metadata": {},
     "execution_count": 48
    }
   ],
   "metadata": {}
  },
  {
   "cell_type": "code",
   "execution_count": 50,
   "source": [
    "x .+ 10 # missing values are ignored when broadcasting\n"
   ],
   "outputs": [
    {
     "output_type": "execute_result",
     "data": {
      "text/plain": [
       "5-element Vector{Union{Missing, Float64}}:\n",
       " 13.0\n",
       "   missing\n",
       " 15.0\n",
       "   missing\n",
       "   missing"
      ]
     },
     "metadata": {},
     "execution_count": 50
    }
   ],
   "metadata": {}
  },
  {
   "cell_type": "code",
   "execution_count": 55,
   "source": [
    "map(i -> i^2 + 2, x)"
   ],
   "outputs": [
    {
     "output_type": "execute_result",
     "data": {
      "text/plain": [
       "5-element Vector{Union{Missing, Float64}}:\n",
       " 11.0\n",
       "   missing\n",
       " 27.0\n",
       "   missing\n",
       "   missing"
      ]
     },
     "metadata": {},
     "execution_count": 55
    }
   ],
   "metadata": {}
  },
  {
   "cell_type": "code",
   "execution_count": 57,
   "source": [
    "using Statistics"
   ],
   "outputs": [],
   "metadata": {}
  },
  {
   "cell_type": "code",
   "execution_count": 58,
   "source": [
    "mean(x) # Means with missing values is missing"
   ],
   "outputs": [
    {
     "output_type": "execute_result",
     "data": {
      "text/plain": [
       "missing"
      ]
     },
     "metadata": {},
     "execution_count": 58
    }
   ],
   "metadata": {}
  },
  {
   "cell_type": "code",
   "execution_count": 62,
   "source": [
    "mean( skipmissing(x) ) # use `skipmissing` to skip missing values"
   ],
   "outputs": [
    {
     "output_type": "execute_result",
     "data": {
      "text/plain": [
       "4.0"
      ]
     },
     "metadata": {},
     "execution_count": 62
    }
   ],
   "metadata": {}
  },
  {
   "cell_type": "code",
   "execution_count": 64,
   "source": [
    "coalesce.(x, 0) # use `coalesce` to replace missing values with a default value)"
   ],
   "outputs": [
    {
     "output_type": "execute_result",
     "data": {
      "text/plain": [
       "5-element Vector{Real}:\n",
       " 3.0\n",
       " 0\n",
       " 5.0\n",
       " 0\n",
       " 0"
      ]
     },
     "metadata": {},
     "execution_count": 64
    }
   ],
   "metadata": {}
  },
  {
   "cell_type": "code",
   "execution_count": 66,
   "source": [
    "mean( coalesce.(x, 0.0) ) "
   ],
   "outputs": [
    {
     "output_type": "execute_result",
     "data": {
      "text/plain": [
       "1.6"
      ]
     },
     "metadata": {},
     "execution_count": 66
    }
   ],
   "metadata": {}
  },
  {
   "cell_type": "markdown",
   "source": [
    "# Optimal Savings Model\n",
    "* Household preference: $$u(c) = \\log(c)$$\n",
    "* Production technology: $$y = k^\\theta$$\n",
    "* Capital depreciation rate: $$\\delta$$\n",
    "* Budget constraint: $$c + k' = k^\\theta + (1-\\delta)k$$\n",
    "\n",
    "## Dynamic programming problem:\n",
    " $$V(k) = \\max_{k'} \\left\\{ u(c) + \\beta V(k')\\right\\} \\quad \\text{s.t.} \\quad c + k' = k^\\theta + (1-\\delta)k$$\n",
    "\n",
    "- Solve the problem and plot the policy function $k' = k'(k)$\n",
    "- Guess $V(k')$, get $V(k)$ (function `Bellman()` below)\n",
    "- Iterate until the function converge (function `Solve_model()` below)\n"
   ],
   "metadata": {}
  },
  {
   "cell_type": "code",
   "execution_count": 69,
   "source": [
    "# using Pkg; Pkg.add(\"Parameters\"); Pkg.add(\"Plots\")\n",
    "using Parameters, Plots\n",
    "\n",
    "# struct to hold model primitives (global constants)\n",
    "@with_kw struct Primitives\n",
    "    β::Float64 = 0.99 #discount factor\n",
    "    θ::Float64 = 0.36 #production\n",
    "    δ::Float64 = 0.025 #depreciation\n",
    "    k_grid::Array{Float64,1} = collect(range(0.1, length = 1800, stop= 45.0)) #capital grid\n",
    "    nk::Int64 = length(k_grid) #number of capital grid states\n",
    "end\n",
    "\n",
    "# struct to hold model outputs\n",
    "mutable struct Results\n",
    "    val_func::Array{Float64,1} #value function\n",
    "    pol_func::Array{Float64,1} #policy function\n",
    "end"
   ],
   "outputs": [],
   "metadata": {}
  },
  {
   "cell_type": "code",
   "execution_count": 70,
   "source": [
    "#Bellman operator\n",
    "function Bellman(prim::Primitives, res::Results)\n",
    "    @unpack β, δ, θ, nk, k_grid = prim #unpack primitive structure\n",
    "    v_next = zeros(nk) #preallocate next guess of value function\n",
    "\n",
    "    for i_k = 1:nk #loop over state space\n",
    "        max_util = -1e10\n",
    "        k = k_grid[i_k] #value of capital\n",
    "        budget = k^θ + (1-δ)*k #budget\n",
    "\n",
    "        for i_kp = 1:nk #loop over choice set, find max {log(c) + β * res.val_func[i_kp]}\n",
    "            kp = k_grid[i_kp] #value of k'\n",
    "            c = budget - kp #consumption\n",
    "            if c>0 #check if postiive\n",
    "                val = log(c) + β * res.val_func[i_kp] #compute utility\n",
    "                if val > max_util #wow new max!\n",
    "                    max_util = val #reset max value\n",
    "                    res.pol_func[i_k] = kp #update policy function\n",
    "                end\n",
    "            end\n",
    "        end\n",
    "        v_next[i_k] = max_util #update value function\n",
    "    end\n",
    "    v_next\n",
    "end"
   ],
   "outputs": [
    {
     "output_type": "execute_result",
     "data": {
      "text/plain": [
       "Bellman (generic function with 1 method)"
      ]
     },
     "metadata": {},
     "execution_count": 70
    }
   ],
   "metadata": {}
  },
  {
   "cell_type": "code",
   "execution_count": 78,
   "source": [
    "#function to solve the model\n",
    "function Solve_model()\n",
    "    #initialize primitives and results\n",
    "    prim = Primitives()\n",
    "    val_func, pol_func = zeros(prim.nk), zeros(prim.nk)\n",
    "    res = Results(val_func, pol_func)\n",
    "\n",
    "    error, n = 100, 0\n",
    "    while error>0.0001 #loop until convergence\n",
    "        n+=1\n",
    "        v_next = Bellman(prim, res) #next guess of value function\n",
    "        error = maximum(abs.(v_next .- res.val_func)) #check for convergence\n",
    "        res.val_func = v_next #update\n",
    "        # I will comment the printing of the error, it looks bad in Jupyter\n",
    "        # println(\"Current error: \", error) \n",
    "    end\n",
    "    println(\"Value function converged in \", n, \" iterations\")\n",
    "    prim, res\n",
    "end"
   ],
   "outputs": [
    {
     "output_type": "execute_result",
     "data": {
      "text/plain": [
       "Solve_model (generic function with 1 method)"
      ]
     },
     "metadata": {},
     "execution_count": 78
    }
   ],
   "metadata": {}
  },
  {
   "cell_type": "code",
   "execution_count": 79,
   "source": [
    "@elapsed prim, res = Solve_model() #solve the model."
   ],
   "outputs": [
    {
     "output_type": "stream",
     "name": "stdout",
     "text": [
      "Value function converged in 908 iterations\n"
     ]
    },
    {
     "output_type": "execute_result",
     "data": {
      "text/plain": [
       "16.1779873"
      ]
     },
     "metadata": {},
     "execution_count": 79
    }
   ],
   "metadata": {}
  },
  {
   "cell_type": "code",
   "execution_count": 77,
   "source": [
    "Plots.plot(prim.k_grid, res.val_func) #plot value function\n"
   ],
   "outputs": [
    {
     "output_type": "execute_result",
     "data": {
      "image/svg+xml": "<?xml version=\"1.0\" encoding=\"utf-8\"?>\n<svg xmlns=\"http://www.w3.org/2000/svg\" xmlns:xlink=\"http://www.w3.org/1999/xlink\" width=\"600\" height=\"400\" viewBox=\"0 0 2400 1600\">\n<defs>\n  <clipPath id=\"clip660\">\n    <rect x=\"0\" y=\"0\" width=\"2400\" height=\"1600\"/>\n  </clipPath>\n</defs>\n<path clip-path=\"url(#clip660)\" d=\"\nM0 1600 L2400 1600 L2400 0 L0 0  Z\n  \" fill=\"#ffffff\" fill-rule=\"evenodd\" fill-opacity=\"1\"/>\n<defs>\n  <clipPath id=\"clip661\">\n    <rect x=\"480\" y=\"0\" width=\"1681\" height=\"1600\"/>\n  </clipPath>\n</defs>\n<path clip-path=\"url(#clip660)\" d=\"\nM169.121 1486.45 L2352.76 1486.45 L2352.76 47.2441 L169.121 47.2441  Z\n  \" fill=\"#ffffff\" fill-rule=\"evenodd\" fill-opacity=\"1\"/>\n<defs>\n  <clipPath id=\"clip662\">\n    <rect x=\"169\" y=\"47\" width=\"2185\" height=\"1440\"/>\n  </clipPath>\n</defs>\n<polyline clip-path=\"url(#clip662)\" style=\"stroke:#000000; stroke-linecap:butt; stroke-linejoin:round; stroke-width:2; stroke-opacity:0.1; fill:none\" points=\"\n  226.334,1486.45 226.334,47.2441 \n  \"/>\n<polyline clip-path=\"url(#clip662)\" style=\"stroke:#000000; stroke-linecap:butt; stroke-linejoin:round; stroke-width:2; stroke-opacity:0.1; fill:none\" points=\"\n  685.139,1486.45 685.139,47.2441 \n  \"/>\n<polyline clip-path=\"url(#clip662)\" style=\"stroke:#000000; stroke-linecap:butt; stroke-linejoin:round; stroke-width:2; stroke-opacity:0.1; fill:none\" points=\"\n  1143.94,1486.45 1143.94,47.2441 \n  \"/>\n<polyline clip-path=\"url(#clip662)\" style=\"stroke:#000000; stroke-linecap:butt; stroke-linejoin:round; stroke-width:2; stroke-opacity:0.1; fill:none\" points=\"\n  1602.75,1486.45 1602.75,47.2441 \n  \"/>\n<polyline clip-path=\"url(#clip662)\" style=\"stroke:#000000; stroke-linecap:butt; stroke-linejoin:round; stroke-width:2; stroke-opacity:0.1; fill:none\" points=\"\n  2061.55,1486.45 2061.55,47.2441 \n  \"/>\n<polyline clip-path=\"url(#clip660)\" style=\"stroke:#000000; stroke-linecap:butt; stroke-linejoin:round; stroke-width:4; stroke-opacity:1; fill:none\" points=\"\n  169.121,1486.45 2352.76,1486.45 \n  \"/>\n<polyline clip-path=\"url(#clip660)\" style=\"stroke:#000000; stroke-linecap:butt; stroke-linejoin:round; stroke-width:4; stroke-opacity:1; fill:none\" points=\"\n  226.334,1486.45 226.334,1469.18 \n  \"/>\n<polyline clip-path=\"url(#clip660)\" style=\"stroke:#000000; stroke-linecap:butt; stroke-linejoin:round; stroke-width:4; stroke-opacity:1; fill:none\" points=\"\n  685.139,1486.45 685.139,1469.18 \n  \"/>\n<polyline clip-path=\"url(#clip660)\" style=\"stroke:#000000; stroke-linecap:butt; stroke-linejoin:round; stroke-width:4; stroke-opacity:1; fill:none\" points=\"\n  1143.94,1486.45 1143.94,1469.18 \n  \"/>\n<polyline clip-path=\"url(#clip660)\" style=\"stroke:#000000; stroke-linecap:butt; stroke-linejoin:round; stroke-width:4; stroke-opacity:1; fill:none\" points=\"\n  1602.75,1486.45 1602.75,1469.18 \n  \"/>\n<polyline clip-path=\"url(#clip660)\" style=\"stroke:#000000; stroke-linecap:butt; stroke-linejoin:round; stroke-width:4; stroke-opacity:1; fill:none\" points=\"\n  2061.55,1486.45 2061.55,1469.18 \n  \"/>\n<path clip-path=\"url(#clip660)\" d=\"M226.334 1515.64 Q222.723 1515.64 220.894 1519.2 Q219.089 1522.75 219.089 1529.87 Q219.089 1536.98 220.894 1540.55 Q222.723 1544.09 226.334 1544.09 Q229.968 1544.09 231.774 1540.55 Q233.603 1536.98 233.603 1529.87 Q233.603 1522.75 231.774 1519.2 Q229.968 1515.64 226.334 1515.64 M226.334 1511.93 Q232.144 1511.93 235.2 1516.54 Q238.279 1521.12 238.279 1529.87 Q238.279 1538.6 235.2 1543.21 Q232.144 1547.79 226.334 1547.79 Q220.524 1547.79 217.445 1543.21 Q214.39 1538.6 214.39 1529.87 Q214.39 1521.12 217.445 1516.54 Q220.524 1511.93 226.334 1511.93 Z\" fill=\"#000000\" fill-rule=\"evenodd\" fill-opacity=\"1\" /><path clip-path=\"url(#clip660)\" d=\"M659.826 1543.18 L667.465 1543.18 L667.465 1516.82 L659.155 1518.49 L659.155 1514.23 L667.419 1512.56 L672.095 1512.56 L672.095 1543.18 L679.734 1543.18 L679.734 1547.12 L659.826 1547.12 L659.826 1543.18 Z\" fill=\"#000000\" fill-rule=\"evenodd\" fill-opacity=\"1\" /><path clip-path=\"url(#clip660)\" d=\"M699.178 1515.64 Q695.567 1515.64 693.738 1519.2 Q691.933 1522.75 691.933 1529.87 Q691.933 1536.98 693.738 1540.55 Q695.567 1544.09 699.178 1544.09 Q702.812 1544.09 704.618 1540.55 Q706.447 1536.98 706.447 1529.87 Q706.447 1522.75 704.618 1519.2 Q702.812 1515.64 699.178 1515.64 M699.178 1511.93 Q704.988 1511.93 708.044 1516.54 Q711.123 1521.12 711.123 1529.87 Q711.123 1538.6 708.044 1543.21 Q704.988 1547.79 699.178 1547.79 Q693.368 1547.79 690.289 1543.21 Q687.234 1538.6 687.234 1529.87 Q687.234 1521.12 690.289 1516.54 Q693.368 1511.93 699.178 1511.93 Z\" fill=\"#000000\" fill-rule=\"evenodd\" fill-opacity=\"1\" /><path clip-path=\"url(#clip660)\" d=\"M1122.72 1543.18 L1139.04 1543.18 L1139.04 1547.12 L1117.09 1547.12 L1117.09 1543.18 Q1119.75 1540.43 1124.34 1535.8 Q1128.94 1531.15 1130.12 1529.81 Q1132.37 1527.28 1133.25 1525.55 Q1134.15 1523.79 1134.15 1522.1 Q1134.15 1519.34 1132.21 1517.61 Q1130.29 1515.87 1127.18 1515.87 Q1124.99 1515.87 1122.53 1516.63 Q1120.1 1517.4 1117.32 1518.95 L1117.32 1514.23 Q1120.15 1513.09 1122.6 1512.51 Q1125.05 1511.93 1127.09 1511.93 Q1132.46 1511.93 1135.66 1514.62 Q1138.85 1517.31 1138.85 1521.8 Q1138.85 1523.93 1138.04 1525.85 Q1137.25 1527.74 1135.15 1530.34 Q1134.57 1531.01 1131.47 1534.23 Q1128.36 1537.42 1122.72 1543.18 Z\" fill=\"#000000\" fill-rule=\"evenodd\" fill-opacity=\"1\" /><path clip-path=\"url(#clip660)\" d=\"M1158.85 1515.64 Q1155.24 1515.64 1153.41 1519.2 Q1151.61 1522.75 1151.61 1529.87 Q1151.61 1536.98 1153.41 1540.55 Q1155.24 1544.09 1158.85 1544.09 Q1162.49 1544.09 1164.29 1540.55 Q1166.12 1536.98 1166.12 1529.87 Q1166.12 1522.75 1164.29 1519.2 Q1162.49 1515.64 1158.85 1515.64 M1158.85 1511.93 Q1164.66 1511.93 1167.72 1516.54 Q1170.8 1521.12 1170.8 1529.87 Q1170.8 1538.6 1167.72 1543.21 Q1164.66 1547.79 1158.85 1547.79 Q1153.04 1547.79 1149.96 1543.21 Q1146.91 1538.6 1146.91 1529.87 Q1146.91 1521.12 1149.96 1516.54 Q1153.04 1511.93 1158.85 1511.93 Z\" fill=\"#000000\" fill-rule=\"evenodd\" fill-opacity=\"1\" /><path clip-path=\"url(#clip660)\" d=\"M1591.59 1528.49 Q1594.95 1529.2 1596.82 1531.47 Q1598.72 1533.74 1598.72 1537.07 Q1598.72 1542.19 1595.2 1544.99 Q1591.68 1547.79 1585.2 1547.79 Q1583.03 1547.79 1580.71 1547.35 Q1578.42 1546.93 1575.97 1546.08 L1575.97 1541.56 Q1577.91 1542.7 1580.23 1543.28 Q1582.54 1543.86 1585.06 1543.86 Q1589.46 1543.86 1591.75 1542.12 Q1594.07 1540.38 1594.07 1537.07 Q1594.07 1534.02 1591.91 1532.31 Q1589.79 1530.57 1585.97 1530.57 L1581.94 1530.57 L1581.94 1526.73 L1586.15 1526.73 Q1589.6 1526.73 1591.43 1525.36 Q1593.26 1523.97 1593.26 1521.38 Q1593.26 1518.72 1591.36 1517.31 Q1589.48 1515.87 1585.97 1515.87 Q1584.04 1515.87 1581.85 1516.29 Q1579.65 1516.7 1577.01 1517.58 L1577.01 1513.42 Q1579.67 1512.68 1581.98 1512.31 Q1584.32 1511.93 1586.38 1511.93 Q1591.71 1511.93 1594.81 1514.37 Q1597.91 1516.77 1597.91 1520.89 Q1597.91 1523.76 1596.27 1525.75 Q1594.62 1527.72 1591.59 1528.49 Z\" fill=\"#000000\" fill-rule=\"evenodd\" fill-opacity=\"1\" /><path clip-path=\"url(#clip660)\" d=\"M1617.59 1515.64 Q1613.97 1515.64 1612.15 1519.2 Q1610.34 1522.75 1610.34 1529.87 Q1610.34 1536.98 1612.15 1540.55 Q1613.97 1544.09 1617.59 1544.09 Q1621.22 1544.09 1623.03 1540.55 Q1624.85 1536.98 1624.85 1529.87 Q1624.85 1522.75 1623.03 1519.2 Q1621.22 1515.64 1617.59 1515.64 M1617.59 1511.93 Q1623.4 1511.93 1626.45 1516.54 Q1629.53 1521.12 1629.53 1529.87 Q1629.53 1538.6 1626.45 1543.21 Q1623.4 1547.79 1617.59 1547.79 Q1611.78 1547.79 1608.7 1543.21 Q1605.64 1538.6 1605.64 1529.87 Q1605.64 1521.12 1608.7 1516.54 Q1611.78 1511.93 1617.59 1511.93 Z\" fill=\"#000000\" fill-rule=\"evenodd\" fill-opacity=\"1\" /><path clip-path=\"url(#clip660)\" d=\"M2049.72 1516.63 L2037.92 1535.08 L2049.72 1535.08 L2049.72 1516.63 M2048.5 1512.56 L2054.38 1512.56 L2054.38 1535.08 L2059.31 1535.08 L2059.31 1538.97 L2054.38 1538.97 L2054.38 1547.12 L2049.72 1547.12 L2049.72 1538.97 L2034.12 1538.97 L2034.12 1534.46 L2048.5 1512.56 Z\" fill=\"#000000\" fill-rule=\"evenodd\" fill-opacity=\"1\" /><path clip-path=\"url(#clip660)\" d=\"M2077.04 1515.64 Q2073.43 1515.64 2071.6 1519.2 Q2069.79 1522.75 2069.79 1529.87 Q2069.79 1536.98 2071.6 1540.55 Q2073.43 1544.09 2077.04 1544.09 Q2080.67 1544.09 2082.48 1540.55 Q2084.31 1536.98 2084.31 1529.87 Q2084.31 1522.75 2082.48 1519.2 Q2080.67 1515.64 2077.04 1515.64 M2077.04 1511.93 Q2082.85 1511.93 2085.9 1516.54 Q2088.98 1521.12 2088.98 1529.87 Q2088.98 1538.6 2085.9 1543.21 Q2082.85 1547.79 2077.04 1547.79 Q2071.23 1547.79 2068.15 1543.21 Q2065.09 1538.6 2065.09 1529.87 Q2065.09 1521.12 2068.15 1516.54 Q2071.23 1511.93 2077.04 1511.93 Z\" fill=\"#000000\" fill-rule=\"evenodd\" fill-opacity=\"1\" /><polyline clip-path=\"url(#clip662)\" style=\"stroke:#000000; stroke-linecap:butt; stroke-linejoin:round; stroke-width:2; stroke-opacity:0.1; fill:none\" points=\"\n  169.121,1393.74 2352.76,1393.74 \n  \"/>\n<polyline clip-path=\"url(#clip662)\" style=\"stroke:#000000; stroke-linecap:butt; stroke-linejoin:round; stroke-width:2; stroke-opacity:0.1; fill:none\" points=\"\n  169.121,1006.73 2352.76,1006.73 \n  \"/>\n<polyline clip-path=\"url(#clip662)\" style=\"stroke:#000000; stroke-linecap:butt; stroke-linejoin:round; stroke-width:2; stroke-opacity:0.1; fill:none\" points=\"\n  169.121,619.717 2352.76,619.717 \n  \"/>\n<polyline clip-path=\"url(#clip662)\" style=\"stroke:#000000; stroke-linecap:butt; stroke-linejoin:round; stroke-width:2; stroke-opacity:0.1; fill:none\" points=\"\n  169.121,232.704 2352.76,232.704 \n  \"/>\n<polyline clip-path=\"url(#clip660)\" style=\"stroke:#000000; stroke-linecap:butt; stroke-linejoin:round; stroke-width:4; stroke-opacity:1; fill:none\" points=\"\n  169.121,1486.45 169.121,47.2441 \n  \"/>\n<polyline clip-path=\"url(#clip660)\" style=\"stroke:#000000; stroke-linecap:butt; stroke-linejoin:round; stroke-width:4; stroke-opacity:1; fill:none\" points=\"\n  169.121,1393.74 195.325,1393.74 \n  \"/>\n<polyline clip-path=\"url(#clip660)\" style=\"stroke:#000000; stroke-linecap:butt; stroke-linejoin:round; stroke-width:4; stroke-opacity:1; fill:none\" points=\"\n  169.121,1006.73 195.325,1006.73 \n  \"/>\n<polyline clip-path=\"url(#clip660)\" style=\"stroke:#000000; stroke-linecap:butt; stroke-linejoin:round; stroke-width:4; stroke-opacity:1; fill:none\" points=\"\n  169.121,619.717 195.325,619.717 \n  \"/>\n<polyline clip-path=\"url(#clip660)\" style=\"stroke:#000000; stroke-linecap:butt; stroke-linejoin:round; stroke-width:4; stroke-opacity:1; fill:none\" points=\"\n  169.121,232.704 195.325,232.704 \n  \"/>\n<path clip-path=\"url(#clip660)\" d=\"M79.8346 1376.46 L102.057 1376.46 L102.057 1378.45 L89.5104 1411.02 L84.6262 1411.02 L96.4317 1380.4 L79.8346 1380.4 L79.8346 1376.46 Z\" fill=\"#000000\" fill-rule=\"evenodd\" fill-opacity=\"1\" /><path clip-path=\"url(#clip660)\" d=\"M121.177 1379.54 Q117.566 1379.54 115.737 1383.11 Q113.932 1386.65 113.932 1393.78 Q113.932 1400.88 115.737 1404.45 Q117.566 1407.99 121.177 1407.99 Q124.811 1407.99 126.617 1404.45 Q128.445 1400.88 128.445 1393.78 Q128.445 1386.65 126.617 1383.11 Q124.811 1379.54 121.177 1379.54 M121.177 1375.84 Q126.987 1375.84 130.043 1380.44 Q133.121 1385.03 133.121 1393.78 Q133.121 1402.5 130.043 1407.11 Q126.987 1411.69 121.177 1411.69 Q115.367 1411.69 112.288 1407.11 Q109.233 1402.5 109.233 1393.78 Q109.233 1385.03 112.288 1380.44 Q115.367 1375.84 121.177 1375.84 Z\" fill=\"#000000\" fill-rule=\"evenodd\" fill-opacity=\"1\" /><path clip-path=\"url(#clip660)\" d=\"M91.0151 1007.6 Q87.6817 1007.6 85.7605 1009.38 Q83.8623 1011.16 83.8623 1014.29 Q83.8623 1017.41 85.7605 1019.19 Q87.6817 1020.98 91.0151 1020.98 Q94.3484 1020.98 96.2697 1019.19 Q98.1909 1017.39 98.1909 1014.29 Q98.1909 1011.16 96.2697 1009.38 Q94.3715 1007.6 91.0151 1007.6 M86.3392 1005.61 Q83.3299 1004.87 81.6401 1002.81 Q79.9735 1000.75 79.9735 997.783 Q79.9735 993.639 82.9133 991.232 Q85.8762 988.825 91.0151 988.825 Q96.1771 988.825 99.1169 991.232 Q102.057 993.639 102.057 997.783 Q102.057 1000.75 100.367 1002.81 Q98.7002 1004.87 95.7141 1005.61 Q99.0937 1006.39 100.969 1008.69 Q102.867 1010.98 102.867 1014.29 Q102.867 1019.31 99.7882 1022 Q96.7326 1024.68 91.0151 1024.68 Q85.2975 1024.68 82.2188 1022 Q79.1633 1019.31 79.1633 1014.29 Q79.1633 1010.98 81.0614 1008.69 Q82.9595 1006.39 86.3392 1005.61 M84.6262 998.223 Q84.6262 1000.91 86.2929 1002.41 Q87.9827 1003.92 91.0151 1003.92 Q94.0243 1003.92 95.7141 1002.41 Q97.4271 1000.91 97.4271 998.223 Q97.4271 995.538 95.7141 994.033 Q94.0243 992.528 91.0151 992.528 Q87.9827 992.528 86.2929 994.033 Q84.6262 995.538 84.6262 998.223 Z\" fill=\"#000000\" fill-rule=\"evenodd\" fill-opacity=\"1\" /><path clip-path=\"url(#clip660)\" d=\"M121.177 992.528 Q117.566 992.528 115.737 996.093 Q113.932 999.635 113.932 1006.76 Q113.932 1013.87 115.737 1017.44 Q117.566 1020.98 121.177 1020.98 Q124.811 1020.98 126.617 1017.44 Q128.445 1013.87 128.445 1006.76 Q128.445 999.635 126.617 996.093 Q124.811 992.528 121.177 992.528 M121.177 988.825 Q126.987 988.825 130.043 993.431 Q133.121 998.014 133.121 1006.76 Q133.121 1015.49 130.043 1020.1 Q126.987 1024.68 121.177 1024.68 Q115.367 1024.68 112.288 1020.1 Q109.233 1015.49 109.233 1006.76 Q109.233 998.014 112.288 993.431 Q115.367 988.825 121.177 988.825 Z\" fill=\"#000000\" fill-rule=\"evenodd\" fill-opacity=\"1\" /><path clip-path=\"url(#clip660)\" d=\"M81.154 636.279 L81.154 632.02 Q82.9133 632.853 84.7188 633.293 Q86.5243 633.733 88.2604 633.733 Q92.89 633.733 95.3206 630.631 Q97.7743 627.506 98.1215 621.163 Q96.7789 623.154 94.7187 624.219 Q92.6586 625.284 90.1586 625.284 Q84.9734 625.284 81.941 622.159 Q78.9318 619.011 78.9318 613.571 Q78.9318 608.247 82.0799 605.029 Q85.2281 601.812 90.4595 601.812 Q96.4548 601.812 99.603 606.418 Q102.774 611.001 102.774 619.751 Q102.774 627.923 98.8854 632.807 Q95.0197 637.668 88.4688 637.668 Q86.7095 637.668 84.904 637.321 Q83.0984 636.974 81.154 636.279 M90.4595 621.626 Q93.6076 621.626 95.4363 619.474 Q97.2882 617.321 97.2882 613.571 Q97.2882 609.844 95.4363 607.691 Q93.6076 605.515 90.4595 605.515 Q87.3114 605.515 85.4595 607.691 Q83.6308 609.844 83.6308 613.571 Q83.6308 617.321 85.4595 619.474 Q87.3114 621.626 90.4595 621.626 Z\" fill=\"#000000\" fill-rule=\"evenodd\" fill-opacity=\"1\" /><path clip-path=\"url(#clip660)\" d=\"M121.177 605.515 Q117.566 605.515 115.737 609.08 Q113.932 612.622 113.932 619.751 Q113.932 626.858 115.737 630.423 Q117.566 633.964 121.177 633.964 Q124.811 633.964 126.617 630.423 Q128.445 626.858 128.445 619.751 Q128.445 612.622 126.617 609.08 Q124.811 605.515 121.177 605.515 M121.177 601.812 Q126.987 601.812 130.043 606.418 Q133.121 611.001 133.121 619.751 Q133.121 628.478 130.043 633.085 Q126.987 637.668 121.177 637.668 Q115.367 637.668 112.288 633.085 Q109.233 628.478 109.233 619.751 Q109.233 611.001 112.288 606.418 Q115.367 601.812 121.177 601.812 Z\" fill=\"#000000\" fill-rule=\"evenodd\" fill-opacity=\"1\" /><path clip-path=\"url(#clip660)\" d=\"M51.6634 246.049 L59.3023 246.049 L59.3023 219.683 L50.9921 221.35 L50.9921 217.09 L59.256 215.424 L63.9319 215.424 L63.9319 246.049 L71.5707 246.049 L71.5707 249.984 L51.6634 249.984 L51.6634 246.049 Z\" fill=\"#000000\" fill-rule=\"evenodd\" fill-opacity=\"1\" /><path clip-path=\"url(#clip660)\" d=\"M91.0151 218.502 Q87.404 218.502 85.5753 222.067 Q83.7697 225.609 83.7697 232.738 Q83.7697 239.845 85.5753 243.41 Q87.404 246.951 91.0151 246.951 Q94.6493 246.951 96.4548 243.41 Q98.2835 239.845 98.2835 232.738 Q98.2835 225.609 96.4548 222.067 Q94.6493 218.502 91.0151 218.502 M91.0151 214.799 Q96.8252 214.799 99.8808 219.405 Q102.959 223.989 102.959 232.738 Q102.959 241.465 99.8808 246.072 Q96.8252 250.655 91.0151 250.655 Q85.2049 250.655 82.1262 246.072 Q79.0707 241.465 79.0707 232.738 Q79.0707 223.989 82.1262 219.405 Q85.2049 214.799 91.0151 214.799 Z\" fill=\"#000000\" fill-rule=\"evenodd\" fill-opacity=\"1\" /><path clip-path=\"url(#clip660)\" d=\"M121.177 218.502 Q117.566 218.502 115.737 222.067 Q113.932 225.609 113.932 232.738 Q113.932 239.845 115.737 243.41 Q117.566 246.951 121.177 246.951 Q124.811 246.951 126.617 243.41 Q128.445 239.845 128.445 232.738 Q128.445 225.609 126.617 222.067 Q124.811 218.502 121.177 218.502 M121.177 214.799 Q126.987 214.799 130.043 219.405 Q133.121 223.989 133.121 232.738 Q133.121 241.465 130.043 246.072 Q126.987 250.655 121.177 250.655 Q115.367 250.655 112.288 246.072 Q109.233 241.465 109.233 232.738 Q109.233 223.989 112.288 219.405 Q115.367 214.799 121.177 214.799 Z\" fill=\"#000000\" fill-rule=\"evenodd\" fill-opacity=\"1\" /><polyline clip-path=\"url(#clip662)\" style=\"stroke:#009af9; stroke-linecap:butt; stroke-linejoin:round; stroke-width:4; stroke-opacity:1; fill:none\" points=\"\n  230.922,1445.72 232.067,1431.62 233.212,1419.49 234.358,1408.67 235.503,1398.91 236.648,1390.01 237.793,1381.68 238.938,1374 240.083,1366.69 241.228,1359.88 \n  242.373,1353.32 243.518,1347.1 244.663,1341.17 245.809,1335.45 246.954,1329.97 248.099,1324.65 249.244,1319.5 250.389,1314.54 251.534,1309.77 252.679,1305.09 \n  253.824,1300.52 254.969,1296.1 256.114,1291.8 257.26,1287.57 258.405,1283.45 259.55,1279.43 260.695,1275.5 261.84,1271.66 262.985,1267.87 264.13,1264.16 \n  265.275,1260.53 266.42,1256.98 267.565,1253.48 268.711,1250.01 269.856,1246.61 271.001,1243.27 272.146,1239.99 273.291,1236.77 274.436,1233.6 275.581,1230.46 \n  276.726,1227.36 277.871,1224.3 279.016,1221.29 280.162,1218.32 281.307,1215.39 282.452,1212.5 283.597,1209.64 284.742,1206.82 285.887,1204.03 287.032,1201.27 \n  288.177,1198.55 289.322,1195.86 290.467,1193.2 291.613,1190.57 292.758,1187.96 293.903,1185.37 295.048,1182.81 296.193,1180.28 297.338,1177.77 298.483,1175.29 \n  299.628,1172.84 300.773,1170.41 301.918,1168 303.064,1165.62 304.209,1163.25 305.354,1160.9 306.499,1158.57 307.644,1156.26 308.789,1153.97 309.934,1151.71 \n  311.079,1149.46 312.224,1147.23 313.369,1145.02 314.515,1142.83 315.66,1140.66 316.805,1138.5 317.95,1136.36 319.095,1134.23 320.24,1132.11 321.385,1130.02 \n  322.53,1127.93 323.675,1125.87 324.82,1123.81 325.965,1121.77 327.111,1119.75 328.256,1117.74 329.401,1115.74 330.546,1113.75 331.691,1111.78 332.836,1109.83 \n  333.981,1107.88 335.126,1105.95 336.271,1104.02 337.416,1102.11 338.562,1100.22 339.707,1098.33 340.852,1096.46 341.997,1094.59 343.142,1092.74 344.287,1090.9 \n  345.432,1089.07 346.577,1087.25 347.722,1085.45 348.867,1083.65 350.013,1081.86 351.158,1080.08 352.303,1078.31 353.448,1076.56 354.593,1074.81 355.738,1073.06 \n  356.883,1071.33 358.028,1069.61 359.173,1067.89 360.318,1066.18 361.464,1064.49 362.609,1062.8 363.754,1061.12 364.899,1059.44 366.044,1057.78 367.189,1056.12 \n  368.334,1054.48 369.479,1052.84 370.624,1051.21 371.769,1049.58 372.915,1047.97 374.06,1046.36 375.205,1044.76 376.35,1043.17 377.495,1041.58 378.64,1040.01 \n  379.785,1038.43 380.93,1036.87 382.075,1035.31 383.22,1033.76 384.366,1032.22 385.511,1030.68 386.656,1029.15 387.801,1027.63 388.946,1026.11 390.091,1024.6 \n  391.236,1023.09 392.381,1021.59 393.526,1020.1 394.671,1018.61 395.817,1017.13 396.962,1015.65 398.107,1014.18 399.252,1012.72 400.397,1011.26 401.542,1009.81 \n  402.687,1008.36 403.832,1006.92 404.977,1005.49 406.122,1004.06 407.268,1002.63 408.413,1001.21 409.558,999.801 410.703,998.393 411.848,996.99 412.993,995.593 \n  414.138,994.201 415.283,992.813 416.428,991.431 417.573,990.054 418.718,988.682 419.864,987.315 421.009,985.952 422.154,984.594 423.299,983.241 424.444,981.893 \n  425.589,980.549 426.734,979.21 427.879,977.876 429.024,976.545 430.169,975.219 431.315,973.897 432.46,972.579 433.605,971.266 434.75,969.958 435.895,968.653 \n  437.04,967.353 438.185,966.058 439.33,964.766 440.475,963.479 441.62,962.196 442.766,960.917 443.911,959.642 445.056,958.371 446.201,957.104 447.346,955.841 \n  448.491,954.582 449.636,953.327 450.781,952.076 451.926,950.828 453.071,949.585 454.217,948.345 455.362,947.108 456.507,945.876 457.652,944.647 458.797,943.422 \n  459.942,942.2 461.087,940.982 462.232,939.767 463.377,938.556 464.522,937.348 465.668,936.144 466.813,934.943 467.958,933.746 469.103,932.552 470.248,931.361 \n  471.393,930.174 472.538,928.99 473.683,927.809 474.828,926.632 475.973,925.458 477.119,924.288 478.264,923.12 479.409,921.956 480.554,920.795 481.699,919.637 \n  482.844,918.482 483.989,917.331 485.134,916.182 486.279,915.036 487.424,913.894 488.57,912.754 489.715,911.617 490.86,910.484 492.005,909.353 493.15,908.225 \n  494.295,907.1 495.44,905.978 496.585,904.859 497.73,903.742 498.875,902.628 500.02,901.517 501.166,900.409 502.311,899.304 503.456,898.201 504.601,897.101 \n  505.746,896.003 506.891,894.909 508.036,893.817 509.181,892.728 510.326,891.641 511.471,890.557 512.617,889.476 513.762,888.398 514.907,887.322 516.052,886.248 \n  517.197,885.178 518.342,884.109 519.487,883.044 520.632,881.98 521.777,880.92 522.922,879.861 524.068,878.805 525.213,877.752 526.358,876.701 527.503,875.652 \n  528.648,874.606 529.793,873.562 530.938,872.52 532.083,871.481 533.228,870.444 534.373,869.41 535.519,868.377 536.664,867.347 537.809,866.319 538.954,865.293 \n  540.099,864.27 541.244,863.249 542.389,862.23 543.534,861.213 544.679,860.199 545.824,859.187 546.97,858.176 548.115,857.169 549.26,856.163 550.405,855.16 \n  551.55,854.158 552.695,853.159 553.84,852.163 554.985,851.168 556.13,850.175 557.275,849.184 558.421,848.196 559.566,847.209 560.711,846.224 561.856,845.242 \n  563.001,844.261 564.146,843.283 565.291,842.306 566.436,841.332 567.581,840.359 568.726,839.388 569.872,838.419 571.017,837.452 572.162,836.487 573.307,835.524 \n  574.452,834.563 575.597,833.604 576.742,832.646 577.887,831.691 579.032,830.737 580.177,829.785 581.323,828.835 582.468,827.887 583.613,826.941 584.758,825.996 \n  585.903,825.054 587.048,824.114 588.193,823.175 589.338,822.238 590.483,821.303 591.628,820.369 592.773,819.438 593.919,818.508 595.064,817.58 596.209,816.653 \n  597.354,815.729 598.499,814.806 599.644,813.885 600.789,812.965 601.934,812.047 603.079,811.131 604.224,810.216 605.37,809.304 606.515,808.392 607.66,807.483 \n  608.805,806.575 609.95,805.668 611.095,804.763 612.24,803.86 613.385,802.958 614.53,802.058 615.675,801.16 616.821,800.263 617.966,799.368 619.111,798.474 \n  620.256,797.582 621.401,796.692 622.546,795.804 623.691,794.916 624.836,794.031 625.981,793.147 627.126,792.264 628.272,791.384 629.417,790.504 630.562,789.626 \n  631.707,788.75 632.852,787.875 633.997,787.002 635.142,786.13 636.287,785.259 637.432,784.39 638.577,783.523 639.723,782.657 640.868,781.792 642.013,780.928 \n  643.158,780.067 644.303,779.206 645.448,778.347 646.593,777.489 647.738,776.633 648.883,775.778 650.028,774.924 651.174,774.072 652.319,773.221 653.464,772.372 \n  654.609,771.524 655.754,770.677 656.899,769.832 658.044,768.988 659.189,768.146 660.334,767.305 661.479,766.466 662.625,765.627 663.77,764.791 664.915,763.955 \n  666.06,763.121 667.205,762.288 668.35,761.456 669.495,760.626 670.64,759.797 671.785,758.969 672.93,758.143 674.076,757.318 675.221,756.494 676.366,755.671 \n  677.511,754.85 678.656,754.029 679.801,753.21 680.946,752.393 682.091,751.576 683.236,750.761 684.381,749.946 685.526,749.134 686.672,748.322 687.817,747.511 \n  688.962,746.702 690.107,745.894 691.252,745.087 692.397,744.282 693.542,743.477 694.687,742.674 695.832,741.872 696.977,741.072 698.123,740.272 699.268,739.474 \n  700.413,738.677 701.558,737.881 702.703,737.087 703.848,736.293 704.993,735.501 706.138,734.709 707.283,733.919 708.428,733.13 709.574,732.342 710.719,731.556 \n  711.864,730.77 713.009,729.986 714.154,729.202 715.299,728.42 716.444,727.639 717.589,726.859 718.734,726.08 719.879,725.302 721.025,724.525 722.17,723.749 \n  723.315,722.975 724.46,722.201 725.605,721.428 726.75,720.657 727.895,719.887 729.04,719.117 730.185,718.349 731.33,717.582 732.476,716.817 733.621,716.052 \n  734.766,715.288 735.911,714.525 737.056,713.764 738.201,713.003 739.346,712.243 740.491,711.485 741.636,710.727 742.781,709.971 743.927,709.215 745.072,708.461 \n  746.217,707.707 747.362,706.955 748.507,706.203 749.652,705.453 750.797,704.703 751.942,703.955 753.087,703.207 754.232,702.46 755.378,701.714 756.523,700.97 \n  757.668,700.226 758.813,699.483 759.958,698.741 761.103,698 762.248,697.26 763.393,696.522 764.538,695.784 765.683,695.047 766.829,694.311 767.974,693.576 \n  769.119,692.842 770.264,692.109 771.409,691.377 772.554,690.646 773.699,689.916 774.844,689.186 775.989,688.458 777.134,687.731 778.279,687.004 779.425,686.278 \n  780.57,685.554 781.715,684.83 782.86,684.107 784.005,683.385 785.15,682.664 786.295,681.944 787.44,681.224 788.585,680.506 789.73,679.788 790.876,679.071 \n  792.021,678.355 793.166,677.64 794.311,676.926 795.456,676.213 796.601,675.501 797.746,674.789 798.891,674.079 800.036,673.369 801.181,672.661 802.327,671.953 \n  803.472,671.246 804.617,670.54 805.762,669.835 806.907,669.131 808.052,668.427 809.197,667.725 810.342,667.023 811.487,666.322 812.632,665.622 813.778,664.922 \n  814.923,664.224 816.068,663.526 817.213,662.829 818.358,662.133 819.503,661.438 820.648,660.744 821.793,660.05 822.938,659.357 824.083,658.665 825.229,657.973 \n  826.374,657.283 827.519,656.593 828.664,655.904 829.809,655.216 830.954,654.529 832.099,653.842 833.244,653.157 834.389,652.472 835.534,651.788 836.68,651.105 \n  837.825,650.423 838.97,649.741 840.115,649.06 841.26,648.38 842.405,647.701 843.55,647.023 844.695,646.345 845.84,645.668 846.985,644.992 848.131,644.316 \n  849.276,643.642 850.421,642.967 851.566,642.294 852.711,641.622 853.856,640.95 855.001,640.279 856.146,639.609 857.291,638.939 858.436,638.27 859.582,637.602 \n  860.727,636.935 861.872,636.269 863.017,635.603 864.162,634.938 865.307,634.274 866.452,633.61 867.597,632.947 868.742,632.285 869.887,631.624 871.032,630.964 \n  872.178,630.304 873.323,629.645 874.468,628.987 875.613,628.329 876.758,627.672 877.903,627.016 879.048,626.36 880.193,625.705 881.338,625.051 882.483,624.397 \n  883.629,623.744 884.774,623.092 885.919,622.441 887.064,621.79 888.209,621.14 889.354,620.49 890.499,619.841 891.644,619.193 892.789,618.546 893.934,617.899 \n  895.08,617.253 896.225,616.607 897.37,615.963 898.515,615.319 899.66,614.676 900.805,614.033 901.95,613.391 903.095,612.75 904.24,612.11 905.385,611.47 \n  906.531,610.831 907.676,610.192 908.821,609.554 909.966,608.917 911.111,608.281 912.256,607.645 913.401,607.009 914.546,606.375 915.691,605.741 916.836,605.108 \n  917.982,604.475 919.127,603.843 920.272,603.211 921.417,602.58 922.562,601.95 923.707,601.321 924.852,600.692 925.997,600.063 927.142,599.436 928.287,598.809 \n  929.433,598.182 930.578,597.557 931.723,596.932 932.868,596.307 934.013,595.684 935.158,595.06 936.303,594.438 937.448,593.816 938.593,593.195 939.738,592.574 \n  940.884,591.954 942.029,591.334 943.174,590.715 944.319,590.097 945.464,589.479 946.609,588.862 947.754,588.246 948.899,587.63 950.044,587.015 951.189,586.4 \n  952.335,585.786 953.48,585.172 954.625,584.559 955.77,583.946 956.915,583.335 958.06,582.723 959.205,582.113 960.35,581.503 961.495,580.893 962.64,580.284 \n  963.785,579.676 964.931,579.069 966.076,578.462 967.221,577.856 968.366,577.25 969.511,576.645 970.656,576.04 971.801,575.436 972.946,574.833 974.091,574.23 \n  975.236,573.627 976.382,573.026 977.527,572.424 978.672,571.824 979.817,571.224 980.962,570.624 982.107,570.025 983.252,569.426 984.397,568.828 985.542,568.231 \n  986.687,567.634 987.833,567.037 988.978,566.441 990.123,565.846 991.268,565.251 992.413,564.657 993.558,564.064 994.703,563.471 995.848,562.879 996.993,562.287 \n  998.138,561.695 999.284,561.105 1000.43,560.515 1001.57,559.925 1002.72,559.336 1003.86,558.747 1005.01,558.159 1006.15,557.572 1007.3,556.985 1008.44,556.398 \n  1009.59,555.812 1010.73,555.226 1011.88,554.641 1013.02,554.057 1014.17,553.473 1015.31,552.89 1016.46,552.307 1017.61,551.725 1018.75,551.143 1019.9,550.561 \n  1021.04,549.98 1022.19,549.4 1023.33,548.821 1024.48,548.242 1025.62,547.663 1026.77,547.085 1027.91,546.508 1029.06,545.931 1030.2,545.354 1031.35,544.778 \n  1032.49,544.202 1033.64,543.627 1034.78,543.053 1035.93,542.479 1037.07,541.905 1038.22,541.332 1039.36,540.759 1040.51,540.187 1041.65,539.615 1042.8,539.044 \n  1043.94,538.473 1045.09,537.903 1046.23,537.333 1047.38,536.764 1048.52,536.195 1049.67,535.627 1050.81,535.059 1051.96,534.492 1053.1,533.925 1054.25,533.359 \n  1055.39,532.793 1056.54,532.228 1057.68,531.664 1058.83,531.1 1059.97,530.536 1061.12,529.973 1062.26,529.41 1063.41,528.848 1064.55,528.286 1065.7,527.725 \n  1066.84,527.164 1067.99,526.603 1069.13,526.043 1070.28,525.484 1071.42,524.925 1072.57,524.366 1073.71,523.808 1074.86,523.25 1076.01,522.693 1077.15,522.136 \n  1078.3,521.58 1079.44,521.024 1080.59,520.468 1081.73,519.913 1082.88,519.359 1084.02,518.805 1085.17,518.252 1086.31,517.699 1087.46,517.147 1088.6,516.595 \n  1089.75,516.043 1090.89,515.492 1092.04,514.941 1093.18,514.391 1094.33,513.841 1095.47,513.292 1096.62,512.743 1097.76,512.194 1098.91,511.646 1100.05,511.098 \n  1101.2,510.551 1102.34,510.004 1103.49,509.458 1104.63,508.912 1105.78,508.367 1106.92,507.821 1108.07,507.277 1109.21,506.733 1110.36,506.189 1111.5,505.646 \n  1112.65,505.104 1113.79,504.562 1114.94,504.02 1116.08,503.479 1117.23,502.938 1118.37,502.397 1119.52,501.857 1120.66,501.317 1121.81,500.778 1122.95,500.239 \n  1124.1,499.7 1125.24,499.162 1126.39,498.625 1127.53,498.087 1128.68,497.55 1129.82,497.014 1130.97,496.478 1132.12,495.943 1133.26,495.407 1134.41,494.873 \n  1135.55,494.338 1136.7,493.804 1137.84,493.271 1138.99,492.738 1140.13,492.206 1141.28,491.674 1142.42,491.142 1143.57,490.611 1144.71,490.08 1145.86,489.55 \n  1147,489.02 1148.15,488.49 1149.29,487.961 1150.44,487.432 1151.58,486.904 1152.73,486.376 1153.87,485.848 1155.02,485.321 1156.16,484.794 1157.31,484.267 \n  1158.45,483.741 1159.6,483.216 1160.74,482.69 1161.89,482.165 1163.03,481.641 1164.18,481.117 1165.32,480.593 1166.47,480.07 1167.61,479.548 1168.76,479.025 \n  1169.9,478.503 1171.05,477.982 1172.19,477.461 1173.34,476.94 1174.48,476.42 1175.63,475.899 1176.77,475.38 1177.92,474.86 1179.06,474.341 1180.21,473.822 \n  1181.35,473.304 1182.5,472.786 1183.64,472.269 1184.79,471.752 1185.93,471.235 1187.08,470.719 1188.22,470.203 1189.37,469.688 1190.52,469.173 1191.66,468.658 \n  1192.81,468.144 1193.95,467.631 1195.1,467.117 1196.24,466.604 1197.39,466.092 1198.53,465.58 1199.68,465.068 1200.82,464.556 1201.97,464.044 1203.11,463.533 \n  1204.26,463.023 1205.4,462.512 1206.55,462.003 1207.69,461.493 1208.84,460.984 1209.98,460.475 1211.13,459.967 1212.27,459.458 1213.42,458.951 1214.56,458.444 \n  1215.71,457.937 1216.85,457.431 1218,456.925 1219.14,456.419 1220.29,455.914 1221.43,455.409 1222.58,454.905 1223.72,454.4 1224.87,453.896 1226.01,453.393 \n  1227.16,452.89 1228.3,452.387 1229.45,451.884 1230.59,451.382 1231.74,450.88 1232.88,450.379 1234.03,449.877 1235.17,449.377 1236.32,448.876 1237.46,448.376 \n  1238.61,447.877 1239.75,447.378 1240.9,446.879 1242.04,446.38 1243.19,445.882 1244.33,445.385 1245.48,444.887 1246.62,444.39 1247.77,443.893 1248.92,443.397 \n  1250.06,442.9 1251.21,442.405 1252.35,441.909 1253.5,441.414 1254.64,440.919 1255.79,440.424 1256.93,439.93 1258.08,439.436 1259.22,438.943 1260.37,438.45 \n  1261.51,437.957 1262.66,437.465 1263.8,436.973 1264.95,436.481 1266.09,435.99 1267.24,435.5 1268.38,435.009 1269.53,434.519 1270.67,434.029 1271.82,433.539 \n  1272.96,433.05 1274.11,432.561 1275.25,432.072 1276.4,431.584 1277.54,431.096 1278.69,430.608 1279.83,430.121 1280.98,429.633 1282.12,429.147 1283.27,428.66 \n  1284.41,428.174 1285.56,427.688 1286.7,427.203 1287.85,426.719 1288.99,426.234 1290.14,425.75 1291.28,425.266 1292.43,424.782 1293.57,424.299 1294.72,423.816 \n  1295.86,423.333 1297.01,422.851 1298.15,422.368 1299.3,421.886 1300.44,421.405 1301.59,420.924 1302.73,420.443 1303.88,419.962 1305.02,419.482 1306.17,419.002 \n  1307.32,418.522 1308.46,418.043 1309.61,417.565 1310.75,417.087 1311.9,416.609 1313.04,416.131 1314.19,415.653 1315.33,415.176 1316.48,414.699 1317.62,414.222 \n  1318.77,413.746 1319.91,413.27 1321.06,412.794 1322.2,412.318 1323.35,411.843 1324.49,411.368 1325.64,410.893 1326.78,410.419 1327.93,409.945 1329.07,409.472 \n  1330.22,408.998 1331.36,408.526 1332.51,408.053 1333.65,407.581 1334.8,407.109 1335.94,406.638 1337.09,406.166 1338.23,405.695 1339.38,405.224 1340.52,404.753 \n  1341.67,404.283 1342.81,403.813 1343.96,403.343 1345.1,402.874 1346.25,402.405 1347.39,401.936 1348.54,401.468 1349.68,401 1350.83,400.532 1351.97,400.065 \n  1353.12,399.598 1354.26,399.131 1355.41,398.665 1356.55,398.199 1357.7,397.732 1358.84,397.267 1359.99,396.801 1361.13,396.336 1362.28,395.871 1363.42,395.406 \n  1364.57,394.942 1365.72,394.478 1366.86,394.014 1368.01,393.55 1369.15,393.087 1370.3,392.625 1371.44,392.162 1372.59,391.7 1373.73,391.239 1374.88,390.777 \n  1376.02,390.316 1377.17,389.855 1378.31,389.394 1379.46,388.933 1380.6,388.473 1381.75,388.013 1382.89,387.553 1384.04,387.094 1385.18,386.635 1386.33,386.176 \n  1387.47,385.717 1388.62,385.259 1389.76,384.801 1390.91,384.344 1392.05,383.887 1393.2,383.43 1394.34,382.974 1395.49,382.517 1396.63,382.061 1397.78,381.605 \n  1398.92,381.149 1400.07,380.694 1401.21,380.238 1402.36,379.784 1403.5,379.329 1404.65,378.874 1405.79,378.42 1406.94,377.966 1408.08,377.513 1409.23,377.06 \n  1410.37,376.607 1411.52,376.155 1412.66,375.703 1413.81,375.251 1414.95,374.799 1416.1,374.348 1417.24,373.896 1418.39,373.445 1419.53,372.995 1420.68,372.544 \n  1421.82,372.094 1422.97,371.644 1424.12,371.194 1425.26,370.745 1426.41,370.296 1427.55,369.847 1428.7,369.399 1429.84,368.951 1430.99,368.503 1432.13,368.055 \n  1433.28,367.608 1434.42,367.161 1435.57,366.714 1436.71,366.267 1437.86,365.82 1439,365.374 1440.15,364.928 1441.29,364.482 1442.44,364.037 1443.58,363.592 \n  1444.73,363.147 1445.87,362.702 1447.02,362.258 1448.16,361.814 1449.31,361.371 1450.45,360.928 1451.6,360.484 1452.74,360.041 1453.89,359.599 1455.03,359.156 \n  1456.18,358.714 1457.32,358.272 1458.47,357.83 1459.61,357.389 1460.76,356.947 1461.9,356.507 1463.05,356.066 1464.19,355.626 1465.34,355.186 1466.48,354.746 \n  1467.63,354.307 1468.77,353.867 1469.92,353.428 1471.06,352.989 1472.21,352.551 1473.35,352.112 1474.5,351.674 1475.64,351.236 1476.79,350.798 1477.93,350.361 \n  1479.08,349.924 1480.23,349.487 1481.37,349.051 1482.52,348.614 1483.66,348.178 1484.81,347.743 1485.95,347.307 1487.1,346.872 1488.24,346.437 1489.39,346.002 \n  1490.53,345.567 1491.68,345.133 1492.82,344.699 1493.97,344.265 1495.11,343.831 1496.26,343.398 1497.4,342.965 1498.55,342.532 1499.69,342.1 1500.84,341.668 \n  1501.98,341.236 1503.13,340.804 1504.27,340.372 1505.42,339.941 1506.56,339.51 1507.71,339.079 1508.85,338.648 1510,338.217 1511.14,337.787 1512.29,337.357 \n  1513.43,336.928 1514.58,336.498 1515.72,336.069 1516.87,335.64 1518.01,335.211 1519.16,334.783 1520.3,334.355 1521.45,333.927 1522.59,333.499 1523.74,333.071 \n  1524.88,332.644 1526.03,332.217 1527.17,331.79 1528.32,331.364 1529.46,330.938 1530.61,330.512 1531.75,330.086 1532.9,329.66 1534.04,329.235 1535.19,328.81 \n  1536.33,328.385 1537.48,327.96 1538.63,327.535 1539.77,327.111 1540.92,326.687 1542.06,326.263 1543.21,325.84 1544.35,325.417 1545.5,324.994 1546.64,324.571 \n  1547.79,324.149 1548.93,323.726 1550.08,323.304 1551.22,322.882 1552.37,322.46 1553.51,322.039 1554.66,321.617 1555.8,321.196 1556.95,320.776 1558.09,320.355 \n  1559.24,319.935 1560.38,319.515 1561.53,319.095 1562.67,318.676 1563.82,318.257 1564.96,317.837 1566.11,317.418 1567.25,317 1568.4,316.581 1569.54,316.163 \n  1570.69,315.745 1571.83,315.327 1572.98,314.91 1574.12,314.493 1575.27,314.075 1576.41,313.659 1577.56,313.242 1578.7,312.825 1579.85,312.409 1580.99,311.993 \n  1582.14,311.577 1583.28,311.161 1584.43,310.746 1585.57,310.331 1586.72,309.916 1587.86,309.502 1589.01,309.087 1590.15,308.673 1591.3,308.259 1592.44,307.845 \n  1593.59,307.431 1594.73,307.018 1595.88,306.605 1597.03,306.192 1598.17,305.78 1599.32,305.367 1600.46,304.955 1601.61,304.543 1602.75,304.131 1603.9,303.72 \n  1605.04,303.308 1606.19,302.897 1607.33,302.486 1608.48,302.075 1609.62,301.665 1610.77,301.255 1611.91,300.845 1613.06,300.435 1614.2,300.025 1615.35,299.615 \n  1616.49,299.206 1617.64,298.797 1618.78,298.388 1619.93,297.979 1621.07,297.571 1622.22,297.163 1623.36,296.755 1624.51,296.347 1625.65,295.94 1626.8,295.532 \n  1627.94,295.125 1629.09,294.718 1630.23,294.312 1631.38,293.905 1632.52,293.499 1633.67,293.093 1634.81,292.687 1635.96,292.282 1637.1,291.876 1638.25,291.471 \n  1639.39,291.066 1640.54,290.661 1641.68,290.256 1642.83,289.852 1643.97,289.448 1645.12,289.044 1646.26,288.64 1647.41,288.237 1648.55,287.833 1649.7,287.43 \n  1650.84,287.027 1651.99,286.624 1653.13,286.222 1654.28,285.819 1655.43,285.417 1656.57,285.015 1657.72,284.614 1658.86,284.212 1660.01,283.811 1661.15,283.41 \n  1662.3,283.009 1663.44,282.608 1664.59,282.207 1665.73,281.807 1666.88,281.407 1668.02,281.007 1669.17,280.608 1670.31,280.208 1671.46,279.809 1672.6,279.41 \n  1673.75,279.011 1674.89,278.612 1676.04,278.214 1677.18,277.815 1678.33,277.417 1679.47,277.02 1680.62,276.622 1681.76,276.224 1682.91,275.827 1684.05,275.43 \n  1685.2,275.033 1686.34,274.636 1687.49,274.24 1688.63,273.843 1689.78,273.447 1690.92,273.051 1692.07,272.656 1693.21,272.26 1694.36,271.865 1695.5,271.469 \n  1696.65,271.075 1697.79,270.68 1698.94,270.285 1700.08,269.891 1701.23,269.497 1702.37,269.103 1703.52,268.709 1704.66,268.316 1705.81,267.922 1706.95,267.529 \n  1708.1,267.136 1709.24,266.743 1710.39,266.351 1711.53,265.958 1712.68,265.566 1713.83,265.174 1714.97,264.782 1716.12,264.391 1717.26,263.999 1718.41,263.608 \n  1719.55,263.217 1720.7,262.826 1721.84,262.435 1722.99,262.045 1724.13,261.654 1725.28,261.264 1726.42,260.874 1727.57,260.485 1728.71,260.095 1729.86,259.705 \n  1731,259.316 1732.15,258.927 1733.29,258.539 1734.44,258.15 1735.58,257.762 1736.73,257.373 1737.87,256.985 1739.02,256.597 1740.16,256.21 1741.31,255.822 \n  1742.45,255.435 1743.6,255.048 1744.74,254.661 1745.89,254.274 1747.03,253.888 1748.18,253.501 1749.32,253.115 1750.47,252.729 1751.61,252.343 1752.76,251.958 \n  1753.9,251.572 1755.05,251.187 1756.19,250.802 1757.34,250.417 1758.48,250.032 1759.63,249.648 1760.77,249.263 1761.92,248.879 1763.06,248.495 1764.21,248.111 \n  1765.35,247.728 1766.5,247.344 1767.64,246.961 1768.79,246.578 1769.94,246.195 1771.08,245.812 1772.23,245.43 1773.37,245.047 1774.52,244.665 1775.66,244.283 \n  1776.81,243.902 1777.95,243.52 1779.1,243.139 1780.24,242.757 1781.39,242.376 1782.53,241.995 1783.68,241.614 1784.82,241.234 1785.97,240.853 1787.11,240.473 \n  1788.26,240.093 1789.4,239.713 1790.55,239.333 1791.69,238.954 1792.84,238.575 1793.98,238.195 1795.13,237.816 1796.27,237.438 1797.42,237.059 1798.56,236.681 \n  1799.71,236.302 1800.85,235.924 1802,235.546 1803.14,235.169 1804.29,234.791 1805.43,234.414 1806.58,234.037 1807.72,233.66 1808.87,233.283 1810.01,232.906 \n  1811.16,232.529 1812.3,232.153 1813.45,231.777 1814.59,231.401 1815.74,231.025 1816.88,230.649 1818.03,230.274 1819.17,229.899 1820.32,229.524 1821.46,229.148 \n  1822.61,228.774 1823.75,228.399 1824.9,228.024 1826.04,227.65 1827.19,227.276 1828.34,226.902 1829.48,226.528 1830.63,226.155 1831.77,225.781 1832.92,225.408 \n  1834.06,225.035 1835.21,224.662 1836.35,224.289 1837.5,223.917 1838.64,223.544 1839.79,223.172 1840.93,222.8 1842.08,222.428 1843.22,222.057 1844.37,221.685 \n  1845.51,221.314 1846.66,220.942 1847.8,220.571 1848.95,220.2 1850.09,219.83 1851.24,219.459 1852.38,219.089 1853.53,218.718 1854.67,218.348 1855.82,217.978 \n  1856.96,217.608 1858.11,217.239 1859.25,216.869 1860.4,216.5 1861.54,216.131 1862.69,215.762 1863.83,215.393 1864.98,215.025 1866.12,214.656 1867.27,214.288 \n  1868.41,213.92 1869.56,213.552 1870.7,213.184 1871.85,212.817 1872.99,212.449 1874.14,212.082 1875.28,211.715 1876.43,211.348 1877.57,210.981 1878.72,210.615 \n  1879.86,210.248 1881.01,209.882 1882.15,209.516 1883.3,209.15 1884.44,208.784 1885.59,208.418 1886.74,208.053 1887.88,207.687 1889.03,207.322 1890.17,206.957 \n  1891.32,206.592 1892.46,206.227 1893.61,205.863 1894.75,205.498 1895.9,205.134 1897.04,204.77 1898.19,204.406 1899.33,204.043 1900.48,203.679 1901.62,203.316 \n  1902.77,202.953 1903.91,202.59 1905.06,202.227 1906.2,201.864 1907.35,201.501 1908.49,201.139 1909.64,200.777 1910.78,200.415 1911.93,200.053 1913.07,199.691 \n  1914.22,199.329 1915.36,198.968 1916.51,198.606 1917.65,198.245 1918.8,197.884 1919.94,197.523 1921.09,197.162 1922.23,196.801 1923.38,196.441 1924.52,196.08 \n  1925.67,195.72 1926.81,195.36 1927.96,195 1929.1,194.64 1930.25,194.281 1931.39,193.922 1932.54,193.563 1933.68,193.204 1934.83,192.845 1935.97,192.486 \n  1937.12,192.128 1938.26,191.769 1939.41,191.411 1940.55,191.053 1941.7,190.695 1942.84,190.338 1943.99,189.98 1945.14,189.623 1946.28,189.265 1947.43,188.908 \n  1948.57,188.551 1949.72,188.194 1950.86,187.837 1952.01,187.48 1953.15,187.123 1954.3,186.767 1955.44,186.41 1956.59,186.054 1957.73,185.697 1958.88,185.341 \n  1960.02,184.985 1961.17,184.629 1962.31,184.273 1963.46,183.917 1964.6,183.561 1965.75,183.205 1966.89,182.849 1968.04,182.494 1969.18,182.139 1970.33,181.785 \n  1971.47,181.432 1972.62,181.079 1973.76,180.726 1974.91,180.374 1976.05,180.021 1977.2,179.669 1978.34,179.317 1979.49,178.964 1980.63,178.612 1981.78,178.26 \n  1982.92,177.908 1984.07,177.556 1985.21,177.204 1986.36,176.852 1987.5,176.501 1988.65,176.149 1989.79,175.797 1990.94,175.446 1992.08,175.095 1993.23,174.743 \n  1994.37,174.392 1995.52,174.041 1996.66,173.69 1997.81,173.34 1998.95,172.989 2000.1,172.639 2001.24,172.288 2002.39,171.938 2003.54,171.588 2004.68,171.238 \n  2005.83,170.889 2006.97,170.539 2008.12,170.19 2009.26,169.841 2010.41,169.491 2011.55,169.143 2012.7,168.794 2013.84,168.445 2014.99,168.097 2016.13,167.749 \n  2017.28,167.401 2018.42,167.053 2019.57,166.705 2020.71,166.357 2021.86,166.01 2023,165.662 2024.15,165.315 2025.29,164.968 2026.44,164.621 2027.58,164.274 \n  2028.73,163.927 2029.87,163.58 2031.02,163.234 2032.16,162.888 2033.31,162.541 2034.45,162.195 2035.6,161.849 2036.74,161.503 2037.89,161.158 2039.03,160.812 \n  2040.18,160.467 2041.32,160.121 2042.47,159.776 2043.61,159.431 2044.76,159.087 2045.9,158.742 2047.05,158.398 2048.19,158.053 2049.34,157.709 2050.48,157.365 \n  2051.63,157.021 2052.77,156.677 2053.92,156.334 2055.06,155.99 2056.21,155.647 2057.35,155.304 2058.5,154.96 2059.64,154.617 2060.79,154.275 2061.94,153.932 \n  2063.08,153.589 2064.23,153.247 2065.37,152.904 2066.52,152.562 2067.66,152.22 2068.81,151.878 2069.95,151.536 2071.1,151.195 2072.24,150.853 2073.39,150.512 \n  2074.53,150.17 2075.68,149.829 2076.82,149.488 2077.97,149.148 2079.11,148.807 2080.26,148.466 2081.4,148.126 2082.55,147.786 2083.69,147.446 2084.84,147.106 \n  2085.98,146.766 2087.13,146.426 2088.27,146.087 2089.42,145.747 2090.56,145.408 2091.71,145.069 2092.85,144.73 2094,144.391 2095.14,144.052 2096.29,143.713 \n  2097.43,143.375 2098.58,143.036 2099.72,142.698 2100.87,142.36 2102.01,142.022 2103.16,141.684 2104.3,141.346 2105.45,141.008 2106.59,140.671 2107.74,140.333 \n  2108.88,139.996 2110.03,139.659 2111.17,139.322 2112.32,138.986 2113.46,138.649 2114.61,138.312 2115.75,137.976 2116.9,137.64 2118.05,137.304 2119.19,136.968 \n  2120.34,136.632 2121.48,136.296 2122.63,135.96 2123.77,135.625 2124.92,135.289 2126.06,134.954 2127.21,134.619 2128.35,134.284 2129.5,133.949 2130.64,133.614 \n  2131.79,133.28 2132.93,132.945 2134.08,132.611 2135.22,132.277 2136.37,131.943 2137.51,131.609 2138.66,131.275 2139.8,130.941 2140.95,130.607 2142.09,130.274 \n  2143.24,129.941 2144.38,129.608 2145.53,129.275 2146.67,128.942 2147.82,128.609 2148.96,128.276 2150.11,127.944 2151.25,127.611 2152.4,127.279 2153.54,126.947 \n  2154.69,126.615 2155.83,126.283 2156.98,125.951 2158.12,125.62 2159.27,125.288 2160.41,124.957 2161.56,124.625 2162.7,124.294 2163.85,123.963 2164.99,123.632 \n  2166.14,123.301 2167.28,122.971 2168.43,122.64 2169.57,122.31 2170.72,121.979 2171.86,121.649 2173.01,121.319 2174.15,120.989 2175.3,120.66 2176.45,120.33 \n  2177.59,120.001 2178.74,119.671 2179.88,119.342 2181.03,119.013 2182.17,118.684 2183.32,118.355 2184.46,118.026 2185.61,117.697 2186.75,117.369 2187.9,117.041 \n  2189.04,116.712 2190.19,116.384 2191.33,116.056 2192.48,115.728 2193.62,115.4 2194.77,115.073 2195.91,114.745 2197.06,114.418 2198.2,114.09 2199.35,113.763 \n  2200.49,113.436 2201.64,113.109 2202.78,112.782 2203.93,112.456 2205.07,112.129 2206.22,111.803 2207.36,111.476 2208.51,111.15 2209.65,110.824 2210.8,110.498 \n  2211.94,110.173 2213.09,109.847 2214.23,109.521 2215.38,109.196 2216.52,108.87 2217.67,108.545 2218.81,108.22 2219.96,107.895 2221.1,107.57 2222.25,107.245 \n  2223.39,106.921 2224.54,106.596 2225.68,106.272 2226.83,105.947 2227.97,105.623 2229.12,105.299 2230.26,104.975 2231.41,104.652 2232.55,104.328 2233.7,104.004 \n  2234.85,103.681 2235.99,103.358 2237.14,103.034 2238.28,102.711 2239.43,102.388 2240.57,102.066 2241.72,101.743 2242.86,101.42 2244.01,101.098 2245.15,100.776 \n  2246.3,100.453 2247.44,100.131 2248.59,99.8091 2249.73,99.4872 2250.88,99.1655 2252.02,98.8438 2253.17,98.5222 2254.31,98.2008 2255.46,97.8795 2256.6,97.5582 \n  2257.75,97.2371 2258.89,96.9162 2260.04,96.5954 2261.18,96.2746 2262.33,95.954 2263.47,95.6334 2264.62,95.3131 2265.76,94.9929 2266.91,94.6727 2268.05,94.3526 \n  2269.2,94.0328 2270.34,93.713 2271.49,93.3934 2272.63,93.0738 2273.78,92.7544 2274.92,92.4351 2276.07,92.116 2277.21,91.7968 2278.36,91.4778 2279.5,91.1588 \n  2280.65,90.8401 2281.79,90.5215 2282.94,90.2029 2284.08,89.8845 2285.23,89.5662 2286.37,89.2481 2287.52,88.93 2288.66,88.612 2289.81,88.2941 2290.95,87.9763 \n  \n  \"/>\n<path clip-path=\"url(#clip660)\" d=\"\nM1984.91 198.898 L2279.97 198.898 L2279.97 95.2176 L1984.91 95.2176  Z\n  \" fill=\"#ffffff\" fill-rule=\"evenodd\" fill-opacity=\"1\"/>\n<polyline clip-path=\"url(#clip660)\" style=\"stroke:#000000; stroke-linecap:butt; stroke-linejoin:round; stroke-width:4; stroke-opacity:1; fill:none\" points=\"\n  1984.91,198.898 2279.97,198.898 2279.97,95.2176 1984.91,95.2176 1984.91,198.898 \n  \"/>\n<polyline clip-path=\"url(#clip660)\" style=\"stroke:#009af9; stroke-linecap:butt; stroke-linejoin:round; stroke-width:4; stroke-opacity:1; fill:none\" points=\"\n  2009.17,147.058 2154.75,147.058 \n  \"/>\n<path clip-path=\"url(#clip660)\" d=\"M2192.86 166.745 Q2191.05 171.375 2189.34 172.787 Q2187.62 174.199 2184.75 174.199 L2181.35 174.199 L2181.35 170.634 L2183.85 170.634 Q2185.61 170.634 2186.58 169.8 Q2187.55 168.967 2188.73 165.865 L2189.5 163.921 L2179.01 138.412 L2183.53 138.412 L2191.63 158.689 L2199.73 138.412 L2204.24 138.412 L2192.86 166.745 Z\" fill=\"#000000\" fill-rule=\"evenodd\" fill-opacity=\"1\" /><path clip-path=\"url(#clip660)\" d=\"M2211.54 160.402 L2219.17 160.402 L2219.17 134.037 L2210.86 135.703 L2210.86 131.444 L2219.13 129.778 L2223.8 129.778 L2223.8 160.402 L2231.44 160.402 L2231.44 164.338 L2211.54 164.338 L2211.54 160.402 Z\" fill=\"#000000\" fill-rule=\"evenodd\" fill-opacity=\"1\" /></svg>\n"
     },
     "metadata": {},
     "execution_count": 77
    }
   ],
   "metadata": {}
  }
 ],
 "metadata": {
  "orig_nbformat": 4,
  "language_info": {
   "file_extension": ".jl",
   "name": "julia",
   "mimetype": "application/julia",
   "version": "1.6.2"
  },
  "kernelspec": {
   "name": "julia-1.6",
   "display_name": "Julia 1.6.2",
   "language": "julia"
  }
 },
 "nbformat": 4,
 "nbformat_minor": 2
}