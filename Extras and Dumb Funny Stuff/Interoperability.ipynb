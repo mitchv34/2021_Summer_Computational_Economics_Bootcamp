{
 "cells": [
  {
   "cell_type": "markdown",
   "source": [
    "# Interoperability in Julia\n",
    "The `Interoperability` notebook is a collection of examples of how to use Julia to interact with other languages.\n",
    "\n",
    "**Content of the notebook:**\n",
    "* [Julia and Python](#julia-and-python)\n",
    "* [Julia and R, RCall](#julia-and-r)"
   ],
   "metadata": {}
  },
  {
   "cell_type": "markdown",
   "source": [
    "## Julia and Python <a id='julia-and-python'></a>"
   ],
   "metadata": {}
  },
  {
   "cell_type": "code",
   "execution_count": 3,
   "source": [
    "# using Pkg; Pkg.add(\"PyCall\")\n",
    "using PyCall"
   ],
   "outputs": [],
   "metadata": {}
  },
  {
   "cell_type": "code",
   "execution_count": 5,
   "source": [
    "py\"print('Hello World from Python!')\""
   ],
   "outputs": [
    {
     "output_type": "stream",
     "name": "stdout",
     "text": [
      "Hello World from Python!\n"
     ]
    }
   ],
   "metadata": {}
  },
  {
   "cell_type": "code",
   "execution_count": 8,
   "source": [
    "# In python we use ** instead of ^ for powers\n",
    "py_var = py\"2**3\"\n",
    "jl_var = 2^3\n",
    "\n",
    "py_var == jl_var"
   ],
   "outputs": [
    {
     "output_type": "execute_result",
     "data": {
      "text/plain": [
       "true"
      ]
     },
     "metadata": {},
     "execution_count": 8
    }
   ],
   "metadata": {}
  },
  {
   "cell_type": "code",
   "execution_count": 14,
   "source": [
    "# Import modules\n",
    "math = pyimport(\"math\")\n",
    "\n",
    "x = -2π:0.01:2π # Julia array\n",
    "y = math.sin.(x) # Sin(x) using math python module\n",
    "\n",
    "typeof(y) # Julia array"
   ],
   "outputs": [
    {
     "output_type": "execute_result",
     "data": {
      "text/plain": [
       "Vector{Float64} (alias for Array{Float64, 1})"
      ]
     },
     "metadata": {},
     "execution_count": 14
    }
   ],
   "metadata": {}
  },
  {
   "cell_type": "code",
   "execution_count": 16,
   "source": [
    "plt = pyimport(\"matplotlib.pyplot\")\n",
    "\n",
    "plt.plot(x, y, color=\"red\", linewidth=2.0, linestyle=\"--\")\n",
    "plt.show() # This wil open a new window, clearly not optimal "
   ],
   "outputs": [],
   "metadata": {}
  },
  {
   "cell_type": "code",
   "execution_count": 29,
   "source": [
    "# If we want to use python pyplot to plot we can use the version that \n",
    "# is implemented in Julia\n",
    "# using Pkg; Pkg.add(\"PyPlot\")\n",
    "using Plots\n",
    "pyplot()\n",
    "\n",
    "plot(x,y, color=\"red\", linewidth=2.0, linestyle=:dash)"
   ],
   "outputs": [
    {
     "output_type": "execute_result",
     "data": {
      "image/png": "[encoded data removed]"
     },
     "metadata": {},
     "execution_count": 29
    }
   ],
   "metadata": {}
  },
  {
   "cell_type": "code",
   "execution_count": 38,
   "source": [
    "# We can use String interpolation to pass variables to python\n",
    "f(x) = py\"$x**8\""
   ],
   "outputs": [
    {
     "output_type": "execute_result",
     "data": {
      "text/plain": [
       "f (generic function with 1 method)"
      ]
     },
     "metadata": {},
     "execution_count": 38
    }
   ],
   "metadata": {}
  },
  {
   "cell_type": "code",
   "execution_count": 39,
   "source": [
    "f(3)"
   ],
   "outputs": [
    {
     "output_type": "execute_result",
     "data": {
      "text/plain": [
       "6561"
      ]
     },
     "metadata": {},
     "execution_count": 39
    }
   ],
   "metadata": {}
  },
  {
   "cell_type": "code",
   "execution_count": 51,
   "source": [
    "# Load sklearn's Boston housing price dataset from Python to Julia\n",
    "using DataFrames\n",
    "\n",
    "sk_datasets = pyimport(\"sklearn.datasets\")\n",
    "boston = sk_datasets.load_boston()\n",
    "\n",
    "df = DataFrame(boston[\"data\"], :auto) # This loads the data into a DataFrame\n",
    "\n",
    "cols = boston[\"feature_names\"] # This is a list of the column names\n",
    "\n",
    "rename!(df, Symbol.(cols))   # This converts the column names to symbols\n",
    "\n",
    "df[1:6,1:4]"
   ],
   "outputs": [
    {
     "output_type": "execute_result",
     "data": {
      "text/plain": [
       "\u001b[1m6×4 DataFrame\u001b[0m\n",
       "\u001b[1m Row \u001b[0m│\u001b[1m CRIM    \u001b[0m\u001b[1m ZN      \u001b[0m\u001b[1m INDUS   \u001b[0m\u001b[1m CHAS    \u001b[0m\n",
       "\u001b[1m     \u001b[0m│\u001b[90m Float64 \u001b[0m\u001b[90m Float64 \u001b[0m\u001b[90m Float64 \u001b[0m\u001b[90m Float64 \u001b[0m\n",
       "─────┼────────────────────────────────────\n",
       "   1 │ 0.00632     18.0     2.31      0.0\n",
       "   2 │ 0.02731      0.0     7.07      0.0\n",
       "   3 │ 0.02729      0.0     7.07      0.0\n",
       "   4 │ 0.03237      0.0     2.18      0.0\n",
       "   5 │ 0.06905      0.0     2.18      0.0\n",
       "   6 │ 0.02985      0.0     2.18      0.0"
      ],
      "text/latex": [
       "\\begin{tabular}{r|cccc}\n",
       "\t& CRIM & ZN & INDUS & CHAS\\\\\n",
       "\t\\hline\n",
       "\t& Float64 & Float64 & Float64 & Float64\\\\\n",
       "\t\\hline\n",
       "\t1 & 0.00632 & 18.0 & 2.31 & 0.0 \\\\\n",
       "\t2 & 0.02731 & 0.0 & 7.07 & 0.0 \\\\\n",
       "\t3 & 0.02729 & 0.0 & 7.07 & 0.0 \\\\\n",
       "\t4 & 0.03237 & 0.0 & 2.18 & 0.0 \\\\\n",
       "\t5 & 0.06905 & 0.0 & 2.18 & 0.0 \\\\\n",
       "\t6 & 0.02985 & 0.0 & 2.18 & 0.0 \\\\\n",
       "\\end{tabular}\n"
      ],
      "text/html": [
       "<div class=\"data-frame\"><p>6 rows × 4 columns</p><table class=\"data-frame\"><thead><tr><th></th><th>CRIM</th><th>ZN</th><th>INDUS</th><th>CHAS</th></tr><tr><th></th><th title=\"Float64\">Float64</th><th title=\"Float64\">Float64</th><th title=\"Float64\">Float64</th><th title=\"Float64\">Float64</th></tr></thead><tbody><tr><th>1</th><td>0.00632</td><td>18.0</td><td>2.31</td><td>0.0</td></tr><tr><th>2</th><td>0.02731</td><td>0.0</td><td>7.07</td><td>0.0</td></tr><tr><th>3</th><td>0.02729</td><td>0.0</td><td>7.07</td><td>0.0</td></tr><tr><th>4</th><td>0.03237</td><td>0.0</td><td>2.18</td><td>0.0</td></tr><tr><th>5</th><td>0.06905</td><td>0.0</td><td>2.18</td><td>0.0</td></tr><tr><th>6</th><td>0.02985</td><td>0.0</td><td>2.18</td><td>0.0</td></tr></tbody></table></div>"
      ]
     },
     "metadata": {},
     "execution_count": 51
    }
   ],
   "metadata": {}
  },
  {
   "cell_type": "markdown",
   "source": [
    "## Julia and R, RCall <a id='julia-and-r'></a>"
   ],
   "metadata": {}
  },
  {
   "cell_type": "code",
   "execution_count": 66,
   "source": [
    "# using Pkg; Pkg.add(\"RCall\")\n",
    "using RCall\n",
    "ENV[\"R_HOME\"] = [\"/usr/bin/R\"]\n",
    "R\"print('Hello World from R!')\""
   ],
   "outputs": [
    {
     "output_type": "stream",
     "name": "stdout",
     "text": [
      "[1] \"Hello World from R!\"\n"
     ]
    },
    {
     "output_type": "execute_result",
     "data": {
      "text/plain": [
       "RObject{StrSxp}\n",
       "[1] \"Hello World from R!\"\n"
      ]
     },
     "metadata": {},
     "execution_count": 66
    }
   ],
   "metadata": {}
  },
  {
   "cell_type": "code",
   "execution_count": 30,
   "source": [
    "r_var = R\"2^3\" # RCall returns RObjects \n",
    "\n",
    "r_var == jl_var"
   ],
   "outputs": [
    {
     "output_type": "execute_result",
     "data": {
      "text/plain": [
       "false"
      ]
     },
     "metadata": {},
     "execution_count": 30
    }
   ],
   "metadata": {}
  },
  {
   "cell_type": "code",
   "execution_count": 31,
   "source": [
    "r_var = rcopy(r_var) # We can copy RCall objects in to Julia\n",
    "\n",
    "r_var == jl_var"
   ],
   "outputs": [
    {
     "output_type": "execute_result",
     "data": {
      "text/plain": [
       "true"
      ]
     },
     "metadata": {},
     "execution_count": 31
    }
   ],
   "metadata": {}
  },
  {
   "cell_type": "code",
   "execution_count": 73,
   "source": [
    "# We can use the macro @rlibrary to import R libraries\n",
    "@rlibrary \"ggplot2\""
   ],
   "outputs": [
    {
     "output_type": "error",
     "ename": "LoadError",
     "evalue": "REvalError: Error in loadNamespace(name) : there is no package called ‘ggplot2’\nCalls: asNamespace ... loadNamespace -> withRestarts -> withOneRestart -> doWithOneRestart",
     "traceback": [
      "REvalError: Error in loadNamespace(name) : there is no package called ‘ggplot2’\nCalls: asNamespace ... loadNamespace -> withRestarts -> withOneRestart -> doWithOneRestart",
      "",
      "Stacktrace:",
      "  [1] handle_eval_stderr(; as_warning::Bool)",
      "    @ RCall ~/.julia/packages/RCall/iMDW2/src/io.jl:162",
      "  [2] reval_p(expr::Ptr{LangSxp}, env::Ptr{EnvSxp})",
      "    @ RCall ~/.julia/packages/RCall/iMDW2/src/eval.jl:99",
      "  [3] reval_p",
      "    @ ~/.julia/packages/RCall/iMDW2/src/eval.jl:95 [inlined]",
      "  [4] #rcall_p#36",
      "    @ ~/.julia/packages/RCall/iMDW2/src/language.jl:30 [inlined]",
      "  [5] rcall_p",
      "    @ ~/.julia/packages/RCall/iMDW2/src/language.jl:30 [inlined]",
      "  [6] rcall(f::Symbol, args::String; kwargs::Base.Iterators.Pairs{Union{}, Union{}, Tuple{}, NamedTuple{(), Tuple{}}})",
      "    @ RCall ~/.julia/packages/RCall/iMDW2/src/language.jl:37",
      "  [7] rcall",
      "    @ ~/.julia/packages/RCall/iMDW2/src/language.jl:37 [inlined]",
      "  [8] rimport(pkg::String, s::Symbol; normalizenames::Bool)",
      "    @ RCall ~/.julia/packages/RCall/iMDW2/src/namespaces.jl:25",
      "  [9] rimport (repeats 2 times)",
      "    @ ~/.julia/packages/RCall/iMDW2/src/namespaces.jl:22 [inlined]",
      " [10] top-level scope",
      "    @ ~/.julia/packages/RCall/iMDW2/src/namespaces.jl:95",
      " [11] eval",
      "    @ ./boot.jl:360 [inlined]",
      " [12] include_string(mapexpr::typeof(REPL.softscope), mod::Module, code::String, filename::String)",
      "    @ Base ./loading.jl:1116"
     ]
    }
   ],
   "metadata": {}
  },
  {
   "cell_type": "code",
   "execution_count": 72,
   "source": [
    "R\"library(ggplot2)\""
   ],
   "outputs": [
    {
     "output_type": "error",
     "ename": "LoadError",
     "evalue": "REvalError: Error in library(ggplot2) : there is no package called ‘ggplot2’",
     "traceback": [
      "REvalError: Error in library(ggplot2) : there is no package called ‘ggplot2’",
      "",
      "Stacktrace:",
      " [1] handle_eval_stderr(; as_warning::Bool)",
      "   @ RCall ~/.julia/packages/RCall/iMDW2/src/io.jl:162",
      " [2] reval_p(expr::Ptr{LangSxp}, env::Ptr{EnvSxp})",
      "   @ RCall ~/.julia/packages/RCall/iMDW2/src/eval.jl:99",
      " [3] reval_p(expr::Ptr{RCall.ExprSxp}, env::Ptr{EnvSxp})",
      "   @ RCall ~/.julia/packages/RCall/iMDW2/src/eval.jl:115",
      " [4] reval(str::String, env::RObject{EnvSxp})",
      "   @ RCall ~/.julia/packages/RCall/iMDW2/src/eval.jl:132",
      " [5] top-level scope",
      "   @ ~/.julia/packages/RCall/iMDW2/src/macros.jl:71",
      " [6] eval",
      "   @ ./boot.jl:360 [inlined]",
      " [7] include_string(mapexpr::typeof(REPL.softscope), mod::Module, code::String, filename::String)",
      "   @ Base ./loading.jl:1116"
     ]
    }
   ],
   "metadata": {}
  },
  {
   "cell_type": "code",
   "execution_count": null,
   "source": [],
   "outputs": [],
   "metadata": {}
  }
 ],
 "metadata": {
  "orig_nbformat": 4,
  "language_info": {
   "file_extension": ".jl",
   "name": "julia",
   "mimetype": "application/julia",
   "version": "1.6.2"
  },
  "kernelspec": {
   "name": "julia-1.6",
   "display_name": "Julia 1.6.2",
   "language": "julia"
  }
 },
 "nbformat": 4,
 "nbformat_minor": 2
}